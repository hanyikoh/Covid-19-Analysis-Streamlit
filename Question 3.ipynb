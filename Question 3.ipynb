{
 "cells": [
  {
   "cell_type": "markdown",
   "source": [
    "# Import Necessary Libraries"
   ],
   "metadata": {}
  },
  {
   "cell_type": "code",
   "execution_count": 1,
   "source": [
    "import os\r\n",
    "import numpy as np\r\n",
    "import pandas as pd\r\n",
    "import matplotlib.pyplot as plt\r\n",
    "from matplotlib.dates import DateFormatter\r\n",
    "import matplotlib.ticker as ticker\r\n",
    "import seaborn as sns\r\n",
    "from scipy import stats\r\n",
    "import missingno as msno"
   ],
   "outputs": [],
   "metadata": {}
  },
  {
   "cell_type": "code",
   "execution_count": 3,
   "source": [
    "from sklearn.preprocessing import OneHotEncoder\r\n",
    "from sklearn.ensemble import RandomForestClassifier\r\n",
    "from boruta import BorutaPy\r\n",
    "from sklearn.feature_selection import RFECV\r\n",
    "\r\n",
    "import numpy as np\r\n",
    "import pandas as pd\r\n",
    "\r\n",
    "from matplotlib import pyplot as plt\r\n",
    "import seaborn as sns\r\n",
    "\r\n",
    "from sklearn.preprocessing import MinMaxScaler\r\n",
    "from tqdm import tqdm_notebook, tqdm\r\n",
    "# tqdm.pandas(tqdm_notebook)\r\n",
    "\r\n",
    "import warnings\r\n",
    "warnings.filterwarnings('ignore')\r\n",
    "from sklearn.feature_selection import RFE\r\n",
    "from sklearn.linear_model import LogisticRegression"
   ],
   "outputs": [],
   "metadata": {}
  },
  {
   "cell_type": "code",
   "execution_count": 4,
   "source": [
    "from sklearn.tree import DecisionTreeRegressor  \r\n",
    "from sklearn.model_selection import train_test_split\r\n",
    "from sklearn import tree\r\n",
    "from sklearn.metrics import r2_score,median_absolute_error,mean_squared_error,mean_absolute_error,accuracy_score\r\n",
    "from sklearn import preprocessing # label encoding\r\n",
    "from sklearn.tree import DecisionTreeClassifier # Import Decision Tree Classifier\r\n",
    "from sklearn.model_selection import train_test_split # Import train_test_split functionn\r\n",
    "from IPython.display import Image  \r\n",
    "from sklearn.naive_bayes import GaussianNB"
   ],
   "outputs": [],
   "metadata": {}
  },
  {
   "cell_type": "markdown",
   "source": [
    "# Define Path for Dataset & Variable Initialization"
   ],
   "metadata": {}
  },
  {
   "cell_type": "code",
   "execution_count": 9,
   "source": [
    "path = os.path.join(os.getcwd())\r\n",
    "malaysia_case_dir = path + \"\\dataset\\cases_malaysia.csv\"\r\n",
    "state_case_dir = path + \"\\dataset\\cases_state.csv\"\r\n",
    "checkIn_dir = path + \"\\dataset\\covid19-public/mysejahtera/checkin_state.csv\"\r\n",
    "clusters_dir = path + \"\\dataset\\clusters.csv\"\r\n",
    "hospital_dir = path + \"\\dataset\\hospital.csv\"\r\n",
    "pkrc_dir = path + \"\\dataset\\pkrc.csv\"\r\n",
    "malaysia_tests_dir = path + \"\\dataset\\tests_malaysia.csv\"\r\n",
    "states_tests_dir = path + \"\\dataset\\tests_state.csv\""
   ],
   "outputs": [],
   "metadata": {}
  },
  {
   "cell_type": "markdown",
   "source": [
    "**Time frame is set from 1/7/2021 until 31/8/2021** \n",
    "</p> This is because the tests_state dataset on MOH only has data available from 1st of July 2021 to 21st of September 2021. Also, the recent data is more helpful to predict future new Covid-19 cases in Malaysia since the data from 2020 to 2021 is having big differences within short time period. "
   ],
   "metadata": {}
  },
  {
   "cell_type": "code",
   "execution_count": 10,
   "source": [
    "start_date = \"2021-07-01\"\r\n",
    "end_date = \"2021-08-31\""
   ],
   "outputs": [],
   "metadata": {}
  },
  {
   "cell_type": "markdown",
   "source": [
    "# <font color='FireBrick'>Question 3 (i)</font> "
   ],
   "metadata": {}
  },
  {
   "cell_type": "markdown",
   "source": [
    "## Exploratory Data Analysis (EDA)"
   ],
   "metadata": {}
  },
  {
   "cell_type": "markdown",
   "source": [
    "Perform EDA by identifying missing value using isna() function, and outliers using box plot, we did not remove outliers because there are important to the datasets and statistically significant."
   ],
   "metadata": {}
  },
  {
   "cell_type": "markdown",
   "source": [
    "### Exploratory Data Analysis for Malaysia Case Dataset"
   ],
   "metadata": {}
  },
  {
   "cell_type": "code",
   "execution_count": 12,
   "source": [
    "malaysia_case_df = pd.read_csv(malaysia_case_dir)\r\n",
    "after_start_date = malaysia_case_df[\"date\"] >= start_date\r\n",
    "before_end_date = malaysia_case_df[\"date\"] <= end_date\r\n",
    "between_two_dates = after_start_date & before_end_date\r\n",
    "malaysia_case_df = malaysia_case_df.loc[between_two_dates]\r\n",
    "malaysia_case_df.head()"
   ],
   "outputs": [
    {
     "output_type": "execute_result",
     "data": {
      "text/html": [
       "<div>\n",
       "<style scoped>\n",
       "    .dataframe tbody tr th:only-of-type {\n",
       "        vertical-align: middle;\n",
       "    }\n",
       "\n",
       "    .dataframe tbody tr th {\n",
       "        vertical-align: top;\n",
       "    }\n",
       "\n",
       "    .dataframe thead th {\n",
       "        text-align: right;\n",
       "    }\n",
       "</style>\n",
       "<table border=\"1\" class=\"dataframe\">\n",
       "  <thead>\n",
       "    <tr style=\"text-align: right;\">\n",
       "      <th></th>\n",
       "      <th>date</th>\n",
       "      <th>cases_new</th>\n",
       "      <th>cases_import</th>\n",
       "      <th>cases_recovered</th>\n",
       "      <th>cluster_import</th>\n",
       "      <th>cluster_religious</th>\n",
       "      <th>cluster_community</th>\n",
       "      <th>cluster_highRisk</th>\n",
       "      <th>cluster_education</th>\n",
       "      <th>cluster_detentionCentre</th>\n",
       "      <th>cluster_workplace</th>\n",
       "    </tr>\n",
       "  </thead>\n",
       "  <tbody>\n",
       "    <tr>\n",
       "      <th>523</th>\n",
       "      <td>2021-07-01</td>\n",
       "      <td>6988</td>\n",
       "      <td>5</td>\n",
       "      <td>5580</td>\n",
       "      <td>0.0</td>\n",
       "      <td>0.0</td>\n",
       "      <td>305.0</td>\n",
       "      <td>41.0</td>\n",
       "      <td>23.0</td>\n",
       "      <td>209.0</td>\n",
       "      <td>1341.0</td>\n",
       "    </tr>\n",
       "    <tr>\n",
       "      <th>524</th>\n",
       "      <td>2021-07-02</td>\n",
       "      <td>6982</td>\n",
       "      <td>3</td>\n",
       "      <td>6278</td>\n",
       "      <td>0.0</td>\n",
       "      <td>10.0</td>\n",
       "      <td>339.0</td>\n",
       "      <td>99.0</td>\n",
       "      <td>2.0</td>\n",
       "      <td>13.0</td>\n",
       "      <td>1358.0</td>\n",
       "    </tr>\n",
       "    <tr>\n",
       "      <th>525</th>\n",
       "      <td>2021-07-03</td>\n",
       "      <td>6658</td>\n",
       "      <td>11</td>\n",
       "      <td>5677</td>\n",
       "      <td>0.0</td>\n",
       "      <td>0.0</td>\n",
       "      <td>244.0</td>\n",
       "      <td>13.0</td>\n",
       "      <td>3.0</td>\n",
       "      <td>187.0</td>\n",
       "      <td>1152.0</td>\n",
       "    </tr>\n",
       "    <tr>\n",
       "      <th>526</th>\n",
       "      <td>2021-07-04</td>\n",
       "      <td>6045</td>\n",
       "      <td>20</td>\n",
       "      <td>5271</td>\n",
       "      <td>0.0</td>\n",
       "      <td>7.0</td>\n",
       "      <td>297.0</td>\n",
       "      <td>73.0</td>\n",
       "      <td>10.0</td>\n",
       "      <td>34.0</td>\n",
       "      <td>1121.0</td>\n",
       "    </tr>\n",
       "    <tr>\n",
       "      <th>527</th>\n",
       "      <td>2021-07-05</td>\n",
       "      <td>6387</td>\n",
       "      <td>26</td>\n",
       "      <td>4532</td>\n",
       "      <td>0.0</td>\n",
       "      <td>0.0</td>\n",
       "      <td>350.0</td>\n",
       "      <td>55.0</td>\n",
       "      <td>0.0</td>\n",
       "      <td>40.0</td>\n",
       "      <td>1182.0</td>\n",
       "    </tr>\n",
       "  </tbody>\n",
       "</table>\n",
       "</div>"
      ],
      "text/plain": [
       "           date  cases_new  cases_import  cases_recovered  cluster_import  \\\n",
       "523  2021-07-01       6988             5             5580             0.0   \n",
       "524  2021-07-02       6982             3             6278             0.0   \n",
       "525  2021-07-03       6658            11             5677             0.0   \n",
       "526  2021-07-04       6045            20             5271             0.0   \n",
       "527  2021-07-05       6387            26             4532             0.0   \n",
       "\n",
       "     cluster_religious  cluster_community  cluster_highRisk  \\\n",
       "523                0.0              305.0              41.0   \n",
       "524               10.0              339.0              99.0   \n",
       "525                0.0              244.0              13.0   \n",
       "526                7.0              297.0              73.0   \n",
       "527                0.0              350.0              55.0   \n",
       "\n",
       "     cluster_education  cluster_detentionCentre  cluster_workplace  \n",
       "523               23.0                    209.0             1341.0  \n",
       "524                2.0                     13.0             1358.0  \n",
       "525                3.0                    187.0             1152.0  \n",
       "526               10.0                     34.0             1121.0  \n",
       "527                0.0                     40.0             1182.0  "
      ]
     },
     "metadata": {},
     "execution_count": 12
    }
   ],
   "metadata": {}
  },
  {
   "cell_type": "code",
   "execution_count": 13,
   "source": [
    "malaysia_case_df.info()"
   ],
   "outputs": [
    {
     "output_type": "stream",
     "name": "stdout",
     "text": [
      "<class 'pandas.core.frame.DataFrame'>\n",
      "Int64Index: 62 entries, 523 to 584\n",
      "Data columns (total 11 columns):\n",
      " #   Column                   Non-Null Count  Dtype  \n",
      "---  ------                   --------------  -----  \n",
      " 0   date                     62 non-null     object \n",
      " 1   cases_new                62 non-null     int64  \n",
      " 2   cases_import             62 non-null     int64  \n",
      " 3   cases_recovered          62 non-null     int64  \n",
      " 4   cluster_import           62 non-null     float64\n",
      " 5   cluster_religious        62 non-null     float64\n",
      " 6   cluster_community        62 non-null     float64\n",
      " 7   cluster_highRisk         62 non-null     float64\n",
      " 8   cluster_education        62 non-null     float64\n",
      " 9   cluster_detentionCentre  62 non-null     float64\n",
      " 10  cluster_workplace        62 non-null     float64\n",
      "dtypes: float64(7), int64(3), object(1)\n",
      "memory usage: 5.8+ KB\n"
     ]
    }
   ],
   "metadata": {}
  },
  {
   "cell_type": "code",
   "execution_count": 14,
   "source": [
    "malaysia_case_df.describe()"
   ],
   "outputs": [
    {
     "output_type": "execute_result",
     "data": {
      "text/html": [
       "<div>\n",
       "<style scoped>\n",
       "    .dataframe tbody tr th:only-of-type {\n",
       "        vertical-align: middle;\n",
       "    }\n",
       "\n",
       "    .dataframe tbody tr th {\n",
       "        vertical-align: top;\n",
       "    }\n",
       "\n",
       "    .dataframe thead th {\n",
       "        text-align: right;\n",
       "    }\n",
       "</style>\n",
       "<table border=\"1\" class=\"dataframe\">\n",
       "  <thead>\n",
       "    <tr style=\"text-align: right;\">\n",
       "      <th></th>\n",
       "      <th>cases_new</th>\n",
       "      <th>cases_import</th>\n",
       "      <th>cases_recovered</th>\n",
       "      <th>cluster_import</th>\n",
       "      <th>cluster_religious</th>\n",
       "      <th>cluster_community</th>\n",
       "      <th>cluster_highRisk</th>\n",
       "      <th>cluster_education</th>\n",
       "      <th>cluster_detentionCentre</th>\n",
       "      <th>cluster_workplace</th>\n",
       "    </tr>\n",
       "  </thead>\n",
       "  <tbody>\n",
       "    <tr>\n",
       "      <th>count</th>\n",
       "      <td>62.000000</td>\n",
       "      <td>62.000000</td>\n",
       "      <td>62.000000</td>\n",
       "      <td>62.000000</td>\n",
       "      <td>62.000000</td>\n",
       "      <td>62.000000</td>\n",
       "      <td>62.000000</td>\n",
       "      <td>62.000000</td>\n",
       "      <td>62.000000</td>\n",
       "      <td>62.000000</td>\n",
       "    </tr>\n",
       "    <tr>\n",
       "      <th>mean</th>\n",
       "      <td>16036.693548</td>\n",
       "      <td>16.709677</td>\n",
       "      <td>12565.241935</td>\n",
       "      <td>0.193548</td>\n",
       "      <td>10.935484</td>\n",
       "      <td>507.919355</td>\n",
       "      <td>68.500000</td>\n",
       "      <td>21.467742</td>\n",
       "      <td>117.548387</td>\n",
       "      <td>1271.483871</td>\n",
       "    </tr>\n",
       "    <tr>\n",
       "      <th>std</th>\n",
       "      <td>5344.138169</td>\n",
       "      <td>12.175475</td>\n",
       "      <td>5830.184317</td>\n",
       "      <td>1.128450</td>\n",
       "      <td>14.078085</td>\n",
       "      <td>136.033903</td>\n",
       "      <td>34.836268</td>\n",
       "      <td>20.246609</td>\n",
       "      <td>81.127844</td>\n",
       "      <td>273.556105</td>\n",
       "    </tr>\n",
       "    <tr>\n",
       "      <th>min</th>\n",
       "      <td>6045.000000</td>\n",
       "      <td>0.000000</td>\n",
       "      <td>4532.000000</td>\n",
       "      <td>0.000000</td>\n",
       "      <td>0.000000</td>\n",
       "      <td>244.000000</td>\n",
       "      <td>13.000000</td>\n",
       "      <td>0.000000</td>\n",
       "      <td>13.000000</td>\n",
       "      <td>734.000000</td>\n",
       "    </tr>\n",
       "    <tr>\n",
       "      <th>25%</th>\n",
       "      <td>11709.750000</td>\n",
       "      <td>7.250000</td>\n",
       "      <td>6392.500000</td>\n",
       "      <td>0.000000</td>\n",
       "      <td>2.000000</td>\n",
       "      <td>416.000000</td>\n",
       "      <td>41.250000</td>\n",
       "      <td>5.500000</td>\n",
       "      <td>63.500000</td>\n",
       "      <td>1072.500000</td>\n",
       "    </tr>\n",
       "    <tr>\n",
       "      <th>50%</th>\n",
       "      <td>17160.000000</td>\n",
       "      <td>13.500000</td>\n",
       "      <td>12238.000000</td>\n",
       "      <td>0.000000</td>\n",
       "      <td>6.000000</td>\n",
       "      <td>494.000000</td>\n",
       "      <td>66.000000</td>\n",
       "      <td>16.500000</td>\n",
       "      <td>93.500000</td>\n",
       "      <td>1246.000000</td>\n",
       "    </tr>\n",
       "    <tr>\n",
       "      <th>75%</th>\n",
       "      <td>20591.750000</td>\n",
       "      <td>25.000000</td>\n",
       "      <td>17679.000000</td>\n",
       "      <td>0.000000</td>\n",
       "      <td>15.750000</td>\n",
       "      <td>597.750000</td>\n",
       "      <td>84.000000</td>\n",
       "      <td>29.750000</td>\n",
       "      <td>173.500000</td>\n",
       "      <td>1461.000000</td>\n",
       "    </tr>\n",
       "    <tr>\n",
       "      <th>max</th>\n",
       "      <td>24599.000000</td>\n",
       "      <td>58.000000</td>\n",
       "      <td>22657.000000</td>\n",
       "      <td>8.000000</td>\n",
       "      <td>88.000000</td>\n",
       "      <td>825.000000</td>\n",
       "      <td>189.000000</td>\n",
       "      <td>92.000000</td>\n",
       "      <td>369.000000</td>\n",
       "      <td>2135.000000</td>\n",
       "    </tr>\n",
       "  </tbody>\n",
       "</table>\n",
       "</div>"
      ],
      "text/plain": [
       "          cases_new  cases_import  cases_recovered  cluster_import  \\\n",
       "count     62.000000     62.000000        62.000000       62.000000   \n",
       "mean   16036.693548     16.709677     12565.241935        0.193548   \n",
       "std     5344.138169     12.175475      5830.184317        1.128450   \n",
       "min     6045.000000      0.000000      4532.000000        0.000000   \n",
       "25%    11709.750000      7.250000      6392.500000        0.000000   \n",
       "50%    17160.000000     13.500000     12238.000000        0.000000   \n",
       "75%    20591.750000     25.000000     17679.000000        0.000000   \n",
       "max    24599.000000     58.000000     22657.000000        8.000000   \n",
       "\n",
       "       cluster_religious  cluster_community  cluster_highRisk  \\\n",
       "count          62.000000          62.000000         62.000000   \n",
       "mean           10.935484         507.919355         68.500000   \n",
       "std            14.078085         136.033903         34.836268   \n",
       "min             0.000000         244.000000         13.000000   \n",
       "25%             2.000000         416.000000         41.250000   \n",
       "50%             6.000000         494.000000         66.000000   \n",
       "75%            15.750000         597.750000         84.000000   \n",
       "max            88.000000         825.000000        189.000000   \n",
       "\n",
       "       cluster_education  cluster_detentionCentre  cluster_workplace  \n",
       "count          62.000000                62.000000          62.000000  \n",
       "mean           21.467742               117.548387        1271.483871  \n",
       "std            20.246609                81.127844         273.556105  \n",
       "min             0.000000                13.000000         734.000000  \n",
       "25%             5.500000                63.500000        1072.500000  \n",
       "50%            16.500000                93.500000        1246.000000  \n",
       "75%            29.750000               173.500000        1461.000000  \n",
       "max            92.000000               369.000000        2135.000000  "
      ]
     },
     "metadata": {},
     "execution_count": 14
    }
   ],
   "metadata": {}
  },
  {
   "cell_type": "code",
   "execution_count": 15,
   "source": [
    "nRow, nCol = malaysia_case_df.shape\r\n",
    "print(f'There are {nRow} rows and {nCol} columns')"
   ],
   "outputs": [
    {
     "output_type": "stream",
     "name": "stdout",
     "text": [
      "There are 62 rows and 11 columns\n"
     ]
    }
   ],
   "metadata": {}
  },
  {
   "cell_type": "code",
   "execution_count": 16,
   "source": [
    "missing_values_df = malaysia_case_df.isna().sum().to_frame()\r\n",
    "missing_values_df.rename(columns = {0:'Count of Missing Values'}, inplace=True)\r\n",
    "missing_values_df"
   ],
   "outputs": [
    {
     "output_type": "execute_result",
     "data": {
      "text/html": [
       "<div>\n",
       "<style scoped>\n",
       "    .dataframe tbody tr th:only-of-type {\n",
       "        vertical-align: middle;\n",
       "    }\n",
       "\n",
       "    .dataframe tbody tr th {\n",
       "        vertical-align: top;\n",
       "    }\n",
       "\n",
       "    .dataframe thead th {\n",
       "        text-align: right;\n",
       "    }\n",
       "</style>\n",
       "<table border=\"1\" class=\"dataframe\">\n",
       "  <thead>\n",
       "    <tr style=\"text-align: right;\">\n",
       "      <th></th>\n",
       "      <th>Count of Missing Values</th>\n",
       "    </tr>\n",
       "  </thead>\n",
       "  <tbody>\n",
       "    <tr>\n",
       "      <th>date</th>\n",
       "      <td>0</td>\n",
       "    </tr>\n",
       "    <tr>\n",
       "      <th>cases_new</th>\n",
       "      <td>0</td>\n",
       "    </tr>\n",
       "    <tr>\n",
       "      <th>cases_import</th>\n",
       "      <td>0</td>\n",
       "    </tr>\n",
       "    <tr>\n",
       "      <th>cases_recovered</th>\n",
       "      <td>0</td>\n",
       "    </tr>\n",
       "    <tr>\n",
       "      <th>cluster_import</th>\n",
       "      <td>0</td>\n",
       "    </tr>\n",
       "    <tr>\n",
       "      <th>cluster_religious</th>\n",
       "      <td>0</td>\n",
       "    </tr>\n",
       "    <tr>\n",
       "      <th>cluster_community</th>\n",
       "      <td>0</td>\n",
       "    </tr>\n",
       "    <tr>\n",
       "      <th>cluster_highRisk</th>\n",
       "      <td>0</td>\n",
       "    </tr>\n",
       "    <tr>\n",
       "      <th>cluster_education</th>\n",
       "      <td>0</td>\n",
       "    </tr>\n",
       "    <tr>\n",
       "      <th>cluster_detentionCentre</th>\n",
       "      <td>0</td>\n",
       "    </tr>\n",
       "    <tr>\n",
       "      <th>cluster_workplace</th>\n",
       "      <td>0</td>\n",
       "    </tr>\n",
       "  </tbody>\n",
       "</table>\n",
       "</div>"
      ],
      "text/plain": [
       "                         Count of Missing Values\n",
       "date                                           0\n",
       "cases_new                                      0\n",
       "cases_import                                   0\n",
       "cases_recovered                                0\n",
       "cluster_import                                 0\n",
       "cluster_religious                              0\n",
       "cluster_community                              0\n",
       "cluster_highRisk                               0\n",
       "cluster_education                              0\n",
       "cluster_detentionCentre                        0\n",
       "cluster_workplace                              0"
      ]
     },
     "metadata": {},
     "execution_count": 16
    }
   ],
   "metadata": {}
  },
  {
   "cell_type": "markdown",
   "source": [
    "##### Identify Missing Value\n",
    "</p> Visualize the number of missing values as a bar chart"
   ],
   "metadata": {}
  },
  {
   "cell_type": "code",
   "execution_count": 17,
   "source": [
    "missing_values = malaysia_case_df.isnull().sum() / len(malaysia_case_df)\r\n",
    "missing_values = missing_values[missing_values > 0]\r\n",
    "missing_values.sort_values(inplace=True)\r\n",
    "missing_values = missing_values.to_frame()\r\n",
    "missing_values.columns = ['Count of Missing Values']\r\n",
    "missing_values.index.names = ['Name']\r\n",
    "missing_values['Column Name'] = malaysia_case_df.columns\r\n",
    "\r\n",
    "\r\n",
    "sns.set(style=\"whitegrid\", color_codes=True)\r\n",
    "sns.barplot(x = 'Column Name', y = 'Count of Missing Values', data=missing_values)\r\n",
    "plt.xticks(rotation = 90)\r\n",
    "plt.show()"
   ],
   "outputs": [
    {
     "output_type": "display_data",
     "data": {
      "image/png": "[encoded data removed]",
      "text/plain": [
       "<Figure size 432x288 with 1 Axes>"
      ]
     },
     "metadata": {}
    }
   ],
   "metadata": {}
  },
  {
   "cell_type": "markdown",
   "source": [
    "##### Identify Outliers\n",
    "</p> Visualize the data using box plot, check the distribution of data and outliers"
   ],
   "metadata": {}
  },
  {
   "cell_type": "code",
   "execution_count": 19,
   "source": [
    "fig, axes = plt.subplots(4, 3, figsize=(15, 5), sharey=True)\r\n",
    "# fig.suptitle('Outliers Visualization')\r\n",
    "plt.subplots_adjust(left=None, bottom= 0.1, right=None, top=2, wspace=0.2, hspace=0.6)\r\n",
    "\r\n",
    "sns.boxplot(data=malaysia_case_df,x=malaysia_case_df[\"cases_new\"],ax=axes[0][0])\r\n",
    "axes[0][0].set_title('New Case')\r\n",
    "\r\n",
    "sns.boxplot(data=malaysia_case_df,x=malaysia_case_df[\"cases_import\"],ax=axes[0][1])\r\n",
    "axes[0][1].set_title('Case Imprt')\r\n",
    "\r\n",
    "sns.boxplot(data=malaysia_case_df,x=malaysia_case_df[\"cases_recovered\"],ax=axes[0][2])\r\n",
    "axes[0][2].set_title('Case Recovered')\r\n",
    "\r\n",
    "sns.boxplot(data=malaysia_case_df,x=malaysia_case_df[\"cluster_import\"],ax=axes[1][0])\r\n",
    "axes[1][0].set_title('cluster_workplace')\r\n",
    "\r\n",
    "sns.boxplot(data=malaysia_case_df,x=malaysia_case_df[\"cluster_religious\"],ax=axes[1][1])\r\n",
    "axes[1][1].set_title('cluster_religious')\r\n",
    "\r\n",
    "sns.boxplot(data=malaysia_case_df,x=malaysia_case_df[\"cluster_community\"],ax=axes[1][2])\r\n",
    "axes[1][2].set_title('cluster_community')\r\n",
    "\r\n",
    "sns.boxplot(data=malaysia_case_df,x=malaysia_case_df[\"cluster_highRisk\"],ax=axes[2][0])\r\n",
    "axes[2][0].set_title('cluster_highRisk')\r\n",
    "\r\n",
    "sns.boxplot(data=malaysia_case_df,x=malaysia_case_df[\"cluster_education\"],ax=axes[2][1])\r\n",
    "axes[2][1].set_title('cluster_education')\r\n",
    "\r\n",
    "sns.boxplot(data=malaysia_case_df,x=malaysia_case_df[\"cluster_detentionCentre\"],ax=axes[2][2])\r\n",
    "axes[2][2].set_title('cluster_detentionCentre')\r\n",
    "\r\n",
    "sns.boxplot(data=malaysia_case_df,x=malaysia_case_df[\"cluster_workplace\"],ax=axes[3][0])\r\n",
    "axes[3][0].set_title('cluster_workplace')\r\n",
    "\r\n",
    "fig.delaxes(axes[3][1])\r\n",
    "fig.delaxes(axes[3][2])"
   ],
   "outputs": [
    {
     "output_type": "display_data",
     "data": {
      "image/png": "[encoded data removed]",
      "text/plain": [
       "<Figure size 1080x360 with 10 Axes>"
      ]
     },
     "metadata": {}
    }
   ],
   "metadata": {}
  },
  {
   "cell_type": "markdown",
   "source": [
    "### Exploratory Data Analysis for State Case Dataset"
   ],
   "metadata": {}
  },
  {
   "cell_type": "code",
   "execution_count": 20,
   "source": [
    "state_case_df = pd.read_csv(state_case_dir)\r\n",
    "after_start_date = state_case_df[\"date\"] >= start_date\r\n",
    "before_end_date = state_case_df[\"date\"] <= end_date\r\n",
    "between_two_dates = after_start_date & before_end_date\r\n",
    "state_case_df = state_case_df.loc[between_two_dates]\r\n",
    "state_case_df.head()"
   ],
   "outputs": [
    {
     "output_type": "execute_result",
     "data": {
      "text/html": [
       "<div>\n",
       "<style scoped>\n",
       "    .dataframe tbody tr th:only-of-type {\n",
       "        vertical-align: middle;\n",
       "    }\n",
       "\n",
       "    .dataframe tbody tr th {\n",
       "        vertical-align: top;\n",
       "    }\n",
       "\n",
       "    .dataframe thead th {\n",
       "        text-align: right;\n",
       "    }\n",
       "</style>\n",
       "<table border=\"1\" class=\"dataframe\">\n",
       "  <thead>\n",
       "    <tr style=\"text-align: right;\">\n",
       "      <th></th>\n",
       "      <th>date</th>\n",
       "      <th>state</th>\n",
       "      <th>cases_import</th>\n",
       "      <th>cases_new</th>\n",
       "      <th>cases_recovered</th>\n",
       "    </tr>\n",
       "  </thead>\n",
       "  <tbody>\n",
       "    <tr>\n",
       "      <th>8368</th>\n",
       "      <td>2021-07-01</td>\n",
       "      <td>Johor</td>\n",
       "      <td>1</td>\n",
       "      <td>270</td>\n",
       "      <td>361</td>\n",
       "    </tr>\n",
       "    <tr>\n",
       "      <th>8369</th>\n",
       "      <td>2021-07-01</td>\n",
       "      <td>Kedah</td>\n",
       "      <td>0</td>\n",
       "      <td>250</td>\n",
       "      <td>186</td>\n",
       "    </tr>\n",
       "    <tr>\n",
       "      <th>8370</th>\n",
       "      <td>2021-07-01</td>\n",
       "      <td>Kelantan</td>\n",
       "      <td>0</td>\n",
       "      <td>108</td>\n",
       "      <td>208</td>\n",
       "    </tr>\n",
       "    <tr>\n",
       "      <th>8371</th>\n",
       "      <td>2021-07-01</td>\n",
       "      <td>Melaka</td>\n",
       "      <td>0</td>\n",
       "      <td>311</td>\n",
       "      <td>317</td>\n",
       "    </tr>\n",
       "    <tr>\n",
       "      <th>8372</th>\n",
       "      <td>2021-07-01</td>\n",
       "      <td>Negeri Sembilan</td>\n",
       "      <td>0</td>\n",
       "      <td>692</td>\n",
       "      <td>883</td>\n",
       "    </tr>\n",
       "  </tbody>\n",
       "</table>\n",
       "</div>"
      ],
      "text/plain": [
       "            date            state  cases_import  cases_new  cases_recovered\n",
       "8368  2021-07-01            Johor             1        270              361\n",
       "8369  2021-07-01            Kedah             0        250              186\n",
       "8370  2021-07-01         Kelantan             0        108              208\n",
       "8371  2021-07-01           Melaka             0        311              317\n",
       "8372  2021-07-01  Negeri Sembilan             0        692              883"
      ]
     },
     "metadata": {},
     "execution_count": 20
    }
   ],
   "metadata": {}
  },
  {
   "cell_type": "code",
   "execution_count": 21,
   "source": [
    "state_case_df.info()"
   ],
   "outputs": [
    {
     "output_type": "stream",
     "name": "stdout",
     "text": [
      "<class 'pandas.core.frame.DataFrame'>\n",
      "Int64Index: 992 entries, 8368 to 9359\n",
      "Data columns (total 5 columns):\n",
      " #   Column           Non-Null Count  Dtype \n",
      "---  ------           --------------  ----- \n",
      " 0   date             992 non-null    object\n",
      " 1   state            992 non-null    object\n",
      " 2   cases_import     992 non-null    int64 \n",
      " 3   cases_new        992 non-null    int64 \n",
      " 4   cases_recovered  992 non-null    int64 \n",
      "dtypes: int64(3), object(2)\n",
      "memory usage: 46.5+ KB\n"
     ]
    }
   ],
   "metadata": {}
  },
  {
   "cell_type": "code",
   "execution_count": 22,
   "source": [
    "state_case_df.describe()"
   ],
   "outputs": [
    {
     "output_type": "execute_result",
     "data": {
      "text/html": [
       "<div>\n",
       "<style scoped>\n",
       "    .dataframe tbody tr th:only-of-type {\n",
       "        vertical-align: middle;\n",
       "    }\n",
       "\n",
       "    .dataframe tbody tr th {\n",
       "        vertical-align: top;\n",
       "    }\n",
       "\n",
       "    .dataframe thead th {\n",
       "        text-align: right;\n",
       "    }\n",
       "</style>\n",
       "<table border=\"1\" class=\"dataframe\">\n",
       "  <thead>\n",
       "    <tr style=\"text-align: right;\">\n",
       "      <th></th>\n",
       "      <th>cases_import</th>\n",
       "      <th>cases_new</th>\n",
       "      <th>cases_recovered</th>\n",
       "    </tr>\n",
       "  </thead>\n",
       "  <tbody>\n",
       "    <tr>\n",
       "      <th>count</th>\n",
       "      <td>992.000000</td>\n",
       "      <td>992.000000</td>\n",
       "      <td>992.000000</td>\n",
       "    </tr>\n",
       "    <tr>\n",
       "      <th>mean</th>\n",
       "      <td>1.044355</td>\n",
       "      <td>1002.293347</td>\n",
       "      <td>785.327621</td>\n",
       "    </tr>\n",
       "    <tr>\n",
       "      <th>std</th>\n",
       "      <td>3.885865</td>\n",
       "      <td>1427.354131</td>\n",
       "      <td>1271.117746</td>\n",
       "    </tr>\n",
       "    <tr>\n",
       "      <th>min</th>\n",
       "      <td>0.000000</td>\n",
       "      <td>0.000000</td>\n",
       "      <td>0.000000</td>\n",
       "    </tr>\n",
       "    <tr>\n",
       "      <th>25%</th>\n",
       "      <td>0.000000</td>\n",
       "      <td>206.750000</td>\n",
       "      <td>128.750000</td>\n",
       "    </tr>\n",
       "    <tr>\n",
       "      <th>50%</th>\n",
       "      <td>0.000000</td>\n",
       "      <td>570.500000</td>\n",
       "      <td>415.500000</td>\n",
       "    </tr>\n",
       "    <tr>\n",
       "      <th>75%</th>\n",
       "      <td>0.000000</td>\n",
       "      <td>1216.000000</td>\n",
       "      <td>830.500000</td>\n",
       "    </tr>\n",
       "    <tr>\n",
       "      <th>max</th>\n",
       "      <td>55.000000</td>\n",
       "      <td>8792.000000</td>\n",
       "      <td>8801.000000</td>\n",
       "    </tr>\n",
       "  </tbody>\n",
       "</table>\n",
       "</div>"
      ],
      "text/plain": [
       "       cases_import    cases_new  cases_recovered\n",
       "count    992.000000   992.000000       992.000000\n",
       "mean       1.044355  1002.293347       785.327621\n",
       "std        3.885865  1427.354131      1271.117746\n",
       "min        0.000000     0.000000         0.000000\n",
       "25%        0.000000   206.750000       128.750000\n",
       "50%        0.000000   570.500000       415.500000\n",
       "75%        0.000000  1216.000000       830.500000\n",
       "max       55.000000  8792.000000      8801.000000"
      ]
     },
     "metadata": {},
     "execution_count": 22
    }
   ],
   "metadata": {}
  },
  {
   "cell_type": "code",
   "execution_count": 23,
   "source": [
    "state_case_df.groupby([state_case_df['date']]).sum()"
   ],
   "outputs": [
    {
     "output_type": "execute_result",
     "data": {
      "text/html": [
       "<div>\n",
       "<style scoped>\n",
       "    .dataframe tbody tr th:only-of-type {\n",
       "        vertical-align: middle;\n",
       "    }\n",
       "\n",
       "    .dataframe tbody tr th {\n",
       "        vertical-align: top;\n",
       "    }\n",
       "\n",
       "    .dataframe thead th {\n",
       "        text-align: right;\n",
       "    }\n",
       "</style>\n",
       "<table border=\"1\" class=\"dataframe\">\n",
       "  <thead>\n",
       "    <tr style=\"text-align: right;\">\n",
       "      <th></th>\n",
       "      <th>cases_import</th>\n",
       "      <th>cases_new</th>\n",
       "      <th>cases_recovered</th>\n",
       "    </tr>\n",
       "    <tr>\n",
       "      <th>date</th>\n",
       "      <th></th>\n",
       "      <th></th>\n",
       "      <th></th>\n",
       "    </tr>\n",
       "  </thead>\n",
       "  <tbody>\n",
       "    <tr>\n",
       "      <th>2021-07-01</th>\n",
       "      <td>5</td>\n",
       "      <td>6988</td>\n",
       "      <td>5580</td>\n",
       "    </tr>\n",
       "    <tr>\n",
       "      <th>2021-07-02</th>\n",
       "      <td>3</td>\n",
       "      <td>6982</td>\n",
       "      <td>6278</td>\n",
       "    </tr>\n",
       "    <tr>\n",
       "      <th>2021-07-03</th>\n",
       "      <td>11</td>\n",
       "      <td>6658</td>\n",
       "      <td>5677</td>\n",
       "    </tr>\n",
       "    <tr>\n",
       "      <th>2021-07-04</th>\n",
       "      <td>20</td>\n",
       "      <td>6045</td>\n",
       "      <td>5271</td>\n",
       "    </tr>\n",
       "    <tr>\n",
       "      <th>2021-07-05</th>\n",
       "      <td>26</td>\n",
       "      <td>6387</td>\n",
       "      <td>4532</td>\n",
       "    </tr>\n",
       "    <tr>\n",
       "      <th>...</th>\n",
       "      <td>...</td>\n",
       "      <td>...</td>\n",
       "      <td>...</td>\n",
       "    </tr>\n",
       "    <tr>\n",
       "      <th>2021-08-27</th>\n",
       "      <td>15</td>\n",
       "      <td>22070</td>\n",
       "      <td>21877</td>\n",
       "    </tr>\n",
       "    <tr>\n",
       "      <th>2021-08-28</th>\n",
       "      <td>12</td>\n",
       "      <td>22597</td>\n",
       "      <td>19492</td>\n",
       "    </tr>\n",
       "    <tr>\n",
       "      <th>2021-08-29</th>\n",
       "      <td>7</td>\n",
       "      <td>20579</td>\n",
       "      <td>20845</td>\n",
       "    </tr>\n",
       "    <tr>\n",
       "      <th>2021-08-30</th>\n",
       "      <td>16</td>\n",
       "      <td>19268</td>\n",
       "      <td>21257</td>\n",
       "    </tr>\n",
       "    <tr>\n",
       "      <th>2021-08-31</th>\n",
       "      <td>1</td>\n",
       "      <td>20897</td>\n",
       "      <td>18465</td>\n",
       "    </tr>\n",
       "  </tbody>\n",
       "</table>\n",
       "<p>62 rows × 3 columns</p>\n",
       "</div>"
      ],
      "text/plain": [
       "            cases_import  cases_new  cases_recovered\n",
       "date                                                \n",
       "2021-07-01             5       6988             5580\n",
       "2021-07-02             3       6982             6278\n",
       "2021-07-03            11       6658             5677\n",
       "2021-07-04            20       6045             5271\n",
       "2021-07-05            26       6387             4532\n",
       "...                  ...        ...              ...\n",
       "2021-08-27            15      22070            21877\n",
       "2021-08-28            12      22597            19492\n",
       "2021-08-29             7      20579            20845\n",
       "2021-08-30            16      19268            21257\n",
       "2021-08-31             1      20897            18465\n",
       "\n",
       "[62 rows x 3 columns]"
      ]
     },
     "metadata": {},
     "execution_count": 23
    }
   ],
   "metadata": {}
  },
  {
   "cell_type": "code",
   "execution_count": 34,
   "source": [
    "missing_values_df = state_case_df.isna().sum().to_frame()\r\n",
    "missing_values_df.rename(columns = {0:'Count of Missing Values'}, inplace=True)\r\n",
    "missing_values_df"
   ],
   "outputs": [
    {
     "output_type": "execute_result",
     "data": {
      "text/html": [
       "<div>\n",
       "<style scoped>\n",
       "    .dataframe tbody tr th:only-of-type {\n",
       "        vertical-align: middle;\n",
       "    }\n",
       "\n",
       "    .dataframe tbody tr th {\n",
       "        vertical-align: top;\n",
       "    }\n",
       "\n",
       "    .dataframe thead th {\n",
       "        text-align: right;\n",
       "    }\n",
       "</style>\n",
       "<table border=\"1\" class=\"dataframe\">\n",
       "  <thead>\n",
       "    <tr style=\"text-align: right;\">\n",
       "      <th></th>\n",
       "      <th>Count of Missing Values</th>\n",
       "    </tr>\n",
       "  </thead>\n",
       "  <tbody>\n",
       "    <tr>\n",
       "      <th>date</th>\n",
       "      <td>0</td>\n",
       "    </tr>\n",
       "    <tr>\n",
       "      <th>state</th>\n",
       "      <td>0</td>\n",
       "    </tr>\n",
       "    <tr>\n",
       "      <th>cases_import</th>\n",
       "      <td>0</td>\n",
       "    </tr>\n",
       "    <tr>\n",
       "      <th>cases_new</th>\n",
       "      <td>0</td>\n",
       "    </tr>\n",
       "    <tr>\n",
       "      <th>cases_recovered</th>\n",
       "      <td>0</td>\n",
       "    </tr>\n",
       "  </tbody>\n",
       "</table>\n",
       "</div>"
      ],
      "text/plain": [
       "                 Count of Missing Values\n",
       "date                                   0\n",
       "state                                  0\n",
       "cases_import                           0\n",
       "cases_new                              0\n",
       "cases_recovered                        0"
      ]
     },
     "metadata": {},
     "execution_count": 34
    }
   ],
   "metadata": {}
  },
  {
   "cell_type": "markdown",
   "source": [
    "##### Identify Missing Value\n",
    "</p> Visualize the number of missing values as a bar chart"
   ],
   "metadata": {}
  },
  {
   "cell_type": "code",
   "execution_count": 25,
   "source": [
    "missing_values = state_case_df.isnull().sum() / len(state_case_df)\r\n",
    "missing_values = missing_values[missing_values > 0]\r\n",
    "missing_values.sort_values(inplace=True)\r\n",
    "missing_values = missing_values.to_frame()\r\n",
    "missing_values.columns = ['Count of Missing Values']\r\n",
    "missing_values.index.names = ['Name']\r\n",
    "missing_values['Column Name'] = state_case_df.columns\r\n",
    "\r\n",
    "sns.set(style=\"whitegrid\", color_codes=True)\r\n",
    "sns.barplot(x = 'Column Name', y = 'Count of Missing Values', data=missing_values)\r\n",
    "plt.xticks(rotation = 90)\r\n",
    "plt.show()"
   ],
   "outputs": [
    {
     "output_type": "display_data",
     "data": {
      "image/png": "[encoded data removed]",
      "text/plain": [
       "<Figure size 432x288 with 1 Axes>"
      ]
     },
     "metadata": {}
    }
   ],
   "metadata": {}
  },
  {
   "cell_type": "markdown",
   "source": [
    "##### Identify Outliers\n",
    "</p> Visualize the data using box plot, check the distribution of data and outliers"
   ],
   "metadata": {}
  },
  {
   "cell_type": "code",
   "execution_count": 27,
   "source": [
    "fig, axes = plt.subplots(1, 3, figsize=(15, 5), sharey=True)\r\n",
    "plt.subplots_adjust(left=None, bottom= 0.1, right=None, top=1, wspace=0.2, hspace=0.6)\r\n",
    "\r\n",
    "sns.boxplot(data=state_case_df,x=state_case_df[\"cases_import\"],ax=axes[0])\r\n",
    "axes[0].set_title('Import Case')\r\n",
    "sns.boxplot(data=state_case_df,x=state_case_df[\"cases_new\"],ax=axes[1])\r\n",
    "axes[1].set_title('New Case')\r\n",
    "sns.boxplot(data=state_case_df,x=state_case_df[\"cases_recovered\"],ax=axes[2])\r\n",
    "axes[2].set_title('Recovered Case')"
   ],
   "outputs": [
    {
     "output_type": "execute_result",
     "data": {
      "text/plain": [
       "Text(0.5, 1.0, 'Recovered Case')"
      ]
     },
     "metadata": {},
     "execution_count": 27
    },
    {
     "output_type": "display_data",
     "data": {
      "image/png": "[encoded data removed]",
      "text/plain": [
       "<Figure size 1080x360 with 3 Axes>"
      ]
     },
     "metadata": {}
    }
   ],
   "metadata": {}
  },
  {
   "cell_type": "markdown",
   "source": [
    "### Exploratory Data Analysis for Clusters Dataset"
   ],
   "metadata": {}
  },
  {
   "cell_type": "code",
   "execution_count": 28,
   "source": [
    "clusters_df = pd.read_csv(clusters_dir)\r\n",
    "after_start_date = clusters_df[\"date_announced\"] >= start_date\r\n",
    "before_end_date = clusters_df[\"date_announced\"] <= end_date\r\n",
    "between_two_dates = after_start_date & before_end_date\r\n",
    "clusters_df = clusters_df.loc[between_two_dates]\r\n",
    "clusters_df['date'] = clusters_df.date_announced\r\n",
    "clusters_df.head()"
   ],
   "outputs": [
    {
     "output_type": "execute_result",
     "data": {
      "text/html": [
       "<div>\n",
       "<style scoped>\n",
       "    .dataframe tbody tr th:only-of-type {\n",
       "        vertical-align: middle;\n",
       "    }\n",
       "\n",
       "    .dataframe tbody tr th {\n",
       "        vertical-align: top;\n",
       "    }\n",
       "\n",
       "    .dataframe thead th {\n",
       "        text-align: right;\n",
       "    }\n",
       "</style>\n",
       "<table border=\"1\" class=\"dataframe\">\n",
       "  <thead>\n",
       "    <tr style=\"text-align: right;\">\n",
       "      <th></th>\n",
       "      <th>cluster</th>\n",
       "      <th>state</th>\n",
       "      <th>district</th>\n",
       "      <th>date_announced</th>\n",
       "      <th>date_last_onset</th>\n",
       "      <th>category</th>\n",
       "      <th>status</th>\n",
       "      <th>cases_new</th>\n",
       "      <th>cases_total</th>\n",
       "      <th>cases_active</th>\n",
       "      <th>tests</th>\n",
       "      <th>icu</th>\n",
       "      <th>deaths</th>\n",
       "      <th>recovered</th>\n",
       "      <th>date</th>\n",
       "    </tr>\n",
       "  </thead>\n",
       "  <tbody>\n",
       "    <tr>\n",
       "      <th>2845</th>\n",
       "      <td>Kluster Industri Perusahaan Selesa Jaya</td>\n",
       "      <td>Selangor</td>\n",
       "      <td>Hulu Langat</td>\n",
       "      <td>2021-07-01</td>\n",
       "      <td>2021-06-30</td>\n",
       "      <td>workplace</td>\n",
       "      <td>ended</td>\n",
       "      <td>0</td>\n",
       "      <td>13</td>\n",
       "      <td>0</td>\n",
       "      <td>67</td>\n",
       "      <td>0</td>\n",
       "      <td>0</td>\n",
       "      <td>13</td>\n",
       "      <td>2021-07-01</td>\n",
       "    </tr>\n",
       "    <tr>\n",
       "      <th>2846</th>\n",
       "      <td>Kluster Kampung Bagus</td>\n",
       "      <td>Kelantan</td>\n",
       "      <td>Pasir Mas</td>\n",
       "      <td>2021-07-01</td>\n",
       "      <td>2021-06-30</td>\n",
       "      <td>community</td>\n",
       "      <td>ended</td>\n",
       "      <td>0</td>\n",
       "      <td>8</td>\n",
       "      <td>0</td>\n",
       "      <td>14</td>\n",
       "      <td>0</td>\n",
       "      <td>0</td>\n",
       "      <td>8</td>\n",
       "      <td>2021-07-01</td>\n",
       "    </tr>\n",
       "    <tr>\n",
       "      <th>2847</th>\n",
       "      <td>Kluster Taman SP Mahang</td>\n",
       "      <td>Kelantan</td>\n",
       "      <td>Kota Bharu</td>\n",
       "      <td>2021-07-01</td>\n",
       "      <td>2021-06-30</td>\n",
       "      <td>community</td>\n",
       "      <td>ended</td>\n",
       "      <td>0</td>\n",
       "      <td>8</td>\n",
       "      <td>0</td>\n",
       "      <td>14</td>\n",
       "      <td>0</td>\n",
       "      <td>0</td>\n",
       "      <td>8</td>\n",
       "      <td>2021-07-01</td>\n",
       "    </tr>\n",
       "    <tr>\n",
       "      <th>2848</th>\n",
       "      <td>Kluster Dah Tanjung Setol</td>\n",
       "      <td>Kedah</td>\n",
       "      <td>Pendang</td>\n",
       "      <td>2021-07-01</td>\n",
       "      <td>2021-06-30</td>\n",
       "      <td>community</td>\n",
       "      <td>ended</td>\n",
       "      <td>0</td>\n",
       "      <td>31</td>\n",
       "      <td>0</td>\n",
       "      <td>61</td>\n",
       "      <td>0</td>\n",
       "      <td>0</td>\n",
       "      <td>31</td>\n",
       "      <td>2021-07-01</td>\n",
       "    </tr>\n",
       "    <tr>\n",
       "      <th>2849</th>\n",
       "      <td>Kluster Kampung Redang Gunong</td>\n",
       "      <td>Kelantan</td>\n",
       "      <td>Bachok, Kota Bharu, Tanah Merah</td>\n",
       "      <td>2021-07-01</td>\n",
       "      <td>2021-07-01</td>\n",
       "      <td>community</td>\n",
       "      <td>ended</td>\n",
       "      <td>0</td>\n",
       "      <td>10</td>\n",
       "      <td>0</td>\n",
       "      <td>19</td>\n",
       "      <td>0</td>\n",
       "      <td>0</td>\n",
       "      <td>10</td>\n",
       "      <td>2021-07-01</td>\n",
       "    </tr>\n",
       "  </tbody>\n",
       "</table>\n",
       "</div>"
      ],
      "text/plain": [
       "                                      cluster     state  \\\n",
       "2845  Kluster Industri Perusahaan Selesa Jaya  Selangor   \n",
       "2846                    Kluster Kampung Bagus  Kelantan   \n",
       "2847                  Kluster Taman SP Mahang  Kelantan   \n",
       "2848                Kluster Dah Tanjung Setol     Kedah   \n",
       "2849            Kluster Kampung Redang Gunong  Kelantan   \n",
       "\n",
       "                             district date_announced date_last_onset  \\\n",
       "2845                      Hulu Langat     2021-07-01      2021-06-30   \n",
       "2846                        Pasir Mas     2021-07-01      2021-06-30   \n",
       "2847                       Kota Bharu     2021-07-01      2021-06-30   \n",
       "2848                          Pendang     2021-07-01      2021-06-30   \n",
       "2849  Bachok, Kota Bharu, Tanah Merah     2021-07-01      2021-07-01   \n",
       "\n",
       "       category status  cases_new  cases_total  cases_active  tests  icu  \\\n",
       "2845  workplace  ended          0           13             0     67    0   \n",
       "2846  community  ended          0            8             0     14    0   \n",
       "2847  community  ended          0            8             0     14    0   \n",
       "2848  community  ended          0           31             0     61    0   \n",
       "2849  community  ended          0           10             0     19    0   \n",
       "\n",
       "      deaths  recovered        date  \n",
       "2845       0         13  2021-07-01  \n",
       "2846       0          8  2021-07-01  \n",
       "2847       0          8  2021-07-01  \n",
       "2848       0         31  2021-07-01  \n",
       "2849       0         10  2021-07-01  "
      ]
     },
     "metadata": {},
     "execution_count": 28
    }
   ],
   "metadata": {}
  },
  {
   "cell_type": "code",
   "execution_count": 29,
   "source": [
    "clusters_df.info()"
   ],
   "outputs": [
    {
     "output_type": "stream",
     "name": "stdout",
     "text": [
      "<class 'pandas.core.frame.DataFrame'>\n",
      "Int64Index: 1886 entries, 2845 to 4730\n",
      "Data columns (total 15 columns):\n",
      " #   Column           Non-Null Count  Dtype \n",
      "---  ------           --------------  ----- \n",
      " 0   cluster          1886 non-null   object\n",
      " 1   state            1886 non-null   object\n",
      " 2   district         1886 non-null   object\n",
      " 3   date_announced   1886 non-null   object\n",
      " 4   date_last_onset  1886 non-null   object\n",
      " 5   category         1886 non-null   object\n",
      " 6   status           1886 non-null   object\n",
      " 7   cases_new        1886 non-null   int64 \n",
      " 8   cases_total      1886 non-null   int64 \n",
      " 9   cases_active     1886 non-null   int64 \n",
      " 10  tests            1886 non-null   int64 \n",
      " 11  icu              1886 non-null   int64 \n",
      " 12  deaths           1886 non-null   int64 \n",
      " 13  recovered        1886 non-null   int64 \n",
      " 14  date             1886 non-null   object\n",
      "dtypes: int64(7), object(8)\n",
      "memory usage: 235.8+ KB\n"
     ]
    }
   ],
   "metadata": {}
  },
  {
   "cell_type": "code",
   "execution_count": 30,
   "source": [
    "clusters_df.describe()"
   ],
   "outputs": [
    {
     "output_type": "execute_result",
     "data": {
      "text/html": [
       "<div>\n",
       "<style scoped>\n",
       "    .dataframe tbody tr th:only-of-type {\n",
       "        vertical-align: middle;\n",
       "    }\n",
       "\n",
       "    .dataframe tbody tr th {\n",
       "        vertical-align: top;\n",
       "    }\n",
       "\n",
       "    .dataframe thead th {\n",
       "        text-align: right;\n",
       "    }\n",
       "</style>\n",
       "<table border=\"1\" class=\"dataframe\">\n",
       "  <thead>\n",
       "    <tr style=\"text-align: right;\">\n",
       "      <th></th>\n",
       "      <th>cases_new</th>\n",
       "      <th>cases_total</th>\n",
       "      <th>cases_active</th>\n",
       "      <th>tests</th>\n",
       "      <th>icu</th>\n",
       "      <th>deaths</th>\n",
       "      <th>recovered</th>\n",
       "    </tr>\n",
       "  </thead>\n",
       "  <tbody>\n",
       "    <tr>\n",
       "      <th>count</th>\n",
       "      <td>1886.000000</td>\n",
       "      <td>1886.000000</td>\n",
       "      <td>1886.000000</td>\n",
       "      <td>1886.000000</td>\n",
       "      <td>1886.000000</td>\n",
       "      <td>1886.000000</td>\n",
       "      <td>1886.000000</td>\n",
       "    </tr>\n",
       "    <tr>\n",
       "      <th>mean</th>\n",
       "      <td>0.166490</td>\n",
       "      <td>77.528102</td>\n",
       "      <td>10.995758</td>\n",
       "      <td>235.092259</td>\n",
       "      <td>0.020148</td>\n",
       "      <td>0.398197</td>\n",
       "      <td>66.133616</td>\n",
       "    </tr>\n",
       "    <tr>\n",
       "      <th>std</th>\n",
       "      <td>2.442736</td>\n",
       "      <td>116.985016</td>\n",
       "      <td>36.605851</td>\n",
       "      <td>403.282586</td>\n",
       "      <td>0.144271</td>\n",
       "      <td>1.329916</td>\n",
       "      <td>103.774849</td>\n",
       "    </tr>\n",
       "    <tr>\n",
       "      <th>min</th>\n",
       "      <td>0.000000</td>\n",
       "      <td>5.000000</td>\n",
       "      <td>0.000000</td>\n",
       "      <td>6.000000</td>\n",
       "      <td>0.000000</td>\n",
       "      <td>0.000000</td>\n",
       "      <td>0.000000</td>\n",
       "    </tr>\n",
       "    <tr>\n",
       "      <th>25%</th>\n",
       "      <td>0.000000</td>\n",
       "      <td>21.000000</td>\n",
       "      <td>0.000000</td>\n",
       "      <td>49.000000</td>\n",
       "      <td>0.000000</td>\n",
       "      <td>0.000000</td>\n",
       "      <td>17.000000</td>\n",
       "    </tr>\n",
       "    <tr>\n",
       "      <th>50%</th>\n",
       "      <td>0.000000</td>\n",
       "      <td>42.000000</td>\n",
       "      <td>0.000000</td>\n",
       "      <td>107.500000</td>\n",
       "      <td>0.000000</td>\n",
       "      <td>0.000000</td>\n",
       "      <td>34.000000</td>\n",
       "    </tr>\n",
       "    <tr>\n",
       "      <th>75%</th>\n",
       "      <td>0.000000</td>\n",
       "      <td>84.000000</td>\n",
       "      <td>5.000000</td>\n",
       "      <td>250.750000</td>\n",
       "      <td>0.000000</td>\n",
       "      <td>0.000000</td>\n",
       "      <td>73.000000</td>\n",
       "    </tr>\n",
       "    <tr>\n",
       "      <th>max</th>\n",
       "      <td>75.000000</td>\n",
       "      <td>1645.000000</td>\n",
       "      <td>755.000000</td>\n",
       "      <td>5820.000000</td>\n",
       "      <td>2.000000</td>\n",
       "      <td>25.000000</td>\n",
       "      <td>1643.000000</td>\n",
       "    </tr>\n",
       "  </tbody>\n",
       "</table>\n",
       "</div>"
      ],
      "text/plain": [
       "         cases_new  cases_total  cases_active        tests          icu  \\\n",
       "count  1886.000000  1886.000000   1886.000000  1886.000000  1886.000000   \n",
       "mean      0.166490    77.528102     10.995758   235.092259     0.020148   \n",
       "std       2.442736   116.985016     36.605851   403.282586     0.144271   \n",
       "min       0.000000     5.000000      0.000000     6.000000     0.000000   \n",
       "25%       0.000000    21.000000      0.000000    49.000000     0.000000   \n",
       "50%       0.000000    42.000000      0.000000   107.500000     0.000000   \n",
       "75%       0.000000    84.000000      5.000000   250.750000     0.000000   \n",
       "max      75.000000  1645.000000    755.000000  5820.000000     2.000000   \n",
       "\n",
       "            deaths    recovered  \n",
       "count  1886.000000  1886.000000  \n",
       "mean      0.398197    66.133616  \n",
       "std       1.329916   103.774849  \n",
       "min       0.000000     0.000000  \n",
       "25%       0.000000    17.000000  \n",
       "50%       0.000000    34.000000  \n",
       "75%       0.000000    73.000000  \n",
       "max      25.000000  1643.000000  "
      ]
     },
     "metadata": {},
     "execution_count": 30
    }
   ],
   "metadata": {}
  },
  {
   "cell_type": "code",
   "execution_count": 31,
   "source": [
    "cluster_count_by_state = clusters_df.groupby([clusters_df['state']]).count().loc[['Johor','Pahang','Kedah','Selangor']]['cluster']\r\n",
    "clusters_df = clusters_df.groupby([clusters_df['state']]).sum().loc[['Johor','Pahang','Kedah','Selangor']]\r\n",
    "clusters_df['cluster_total'] = cluster_count_by_state"
   ],
   "outputs": [],
   "metadata": {}
  },
  {
   "cell_type": "code",
   "execution_count": 33,
   "source": [
    "missing_values_df = clusters_df.isna().sum().to_frame()\r\n",
    "missing_values_df.rename(columns = {0:'Count of Missing Values'}, inplace=True)\r\n",
    "missing_values_df"
   ],
   "outputs": [
    {
     "output_type": "execute_result",
     "data": {
      "text/html": [
       "<div>\n",
       "<style scoped>\n",
       "    .dataframe tbody tr th:only-of-type {\n",
       "        vertical-align: middle;\n",
       "    }\n",
       "\n",
       "    .dataframe tbody tr th {\n",
       "        vertical-align: top;\n",
       "    }\n",
       "\n",
       "    .dataframe thead th {\n",
       "        text-align: right;\n",
       "    }\n",
       "</style>\n",
       "<table border=\"1\" class=\"dataframe\">\n",
       "  <thead>\n",
       "    <tr style=\"text-align: right;\">\n",
       "      <th></th>\n",
       "      <th>Count of Missing Values</th>\n",
       "    </tr>\n",
       "  </thead>\n",
       "  <tbody>\n",
       "    <tr>\n",
       "      <th>cases_new</th>\n",
       "      <td>0</td>\n",
       "    </tr>\n",
       "    <tr>\n",
       "      <th>cases_total</th>\n",
       "      <td>0</td>\n",
       "    </tr>\n",
       "    <tr>\n",
       "      <th>cases_active</th>\n",
       "      <td>0</td>\n",
       "    </tr>\n",
       "    <tr>\n",
       "      <th>tests</th>\n",
       "      <td>0</td>\n",
       "    </tr>\n",
       "    <tr>\n",
       "      <th>icu</th>\n",
       "      <td>0</td>\n",
       "    </tr>\n",
       "    <tr>\n",
       "      <th>deaths</th>\n",
       "      <td>0</td>\n",
       "    </tr>\n",
       "    <tr>\n",
       "      <th>recovered</th>\n",
       "      <td>0</td>\n",
       "    </tr>\n",
       "    <tr>\n",
       "      <th>cluster_total</th>\n",
       "      <td>0</td>\n",
       "    </tr>\n",
       "  </tbody>\n",
       "</table>\n",
       "</div>"
      ],
      "text/plain": [
       "               Count of Missing Values\n",
       "cases_new                            0\n",
       "cases_total                          0\n",
       "cases_active                         0\n",
       "tests                                0\n",
       "icu                                  0\n",
       "deaths                               0\n",
       "recovered                            0\n",
       "cluster_total                        0"
      ]
     },
     "metadata": {},
     "execution_count": 33
    }
   ],
   "metadata": {}
  },
  {
   "cell_type": "markdown",
   "source": [
    "##### Identify Missing Value\n",
    "</p> Visualize the number of missing values as a bar chart"
   ],
   "metadata": {}
  },
  {
   "cell_type": "code",
   "execution_count": 35,
   "source": [
    "missing_values = clusters_df.isnull().sum() / len(clusters_df)\r\n",
    "missing_values = missing_values[missing_values > 0]\r\n",
    "missing_values.sort_values(inplace=True)\r\n",
    "missing_values = missing_values.to_frame()\r\n",
    "missing_values.columns = ['Count of Missing Values']\r\n",
    "missing_values.index.names = ['Name']\r\n",
    "missing_values['Column Name'] = clusters_df.columns\r\n",
    "\r\n",
    "sns.set(style=\"whitegrid\", color_codes=True)\r\n",
    "sns.barplot(x = 'Column Name', y = 'Count of Missing Values', data=missing_values)\r\n",
    "plt.xticks(rotation = 90)\r\n",
    "plt.show()"
   ],
   "outputs": [
    {
     "output_type": "display_data",
     "data": {
      "image/png": "[encoded data removed]",
      "text/plain": [
       "<Figure size 432x288 with 1 Axes>"
      ]
     },
     "metadata": {}
    }
   ],
   "metadata": {}
  },
  {
   "cell_type": "markdown",
   "source": [
    "##### Identify Outliers\n",
    "</p> Visualize the data using box plot, check the distribution of data and outliers"
   ],
   "metadata": {}
  },
  {
   "cell_type": "code",
   "execution_count": 38,
   "source": [
    "fig, axes = plt.subplots(3, 3, figsize=(15, 5), sharey=True)\r\n",
    "# fig.suptitle('Outliers Visualization')\r\n",
    "plt.subplots_adjust(left=None, bottom= 0.1, right=None, top=2, wspace=0.2, hspace=0.6)\r\n",
    "\r\n",
    "sns.boxplot(data=clusters_df,x=clusters_df[\"cases_new\"],ax=axes[0][0])\r\n",
    "axes[0][0].set_title('cases_new')\r\n",
    "\r\n",
    "sns.boxplot(data=clusters_df,x=clusters_df[\"cases_total\"],ax=axes[0][1])\r\n",
    "axes[0][1].set_title('cases_total')\r\n",
    "\r\n",
    "sns.boxplot(data=clusters_df,x=clusters_df[\"cases_active\"],ax=axes[0][2])\r\n",
    "axes[0][2].set_title('cases_active')\r\n",
    "\r\n",
    "sns.boxplot(data=clusters_df,x=clusters_df[\"tests\"],ax=axes[1][0])\r\n",
    "axes[1][0].set_title('tests')\r\n",
    "\r\n",
    "sns.boxplot(data=clusters_df,x=clusters_df[\"icu\"],ax=axes[1][1])\r\n",
    "axes[1][1].set_title('icu')\r\n",
    "\r\n",
    "sns.boxplot(data=clusters_df,x=clusters_df[\"deaths\"],ax=axes[1][2])\r\n",
    "axes[1][2].set_title('deaths')\r\n",
    "\r\n",
    "sns.boxplot(data=clusters_df,x=clusters_df[\"recovered\"],ax=axes[2][0])\r\n",
    "axes[2][0].set_title('recovered')\r\n",
    "fig.delaxes(axes[2][1])\r\n",
    "fig.delaxes(axes[2][2])"
   ],
   "outputs": [
    {
     "output_type": "display_data",
     "data": {
      "image/png": "[encoded data removed]",
      "text/plain": [
       "<Figure size 1080x360 with 7 Axes>"
      ]
     },
     "metadata": {}
    }
   ],
   "metadata": {}
  },
  {
   "cell_type": "markdown",
   "source": [
    "### Exploratory Data Analysis for Malaysia Tests Dataset"
   ],
   "metadata": {}
  },
  {
   "cell_type": "code",
   "execution_count": 39,
   "source": [
    "malaysia_tests_df = pd.read_csv(malaysia_tests_dir)\r\n",
    "after_start_date = malaysia_tests_df[\"date\"] >= start_date\r\n",
    "before_end_date = malaysia_tests_df[\"date\"] <= end_date\r\n",
    "between_two_dates = after_start_date & before_end_date\r\n",
    "malaysia_tests_df = malaysia_tests_df.loc[between_two_dates]\r\n",
    "malaysia_tests_df.head()"
   ],
   "outputs": [
    {
     "output_type": "error",
     "ename": "OSError",
     "evalue": "[Errno 22] Invalid argument: 'd:\\\\Academic\\\\Third Year 2nd sem\\\\Data Mining\\\\covid19-public\\\\dataset\\tests_malaysia.csv'",
     "traceback": [
      "\u001b[1;31m---------------------------------------------------------------------------\u001b[0m",
      "\u001b[1;31mOSError\u001b[0m                                   Traceback (most recent call last)",
      "\u001b[1;32m<ipython-input-39-32f2696686db>\u001b[0m in \u001b[0;36m<module>\u001b[1;34m\u001b[0m\n\u001b[1;32m----> 1\u001b[1;33m \u001b[0mmalaysia_tests_df\u001b[0m \u001b[1;33m=\u001b[0m \u001b[0mpd\u001b[0m\u001b[1;33m.\u001b[0m\u001b[0mread_csv\u001b[0m\u001b[1;33m(\u001b[0m\u001b[0mmalaysia_tests_dir\u001b[0m\u001b[1;33m)\u001b[0m\u001b[1;33m\u001b[0m\u001b[1;33m\u001b[0m\u001b[0m\n\u001b[0m\u001b[0;32m      2\u001b[0m \u001b[0mafter_start_date\u001b[0m \u001b[1;33m=\u001b[0m \u001b[0mmalaysia_tests_df\u001b[0m\u001b[1;33m[\u001b[0m\u001b[1;34m\"date\"\u001b[0m\u001b[1;33m]\u001b[0m \u001b[1;33m>=\u001b[0m \u001b[0mstart_date\u001b[0m\u001b[1;33m\u001b[0m\u001b[1;33m\u001b[0m\u001b[0m\n\u001b[0;32m      3\u001b[0m \u001b[0mbefore_end_date\u001b[0m \u001b[1;33m=\u001b[0m \u001b[0mmalaysia_tests_df\u001b[0m\u001b[1;33m[\u001b[0m\u001b[1;34m\"date\"\u001b[0m\u001b[1;33m]\u001b[0m \u001b[1;33m<=\u001b[0m \u001b[0mend_date\u001b[0m\u001b[1;33m\u001b[0m\u001b[1;33m\u001b[0m\u001b[0m\n\u001b[0;32m      4\u001b[0m \u001b[0mbetween_two_dates\u001b[0m \u001b[1;33m=\u001b[0m \u001b[0mafter_start_date\u001b[0m \u001b[1;33m&\u001b[0m \u001b[0mbefore_end_date\u001b[0m\u001b[1;33m\u001b[0m\u001b[1;33m\u001b[0m\u001b[0m\n\u001b[0;32m      5\u001b[0m \u001b[0mmalaysia_tests_df\u001b[0m \u001b[1;33m=\u001b[0m \u001b[0mmalaysia_tests_df\u001b[0m\u001b[1;33m.\u001b[0m\u001b[0mloc\u001b[0m\u001b[1;33m[\u001b[0m\u001b[0mbetween_two_dates\u001b[0m\u001b[1;33m]\u001b[0m\u001b[1;33m\u001b[0m\u001b[1;33m\u001b[0m\u001b[0m\n",
      "\u001b[1;32m~\\AppData\\Local\\Programs\\Python\\Python38\\lib\\site-packages\\pandas\\io\\parsers.py\u001b[0m in \u001b[0;36mread_csv\u001b[1;34m(filepath_or_buffer, sep, delimiter, header, names, index_col, usecols, squeeze, prefix, mangle_dupe_cols, dtype, engine, converters, true_values, false_values, skipinitialspace, skiprows, skipfooter, nrows, na_values, keep_default_na, na_filter, verbose, skip_blank_lines, parse_dates, infer_datetime_format, keep_date_col, date_parser, dayfirst, cache_dates, iterator, chunksize, compression, thousands, decimal, lineterminator, quotechar, quoting, doublequote, escapechar, comment, encoding, dialect, error_bad_lines, warn_bad_lines, delim_whitespace, low_memory, memory_map, float_precision, storage_options)\u001b[0m\n\u001b[0;32m    608\u001b[0m     \u001b[0mkwds\u001b[0m\u001b[1;33m.\u001b[0m\u001b[0mupdate\u001b[0m\u001b[1;33m(\u001b[0m\u001b[0mkwds_defaults\u001b[0m\u001b[1;33m)\u001b[0m\u001b[1;33m\u001b[0m\u001b[1;33m\u001b[0m\u001b[0m\n\u001b[0;32m    609\u001b[0m \u001b[1;33m\u001b[0m\u001b[0m\n\u001b[1;32m--> 610\u001b[1;33m     \u001b[1;32mreturn\u001b[0m \u001b[0m_read\u001b[0m\u001b[1;33m(\u001b[0m\u001b[0mfilepath_or_buffer\u001b[0m\u001b[1;33m,\u001b[0m \u001b[0mkwds\u001b[0m\u001b[1;33m)\u001b[0m\u001b[1;33m\u001b[0m\u001b[1;33m\u001b[0m\u001b[0m\n\u001b[0m\u001b[0;32m    611\u001b[0m \u001b[1;33m\u001b[0m\u001b[0m\n\u001b[0;32m    612\u001b[0m \u001b[1;33m\u001b[0m\u001b[0m\n",
      "\u001b[1;32m~\\AppData\\Local\\Programs\\Python\\Python38\\lib\\site-packages\\pandas\\io\\parsers.py\u001b[0m in \u001b[0;36m_read\u001b[1;34m(filepath_or_buffer, kwds)\u001b[0m\n\u001b[0;32m    460\u001b[0m \u001b[1;33m\u001b[0m\u001b[0m\n\u001b[0;32m    461\u001b[0m     \u001b[1;31m# Create the parser.\u001b[0m\u001b[1;33m\u001b[0m\u001b[1;33m\u001b[0m\u001b[1;33m\u001b[0m\u001b[0m\n\u001b[1;32m--> 462\u001b[1;33m     \u001b[0mparser\u001b[0m \u001b[1;33m=\u001b[0m \u001b[0mTextFileReader\u001b[0m\u001b[1;33m(\u001b[0m\u001b[0mfilepath_or_buffer\u001b[0m\u001b[1;33m,\u001b[0m \u001b[1;33m**\u001b[0m\u001b[0mkwds\u001b[0m\u001b[1;33m)\u001b[0m\u001b[1;33m\u001b[0m\u001b[1;33m\u001b[0m\u001b[0m\n\u001b[0m\u001b[0;32m    463\u001b[0m \u001b[1;33m\u001b[0m\u001b[0m\n\u001b[0;32m    464\u001b[0m     \u001b[1;32mif\u001b[0m \u001b[0mchunksize\u001b[0m \u001b[1;32mor\u001b[0m \u001b[0miterator\u001b[0m\u001b[1;33m:\u001b[0m\u001b[1;33m\u001b[0m\u001b[1;33m\u001b[0m\u001b[0m\n",
      "\u001b[1;32m~\\AppData\\Local\\Programs\\Python\\Python38\\lib\\site-packages\\pandas\\io\\parsers.py\u001b[0m in \u001b[0;36m__init__\u001b[1;34m(self, f, engine, **kwds)\u001b[0m\n\u001b[0;32m    817\u001b[0m             \u001b[0mself\u001b[0m\u001b[1;33m.\u001b[0m\u001b[0moptions\u001b[0m\u001b[1;33m[\u001b[0m\u001b[1;34m\"has_index_names\"\u001b[0m\u001b[1;33m]\u001b[0m \u001b[1;33m=\u001b[0m \u001b[0mkwds\u001b[0m\u001b[1;33m[\u001b[0m\u001b[1;34m\"has_index_names\"\u001b[0m\u001b[1;33m]\u001b[0m\u001b[1;33m\u001b[0m\u001b[1;33m\u001b[0m\u001b[0m\n\u001b[0;32m    818\u001b[0m \u001b[1;33m\u001b[0m\u001b[0m\n\u001b[1;32m--> 819\u001b[1;33m         \u001b[0mself\u001b[0m\u001b[1;33m.\u001b[0m\u001b[0m_engine\u001b[0m \u001b[1;33m=\u001b[0m \u001b[0mself\u001b[0m\u001b[1;33m.\u001b[0m\u001b[0m_make_engine\u001b[0m\u001b[1;33m(\u001b[0m\u001b[0mself\u001b[0m\u001b[1;33m.\u001b[0m\u001b[0mengine\u001b[0m\u001b[1;33m)\u001b[0m\u001b[1;33m\u001b[0m\u001b[1;33m\u001b[0m\u001b[0m\n\u001b[0m\u001b[0;32m    820\u001b[0m \u001b[1;33m\u001b[0m\u001b[0m\n\u001b[0;32m    821\u001b[0m     \u001b[1;32mdef\u001b[0m \u001b[0mclose\u001b[0m\u001b[1;33m(\u001b[0m\u001b[0mself\u001b[0m\u001b[1;33m)\u001b[0m\u001b[1;33m:\u001b[0m\u001b[1;33m\u001b[0m\u001b[1;33m\u001b[0m\u001b[0m\n",
      "\u001b[1;32m~\\AppData\\Local\\Programs\\Python\\Python38\\lib\\site-packages\\pandas\\io\\parsers.py\u001b[0m in \u001b[0;36m_make_engine\u001b[1;34m(self, engine)\u001b[0m\n\u001b[0;32m   1048\u001b[0m             )\n\u001b[0;32m   1049\u001b[0m         \u001b[1;31m# error: Too many arguments for \"ParserBase\"\u001b[0m\u001b[1;33m\u001b[0m\u001b[1;33m\u001b[0m\u001b[1;33m\u001b[0m\u001b[0m\n\u001b[1;32m-> 1050\u001b[1;33m         \u001b[1;32mreturn\u001b[0m \u001b[0mmapping\u001b[0m\u001b[1;33m[\u001b[0m\u001b[0mengine\u001b[0m\u001b[1;33m]\u001b[0m\u001b[1;33m(\u001b[0m\u001b[0mself\u001b[0m\u001b[1;33m.\u001b[0m\u001b[0mf\u001b[0m\u001b[1;33m,\u001b[0m \u001b[1;33m**\u001b[0m\u001b[0mself\u001b[0m\u001b[1;33m.\u001b[0m\u001b[0moptions\u001b[0m\u001b[1;33m)\u001b[0m  \u001b[1;31m# type: ignore[call-arg]\u001b[0m\u001b[1;33m\u001b[0m\u001b[1;33m\u001b[0m\u001b[0m\n\u001b[0m\u001b[0;32m   1051\u001b[0m \u001b[1;33m\u001b[0m\u001b[0m\n\u001b[0;32m   1052\u001b[0m     \u001b[1;32mdef\u001b[0m \u001b[0m_failover_to_python\u001b[0m\u001b[1;33m(\u001b[0m\u001b[0mself\u001b[0m\u001b[1;33m)\u001b[0m\u001b[1;33m:\u001b[0m\u001b[1;33m\u001b[0m\u001b[1;33m\u001b[0m\u001b[0m\n",
      "\u001b[1;32m~\\AppData\\Local\\Programs\\Python\\Python38\\lib\\site-packages\\pandas\\io\\parsers.py\u001b[0m in \u001b[0;36m__init__\u001b[1;34m(self, src, **kwds)\u001b[0m\n\u001b[0;32m   1865\u001b[0m \u001b[1;33m\u001b[0m\u001b[0m\n\u001b[0;32m   1866\u001b[0m         \u001b[1;31m# open handles\u001b[0m\u001b[1;33m\u001b[0m\u001b[1;33m\u001b[0m\u001b[1;33m\u001b[0m\u001b[0m\n\u001b[1;32m-> 1867\u001b[1;33m         \u001b[0mself\u001b[0m\u001b[1;33m.\u001b[0m\u001b[0m_open_handles\u001b[0m\u001b[1;33m(\u001b[0m\u001b[0msrc\u001b[0m\u001b[1;33m,\u001b[0m \u001b[0mkwds\u001b[0m\u001b[1;33m)\u001b[0m\u001b[1;33m\u001b[0m\u001b[1;33m\u001b[0m\u001b[0m\n\u001b[0m\u001b[0;32m   1868\u001b[0m         \u001b[1;32massert\u001b[0m \u001b[0mself\u001b[0m\u001b[1;33m.\u001b[0m\u001b[0mhandles\u001b[0m \u001b[1;32mis\u001b[0m \u001b[1;32mnot\u001b[0m \u001b[1;32mNone\u001b[0m\u001b[1;33m\u001b[0m\u001b[1;33m\u001b[0m\u001b[0m\n\u001b[0;32m   1869\u001b[0m         \u001b[1;32mfor\u001b[0m \u001b[0mkey\u001b[0m \u001b[1;32min\u001b[0m \u001b[1;33m(\u001b[0m\u001b[1;34m\"storage_options\"\u001b[0m\u001b[1;33m,\u001b[0m \u001b[1;34m\"encoding\"\u001b[0m\u001b[1;33m,\u001b[0m \u001b[1;34m\"memory_map\"\u001b[0m\u001b[1;33m,\u001b[0m \u001b[1;34m\"compression\"\u001b[0m\u001b[1;33m)\u001b[0m\u001b[1;33m:\u001b[0m\u001b[1;33m\u001b[0m\u001b[1;33m\u001b[0m\u001b[0m\n",
      "\u001b[1;32m~\\AppData\\Local\\Programs\\Python\\Python38\\lib\\site-packages\\pandas\\io\\parsers.py\u001b[0m in \u001b[0;36m_open_handles\u001b[1;34m(self, src, kwds)\u001b[0m\n\u001b[0;32m   1360\u001b[0m         \u001b[0mLet\u001b[0m \u001b[0mthe\u001b[0m \u001b[0mreaders\u001b[0m \u001b[0mopen\u001b[0m \u001b[0mIOHanldes\u001b[0m \u001b[0mafter\u001b[0m \u001b[0mthey\u001b[0m \u001b[0mare\u001b[0m \u001b[0mdone\u001b[0m \u001b[1;32mwith\u001b[0m \u001b[0mtheir\u001b[0m \u001b[0mpotential\u001b[0m \u001b[0mraises\u001b[0m\u001b[1;33m.\u001b[0m\u001b[1;33m\u001b[0m\u001b[1;33m\u001b[0m\u001b[0m\n\u001b[0;32m   1361\u001b[0m         \"\"\"\n\u001b[1;32m-> 1362\u001b[1;33m         self.handles = get_handle(\n\u001b[0m\u001b[0;32m   1363\u001b[0m             \u001b[0msrc\u001b[0m\u001b[1;33m,\u001b[0m\u001b[1;33m\u001b[0m\u001b[1;33m\u001b[0m\u001b[0m\n\u001b[0;32m   1364\u001b[0m             \u001b[1;34m\"r\"\u001b[0m\u001b[1;33m,\u001b[0m\u001b[1;33m\u001b[0m\u001b[1;33m\u001b[0m\u001b[0m\n",
      "\u001b[1;32m~\\AppData\\Local\\Programs\\Python\\Python38\\lib\\site-packages\\pandas\\io\\common.py\u001b[0m in \u001b[0;36mget_handle\u001b[1;34m(path_or_buf, mode, encoding, compression, memory_map, is_text, errors, storage_options)\u001b[0m\n\u001b[0;32m    640\u001b[0m                 \u001b[0merrors\u001b[0m \u001b[1;33m=\u001b[0m \u001b[1;34m\"replace\"\u001b[0m\u001b[1;33m\u001b[0m\u001b[1;33m\u001b[0m\u001b[0m\n\u001b[0;32m    641\u001b[0m             \u001b[1;31m# Encoding\u001b[0m\u001b[1;33m\u001b[0m\u001b[1;33m\u001b[0m\u001b[1;33m\u001b[0m\u001b[0m\n\u001b[1;32m--> 642\u001b[1;33m             handle = open(\n\u001b[0m\u001b[0;32m    643\u001b[0m                 \u001b[0mhandle\u001b[0m\u001b[1;33m,\u001b[0m\u001b[1;33m\u001b[0m\u001b[1;33m\u001b[0m\u001b[0m\n\u001b[0;32m    644\u001b[0m                 \u001b[0mioargs\u001b[0m\u001b[1;33m.\u001b[0m\u001b[0mmode\u001b[0m\u001b[1;33m,\u001b[0m\u001b[1;33m\u001b[0m\u001b[1;33m\u001b[0m\u001b[0m\n",
      "\u001b[1;31mOSError\u001b[0m: [Errno 22] Invalid argument: 'd:\\\\Academic\\\\Third Year 2nd sem\\\\Data Mining\\\\covid19-public\\\\dataset\\tests_malaysia.csv'"
     ]
    }
   ],
   "metadata": {}
  },
  {
   "cell_type": "code",
   "execution_count": 40,
   "source": [
    "malaysia_tests_df.info()"
   ],
   "outputs": [
    {
     "output_type": "error",
     "ename": "NameError",
     "evalue": "name 'malaysia_tests_df' is not defined",
     "traceback": [
      "\u001b[1;31m---------------------------------------------------------------------------\u001b[0m",
      "\u001b[1;31mNameError\u001b[0m                                 Traceback (most recent call last)",
      "\u001b[1;32m<ipython-input-40-71134f747ff3>\u001b[0m in \u001b[0;36m<module>\u001b[1;34m\u001b[0m\n\u001b[1;32m----> 1\u001b[1;33m \u001b[0mmalaysia_tests_df\u001b[0m\u001b[1;33m.\u001b[0m\u001b[0minfo\u001b[0m\u001b[1;33m(\u001b[0m\u001b[1;33m)\u001b[0m\u001b[1;33m\u001b[0m\u001b[1;33m\u001b[0m\u001b[0m\n\u001b[0m",
      "\u001b[1;31mNameError\u001b[0m: name 'malaysia_tests_df' is not defined"
     ]
    }
   ],
   "metadata": {}
  },
  {
   "cell_type": "code",
   "execution_count": 41,
   "source": [
    "malaysia_tests_df.describe()"
   ],
   "outputs": [
    {
     "output_type": "error",
     "ename": "NameError",
     "evalue": "name 'malaysia_tests_df' is not defined",
     "traceback": [
      "\u001b[1;31m---------------------------------------------------------------------------\u001b[0m",
      "\u001b[1;31mNameError\u001b[0m                                 Traceback (most recent call last)",
      "\u001b[1;32m<ipython-input-41-d59b659ce266>\u001b[0m in \u001b[0;36m<module>\u001b[1;34m\u001b[0m\n\u001b[1;32m----> 1\u001b[1;33m \u001b[0mmalaysia_tests_df\u001b[0m\u001b[1;33m.\u001b[0m\u001b[0mdescribe\u001b[0m\u001b[1;33m(\u001b[0m\u001b[1;33m)\u001b[0m\u001b[1;33m\u001b[0m\u001b[1;33m\u001b[0m\u001b[0m\n\u001b[0m",
      "\u001b[1;31mNameError\u001b[0m: name 'malaysia_tests_df' is not defined"
     ]
    }
   ],
   "metadata": {}
  },
  {
   "cell_type": "code",
   "execution_count": null,
   "source": [
    "missing_values_df = malaysia_tests_df.isna().sum().to_frame()\r\n",
    "missing_values_df.rename(columns = {0:'Count of Missing Values'}, inplace=True)\r\n",
    "missing_values_df"
   ],
   "outputs": [],
   "metadata": {}
  },
  {
   "cell_type": "markdown",
   "source": [
    "##### Identify Missing Value\n",
    "</p> Visualize the number of missing values as a bar chart"
   ],
   "metadata": {}
  },
  {
   "cell_type": "code",
   "execution_count": 42,
   "source": [
    "missing_values = malaysia_tests_df.isnull().sum() / len(malaysia_tests_df)\r\n",
    "missing_values = missing_values[missing_values > 0]\r\n",
    "missing_values.sort_values(inplace=True)\r\n",
    "missing_values = missing_values.to_frame()\r\n",
    "missing_values.columns = ['Count of Missing Values']\r\n",
    "missing_values.index.names = ['Name']\r\n",
    "missing_values['Column Name'] = malaysia_tests_df.columns\r\n",
    "\r\n",
    "sns.set(style=\"whitegrid\", color_codes=True)\r\n",
    "sns.barplot(x = 'Column Name', y = 'Count of Missing Values', data=missing_values)\r\n",
    "plt.xticks(rotation = 90)\r\n",
    "plt.show()"
   ],
   "outputs": [
    {
     "output_type": "error",
     "ename": "NameError",
     "evalue": "name 'malaysia_tests_df' is not defined",
     "traceback": [
      "\u001b[1;31m---------------------------------------------------------------------------\u001b[0m",
      "\u001b[1;31mNameError\u001b[0m                                 Traceback (most recent call last)",
      "\u001b[1;32m<ipython-input-42-45a69d9c3252>\u001b[0m in \u001b[0;36m<module>\u001b[1;34m\u001b[0m\n\u001b[1;32m----> 1\u001b[1;33m \u001b[0mmissing_values\u001b[0m \u001b[1;33m=\u001b[0m \u001b[0mmalaysia_tests_df\u001b[0m\u001b[1;33m.\u001b[0m\u001b[0misnull\u001b[0m\u001b[1;33m(\u001b[0m\u001b[1;33m)\u001b[0m\u001b[1;33m.\u001b[0m\u001b[0msum\u001b[0m\u001b[1;33m(\u001b[0m\u001b[1;33m)\u001b[0m \u001b[1;33m/\u001b[0m \u001b[0mlen\u001b[0m\u001b[1;33m(\u001b[0m\u001b[0mmalaysia_tests_df\u001b[0m\u001b[1;33m)\u001b[0m\u001b[1;33m\u001b[0m\u001b[1;33m\u001b[0m\u001b[0m\n\u001b[0m\u001b[0;32m      2\u001b[0m \u001b[0mmissing_values\u001b[0m \u001b[1;33m=\u001b[0m \u001b[0mmissing_values\u001b[0m\u001b[1;33m[\u001b[0m\u001b[0mmissing_values\u001b[0m \u001b[1;33m>\u001b[0m \u001b[1;36m0\u001b[0m\u001b[1;33m]\u001b[0m\u001b[1;33m\u001b[0m\u001b[1;33m\u001b[0m\u001b[0m\n\u001b[0;32m      3\u001b[0m \u001b[0mmissing_values\u001b[0m\u001b[1;33m.\u001b[0m\u001b[0msort_values\u001b[0m\u001b[1;33m(\u001b[0m\u001b[0minplace\u001b[0m\u001b[1;33m=\u001b[0m\u001b[1;32mTrue\u001b[0m\u001b[1;33m)\u001b[0m\u001b[1;33m\u001b[0m\u001b[1;33m\u001b[0m\u001b[0m\n\u001b[0;32m      4\u001b[0m \u001b[0mmissing_values\u001b[0m \u001b[1;33m=\u001b[0m \u001b[0mmissing_values\u001b[0m\u001b[1;33m.\u001b[0m\u001b[0mto_frame\u001b[0m\u001b[1;33m(\u001b[0m\u001b[1;33m)\u001b[0m\u001b[1;33m\u001b[0m\u001b[1;33m\u001b[0m\u001b[0m\n\u001b[0;32m      5\u001b[0m \u001b[0mmissing_values\u001b[0m\u001b[1;33m.\u001b[0m\u001b[0mcolumns\u001b[0m \u001b[1;33m=\u001b[0m \u001b[1;33m[\u001b[0m\u001b[1;34m'Count of Missing Values'\u001b[0m\u001b[1;33m]\u001b[0m\u001b[1;33m\u001b[0m\u001b[1;33m\u001b[0m\u001b[0m\n",
      "\u001b[1;31mNameError\u001b[0m: name 'malaysia_tests_df' is not defined"
     ]
    }
   ],
   "metadata": {}
  },
  {
   "cell_type": "markdown",
   "source": [
    "##### Identify Outliers\n",
    "</p> Visualize the data using box plot, check the distribution of data and outliers"
   ],
   "metadata": {}
  },
  {
   "cell_type": "code",
   "execution_count": null,
   "source": [
    "fig, axes = plt.subplots(1, 3, figsize=(15, 5), sharey=True)\r\n",
    "# fig.suptitle('Outliers Visualization')\r\n",
    "plt.subplots_adjust(left=None, bottom= 0.1, right=None, top=0.5, wspace=0.2, hspace=0.6)\r\n",
    "\r\n",
    "sns.boxplot(data=malaysia_tests_df, x = malaysia_tests_df[\"rtk-ag\"],ax=axes[0])\r\n",
    "axes[0].set_title('rtk-ag')\r\n",
    "\r\n",
    "sns.boxplot(data=malaysia_tests_df,x = malaysia_tests_df[\"pcr\"],ax=axes[1])\r\n",
    "axes[1].set_title('pcr')"
   ],
   "outputs": [],
   "metadata": {}
  },
  {
   "cell_type": "markdown",
   "source": [
    "### Exploratory Data Analysis for State Tests Dataset"
   ],
   "metadata": {}
  },
  {
   "cell_type": "code",
   "execution_count": 43,
   "source": [
    "states_tests_df = pd.read_csv(states_tests_dir)\r\n",
    "after_start_date = states_tests_df[\"date\"] >= start_date\r\n",
    "before_end_date = states_tests_df[\"date\"] <= end_date\r\n",
    "between_two_dates = after_start_date & before_end_date\r\n",
    "states_tests_df = states_tests_df.loc[between_two_dates]\r\n",
    "states_tests_df.head()"
   ],
   "outputs": [
    {
     "output_type": "error",
     "ename": "OSError",
     "evalue": "[Errno 22] Invalid argument: 'd:\\\\Academic\\\\Third Year 2nd sem\\\\Data Mining\\\\covid19-public\\\\dataset\\tests_state.csv'",
     "traceback": [
      "\u001b[1;31m---------------------------------------------------------------------------\u001b[0m",
      "\u001b[1;31mOSError\u001b[0m                                   Traceback (most recent call last)",
      "\u001b[1;32m<ipython-input-43-0264f1ad8e32>\u001b[0m in \u001b[0;36m<module>\u001b[1;34m\u001b[0m\n\u001b[1;32m----> 1\u001b[1;33m \u001b[0mstates_tests_df\u001b[0m \u001b[1;33m=\u001b[0m \u001b[0mpd\u001b[0m\u001b[1;33m.\u001b[0m\u001b[0mread_csv\u001b[0m\u001b[1;33m(\u001b[0m\u001b[0mstates_tests_dir\u001b[0m\u001b[1;33m)\u001b[0m\u001b[1;33m\u001b[0m\u001b[1;33m\u001b[0m\u001b[0m\n\u001b[0m\u001b[0;32m      2\u001b[0m \u001b[0mafter_start_date\u001b[0m \u001b[1;33m=\u001b[0m \u001b[0mstates_tests_df\u001b[0m\u001b[1;33m[\u001b[0m\u001b[1;34m\"date\"\u001b[0m\u001b[1;33m]\u001b[0m \u001b[1;33m>=\u001b[0m \u001b[0mstart_date\u001b[0m\u001b[1;33m\u001b[0m\u001b[1;33m\u001b[0m\u001b[0m\n\u001b[0;32m      3\u001b[0m \u001b[0mbefore_end_date\u001b[0m \u001b[1;33m=\u001b[0m \u001b[0mstates_tests_df\u001b[0m\u001b[1;33m[\u001b[0m\u001b[1;34m\"date\"\u001b[0m\u001b[1;33m]\u001b[0m \u001b[1;33m<=\u001b[0m \u001b[0mend_date\u001b[0m\u001b[1;33m\u001b[0m\u001b[1;33m\u001b[0m\u001b[0m\n\u001b[0;32m      4\u001b[0m \u001b[0mbetween_two_dates\u001b[0m \u001b[1;33m=\u001b[0m \u001b[0mafter_start_date\u001b[0m \u001b[1;33m&\u001b[0m \u001b[0mbefore_end_date\u001b[0m\u001b[1;33m\u001b[0m\u001b[1;33m\u001b[0m\u001b[0m\n\u001b[0;32m      5\u001b[0m \u001b[0mstates_tests_df\u001b[0m \u001b[1;33m=\u001b[0m \u001b[0mstates_tests_df\u001b[0m\u001b[1;33m.\u001b[0m\u001b[0mloc\u001b[0m\u001b[1;33m[\u001b[0m\u001b[0mbetween_two_dates\u001b[0m\u001b[1;33m]\u001b[0m\u001b[1;33m\u001b[0m\u001b[1;33m\u001b[0m\u001b[0m\n",
      "\u001b[1;32m~\\AppData\\Local\\Programs\\Python\\Python38\\lib\\site-packages\\pandas\\io\\parsers.py\u001b[0m in \u001b[0;36mread_csv\u001b[1;34m(filepath_or_buffer, sep, delimiter, header, names, index_col, usecols, squeeze, prefix, mangle_dupe_cols, dtype, engine, converters, true_values, false_values, skipinitialspace, skiprows, skipfooter, nrows, na_values, keep_default_na, na_filter, verbose, skip_blank_lines, parse_dates, infer_datetime_format, keep_date_col, date_parser, dayfirst, cache_dates, iterator, chunksize, compression, thousands, decimal, lineterminator, quotechar, quoting, doublequote, escapechar, comment, encoding, dialect, error_bad_lines, warn_bad_lines, delim_whitespace, low_memory, memory_map, float_precision, storage_options)\u001b[0m\n\u001b[0;32m    608\u001b[0m     \u001b[0mkwds\u001b[0m\u001b[1;33m.\u001b[0m\u001b[0mupdate\u001b[0m\u001b[1;33m(\u001b[0m\u001b[0mkwds_defaults\u001b[0m\u001b[1;33m)\u001b[0m\u001b[1;33m\u001b[0m\u001b[1;33m\u001b[0m\u001b[0m\n\u001b[0;32m    609\u001b[0m \u001b[1;33m\u001b[0m\u001b[0m\n\u001b[1;32m--> 610\u001b[1;33m     \u001b[1;32mreturn\u001b[0m \u001b[0m_read\u001b[0m\u001b[1;33m(\u001b[0m\u001b[0mfilepath_or_buffer\u001b[0m\u001b[1;33m,\u001b[0m \u001b[0mkwds\u001b[0m\u001b[1;33m)\u001b[0m\u001b[1;33m\u001b[0m\u001b[1;33m\u001b[0m\u001b[0m\n\u001b[0m\u001b[0;32m    611\u001b[0m \u001b[1;33m\u001b[0m\u001b[0m\n\u001b[0;32m    612\u001b[0m \u001b[1;33m\u001b[0m\u001b[0m\n",
      "\u001b[1;32m~\\AppData\\Local\\Programs\\Python\\Python38\\lib\\site-packages\\pandas\\io\\parsers.py\u001b[0m in \u001b[0;36m_read\u001b[1;34m(filepath_or_buffer, kwds)\u001b[0m\n\u001b[0;32m    460\u001b[0m \u001b[1;33m\u001b[0m\u001b[0m\n\u001b[0;32m    461\u001b[0m     \u001b[1;31m# Create the parser.\u001b[0m\u001b[1;33m\u001b[0m\u001b[1;33m\u001b[0m\u001b[1;33m\u001b[0m\u001b[0m\n\u001b[1;32m--> 462\u001b[1;33m     \u001b[0mparser\u001b[0m \u001b[1;33m=\u001b[0m \u001b[0mTextFileReader\u001b[0m\u001b[1;33m(\u001b[0m\u001b[0mfilepath_or_buffer\u001b[0m\u001b[1;33m,\u001b[0m \u001b[1;33m**\u001b[0m\u001b[0mkwds\u001b[0m\u001b[1;33m)\u001b[0m\u001b[1;33m\u001b[0m\u001b[1;33m\u001b[0m\u001b[0m\n\u001b[0m\u001b[0;32m    463\u001b[0m \u001b[1;33m\u001b[0m\u001b[0m\n\u001b[0;32m    464\u001b[0m     \u001b[1;32mif\u001b[0m \u001b[0mchunksize\u001b[0m \u001b[1;32mor\u001b[0m \u001b[0miterator\u001b[0m\u001b[1;33m:\u001b[0m\u001b[1;33m\u001b[0m\u001b[1;33m\u001b[0m\u001b[0m\n",
      "\u001b[1;32m~\\AppData\\Local\\Programs\\Python\\Python38\\lib\\site-packages\\pandas\\io\\parsers.py\u001b[0m in \u001b[0;36m__init__\u001b[1;34m(self, f, engine, **kwds)\u001b[0m\n\u001b[0;32m    817\u001b[0m             \u001b[0mself\u001b[0m\u001b[1;33m.\u001b[0m\u001b[0moptions\u001b[0m\u001b[1;33m[\u001b[0m\u001b[1;34m\"has_index_names\"\u001b[0m\u001b[1;33m]\u001b[0m \u001b[1;33m=\u001b[0m \u001b[0mkwds\u001b[0m\u001b[1;33m[\u001b[0m\u001b[1;34m\"has_index_names\"\u001b[0m\u001b[1;33m]\u001b[0m\u001b[1;33m\u001b[0m\u001b[1;33m\u001b[0m\u001b[0m\n\u001b[0;32m    818\u001b[0m \u001b[1;33m\u001b[0m\u001b[0m\n\u001b[1;32m--> 819\u001b[1;33m         \u001b[0mself\u001b[0m\u001b[1;33m.\u001b[0m\u001b[0m_engine\u001b[0m \u001b[1;33m=\u001b[0m \u001b[0mself\u001b[0m\u001b[1;33m.\u001b[0m\u001b[0m_make_engine\u001b[0m\u001b[1;33m(\u001b[0m\u001b[0mself\u001b[0m\u001b[1;33m.\u001b[0m\u001b[0mengine\u001b[0m\u001b[1;33m)\u001b[0m\u001b[1;33m\u001b[0m\u001b[1;33m\u001b[0m\u001b[0m\n\u001b[0m\u001b[0;32m    820\u001b[0m \u001b[1;33m\u001b[0m\u001b[0m\n\u001b[0;32m    821\u001b[0m     \u001b[1;32mdef\u001b[0m \u001b[0mclose\u001b[0m\u001b[1;33m(\u001b[0m\u001b[0mself\u001b[0m\u001b[1;33m)\u001b[0m\u001b[1;33m:\u001b[0m\u001b[1;33m\u001b[0m\u001b[1;33m\u001b[0m\u001b[0m\n",
      "\u001b[1;32m~\\AppData\\Local\\Programs\\Python\\Python38\\lib\\site-packages\\pandas\\io\\parsers.py\u001b[0m in \u001b[0;36m_make_engine\u001b[1;34m(self, engine)\u001b[0m\n\u001b[0;32m   1048\u001b[0m             )\n\u001b[0;32m   1049\u001b[0m         \u001b[1;31m# error: Too many arguments for \"ParserBase\"\u001b[0m\u001b[1;33m\u001b[0m\u001b[1;33m\u001b[0m\u001b[1;33m\u001b[0m\u001b[0m\n\u001b[1;32m-> 1050\u001b[1;33m         \u001b[1;32mreturn\u001b[0m \u001b[0mmapping\u001b[0m\u001b[1;33m[\u001b[0m\u001b[0mengine\u001b[0m\u001b[1;33m]\u001b[0m\u001b[1;33m(\u001b[0m\u001b[0mself\u001b[0m\u001b[1;33m.\u001b[0m\u001b[0mf\u001b[0m\u001b[1;33m,\u001b[0m \u001b[1;33m**\u001b[0m\u001b[0mself\u001b[0m\u001b[1;33m.\u001b[0m\u001b[0moptions\u001b[0m\u001b[1;33m)\u001b[0m  \u001b[1;31m# type: ignore[call-arg]\u001b[0m\u001b[1;33m\u001b[0m\u001b[1;33m\u001b[0m\u001b[0m\n\u001b[0m\u001b[0;32m   1051\u001b[0m \u001b[1;33m\u001b[0m\u001b[0m\n\u001b[0;32m   1052\u001b[0m     \u001b[1;32mdef\u001b[0m \u001b[0m_failover_to_python\u001b[0m\u001b[1;33m(\u001b[0m\u001b[0mself\u001b[0m\u001b[1;33m)\u001b[0m\u001b[1;33m:\u001b[0m\u001b[1;33m\u001b[0m\u001b[1;33m\u001b[0m\u001b[0m\n",
      "\u001b[1;32m~\\AppData\\Local\\Programs\\Python\\Python38\\lib\\site-packages\\pandas\\io\\parsers.py\u001b[0m in \u001b[0;36m__init__\u001b[1;34m(self, src, **kwds)\u001b[0m\n\u001b[0;32m   1865\u001b[0m \u001b[1;33m\u001b[0m\u001b[0m\n\u001b[0;32m   1866\u001b[0m         \u001b[1;31m# open handles\u001b[0m\u001b[1;33m\u001b[0m\u001b[1;33m\u001b[0m\u001b[1;33m\u001b[0m\u001b[0m\n\u001b[1;32m-> 1867\u001b[1;33m         \u001b[0mself\u001b[0m\u001b[1;33m.\u001b[0m\u001b[0m_open_handles\u001b[0m\u001b[1;33m(\u001b[0m\u001b[0msrc\u001b[0m\u001b[1;33m,\u001b[0m \u001b[0mkwds\u001b[0m\u001b[1;33m)\u001b[0m\u001b[1;33m\u001b[0m\u001b[1;33m\u001b[0m\u001b[0m\n\u001b[0m\u001b[0;32m   1868\u001b[0m         \u001b[1;32massert\u001b[0m \u001b[0mself\u001b[0m\u001b[1;33m.\u001b[0m\u001b[0mhandles\u001b[0m \u001b[1;32mis\u001b[0m \u001b[1;32mnot\u001b[0m \u001b[1;32mNone\u001b[0m\u001b[1;33m\u001b[0m\u001b[1;33m\u001b[0m\u001b[0m\n\u001b[0;32m   1869\u001b[0m         \u001b[1;32mfor\u001b[0m \u001b[0mkey\u001b[0m \u001b[1;32min\u001b[0m \u001b[1;33m(\u001b[0m\u001b[1;34m\"storage_options\"\u001b[0m\u001b[1;33m,\u001b[0m \u001b[1;34m\"encoding\"\u001b[0m\u001b[1;33m,\u001b[0m \u001b[1;34m\"memory_map\"\u001b[0m\u001b[1;33m,\u001b[0m \u001b[1;34m\"compression\"\u001b[0m\u001b[1;33m)\u001b[0m\u001b[1;33m:\u001b[0m\u001b[1;33m\u001b[0m\u001b[1;33m\u001b[0m\u001b[0m\n",
      "\u001b[1;32m~\\AppData\\Local\\Programs\\Python\\Python38\\lib\\site-packages\\pandas\\io\\parsers.py\u001b[0m in \u001b[0;36m_open_handles\u001b[1;34m(self, src, kwds)\u001b[0m\n\u001b[0;32m   1360\u001b[0m         \u001b[0mLet\u001b[0m \u001b[0mthe\u001b[0m \u001b[0mreaders\u001b[0m \u001b[0mopen\u001b[0m \u001b[0mIOHanldes\u001b[0m \u001b[0mafter\u001b[0m \u001b[0mthey\u001b[0m \u001b[0mare\u001b[0m \u001b[0mdone\u001b[0m \u001b[1;32mwith\u001b[0m \u001b[0mtheir\u001b[0m \u001b[0mpotential\u001b[0m \u001b[0mraises\u001b[0m\u001b[1;33m.\u001b[0m\u001b[1;33m\u001b[0m\u001b[1;33m\u001b[0m\u001b[0m\n\u001b[0;32m   1361\u001b[0m         \"\"\"\n\u001b[1;32m-> 1362\u001b[1;33m         self.handles = get_handle(\n\u001b[0m\u001b[0;32m   1363\u001b[0m             \u001b[0msrc\u001b[0m\u001b[1;33m,\u001b[0m\u001b[1;33m\u001b[0m\u001b[1;33m\u001b[0m\u001b[0m\n\u001b[0;32m   1364\u001b[0m             \u001b[1;34m\"r\"\u001b[0m\u001b[1;33m,\u001b[0m\u001b[1;33m\u001b[0m\u001b[1;33m\u001b[0m\u001b[0m\n",
      "\u001b[1;32m~\\AppData\\Local\\Programs\\Python\\Python38\\lib\\site-packages\\pandas\\io\\common.py\u001b[0m in \u001b[0;36mget_handle\u001b[1;34m(path_or_buf, mode, encoding, compression, memory_map, is_text, errors, storage_options)\u001b[0m\n\u001b[0;32m    640\u001b[0m                 \u001b[0merrors\u001b[0m \u001b[1;33m=\u001b[0m \u001b[1;34m\"replace\"\u001b[0m\u001b[1;33m\u001b[0m\u001b[1;33m\u001b[0m\u001b[0m\n\u001b[0;32m    641\u001b[0m             \u001b[1;31m# Encoding\u001b[0m\u001b[1;33m\u001b[0m\u001b[1;33m\u001b[0m\u001b[1;33m\u001b[0m\u001b[0m\n\u001b[1;32m--> 642\u001b[1;33m             handle = open(\n\u001b[0m\u001b[0;32m    643\u001b[0m                 \u001b[0mhandle\u001b[0m\u001b[1;33m,\u001b[0m\u001b[1;33m\u001b[0m\u001b[1;33m\u001b[0m\u001b[0m\n\u001b[0;32m    644\u001b[0m                 \u001b[0mioargs\u001b[0m\u001b[1;33m.\u001b[0m\u001b[0mmode\u001b[0m\u001b[1;33m,\u001b[0m\u001b[1;33m\u001b[0m\u001b[1;33m\u001b[0m\u001b[0m\n",
      "\u001b[1;31mOSError\u001b[0m: [Errno 22] Invalid argument: 'd:\\\\Academic\\\\Third Year 2nd sem\\\\Data Mining\\\\covid19-public\\\\dataset\\tests_state.csv'"
     ]
    }
   ],
   "metadata": {}
  },
  {
   "cell_type": "code",
   "execution_count": null,
   "source": [
    "states_tests_df.info()"
   ],
   "outputs": [],
   "metadata": {}
  },
  {
   "cell_type": "code",
   "execution_count": null,
   "source": [
    "states_tests_df.describe()"
   ],
   "outputs": [],
   "metadata": {}
  },
  {
   "cell_type": "code",
   "execution_count": null,
   "source": [
    "missing_values_df = states_tests_df.isna().sum().to_frame()\r\n",
    "missing_values_df.rename(columns = {0:'Count of Missing Values'}, inplace=True)\r\n",
    "missing_values_df"
   ],
   "outputs": [],
   "metadata": {}
  },
  {
   "cell_type": "markdown",
   "source": [
    "##### Identify Missing Value\n",
    "</p> Visualize the number of missing values as a bar chart"
   ],
   "metadata": {}
  },
  {
   "cell_type": "code",
   "execution_count": null,
   "source": [
    "missing_values = malaysia_tests_df.isnull().sum() / len(malaysia_tests_df)\r\n",
    "missing_values = missing_values[missing_values > 0]\r\n",
    "missing_values.sort_values(inplace=True)\r\n",
    "missing_values = missing_values.to_frame()\r\n",
    "missing_values.columns = ['Count of Missing Values']\r\n",
    "missing_values.index.names = ['Name']\r\n",
    "missing_values['Column Name'] = malaysia_tests_df.columns\r\n",
    "\r\n",
    "sns.set(style=\"whitegrid\", color_codes=True)\r\n",
    "sns.barplot(x = 'Column Name', y = 'Count of Missing Values', data=missing_values)\r\n",
    "plt.xticks(rotation = 90)\r\n",
    "plt.show()"
   ],
   "outputs": [],
   "metadata": {}
  },
  {
   "cell_type": "markdown",
   "source": [
    "##### Identify Outliers\n",
    "</p> Visualize the data using box plot, check the distribution of data and outliers"
   ],
   "metadata": {}
  },
  {
   "cell_type": "code",
   "execution_count": null,
   "source": [
    "fig, axes = plt.subplots(1, 3, figsize=(15, 5), sharey=True)\r\n",
    "# fig.suptitle('Outliers Visualization')\r\n",
    "plt.subplots_adjust(left=None, bottom= 0.1, right=None, top=0.5, wspace=0.2, hspace=0.6)\r\n",
    "\r\n",
    "sns.boxplot(data=states_tests_df, x = states_tests_df[\"rtk-ag\"],ax=axes[0])\r\n",
    "axes[0].set_title('rtk-ag')\r\n",
    "\r\n",
    "sns.boxplot(data=states_tests_df,x = states_tests_df[\"pcr\"],ax=axes[1])\r\n",
    "axes[1].set_title('pcr')"
   ],
   "outputs": [],
   "metadata": {}
  },
  {
   "cell_type": "markdown",
   "source": [
    "### Exploratory Data Analysis for PKRC Dataset"
   ],
   "metadata": {}
  },
  {
   "cell_type": "code",
   "execution_count": 44,
   "source": [
    "pkrc_df = pd.read_csv(pkrc_dir)\r\n",
    "after_start_date = pkrc_df[\"date\"] >= start_date\r\n",
    "before_end_date = pkrc_df[\"date\"] <= end_date\r\n",
    "between_two_dates = after_start_date & before_end_date\r\n",
    "pkrc_df = pkrc_df.loc[between_two_dates]\r\n",
    "pkrc_df.head()"
   ],
   "outputs": [
    {
     "output_type": "execute_result",
     "data": {
      "text/html": [
       "<div>\n",
       "<style scoped>\n",
       "    .dataframe tbody tr th:only-of-type {\n",
       "        vertical-align: middle;\n",
       "    }\n",
       "\n",
       "    .dataframe tbody tr th {\n",
       "        vertical-align: top;\n",
       "    }\n",
       "\n",
       "    .dataframe thead th {\n",
       "        text-align: right;\n",
       "    }\n",
       "</style>\n",
       "<table border=\"1\" class=\"dataframe\">\n",
       "  <thead>\n",
       "    <tr style=\"text-align: right;\">\n",
       "      <th></th>\n",
       "      <th>date</th>\n",
       "      <th>state</th>\n",
       "      <th>beds</th>\n",
       "      <th>admitted_pui</th>\n",
       "      <th>admitted_covid</th>\n",
       "      <th>admitted_total</th>\n",
       "      <th>discharge_pui</th>\n",
       "      <th>discharge_covid</th>\n",
       "      <th>discharge_total</th>\n",
       "      <th>pkrc_covid</th>\n",
       "      <th>pkrc_pui</th>\n",
       "      <th>pkrc_noncovid</th>\n",
       "    </tr>\n",
       "  </thead>\n",
       "  <tbody>\n",
       "    <tr>\n",
       "      <th>5163</th>\n",
       "      <td>2021-07-01</td>\n",
       "      <td>Johor</td>\n",
       "      <td>2321</td>\n",
       "      <td>0</td>\n",
       "      <td>103</td>\n",
       "      <td>103</td>\n",
       "      <td>0</td>\n",
       "      <td>152</td>\n",
       "      <td>152</td>\n",
       "      <td>964</td>\n",
       "      <td>0</td>\n",
       "      <td>0</td>\n",
       "    </tr>\n",
       "    <tr>\n",
       "      <th>5164</th>\n",
       "      <td>2021-07-01</td>\n",
       "      <td>Kedah</td>\n",
       "      <td>540</td>\n",
       "      <td>0</td>\n",
       "      <td>71</td>\n",
       "      <td>71</td>\n",
       "      <td>0</td>\n",
       "      <td>55</td>\n",
       "      <td>55</td>\n",
       "      <td>348</td>\n",
       "      <td>0</td>\n",
       "      <td>0</td>\n",
       "    </tr>\n",
       "    <tr>\n",
       "      <th>5165</th>\n",
       "      <td>2021-07-01</td>\n",
       "      <td>Kelantan</td>\n",
       "      <td>2763</td>\n",
       "      <td>11</td>\n",
       "      <td>96</td>\n",
       "      <td>107</td>\n",
       "      <td>9</td>\n",
       "      <td>133</td>\n",
       "      <td>142</td>\n",
       "      <td>638</td>\n",
       "      <td>73</td>\n",
       "      <td>0</td>\n",
       "    </tr>\n",
       "    <tr>\n",
       "      <th>5166</th>\n",
       "      <td>2021-07-01</td>\n",
       "      <td>Melaka</td>\n",
       "      <td>1662</td>\n",
       "      <td>0</td>\n",
       "      <td>181</td>\n",
       "      <td>181</td>\n",
       "      <td>0</td>\n",
       "      <td>95</td>\n",
       "      <td>95</td>\n",
       "      <td>886</td>\n",
       "      <td>0</td>\n",
       "      <td>0</td>\n",
       "    </tr>\n",
       "    <tr>\n",
       "      <th>5167</th>\n",
       "      <td>2021-07-01</td>\n",
       "      <td>Negeri Sembilan</td>\n",
       "      <td>2395</td>\n",
       "      <td>0</td>\n",
       "      <td>191</td>\n",
       "      <td>191</td>\n",
       "      <td>0</td>\n",
       "      <td>98</td>\n",
       "      <td>98</td>\n",
       "      <td>1248</td>\n",
       "      <td>0</td>\n",
       "      <td>0</td>\n",
       "    </tr>\n",
       "  </tbody>\n",
       "</table>\n",
       "</div>"
      ],
      "text/plain": [
       "            date            state  beds  admitted_pui  admitted_covid  \\\n",
       "5163  2021-07-01            Johor  2321             0             103   \n",
       "5164  2021-07-01            Kedah   540             0              71   \n",
       "5165  2021-07-01         Kelantan  2763            11              96   \n",
       "5166  2021-07-01           Melaka  1662             0             181   \n",
       "5167  2021-07-01  Negeri Sembilan  2395             0             191   \n",
       "\n",
       "      admitted_total  discharge_pui  discharge_covid  discharge_total  \\\n",
       "5163             103              0              152              152   \n",
       "5164              71              0               55               55   \n",
       "5165             107              9              133              142   \n",
       "5166             181              0               95               95   \n",
       "5167             191              0               98               98   \n",
       "\n",
       "      pkrc_covid  pkrc_pui  pkrc_noncovid  \n",
       "5163         964         0              0  \n",
       "5164         348         0              0  \n",
       "5165         638        73              0  \n",
       "5166         886         0              0  \n",
       "5167        1248         0              0  "
      ]
     },
     "metadata": {},
     "execution_count": 44
    }
   ],
   "metadata": {}
  },
  {
   "cell_type": "code",
   "execution_count": 45,
   "source": [
    "pkrc_df.info()"
   ],
   "outputs": [
    {
     "output_type": "stream",
     "name": "stdout",
     "text": [
      "<class 'pandas.core.frame.DataFrame'>\n",
      "Int64Index: 868 entries, 5163 to 6030\n",
      "Data columns (total 12 columns):\n",
      " #   Column           Non-Null Count  Dtype \n",
      "---  ------           --------------  ----- \n",
      " 0   date             868 non-null    object\n",
      " 1   state            868 non-null    object\n",
      " 2   beds             868 non-null    int64 \n",
      " 3   admitted_pui     868 non-null    int64 \n",
      " 4   admitted_covid   868 non-null    int64 \n",
      " 5   admitted_total   868 non-null    int64 \n",
      " 6   discharge_pui    868 non-null    int64 \n",
      " 7   discharge_covid  868 non-null    int64 \n",
      " 8   discharge_total  868 non-null    int64 \n",
      " 9   pkrc_covid       868 non-null    int64 \n",
      " 10  pkrc_pui         868 non-null    int64 \n",
      " 11  pkrc_noncovid    868 non-null    int64 \n",
      "dtypes: int64(10), object(2)\n",
      "memory usage: 88.2+ KB\n"
     ]
    }
   ],
   "metadata": {}
  },
  {
   "cell_type": "code",
   "execution_count": 46,
   "source": [
    "pkrc_df.describe()"
   ],
   "outputs": [
    {
     "output_type": "execute_result",
     "data": {
      "text/html": [
       "<div>\n",
       "<style scoped>\n",
       "    .dataframe tbody tr th:only-of-type {\n",
       "        vertical-align: middle;\n",
       "    }\n",
       "\n",
       "    .dataframe tbody tr th {\n",
       "        vertical-align: top;\n",
       "    }\n",
       "\n",
       "    .dataframe thead th {\n",
       "        text-align: right;\n",
       "    }\n",
       "</style>\n",
       "<table border=\"1\" class=\"dataframe\">\n",
       "  <thead>\n",
       "    <tr style=\"text-align: right;\">\n",
       "      <th></th>\n",
       "      <th>beds</th>\n",
       "      <th>admitted_pui</th>\n",
       "      <th>admitted_covid</th>\n",
       "      <th>admitted_total</th>\n",
       "      <th>discharge_pui</th>\n",
       "      <th>discharge_covid</th>\n",
       "      <th>discharge_total</th>\n",
       "      <th>pkrc_covid</th>\n",
       "      <th>pkrc_pui</th>\n",
       "      <th>pkrc_noncovid</th>\n",
       "    </tr>\n",
       "  </thead>\n",
       "  <tbody>\n",
       "    <tr>\n",
       "      <th>count</th>\n",
       "      <td>868.000000</td>\n",
       "      <td>868.000000</td>\n",
       "      <td>868.000000</td>\n",
       "      <td>868.000000</td>\n",
       "      <td>868.000000</td>\n",
       "      <td>868.000000</td>\n",
       "      <td>868.000000</td>\n",
       "      <td>868.000000</td>\n",
       "      <td>868.000000</td>\n",
       "      <td>868.000000</td>\n",
       "    </tr>\n",
       "    <tr>\n",
       "      <th>mean</th>\n",
       "      <td>2615.232719</td>\n",
       "      <td>6.188940</td>\n",
       "      <td>193.182028</td>\n",
       "      <td>199.370968</td>\n",
       "      <td>4.858295</td>\n",
       "      <td>176.866359</td>\n",
       "      <td>181.724654</td>\n",
       "      <td>1417.392857</td>\n",
       "      <td>53.918203</td>\n",
       "      <td>14.052995</td>\n",
       "    </tr>\n",
       "    <tr>\n",
       "      <th>std</th>\n",
       "      <td>1999.143695</td>\n",
       "      <td>13.886881</td>\n",
       "      <td>170.680034</td>\n",
       "      <td>175.043789</td>\n",
       "      <td>13.741961</td>\n",
       "      <td>171.242991</td>\n",
       "      <td>173.891869</td>\n",
       "      <td>1139.694369</td>\n",
       "      <td>103.075605</td>\n",
       "      <td>60.242910</td>\n",
       "    </tr>\n",
       "    <tr>\n",
       "      <th>min</th>\n",
       "      <td>168.000000</td>\n",
       "      <td>0.000000</td>\n",
       "      <td>0.000000</td>\n",
       "      <td>0.000000</td>\n",
       "      <td>0.000000</td>\n",
       "      <td>0.000000</td>\n",
       "      <td>0.000000</td>\n",
       "      <td>0.000000</td>\n",
       "      <td>0.000000</td>\n",
       "      <td>0.000000</td>\n",
       "    </tr>\n",
       "    <tr>\n",
       "      <th>25%</th>\n",
       "      <td>1290.750000</td>\n",
       "      <td>0.000000</td>\n",
       "      <td>70.000000</td>\n",
       "      <td>72.000000</td>\n",
       "      <td>0.000000</td>\n",
       "      <td>52.750000</td>\n",
       "      <td>54.000000</td>\n",
       "      <td>469.250000</td>\n",
       "      <td>0.000000</td>\n",
       "      <td>0.000000</td>\n",
       "    </tr>\n",
       "    <tr>\n",
       "      <th>50%</th>\n",
       "      <td>2104.000000</td>\n",
       "      <td>0.000000</td>\n",
       "      <td>151.000000</td>\n",
       "      <td>153.000000</td>\n",
       "      <td>0.000000</td>\n",
       "      <td>127.500000</td>\n",
       "      <td>131.000000</td>\n",
       "      <td>1030.000000</td>\n",
       "      <td>6.000000</td>\n",
       "      <td>0.000000</td>\n",
       "    </tr>\n",
       "    <tr>\n",
       "      <th>75%</th>\n",
       "      <td>3261.000000</td>\n",
       "      <td>6.000000</td>\n",
       "      <td>275.750000</td>\n",
       "      <td>288.500000</td>\n",
       "      <td>4.000000</td>\n",
       "      <td>263.000000</td>\n",
       "      <td>275.750000</td>\n",
       "      <td>2315.250000</td>\n",
       "      <td>56.000000</td>\n",
       "      <td>0.000000</td>\n",
       "    </tr>\n",
       "    <tr>\n",
       "      <th>max</th>\n",
       "      <td>8696.000000</td>\n",
       "      <td>168.000000</td>\n",
       "      <td>1187.000000</td>\n",
       "      <td>1207.000000</td>\n",
       "      <td>180.000000</td>\n",
       "      <td>1077.000000</td>\n",
       "      <td>1077.000000</td>\n",
       "      <td>5476.000000</td>\n",
       "      <td>729.000000</td>\n",
       "      <td>1255.000000</td>\n",
       "    </tr>\n",
       "  </tbody>\n",
       "</table>\n",
       "</div>"
      ],
      "text/plain": [
       "              beds  admitted_pui  admitted_covid  admitted_total  \\\n",
       "count   868.000000    868.000000      868.000000      868.000000   \n",
       "mean   2615.232719      6.188940      193.182028      199.370968   \n",
       "std    1999.143695     13.886881      170.680034      175.043789   \n",
       "min     168.000000      0.000000        0.000000        0.000000   \n",
       "25%    1290.750000      0.000000       70.000000       72.000000   \n",
       "50%    2104.000000      0.000000      151.000000      153.000000   \n",
       "75%    3261.000000      6.000000      275.750000      288.500000   \n",
       "max    8696.000000    168.000000     1187.000000     1207.000000   \n",
       "\n",
       "       discharge_pui  discharge_covid  discharge_total   pkrc_covid  \\\n",
       "count     868.000000       868.000000       868.000000   868.000000   \n",
       "mean        4.858295       176.866359       181.724654  1417.392857   \n",
       "std        13.741961       171.242991       173.891869  1139.694369   \n",
       "min         0.000000         0.000000         0.000000     0.000000   \n",
       "25%         0.000000        52.750000        54.000000   469.250000   \n",
       "50%         0.000000       127.500000       131.000000  1030.000000   \n",
       "75%         4.000000       263.000000       275.750000  2315.250000   \n",
       "max       180.000000      1077.000000      1077.000000  5476.000000   \n",
       "\n",
       "         pkrc_pui  pkrc_noncovid  \n",
       "count  868.000000     868.000000  \n",
       "mean    53.918203      14.052995  \n",
       "std    103.075605      60.242910  \n",
       "min      0.000000       0.000000  \n",
       "25%      0.000000       0.000000  \n",
       "50%      6.000000       0.000000  \n",
       "75%     56.000000       0.000000  \n",
       "max    729.000000    1255.000000  "
      ]
     },
     "metadata": {},
     "execution_count": 46
    }
   ],
   "metadata": {}
  },
  {
   "cell_type": "code",
   "execution_count": 48,
   "source": [
    "missing_values_df = pkrc_df.isna().sum().to_frame()\r\n",
    "missing_values_df.rename(columns = {0:'Count of Missing Values'}, inplace=True)\r\n",
    "missing_values_df"
   ],
   "outputs": [
    {
     "output_type": "execute_result",
     "data": {
      "text/html": [
       "<div>\n",
       "<style scoped>\n",
       "    .dataframe tbody tr th:only-of-type {\n",
       "        vertical-align: middle;\n",
       "    }\n",
       "\n",
       "    .dataframe tbody tr th {\n",
       "        vertical-align: top;\n",
       "    }\n",
       "\n",
       "    .dataframe thead th {\n",
       "        text-align: right;\n",
       "    }\n",
       "</style>\n",
       "<table border=\"1\" class=\"dataframe\">\n",
       "  <thead>\n",
       "    <tr style=\"text-align: right;\">\n",
       "      <th></th>\n",
       "      <th>Count of Missing Values</th>\n",
       "    </tr>\n",
       "  </thead>\n",
       "  <tbody>\n",
       "    <tr>\n",
       "      <th>date</th>\n",
       "      <td>0</td>\n",
       "    </tr>\n",
       "    <tr>\n",
       "      <th>state</th>\n",
       "      <td>0</td>\n",
       "    </tr>\n",
       "    <tr>\n",
       "      <th>beds</th>\n",
       "      <td>0</td>\n",
       "    </tr>\n",
       "    <tr>\n",
       "      <th>admitted_pui</th>\n",
       "      <td>0</td>\n",
       "    </tr>\n",
       "    <tr>\n",
       "      <th>admitted_covid</th>\n",
       "      <td>0</td>\n",
       "    </tr>\n",
       "    <tr>\n",
       "      <th>admitted_total</th>\n",
       "      <td>0</td>\n",
       "    </tr>\n",
       "    <tr>\n",
       "      <th>discharge_pui</th>\n",
       "      <td>0</td>\n",
       "    </tr>\n",
       "    <tr>\n",
       "      <th>discharge_covid</th>\n",
       "      <td>0</td>\n",
       "    </tr>\n",
       "    <tr>\n",
       "      <th>discharge_total</th>\n",
       "      <td>0</td>\n",
       "    </tr>\n",
       "    <tr>\n",
       "      <th>pkrc_covid</th>\n",
       "      <td>0</td>\n",
       "    </tr>\n",
       "    <tr>\n",
       "      <th>pkrc_pui</th>\n",
       "      <td>0</td>\n",
       "    </tr>\n",
       "    <tr>\n",
       "      <th>pkrc_noncovid</th>\n",
       "      <td>0</td>\n",
       "    </tr>\n",
       "  </tbody>\n",
       "</table>\n",
       "</div>"
      ],
      "text/plain": [
       "                 Count of Missing Values\n",
       "date                                   0\n",
       "state                                  0\n",
       "beds                                   0\n",
       "admitted_pui                           0\n",
       "admitted_covid                         0\n",
       "admitted_total                         0\n",
       "discharge_pui                          0\n",
       "discharge_covid                        0\n",
       "discharge_total                        0\n",
       "pkrc_covid                             0\n",
       "pkrc_pui                               0\n",
       "pkrc_noncovid                          0"
      ]
     },
     "metadata": {},
     "execution_count": 48
    }
   ],
   "metadata": {}
  },
  {
   "cell_type": "markdown",
   "source": [
    "##### Identify Missing Value\n",
    "</p> Visualize the number of missing values as a bar chart"
   ],
   "metadata": {}
  },
  {
   "cell_type": "code",
   "execution_count": 49,
   "source": [
    "missing_values = pkrc_df.isnull().sum() / len(pkrc_df)\r\n",
    "missing_values = missing_values[missing_values > 0]\r\n",
    "missing_values.sort_values(inplace=True)\r\n",
    "missing_values = missing_values.to_frame()\r\n",
    "missing_values.columns = ['Count of Missing Values']\r\n",
    "missing_values.index.names = ['Name']\r\n",
    "missing_values['Column Name'] = pkrc_df.columns\r\n",
    "\r\n",
    "sns.set(style=\"whitegrid\", color_codes=True)\r\n",
    "sns.barplot(x = 'Column Name', y = 'Count of Missing Values', data=missing_values)\r\n",
    "plt.xticks(rotation = 90)\r\n",
    "plt.show()"
   ],
   "outputs": [
    {
     "output_type": "display_data",
     "data": {
      "image/png": "[encoded data removed]",
      "text/plain": [
       "<Figure size 432x288 with 1 Axes>"
      ]
     },
     "metadata": {}
    }
   ],
   "metadata": {}
  },
  {
   "cell_type": "markdown",
   "source": [
    "##### Identify Outliers\n",
    "</p> Visualize the data using box plot, check the distribution of data and outliers"
   ],
   "metadata": {}
  },
  {
   "cell_type": "code",
   "execution_count": null,
   "source": [
    "fig, axes = plt.subplots(4, 3, figsize=(15, 5), sharey=True)\r\n",
    "# fig.suptitle('Outliers Visualization')\r\n",
    "plt.subplots_adjust(left=None, bottom= 0.1, right=None, top=2, wspace=0.2, hspace=0.6)\r\n",
    "\r\n",
    "sns.boxplot(data=pkrc_df, x = pkrc_df[\"beds\"],ax=axes[0][0])\r\n",
    "axes[0][0].set_title('beds')\r\n",
    "sns.boxplot(data=pkrc_df,x = pkrc_df[\"admitted_pui\"],ax=axes[0][1])\r\n",
    "axes[0][1].set_title('admitted_pui')\r\n",
    "sns.boxplot(data=pkrc_df, x = pkrc_df[\"admitted_covid\"],ax=axes[0][2])\r\n",
    "axes[0][2].set_title(\"admitted_covid\")\r\n",
    "sns.boxplot(data=pkrc_df,x = pkrc_df[\"admitted_total\"],ax=axes[1][0])\r\n",
    "axes[1][0].set_title('admitted_total')\r\n",
    "sns.boxplot(data=pkrc_df, x = pkrc_df[\"discharge_pui\"],ax=axes[1][1])\r\n",
    "axes[1][1].set_title('discharge_pui')\r\n",
    "sns.boxplot(data=pkrc_df,x = pkrc_df[\"discharge_covid\"],ax=axes[1][2])\r\n",
    "axes[1][2].set_title('discharge_covid')\r\n",
    "sns.boxplot(data=pkrc_df, x = pkrc_df[\"discharge_total\"],ax=axes[2][0])\r\n",
    "axes[2][0].set_title('discharge_total')\r\n",
    "sns.boxplot(data=pkrc_df,x = pkrc_df[\"pkrc_covid\"],ax=axes[2][1])\r\n",
    "axes[2][1].set_title('pkrc_covid')\r\n",
    "sns.boxplot(data=pkrc_df, x = pkrc_df[\"pkrc_pui\"],ax=axes[2][2])\r\n",
    "axes[2][2].set_title('pkrc_pui')\r\n",
    "sns.boxplot(data=pkrc_df,x = pkrc_df[\"pkrc_noncovid\"],ax=axes[3][0])\r\n",
    "axes[3][0].set_title('pkrc_noncovid')"
   ],
   "outputs": [],
   "metadata": {}
  },
  {
   "cell_type": "markdown",
   "source": [
    "### Exploratory Data Analaysis for Mysejahtera CheckIn Dataset"
   ],
   "metadata": {}
  },
  {
   "cell_type": "code",
   "execution_count": 50,
   "source": [
    "checkIn_df = pd.read_csv(checkIn_dir)\r\n",
    "after_start_date = checkIn_df[\"date\"] >= start_date\r\n",
    "before_end_date = checkIn_df[\"date\"] <= end_date\r\n",
    "between_two_dates = after_start_date & before_end_date\r\n",
    "checkIn_df = checkIn_df.loc[between_two_dates]\r\n",
    "checkIn_df.head()"
   ],
   "outputs": [
    {
     "output_type": "error",
     "ename": "FileNotFoundError",
     "evalue": "[Errno 2] No such file or directory: 'd:\\\\Academic\\\\Third Year 2nd sem\\\\Data Mining\\\\covid19-public\\\\dataset\\\\covid19-public/mysejahtera/checkin_state.csv'",
     "traceback": [
      "\u001b[1;31m---------------------------------------------------------------------------\u001b[0m",
      "\u001b[1;31mFileNotFoundError\u001b[0m                         Traceback (most recent call last)",
      "\u001b[1;32m<ipython-input-50-d00744dd0cf0>\u001b[0m in \u001b[0;36m<module>\u001b[1;34m\u001b[0m\n\u001b[1;32m----> 1\u001b[1;33m \u001b[0mcheckIn_df\u001b[0m \u001b[1;33m=\u001b[0m \u001b[0mpd\u001b[0m\u001b[1;33m.\u001b[0m\u001b[0mread_csv\u001b[0m\u001b[1;33m(\u001b[0m\u001b[0mcheckIn_dir\u001b[0m\u001b[1;33m)\u001b[0m\u001b[1;33m\u001b[0m\u001b[1;33m\u001b[0m\u001b[0m\n\u001b[0m\u001b[0;32m      2\u001b[0m \u001b[0mafter_start_date\u001b[0m \u001b[1;33m=\u001b[0m \u001b[0mcheckIn_df\u001b[0m\u001b[1;33m[\u001b[0m\u001b[1;34m\"date\"\u001b[0m\u001b[1;33m]\u001b[0m \u001b[1;33m>=\u001b[0m \u001b[0mstart_date\u001b[0m\u001b[1;33m\u001b[0m\u001b[1;33m\u001b[0m\u001b[0m\n\u001b[0;32m      3\u001b[0m \u001b[0mbefore_end_date\u001b[0m \u001b[1;33m=\u001b[0m \u001b[0mcheckIn_df\u001b[0m\u001b[1;33m[\u001b[0m\u001b[1;34m\"date\"\u001b[0m\u001b[1;33m]\u001b[0m \u001b[1;33m<=\u001b[0m \u001b[0mend_date\u001b[0m\u001b[1;33m\u001b[0m\u001b[1;33m\u001b[0m\u001b[0m\n\u001b[0;32m      4\u001b[0m \u001b[0mbetween_two_dates\u001b[0m \u001b[1;33m=\u001b[0m \u001b[0mafter_start_date\u001b[0m \u001b[1;33m&\u001b[0m \u001b[0mbefore_end_date\u001b[0m\u001b[1;33m\u001b[0m\u001b[1;33m\u001b[0m\u001b[0m\n\u001b[0;32m      5\u001b[0m \u001b[0mcheckIn_df\u001b[0m \u001b[1;33m=\u001b[0m \u001b[0mcheckIn_df\u001b[0m\u001b[1;33m.\u001b[0m\u001b[0mloc\u001b[0m\u001b[1;33m[\u001b[0m\u001b[0mbetween_two_dates\u001b[0m\u001b[1;33m]\u001b[0m\u001b[1;33m\u001b[0m\u001b[1;33m\u001b[0m\u001b[0m\n",
      "\u001b[1;32m~\\AppData\\Local\\Programs\\Python\\Python38\\lib\\site-packages\\pandas\\io\\parsers.py\u001b[0m in \u001b[0;36mread_csv\u001b[1;34m(filepath_or_buffer, sep, delimiter, header, names, index_col, usecols, squeeze, prefix, mangle_dupe_cols, dtype, engine, converters, true_values, false_values, skipinitialspace, skiprows, skipfooter, nrows, na_values, keep_default_na, na_filter, verbose, skip_blank_lines, parse_dates, infer_datetime_format, keep_date_col, date_parser, dayfirst, cache_dates, iterator, chunksize, compression, thousands, decimal, lineterminator, quotechar, quoting, doublequote, escapechar, comment, encoding, dialect, error_bad_lines, warn_bad_lines, delim_whitespace, low_memory, memory_map, float_precision, storage_options)\u001b[0m\n\u001b[0;32m    608\u001b[0m     \u001b[0mkwds\u001b[0m\u001b[1;33m.\u001b[0m\u001b[0mupdate\u001b[0m\u001b[1;33m(\u001b[0m\u001b[0mkwds_defaults\u001b[0m\u001b[1;33m)\u001b[0m\u001b[1;33m\u001b[0m\u001b[1;33m\u001b[0m\u001b[0m\n\u001b[0;32m    609\u001b[0m \u001b[1;33m\u001b[0m\u001b[0m\n\u001b[1;32m--> 610\u001b[1;33m     \u001b[1;32mreturn\u001b[0m \u001b[0m_read\u001b[0m\u001b[1;33m(\u001b[0m\u001b[0mfilepath_or_buffer\u001b[0m\u001b[1;33m,\u001b[0m \u001b[0mkwds\u001b[0m\u001b[1;33m)\u001b[0m\u001b[1;33m\u001b[0m\u001b[1;33m\u001b[0m\u001b[0m\n\u001b[0m\u001b[0;32m    611\u001b[0m \u001b[1;33m\u001b[0m\u001b[0m\n\u001b[0;32m    612\u001b[0m \u001b[1;33m\u001b[0m\u001b[0m\n",
      "\u001b[1;32m~\\AppData\\Local\\Programs\\Python\\Python38\\lib\\site-packages\\pandas\\io\\parsers.py\u001b[0m in \u001b[0;36m_read\u001b[1;34m(filepath_or_buffer, kwds)\u001b[0m\n\u001b[0;32m    460\u001b[0m \u001b[1;33m\u001b[0m\u001b[0m\n\u001b[0;32m    461\u001b[0m     \u001b[1;31m# Create the parser.\u001b[0m\u001b[1;33m\u001b[0m\u001b[1;33m\u001b[0m\u001b[1;33m\u001b[0m\u001b[0m\n\u001b[1;32m--> 462\u001b[1;33m     \u001b[0mparser\u001b[0m \u001b[1;33m=\u001b[0m \u001b[0mTextFileReader\u001b[0m\u001b[1;33m(\u001b[0m\u001b[0mfilepath_or_buffer\u001b[0m\u001b[1;33m,\u001b[0m \u001b[1;33m**\u001b[0m\u001b[0mkwds\u001b[0m\u001b[1;33m)\u001b[0m\u001b[1;33m\u001b[0m\u001b[1;33m\u001b[0m\u001b[0m\n\u001b[0m\u001b[0;32m    463\u001b[0m \u001b[1;33m\u001b[0m\u001b[0m\n\u001b[0;32m    464\u001b[0m     \u001b[1;32mif\u001b[0m \u001b[0mchunksize\u001b[0m \u001b[1;32mor\u001b[0m \u001b[0miterator\u001b[0m\u001b[1;33m:\u001b[0m\u001b[1;33m\u001b[0m\u001b[1;33m\u001b[0m\u001b[0m\n",
      "\u001b[1;32m~\\AppData\\Local\\Programs\\Python\\Python38\\lib\\site-packages\\pandas\\io\\parsers.py\u001b[0m in \u001b[0;36m__init__\u001b[1;34m(self, f, engine, **kwds)\u001b[0m\n\u001b[0;32m    817\u001b[0m             \u001b[0mself\u001b[0m\u001b[1;33m.\u001b[0m\u001b[0moptions\u001b[0m\u001b[1;33m[\u001b[0m\u001b[1;34m\"has_index_names\"\u001b[0m\u001b[1;33m]\u001b[0m \u001b[1;33m=\u001b[0m \u001b[0mkwds\u001b[0m\u001b[1;33m[\u001b[0m\u001b[1;34m\"has_index_names\"\u001b[0m\u001b[1;33m]\u001b[0m\u001b[1;33m\u001b[0m\u001b[1;33m\u001b[0m\u001b[0m\n\u001b[0;32m    818\u001b[0m \u001b[1;33m\u001b[0m\u001b[0m\n\u001b[1;32m--> 819\u001b[1;33m         \u001b[0mself\u001b[0m\u001b[1;33m.\u001b[0m\u001b[0m_engine\u001b[0m \u001b[1;33m=\u001b[0m \u001b[0mself\u001b[0m\u001b[1;33m.\u001b[0m\u001b[0m_make_engine\u001b[0m\u001b[1;33m(\u001b[0m\u001b[0mself\u001b[0m\u001b[1;33m.\u001b[0m\u001b[0mengine\u001b[0m\u001b[1;33m)\u001b[0m\u001b[1;33m\u001b[0m\u001b[1;33m\u001b[0m\u001b[0m\n\u001b[0m\u001b[0;32m    820\u001b[0m \u001b[1;33m\u001b[0m\u001b[0m\n\u001b[0;32m    821\u001b[0m     \u001b[1;32mdef\u001b[0m \u001b[0mclose\u001b[0m\u001b[1;33m(\u001b[0m\u001b[0mself\u001b[0m\u001b[1;33m)\u001b[0m\u001b[1;33m:\u001b[0m\u001b[1;33m\u001b[0m\u001b[1;33m\u001b[0m\u001b[0m\n",
      "\u001b[1;32m~\\AppData\\Local\\Programs\\Python\\Python38\\lib\\site-packages\\pandas\\io\\parsers.py\u001b[0m in \u001b[0;36m_make_engine\u001b[1;34m(self, engine)\u001b[0m\n\u001b[0;32m   1048\u001b[0m             )\n\u001b[0;32m   1049\u001b[0m         \u001b[1;31m# error: Too many arguments for \"ParserBase\"\u001b[0m\u001b[1;33m\u001b[0m\u001b[1;33m\u001b[0m\u001b[1;33m\u001b[0m\u001b[0m\n\u001b[1;32m-> 1050\u001b[1;33m         \u001b[1;32mreturn\u001b[0m \u001b[0mmapping\u001b[0m\u001b[1;33m[\u001b[0m\u001b[0mengine\u001b[0m\u001b[1;33m]\u001b[0m\u001b[1;33m(\u001b[0m\u001b[0mself\u001b[0m\u001b[1;33m.\u001b[0m\u001b[0mf\u001b[0m\u001b[1;33m,\u001b[0m \u001b[1;33m**\u001b[0m\u001b[0mself\u001b[0m\u001b[1;33m.\u001b[0m\u001b[0moptions\u001b[0m\u001b[1;33m)\u001b[0m  \u001b[1;31m# type: ignore[call-arg]\u001b[0m\u001b[1;33m\u001b[0m\u001b[1;33m\u001b[0m\u001b[0m\n\u001b[0m\u001b[0;32m   1051\u001b[0m \u001b[1;33m\u001b[0m\u001b[0m\n\u001b[0;32m   1052\u001b[0m     \u001b[1;32mdef\u001b[0m \u001b[0m_failover_to_python\u001b[0m\u001b[1;33m(\u001b[0m\u001b[0mself\u001b[0m\u001b[1;33m)\u001b[0m\u001b[1;33m:\u001b[0m\u001b[1;33m\u001b[0m\u001b[1;33m\u001b[0m\u001b[0m\n",
      "\u001b[1;32m~\\AppData\\Local\\Programs\\Python\\Python38\\lib\\site-packages\\pandas\\io\\parsers.py\u001b[0m in \u001b[0;36m__init__\u001b[1;34m(self, src, **kwds)\u001b[0m\n\u001b[0;32m   1865\u001b[0m \u001b[1;33m\u001b[0m\u001b[0m\n\u001b[0;32m   1866\u001b[0m         \u001b[1;31m# open handles\u001b[0m\u001b[1;33m\u001b[0m\u001b[1;33m\u001b[0m\u001b[1;33m\u001b[0m\u001b[0m\n\u001b[1;32m-> 1867\u001b[1;33m         \u001b[0mself\u001b[0m\u001b[1;33m.\u001b[0m\u001b[0m_open_handles\u001b[0m\u001b[1;33m(\u001b[0m\u001b[0msrc\u001b[0m\u001b[1;33m,\u001b[0m \u001b[0mkwds\u001b[0m\u001b[1;33m)\u001b[0m\u001b[1;33m\u001b[0m\u001b[1;33m\u001b[0m\u001b[0m\n\u001b[0m\u001b[0;32m   1868\u001b[0m         \u001b[1;32massert\u001b[0m \u001b[0mself\u001b[0m\u001b[1;33m.\u001b[0m\u001b[0mhandles\u001b[0m \u001b[1;32mis\u001b[0m \u001b[1;32mnot\u001b[0m \u001b[1;32mNone\u001b[0m\u001b[1;33m\u001b[0m\u001b[1;33m\u001b[0m\u001b[0m\n\u001b[0;32m   1869\u001b[0m         \u001b[1;32mfor\u001b[0m \u001b[0mkey\u001b[0m \u001b[1;32min\u001b[0m \u001b[1;33m(\u001b[0m\u001b[1;34m\"storage_options\"\u001b[0m\u001b[1;33m,\u001b[0m \u001b[1;34m\"encoding\"\u001b[0m\u001b[1;33m,\u001b[0m \u001b[1;34m\"memory_map\"\u001b[0m\u001b[1;33m,\u001b[0m \u001b[1;34m\"compression\"\u001b[0m\u001b[1;33m)\u001b[0m\u001b[1;33m:\u001b[0m\u001b[1;33m\u001b[0m\u001b[1;33m\u001b[0m\u001b[0m\n",
      "\u001b[1;32m~\\AppData\\Local\\Programs\\Python\\Python38\\lib\\site-packages\\pandas\\io\\parsers.py\u001b[0m in \u001b[0;36m_open_handles\u001b[1;34m(self, src, kwds)\u001b[0m\n\u001b[0;32m   1360\u001b[0m         \u001b[0mLet\u001b[0m \u001b[0mthe\u001b[0m \u001b[0mreaders\u001b[0m \u001b[0mopen\u001b[0m \u001b[0mIOHanldes\u001b[0m \u001b[0mafter\u001b[0m \u001b[0mthey\u001b[0m \u001b[0mare\u001b[0m \u001b[0mdone\u001b[0m \u001b[1;32mwith\u001b[0m \u001b[0mtheir\u001b[0m \u001b[0mpotential\u001b[0m \u001b[0mraises\u001b[0m\u001b[1;33m.\u001b[0m\u001b[1;33m\u001b[0m\u001b[1;33m\u001b[0m\u001b[0m\n\u001b[0;32m   1361\u001b[0m         \"\"\"\n\u001b[1;32m-> 1362\u001b[1;33m         self.handles = get_handle(\n\u001b[0m\u001b[0;32m   1363\u001b[0m             \u001b[0msrc\u001b[0m\u001b[1;33m,\u001b[0m\u001b[1;33m\u001b[0m\u001b[1;33m\u001b[0m\u001b[0m\n\u001b[0;32m   1364\u001b[0m             \u001b[1;34m\"r\"\u001b[0m\u001b[1;33m,\u001b[0m\u001b[1;33m\u001b[0m\u001b[1;33m\u001b[0m\u001b[0m\n",
      "\u001b[1;32m~\\AppData\\Local\\Programs\\Python\\Python38\\lib\\site-packages\\pandas\\io\\common.py\u001b[0m in \u001b[0;36mget_handle\u001b[1;34m(path_or_buf, mode, encoding, compression, memory_map, is_text, errors, storage_options)\u001b[0m\n\u001b[0;32m    640\u001b[0m                 \u001b[0merrors\u001b[0m \u001b[1;33m=\u001b[0m \u001b[1;34m\"replace\"\u001b[0m\u001b[1;33m\u001b[0m\u001b[1;33m\u001b[0m\u001b[0m\n\u001b[0;32m    641\u001b[0m             \u001b[1;31m# Encoding\u001b[0m\u001b[1;33m\u001b[0m\u001b[1;33m\u001b[0m\u001b[1;33m\u001b[0m\u001b[0m\n\u001b[1;32m--> 642\u001b[1;33m             handle = open(\n\u001b[0m\u001b[0;32m    643\u001b[0m                 \u001b[0mhandle\u001b[0m\u001b[1;33m,\u001b[0m\u001b[1;33m\u001b[0m\u001b[1;33m\u001b[0m\u001b[0m\n\u001b[0;32m    644\u001b[0m                 \u001b[0mioargs\u001b[0m\u001b[1;33m.\u001b[0m\u001b[0mmode\u001b[0m\u001b[1;33m,\u001b[0m\u001b[1;33m\u001b[0m\u001b[1;33m\u001b[0m\u001b[0m\n",
      "\u001b[1;31mFileNotFoundError\u001b[0m: [Errno 2] No such file or directory: 'd:\\\\Academic\\\\Third Year 2nd sem\\\\Data Mining\\\\covid19-public\\\\dataset\\\\covid19-public/mysejahtera/checkin_state.csv'"
     ]
    }
   ],
   "metadata": {}
  },
  {
   "cell_type": "code",
   "execution_count": null,
   "source": [
    "checkIn_df.info()"
   ],
   "outputs": [],
   "metadata": {}
  },
  {
   "cell_type": "code",
   "execution_count": null,
   "source": [
    "checkIn_df.describe()"
   ],
   "outputs": [],
   "metadata": {}
  },
  {
   "cell_type": "code",
   "execution_count": null,
   "source": [
    "missing_values_df = pkrc_df.isna().sum().to_frame()\r\n",
    "missing_values_df.rename(columns = {0:'Count of Missing Values'}, inplace=True)\r\n",
    "missing_values_df"
   ],
   "outputs": [],
   "metadata": {}
  },
  {
   "cell_type": "markdown",
   "source": [
    "##### Identify Missing Value\n",
    "</p> Visualize the number of missing values as a bar chart"
   ],
   "metadata": {}
  },
  {
   "cell_type": "code",
   "execution_count": null,
   "source": [
    "missing_values = pkrc_df.isnull().sum() / len(pkrc_df)\r\n",
    "missing_values = missing_values[missing_values > 0]\r\n",
    "missing_values.sort_values(inplace=True)\r\n",
    "missing_values = missing_values.to_frame()\r\n",
    "missing_values.columns = ['Count of Missing Values']\r\n",
    "missing_values.index.names = ['Name']\r\n",
    "missing_values['Column Name'] = pkrc_df.columns\r\n",
    "\r\n",
    "sns.set(style=\"whitegrid\", color_codes=True)\r\n",
    "sns.barplot(x = 'Column Name', y = 'Count of Missing Values', data=missing_values)\r\n",
    "plt.xticks(rotation = 90)\r\n",
    "plt.show()"
   ],
   "outputs": [],
   "metadata": {}
  },
  {
   "cell_type": "markdown",
   "source": [
    "##### Identify Outliers\n",
    "</p> Visualize the data using box plot, check the distribution of data and outliers"
   ],
   "metadata": {}
  },
  {
   "cell_type": "code",
   "execution_count": null,
   "source": [
    "fig, axes = plt.subplots(1, 3, figsize=(15, 5), sharey=True)\r\n",
    "# fig.suptitle('Outliers Visualization')\r\n",
    "plt.subplots_adjust(left=None, bottom= 0.1, right=None, top=0.5, wspace=0.2, hspace=0.6)\r\n",
    "\r\n",
    "sns.boxplot(data=checkIn_df, x = checkIn_df[\"checkins\"],ax=axes[0])\r\n",
    "axes[0].set_title('checkins')\r\n",
    "sns.boxplot(data=checkIn_df,x = checkIn_df[\"unique_ind\"],ax=axes[1])\r\n",
    "axes[1].set_title('unique_ind')\r\n",
    "sns.boxplot(data=checkIn_df, x = checkIn_df[\"unique_loc\"],ax=axes[2])\r\n",
    "axes[2].set_title('unique_loc')"
   ],
   "outputs": [],
   "metadata": {}
  },
  {
   "cell_type": "markdown",
   "source": [
    "#### Exploratory Data Analysis for Hospital Dataset"
   ],
   "metadata": {}
  },
  {
   "cell_type": "code",
   "execution_count": null,
   "source": [
    "hospital_df = pd.read_csv(hospital_dir)\r\n",
    "after_start_date = hospital_df[\"date\"] >= start_date\r\n",
    "before_end_date = hospital_df[\"date\"] <= end_date\r\n",
    "between_two_dates = after_start_date & before_end_date\r\n",
    "hospital_df = hospital_df.loc[between_two_dates]\r\n",
    "hospital_df.head()"
   ],
   "outputs": [],
   "metadata": {}
  },
  {
   "cell_type": "code",
   "execution_count": null,
   "source": [
    "hospital_df.info()"
   ],
   "outputs": [],
   "metadata": {}
  },
  {
   "cell_type": "code",
   "execution_count": null,
   "source": [
    "hospital_df.describe()"
   ],
   "outputs": [],
   "metadata": {}
  },
  {
   "cell_type": "code",
   "execution_count": null,
   "source": [
    "hospital_df_null_df=pd.DataFrame({'Column':hospital_df.isna().sum().index, 'Count of Null Values':hospital_df.isna().sum().values})  \n",
    "hospital_df_null_df"
   ],
   "outputs": [],
   "metadata": {}
  },
  {
   "cell_type": "markdown",
   "source": [
    "##### Identify Missing Value\n",
    "</p> Visualize the number of missing values as a bar chart"
   ],
   "metadata": {}
  },
  {
   "cell_type": "code",
   "execution_count": null,
   "source": [
    "msno.bar(hospital_df)"
   ],
   "outputs": [],
   "metadata": {}
  },
  {
   "cell_type": "markdown",
   "source": [
    "##### Identify Outliers\n",
    "</p> Visualize the data using box plot, check the distribution of data and outliers"
   ],
   "metadata": {}
  },
  {
   "cell_type": "code",
   "execution_count": null,
   "source": [
    "fig, axes = plt.subplots(4, 3, figsize=(15, 5), sharey=True)\n",
    "# fig.suptitle('Outliers Visualization')\n",
    "plt.subplots_adjust(left=None, bottom= 0.1, right=None, top=2, wspace=0.2, hspace=0.6)\n",
    "\n",
    "# beds\tbeds_covid\tbeds_noncrit\tadmitted_pui\tadmitted_covid\tadmitted_total\tdischarged_pui\tdischarged_covid\tdischarged_total\thosp_covid\t\n",
    "# hosp_pui\thosp_noncovid\n",
    "\n",
    "sns.boxplot(data=hospital_df, x = hospital_df[\"beds\"],ax=axes[0][0])\n",
    "axes[0][0].set_title('beds')\n",
    "sns.boxplot(data=hospital_df,x = hospital_df[\"beds_covid\"],ax=axes[0][1])\n",
    "axes[0][1].set_title('beds_covid')\n",
    "sns.boxplot(data=hospital_df, x = hospital_df[\"beds_noncrit\"],ax=axes[0][2])\n",
    "axes[0][2].set_title('beds_noncrit')\n",
    "sns.boxplot(data=hospital_df, x = hospital_df[\"admitted_pui\"],ax=axes[1][0])\n",
    "axes[1][0].set_title('admitted_pui')\n",
    "sns.boxplot(data=hospital_df,x = hospital_df[\"admitted_covid\"],ax=axes[1][1])\n",
    "axes[1][1].set_title('admitted_covid')\n",
    "sns.boxplot(data=hospital_df, x = hospital_df[\"admitted_total\"],ax=axes[1][2])\n",
    "axes[1][2].set_title('admitted_total')\n",
    "sns.boxplot(data=hospital_df, x = hospital_df[\"discharged_pui\"],ax=axes[2][0])\n",
    "axes[2][0].set_title('discharged_pui')\n",
    "sns.boxplot(data=hospital_df,x = hospital_df[\"discharged_covid\"],ax=axes[2][1])\n",
    "axes[2][1].set_title('discharged_covid')\n",
    "sns.boxplot(data=hospital_df, x = hospital_df[\"discharged_total\"],ax=axes[2][2])\n",
    "axes[2][2].set_title('discharged_total')\n",
    "sns.boxplot(data=hospital_df, x = hospital_df[\"hosp_covid\"],ax=axes[3][0])\n",
    "axes[3][0].set_title('hosp_covid')\n",
    "sns.boxplot(data=hospital_df,x = hospital_df[\"hosp_pui\"],ax=axes[3][1])\n",
    "axes[3][1].set_title('hosp_pui')\n",
    "sns.boxplot(data=hospital_df, x = hospital_df[\"hosp_noncovid\"],ax=axes[3][2])\n",
    "axes[3][2].set_title('hosp_noncovid')"
   ],
   "outputs": [],
   "metadata": {}
  },
  {
   "cell_type": "markdown",
   "source": [
    "# <font color='FireBrick'>Question 3 (ii)</font>"
   ],
   "metadata": {}
  },
  {
   "cell_type": "markdown",
   "source": [
    "### Data Preprocessing with One-Hot Encoding"
   ],
   "metadata": {}
  },
  {
   "cell_type": "markdown",
   "source": [
    "Before finding the relationship between the states, we perform One-Hot encoding to preprocess the state cases dataset."
   ],
   "metadata": {}
  },
  {
   "cell_type": "code",
   "execution_count": 17,
   "source": [
    "state_case_df = pd.get_dummies(state_case_df, prefix='', columns=['state'])\n",
    "state_case_df"
   ],
   "outputs": [
    {
     "output_type": "error",
     "ename": "NameError",
     "evalue": "name 'state_case_df' is not defined",
     "traceback": [
      "\u001b[1;31m---------------------------------------------------------------------------\u001b[0m",
      "\u001b[1;31mNameError\u001b[0m                                 Traceback (most recent call last)",
      "\u001b[1;32m<ipython-input-17-1b29bb6046e7>\u001b[0m in \u001b[0;36m<module>\u001b[1;34m\u001b[0m\n\u001b[1;32m----> 1\u001b[1;33m \u001b[0mstate_case_df\u001b[0m \u001b[1;33m=\u001b[0m \u001b[0mpd\u001b[0m\u001b[1;33m.\u001b[0m\u001b[0mget_dummies\u001b[0m\u001b[1;33m(\u001b[0m\u001b[0mstate_case_df\u001b[0m\u001b[1;33m,\u001b[0m \u001b[0mprefix\u001b[0m\u001b[1;33m=\u001b[0m\u001b[1;34m''\u001b[0m\u001b[1;33m,\u001b[0m \u001b[0mcolumns\u001b[0m\u001b[1;33m=\u001b[0m\u001b[1;33m[\u001b[0m\u001b[1;34m'state'\u001b[0m\u001b[1;33m]\u001b[0m\u001b[1;33m)\u001b[0m\u001b[1;33m\u001b[0m\u001b[1;33m\u001b[0m\u001b[0m\n\u001b[0m\u001b[0;32m      2\u001b[0m \u001b[0mstate_case_df\u001b[0m\u001b[1;33m\u001b[0m\u001b[1;33m\u001b[0m\u001b[0m\n",
      "\u001b[1;31mNameError\u001b[0m: name 'state_case_df' is not defined"
     ]
    }
   ],
   "metadata": {}
  },
  {
   "cell_type": "code",
   "execution_count": null,
   "source": [
    "state_case_import_df = state_case_df.loc[:,'_Johor':].multiply(state_case_df[\"cases_import\"], axis=\"index\")\n",
    "state_case_new_df = state_case_df.loc[:,'_Johor':].multiply(state_case_df[\"cases_new\"], axis=\"index\")\n",
    "state_case_recovered_df = state_case_df.loc[:,'_Johor':].multiply(state_case_df[\"cases_recovered\"], axis=\"index\")"
   ],
   "outputs": [],
   "metadata": {}
  },
  {
   "cell_type": "code",
   "execution_count": null,
   "source": [
    "state_case_import_df.columns = state_case_import_df.columns.str[1:]\n",
    "state_case_import_df.head()"
   ],
   "outputs": [],
   "metadata": {}
  },
  {
   "cell_type": "code",
   "execution_count": null,
   "source": [
    "state_case_import_df['date'] = date\n",
    "state_case_new_df['date'] = date\n",
    "state_case_recovered_df['date'] = date"
   ],
   "outputs": [],
   "metadata": {}
  },
  {
   "cell_type": "code",
   "execution_count": null,
   "source": [
    "state_case_import_df = state_case_import_df.groupby([state_case_import_df['date']]).sum()\n",
    "state_case_new_df = state_case_new_df.groupby([state_case_new_df['date']]).sum()\n",
    "state_case_recovered_df = state_case_recovered_df.groupby([state_case_recovered_df['date']]).sum()"
   ],
   "outputs": [],
   "metadata": {}
  },
  {
   "cell_type": "code",
   "execution_count": null,
   "source": [
    "corr = state_case_new_df.corr()\n",
    "fig, ax = plt.subplots(figsize=(20,10))  \n",
    "ax = sns.heatmap(\n",
    "    corr, \n",
    "    vmin=-1, vmax=1, center=0,\n",
    "    cmap=sns.diverging_palette(20, 220, n=200),\n",
    "    square=True,\n",
    "    annot = True,\n",
    "    linewidths = 2\n",
    ")\n",
    "\n",
    "ax.set_xticklabels(\n",
    "    ax.get_xticklabels(),\n",
    "    rotation=45,\n",
    "    horizontalalignment='right'\n",
    ");\n",
    "ax.set_title('New Case Correlation Heatmap')"
   ],
   "outputs": [],
   "metadata": {}
  },
  {
   "cell_type": "markdown",
   "source": [
    "# <font color='FireBrick'>Question 3 (iii)</font>"
   ],
   "metadata": {}
  },
  {
   "cell_type": "markdown",
   "source": [
    "Pre-processing the needed datasets : **Cluster, State Cases, Tests，Mysejahtera checkins, PKRC, Hospital** </p> We use data of 4 states in Malaysia to perform feature selection : **Pahang, Johor, Kedah, Selangor**. </p>"
   ],
   "metadata": {}
  },
  {
   "cell_type": "code",
   "execution_count": null,
   "source": [
    "state = [\"Pahang\",\"Kedah\",\"Johor\",\"Selangor\"]\n",
    "clusters_df = clusters_df.loc[clusters_df['state'].isin(state)]\n",
    "clusters_df['date'] = clusters_df.date_announced\n",
    "state_case_df = state_case_df.loc[state_case_df['state'].isin(state)]\n",
    "states_tests_df = states_tests_df.loc[states_tests_df['state'].isin(state)]\n",
    "mysejahtera = mysejahtera.loc[mysejahtera['state'].isin(state)]\n",
    "mysejahtera_checkins[\"date\"] = mysejahtera.date\n",
    "pkrc_df = pkrc_df.loc[pkrc_df['state'].isin(state)]\n",
    "pkrc_df['date'] = pkrc_df.date\n",
    "pkrc_df = pkrc_df.add_suffix('_pkrc')\n",
    "hospital_df = hospital_df.loc[hospital_df['state'].isin(state)]\n",
    "hospital_df['date'] = hospital_df.date\n",
    "hospital_df = hospital_df.add_suffix('_hospital')"
   ],
   "outputs": [],
   "metadata": {}
  },
  {
   "cell_type": "code",
   "execution_count": null,
   "source": [
    "# Cluster Dataset\n",
    "## One-Hot Encoding\n",
    "clusters_df = pd.get_dummies(clusters_df, prefix='cluster', columns=['category'])\n",
    "## Drop unused columns\n",
    "clusters_df.drop(['cases_new','cases_total','cases_active','tests','icu','deaths','recovered'], axis=1, inplace=True)\n",
    "## Group by date and state\n",
    "clusters_df=clusters_df.groupby(['date_announced','state']).sum()clusters_df=clusters_df.groupby(['date_announced','state']).sum()\n",
    "clusters_df"
   ],
   "outputs": [],
   "metadata": {}
  },
  {
   "cell_type": "code",
   "execution_count": null,
   "source": [
    "# State Cases Dataset\n",
    "## Group by date and state\n",
    "state_case_df=state_case_df.groupby(['date','state']).sum()\n",
    "state_case_df"
   ],
   "outputs": [],
   "metadata": {}
  },
  {
   "cell_type": "code",
   "execution_count": null,
   "source": [
    "# State Tests Dataset\n",
    "## Group by date and state\n",
    "states_tests_df=states_tests_df.groupby(['date','state']).sum()\n",
    "states_tests_df"
   ],
   "outputs": [],
   "metadata": {}
  },
  {
   "cell_type": "code",
   "execution_count": null,
   "source": [
    "# MySejahtera Checkins Dataset\n",
    "## One-Hot Encoding\n",
    "mysejahtera = pd.get_dummies(mysejahtera, prefix='', columns=['state'])\n",
    "mysejahtera_checkins = mysejahtera.loc[:,'_Johor':].multiply(mysejahtera[\"checkins\"], axis=\"index\")\n",
    "mysejahtera_checkins.columns = mysejahtera_checkins.columns.str[1:]\n",
    "## Group by date and state\n",
    "mysejahtera_checkins = mysejahtera_checkins.groupby([mysejahtera_checkins['date']]).sum()\n",
    "mysejahtera_checkins.columns.name = 'state'\n",
    "mysejahtera_checkins = mysejahtera_checkins.stack()\n",
    "mysejahtera_checkins.name = 'Checkins number'\n",
    "mysejahtera_checkins = mysejahtera_checkins.reset_index()\n",
    "mysejahtera_checkins = mysejahtera_checkins.groupby(['date','state']).sum()\n",
    "mysejahtera_checkins"
   ],
   "outputs": [],
   "metadata": {}
  },
  {
   "cell_type": "code",
   "execution_count": null,
   "source": [
    "# PKRC Dataset\n",
    "## Group by date and state\n",
    "pkrc_df = pkrc_df.groupby(['date_pkrc','state_pkrc']).sum()\n",
    "pkrc_df"
   ],
   "outputs": [],
   "metadata": {}
  },
  {
   "cell_type": "code",
   "execution_count": null,
   "source": [
    "# Hospital Dataset\n",
    "## Group by date and state\n",
    "hospital_df = hospital_df.groupby(['date_hospital','state_hospital']).sum()\n",
    "hospital_df"
   ],
   "outputs": [],
   "metadata": {}
  },
  {
   "cell_type": "markdown",
   "source": [
    "## Merge Datasets"
   ],
   "metadata": {}
  },
  {
   "cell_type": "code",
   "execution_count": null,
   "source": [
    "df_final = pd.concat([clusters_df, states_tests_df, state_case_df,mysejahtera_checkins,pkrc_df,hospital_df], axis=1)\n",
    "df_final.fillna(0,inplace=True)\n",
    "df_final"
   ],
   "outputs": [],
   "metadata": {}
  },
  {
   "cell_type": "markdown",
   "source": [
    "## Perform Boruta Classifier"
   ],
   "metadata": {}
  },
  {
   "cell_type": "code",
   "execution_count": null,
   "source": [
    "rslt_df_ph = df_final[df_final['state'] == \"Pahang\"]\n",
    "rslt_df_kd = df_final[df_final['state'] == \"Kedah\"]\n",
    "rslt_df_jh = df_final[df_final['state'] == \"Johor\"]\n",
    "rslt_df_sl = df_final[df_final['state'] == \"Selangor\"]"
   ],
   "outputs": [],
   "metadata": {}
  },
  {
   "cell_type": "markdown",
   "source": [
    "### Random forest classifier"
   ],
   "metadata": {}
  },
  {
   "cell_type": "code",
   "execution_count": null,
   "source": [
    "rf = RandomForestClassifier(n_jobs=-1, class_weight=\"balanced\",criterion = \"entropy\")\n",
    "rf"
   ],
   "outputs": [],
   "metadata": {}
  },
  {
   "cell_type": "markdown",
   "source": [
    "### Boruta Model"
   ],
   "metadata": {}
  },
  {
   "cell_type": "code",
   "execution_count": null,
   "source": [
    "def ranking(ranks, names, order=1):\n",
    "    minmax = MinMaxScaler()\n",
    "    ranks = minmax.fit_transform(order*np.array([ranks]).T).T[0]\n",
    "    ranks = map(lambda x: round(x,2), ranks)\n",
    "    return dict(zip(names, ranks))"
   ],
   "outputs": [],
   "metadata": {}
  },
  {
   "cell_type": "code",
   "execution_count": null,
   "source": [
    "feat_selector = BorutaPy(rf, n_estimators=\"auto\", random_state=1)"
   ],
   "outputs": [],
   "metadata": {}
  },
  {
   "cell_type": "code",
   "execution_count": null,
   "source": [
    "df = df_final\n",
    "y = df.cases_new\n",
    "X = df.drop([\"cases_new\",\"date\",\"state\"], 1)\n",
    "colnames = X.columns\n",
    "feat_selector.fit(X.values, y.values.ravel()\n",
    "print(feat_selector.support_)\n",
    "print(feat_selector.ranking_)\n",
    "boruta_score = ranking(list(map(float, feat_selector.ranking_)), colnames, order=-1)\n",
    "boruta_score = pd.DataFrame(list(boruta_score.items()), columns=['Features', 'Score']) \n",
    "boruta_score = boruta_score.sort_values(\"Score\",ascending = False)\n",
    "                  print('---------Top 5----------')\n",
    "display(rfe_score.head(5))\n",
    "sns_boruta_plot = sns.catplot(x=\"Score\", y=\"Features\", data = boruta_score[0:35], kind = \"bar\", \n",
    "               height=14, aspect=1.5, palette='RdYlBu')\n",
    "plt.title(\"Boruta Top Features for All 4 states\")"
   ],
   "outputs": [],
   "metadata": {}
  },
  {
   "cell_type": "code",
   "execution_count": null,
   "source": [
    "df = rslt_df_ph\n",
    "y = df.cases_new\n",
    "X = df.drop([\"cases_new\",\"date\",\"state\"], 1)\n",
    "colnames = X.columns\n",
    "feat_selector.fit(X.values, y.values.ravel()\n",
    "print(feat_selector.support_)\n",
    "print(feat_selector.ranking_)\n",
    "boruta_score = ranking(list(map(float, feat_selector.ranking_)), colnames, order=-1)\n",
    "boruta_score = pd.DataFrame(list(boruta_score.items()), columns=['Features', 'Score']) \n",
    "boruta_score = boruta_score.sort_values(\"Score\",ascending = False)\n",
    "                  print('---------Top 5----------')\n",
    "display(rfe_score.head(5))\n",
    "sns_boruta_plot = sns.catplot(x=\"Score\", y=\"Features\", data = boruta_score[0:35], kind = \"bar\", \n",
    "               height=14, aspect=1.5, palette='RdYlBu')\n",
    "plt.title(\"Boruta Top Features for Pahang\")"
   ],
   "outputs": [],
   "metadata": {}
  },
  {
   "cell_type": "code",
   "execution_count": null,
   "source": [
    "df =rslt_df_kd\n",
    "y = df.cases_new\n",
    "X = df.drop([\"cases_new\",\"date\",\"state\"], 1)\n",
    "colnames = X.columns\n",
    "feat_selector.fit(X.values, y.values.ravel()\n",
    "print(feat_selector.support_)\n",
    "print(feat_selector.ranking_)\n",
    "boruta_score = ranking(list(map(float, feat_selector.ranking_)), colnames, order=-1)\n",
    "boruta_score = pd.DataFrame(list(boruta_score.items()), columns=['Features', 'Score']) \n",
    "boruta_score = boruta_score.sort_values(\"Score\",ascending = False)\n",
    "                  print('---------Top 5----------')\n",
    "display(rfe_score.head(5))\n",
    "sns_boruta_plot = sns.catplot(x=\"Score\", y=\"Features\", data = boruta_score[0:35], kind = \"bar\", \n",
    "               height=14, aspect=1.5, palette='RdYlBu')\n",
    "plt.title(\"Boruta Top Features for Kedah\")"
   ],
   "outputs": [],
   "metadata": {}
  },
  {
   "cell_type": "code",
   "execution_count": null,
   "source": [
    "df = rslt_df_jh\n",
    "y = df.cases_new\n",
    "X = df.drop([\"cases_new\",\"date\",\"state\"], 1)\n",
    "colnames = X.columns\n",
    "feat_selector.fit(X.values, y.values.ravel()\n",
    "print(feat_selector.support_)\n",
    "print(feat_selector.ranking_)\n",
    "boruta_score = ranking(list(map(float, feat_selector.ranking_)), colnames, order=-1)\n",
    "boruta_score = pd.DataFrame(list(boruta_score.items()), columns=['Features', 'Score']) \n",
    "boruta_score = boruta_score.sort_values(\"Score\",ascending = False)\n",
    "                  print('---------Top 5----------')\n",
    "display(rfe_score.head(5))\n",
    "sns_boruta_plot = sns.catplot(x=\"Score\", y=\"Features\", data = boruta_score[0:35], kind = \"bar\", \n",
    "               height=14, aspect=1.5, palette='RdYlBu')\n",
    "plt.title(\"Boruta Top Features for Johor\")"
   ],
   "outputs": [],
   "metadata": {}
  },
  {
   "cell_type": "code",
   "execution_count": null,
   "source": [
    "df = rslt_df_sl\n",
    "y = df.cases_new\n",
    "X = df.drop([\"cases_new\",\"date\",\"state\"], 1)\n",
    "colnames = X.columns\n",
    "feat_selector.fit(X.values, y.values.ravel()\n",
    "print(feat_selector.support_)\n",
    "print(feat_selector.ranking_)\n",
    "boruta_score = ranking(list(map(float, feat_selector.ranking_)), colnames, order=-1)\n",
    "boruta_score = pd.DataFrame(list(boruta_score.items()), columns=['Features', 'Score']) \n",
    "boruta_score = boruta_score.sort_values(\"Score\",ascending = False)\n",
    "                  print('---------Top 5----------')\n",
    "display(rfe_score.head(5))\n",
    "sns_boruta_plot = sns.catplot(x=\"Score\", y=\"Features\", data = boruta_score[0:35], kind = \"bar\", \n",
    "               height=14, aspect=1.5, palette='RdYlBu')\n",
    "plt.title(\"Boruta Top Features for Selangor\")"
   ],
   "outputs": [],
   "metadata": {}
  },
  {
   "cell_type": "markdown",
   "source": [
    "## Perform RFE Classifier"
   ],
   "metadata": {}
  },
  {
   "cell_type": "code",
   "execution_count": null,
   "source": [
    "df = df_final\n",
    "y = df.cases_new\n",
    "X = df.drop([\"cases_new\",\"date\",\"state\"], 1)\n",
    "rfe = RFECV(rf, min_features_to_select = 1, cv =2)\n",
    "rfe.fit(X, y)\n",
    "rfe_score = ranking(list(map(float, rfe.ranking_)), colnames, order=-1)\n",
    "rfe_score = pd.DataFrame(list(rfe_score.items()), columns=['Features', 'Score'])\n",
    "rfe_score = rfe_score.sort_values(\"Score\", ascending = False)\n",
    "print('---------Top 5----------')\n",
    "display(rfe_score.head(5))\n",
    "sns_rfe_plot = sns.catplot(x=\"Score\", y=\"Features\", data = rfe_score[0:35], kind = \"bar\", \n",
    "               height=14, aspect=1.9, palette='coolwarm')\n",
    "plt.title(\"RFE Features Ranking\")"
   ],
   "outputs": [],
   "metadata": {}
  },
  {
   "cell_type": "code",
   "execution_count": null,
   "source": [
    "df = rslt_df_ph\n",
    "y = df.cases_new\n",
    "X = df.drop([\"cases_new\",\"date\",\"state\"], 1)\n",
    "rfe = RFECV(rf, min_features_to_select = 1, cv =2)\n",
    "rfe.fit(X, y)\n",
    "rfe_score = ranking(list(map(float, rfe.ranking_)), colnames, order=-1)\n",
    "rfe_score = pd.DataFrame(list(rfe_score.items()), columns=['Features', 'Score'])\n",
    "rfe_score = rfe_score.sort_values(\"Score\", ascending = False)\n",
    "print('---------Top 5----------')\n",
    "display(rfe_score.head(5))\n",
    "sns_rfe_plot = sns.catplot(x=\"Score\", y=\"Features\", data = rfe_score[0:35], kind = \"bar\", \n",
    "               height=14, aspect=1.9, palette='coolwarm')\n",
    "plt.title(\"RFE Features Ranking\")"
   ],
   "outputs": [],
   "metadata": {}
  },
  {
   "cell_type": "code",
   "execution_count": null,
   "source": [
    "df = rslt_df_kd\n",
    "y = df.cases_new\n",
    "X = df.drop([\"cases_new\",\"date\",\"state\"], 1)\n",
    "rfe = RFECV(rf, min_features_to_select = 1, cv =2)\n",
    "rfe.fit(X, y)\n",
    "rfe_score = ranking(list(map(float, rfe.ranking_)), colnames, order=-1)\n",
    "rfe_score = pd.DataFrame(list(rfe_score.items()), columns=['Features', 'Score'])\n",
    "rfe_score = rfe_score.sort_values(\"Score\", ascending = False)\n",
    "print('---------Top 5----------')\n",
    "display(rfe_score.head(5))\n",
    "sns_rfe_plot = sns.catplot(x=\"Score\", y=\"Features\", data = rfe_score[0:35], kind = \"bar\", \n",
    "               height=14, aspect=1.9, palette='coolwarm')\n",
    "plt.title(\"RFE Features Ranking\")"
   ],
   "outputs": [],
   "metadata": {}
  },
  {
   "cell_type": "code",
   "execution_count": null,
   "source": [
    "df = rslt_df_jh\n",
    "y = df.cases_new\n",
    "X = df.drop([\"cases_new\",\"date\",\"state\"], 1)\n",
    "rfe = RFECV(rf, min_features_to_select = 1, cv =2)\n",
    "rfe.fit(X, y)\n",
    "rfe_score = ranking(list(map(float, rfe.ranking_)), colnames, order=-1)\n",
    "rfe_score = pd.DataFrame(list(rfe_score.items()), columns=['Features', 'Score'])\n",
    "rfe_score = rfe_score.sort_values(\"Score\", ascending = False)\n",
    "print('---------Top 5----------')\n",
    "display(rfe_score.head(5))\n",
    "sns_rfe_plot = sns.catplot(x=\"Score\", y=\"Features\", data = rfe_score[0:35], kind = \"bar\", \n",
    "               height=14, aspect=1.9, palette='coolwarm')\n",
    "plt.title(\"RFE Features Ranking\")"
   ],
   "outputs": [],
   "metadata": {}
  },
  {
   "cell_type": "code",
   "execution_count": null,
   "source": [
    "df = rslt_df_sl\n",
    "y = df.cases_new\n",
    "X = df.drop([\"cases_new\",\"date\",\"state\"], 1)\n",
    "rfe = RFECV(rf, min_features_to_select = 1, cv =2)\n",
    "rfe.fit(X, y)\n",
    "#model = LogisticRegression(solver='lbfgs')\n",
    "#rfe = RFE(model, 3)\n",
    "#rfe.fit(X, y)\n",
    "rfe_score = ranking(list(map(float, rfe.ranking_)), colnames, order=-1)\n",
    "rfe_score = pd.DataFrame(list(rfe_score.items()), columns=['Features', 'Score'])\n",
    "rfe_score = rfe_score.sort_values(\"Score\", ascending = False)\n",
    "print('---------Top 5----------')\n",
    "display(rfe_score.head(5))\n",
    "sns_rfe_plot = sns.catplot(x=\"Score\", y=\"Features\", data = rfe_score[0:35], kind = \"bar\", \n",
    "               height=14, aspect=1.9, palette='coolwarm')\n",
    "plt.title(\"RFE Features Ranking\")"
   ],
   "outputs": [],
   "metadata": {}
  },
  {
   "cell_type": "markdown",
   "source": [
    "# <font color='FireBrick'>Question 3 (iv)</font>"
   ],
   "metadata": {}
  },
  {
   "cell_type": "markdown",
   "source": [
    "## Regression "
   ],
   "metadata": {}
  },
  {
   "cell_type": "code",
   "execution_count": null,
   "source": [
    "X = df_final.drop(['cases_new','date','state'], axis=1)  #predict newcases\n",
    "y = df_final['cases_new']  \n",
    "X_train, X_test, y_train, y_test = train_test_split(X, y, test_size = 0.3, random_state = 2)\n",
    "model = LinearRegression()\n",
    "model.fit(X_train,y_train)\n",
    "y_pred = model.predict(X_test)\n",
    "print(\"Linear Regressor\")\n",
    "print(\"Median absolute error : \" + median_absolute_error(y_test, y_pred))\n",
    "print(\"Mean absolute error : \" + mean_absolute_error(y_test, y_pred))\n",
    "print(\"Mean squared error : \" + mean_squared_error(y_test, y_pred))\n",
    "print(\"Root mean square error : \" + np.sqrt(mean_squared_error(y_test,y_pred)))\n",
    "print(\"R squared: \" + r2_score(y_test,y_pred))\n",
    "\n",
    "X_train, X_test, y_train, y_test = train_test_split(X, y, test_size = 0.3, random_state = 2)\n",
    "rfr = RandomForestRegressor()\n",
    "rfr.fit(X, y)\n",
    "y_pred = rfr.predict(X_test)\n",
    "print(\"Random Forest Regressor\")\n",
    "print(\"Median absolute error : \" + median_absolute_error(y_test, y_pred))\n",
    "print(\"Mean absolute error : \" + mean_absolute_error(y_test, y_pred))\n",
    "print(\"Mean squared error : \" + mean_squared_error(y_test, y_pred))\n",
    "print(\"Root mean square error : \" + np.sqrt(mean_squared_error(y_test,y_pred)))\n",
    "print(\"R squared: \" + r2_score(y_test,y_pred))"
   ],
   "outputs": [],
   "metadata": {}
  },
  {
   "cell_type": "code",
   "execution_count": null,
   "source": [
    "X = rslt_df_ph.drop(['cases_new','date','state'], axis=1)  #predict newcases\n",
    "y = rslt_df_ph['cases_new']  \n",
    "X_train, X_test, y_train, y_test = train_test_split(X, y, test_size = 0.3, random_state = 2)\n",
    "model = LinearRegression()\n",
    "model.fit(X_train,y_train)\n",
    "y_pred = model.predict(X_test)\n",
    "print(\"Linear Regressor\")\n",
    "print(\"Median absolute error : \" + median_absolute_error(y_test, y_pred))\n",
    "print(\"Mean absolute error : \" + mean_absolute_error(y_test, y_pred))\n",
    "print(\"Mean squared error : \" + mean_squared_error(y_test, y_pred))\n",
    "print(\"Root mean square error : \" + np.sqrt(mean_squared_error(y_test,y_pred)))\n",
    "print(\"R squared: \" + r2_score(y_test,y_pred))\n",
    "\n",
    "X_train, X_test, y_train, y_test = train_test_split(X, y, test_size = 0.3, random_state = 2)\n",
    "rfr = RandomForestRegressor()\n",
    "rfr.fit(X, y)\n",
    "y_pred = rfr.predict(X_test)\n",
    "print(\"Random Forest Regressor\")\n",
    "print(\"Median absolute error : \" + median_absolute_error(y_test, y_pred))\n",
    "print(\"Mean absolute error : \" + mean_absolute_error(y_test, y_pred))\n",
    "print(\"Mean squared error : \" + mean_squared_error(y_test, y_pred))\n",
    "print(\"Root mean square error : \" + np.sqrt(mean_squared_error(y_test,y_pred)))\n",
    "print(\"R squared: \" + r2_score(y_test,y_pred))"
   ],
   "outputs": [],
   "metadata": {}
  },
  {
   "cell_type": "code",
   "execution_count": null,
   "source": [
    "X = rslt_df_kd.drop(['cases_new','date','state'], axis=1)  #predict newcases\n",
    "y = rslt_df_kd['cases_new']  \n",
    "X_train, X_test, y_train, y_test = train_test_split(X, y, test_size = 0.3, random_state = 2)\n",
    "model = LinearRegression()\n",
    "model.fit(X_train,y_train)\n",
    "y_pred = model.predict(X_test)\n",
    "print(\"Linear Regressor\")\n",
    "print(\"Median absolute error : \" + median_absolute_error(y_test, y_pred))\n",
    "print(\"Mean absolute error : \" + mean_absolute_error(y_test, y_pred))\n",
    "print(\"Mean squared error : \" + mean_squared_error(y_test, y_pred))\n",
    "print(\"Root mean square error : \" + np.sqrt(mean_squared_error(y_test,y_pred)))\n",
    "print(\"R squared: \" + r2_score(y_test,y_pred))\n",
    "\n",
    "X_train, X_test, y_train, y_test = train_test_split(X, y, test_size = 0.3, random_state = 2)\n",
    "rfr = RandomForestRegressor()\n",
    "rfr.fit(X, y)\n",
    "y_pred = rfr.predict(X_test)\n",
    "print(\"Random Forest Regressor\")\n",
    "print(\"Median absolute error : \" + median_absolute_error(y_test, y_pred))\n",
    "print(\"Mean absolute error : \" + mean_absolute_error(y_test, y_pred))\n",
    "print(\"Mean squared error : \" + mean_squared_error(y_test, y_pred))\n",
    "print(\"Root mean square error : \" + np.sqrt(mean_squared_error(y_test,y_pred)))\n",
    "print(\"R squared: \" + r2_score(y_test,y_pred))"
   ],
   "outputs": [],
   "metadata": {}
  },
  {
   "cell_type": "code",
   "execution_count": null,
   "source": [
    "X = rslt_df_jh.drop(['cases_new','date','state'], axis=1)  #predict newcases\n",
    "y = rslt_df_jh['cases_new']  \n",
    "X_train, X_test, y_train, y_test = train_test_split(X, y, test_size = 0.3, random_state = 2)\n",
    "model = LinearRegression()\n",
    "model.fit(X_train,y_train)\n",
    "y_pred = model.predict(X_test)\n",
    "print(\"Linear Regressor\")\n",
    "print(\"Median absolute error : \" + median_absolute_error(y_test, y_pred))\n",
    "print(\"Mean absolute error : \" + mean_absolute_error(y_test, y_pred))\n",
    "print(\"Mean squared error : \" + mean_squared_error(y_test, y_pred))\n",
    "print(\"Root mean square error : \" + np.sqrt(mean_squared_error(y_test,y_pred)))\n",
    "print(\"R squared: \" + r2_score(y_test,y_pred))\n",
    "\n",
    "X_train, X_test, y_train, y_test = train_test_split(X, y, test_size = 0.3, random_state = 2)\n",
    "rfr = RandomForestRegressor()\n",
    "rfr.fit(X, y)\n",
    "y_pred = rfr.predict(X_test)\n",
    "print(\"Random Forest Regressor\")\n",
    "print(\"Median absolute error : \" + median_absolute_error(y_test, y_pred))\n",
    "print(\"Mean absolute error : \" + mean_absolute_error(y_test, y_pred))\n",
    "print(\"Mean squared error : \" + mean_squared_error(y_test, y_pred))\n",
    "print(\"Root mean square error : \" + np.sqrt(mean_squared_error(y_test,y_pred)))\n",
    "print(\"R squared: \" + r2_score(y_test,y_pred))"
   ],
   "outputs": [],
   "metadata": {}
  },
  {
   "cell_type": "code",
   "execution_count": null,
   "source": [
    "X = rslt_df_sl.drop(['cases_new','date','state'], axis=1)  #predict newcases\n",
    "y = rslt_df_sl['cases_new']  \n",
    "X_train, X_test, y_train, y_test = train_test_split(X, y, test_size = 0.3, random_state = 2)\n",
    "model = LinearRegression()\n",
    "model.fit(X_train,y_train)\n",
    "y_pred = model.predict(X_test)\n",
    "print(\"Linear Regressor\")\n",
    "print(\"Median absolute error : \" + median_absolute_error(y_test, y_pred))\n",
    "print(\"Mean absolute error : \" + mean_absolute_error(y_test, y_pred))\n",
    "print(\"Mean squared error : \" + mean_squared_error(y_test, y_pred))\n",
    "print(\"Root mean square error : \" + np.sqrt(mean_squared_error(y_test,y_pred)))\n",
    "print(\"R squared: \" + r2_score(y_test,y_pred))\n",
    "\n",
    "X_train, X_test, y_train, y_test = train_test_split(X, y, test_size = 0.3, random_state = 2)\n",
    "rfr = RandomForestRegressor()\n",
    "rfr.fit(X, y)\n",
    "y_pred = rfr.predict(X_test)\n",
    "print(\"Random Forest Regressor\")\n",
    "print(\"Median absolute error : \" + median_absolute_error(y_test, y_pred))\n",
    "print(\"Mean absolute error : \" + mean_absolute_error(y_test, y_pred))\n",
    "print(\"Mean squared error : \" + mean_squared_error(y_test, y_pred))\n",
    "print(\"Root mean square error : \" + np.sqrt(mean_squared_error(y_test,y_pred)))\n",
    "print(\"R squared: \" + r2_score(y_test,y_pred))"
   ],
   "outputs": [],
   "metadata": {}
  },
  {
   "cell_type": "markdown",
   "source": [
    "## Classifier"
   ],
   "metadata": {}
  },
  {
   "cell_type": "code",
   "execution_count": null,
   "source": [
    "def getBinsRange(df):  \n",
    "        data = df['cases_new'].values\n",
    "        # First quartile (Q1)\n",
    "        Q1 = np.percentile(data, 25, interpolation = 'midpoint')\n",
    "        # Third quartile (Q3)\n",
    "        Q3 = np.percentile(data, 75, interpolation = 'midpoint')\n",
    "\n",
    "        return [np.min(data),Q1,Q3,np.inf]\n",
    "\n",
    "labels = ['Low','Medium','High']"
   ],
   "outputs": [],
   "metadata": {}
  },
  {
   "cell_type": "code",
   "execution_count": null,
   "source": [
    "# Perform Binning\n",
    "df_final['cases_new_category'] = (pd.cut(df_final['cases_new'].values, bins=getBinsRange(df_final),labels=labels, include_lowest=True))\n",
    "X = df_final.drop(['cases_new','date','state','cases_new_category'], axis=1)\n",
    "y = df_final.cases_new_category # Target variable\n",
    "X_train, X_test, y_train, y_test = train_test_split(X, y, test_size = 0.3, random_state = 1)\n",
    "clf = DecisionTreeClassifier(criterion=\"entropy\", max_depth=5, splitter='random') #pruning the tree by setting the depth\n",
    "# Train Decision Tree Classifer*\n",
    "clf = clf.fit(X_train,y_train)\n",
    "#Predict the response for test dataset*\n",
    "y_pred = clf.predict(X_test)\n",
    "print(\"Decision Tree Classifier\")\n",
    "print('Precision= {:.2f}'.format(precision_score(y_test, y_pred, average=\"weighted\")))\n",
    "print('Recall= {:.2f}'. format(recall_score(y_test, y_pred, average=\"weighted\")))\n",
    "print('F1= {:.2f}'. format(f1_score(y_test, y_pred, average=\"weighted\")))\n",
    "print('Accuracy= {:.2f}'. format(accuracy_score(y_test, y_pred)))\n",
    "\n",
    "X_train, X_test, y_train, y_test = train_test_split(X, y, test_size = 0.3, random_state = 2)\n",
    "model = GaussianNB()\n",
    "model.fit(X_train,y_train)\n",
    "y_pred = model.predict(X_test)\n",
    "print(\"Gaussian Naie Bayes\")\n",
    "print('Precision= {:.2f}'.format(precision_score(y_test, y_pred, average=\"weighted\")))\n",
    "print('Recall= {:.2f}'. format(recall_score(y_test, y_pred, average=\"weighted\")))\n",
    "print('F1= {:.2f}'. format(f1_score(y_test, y_pred, average=\"weighted\")))\n",
    "print('Accuracy= {:.2f}'. format(accuracy_score(y_test, y_pred)))"
   ],
   "outputs": [],
   "metadata": {}
  },
  {
   "cell_type": "code",
   "execution_count": null,
   "source": [
    "# Perform Binning\n",
    "rslt_df_ph['cases_new_category'] = (pd.cut(rslt_df_ph['cases_new'].values, bins=getBinsRange(rslt_df_ph),labels=labels, include_lowest=True))\n",
    "X = rslt_df_ph.drop(['cases_new','date','state','cases_new_category'], axis=1)\n",
    "y = rslt_df_ph.cases_new_category # Target variable\n",
    "X_train, X_test, y_train, y_test = train_test_split(X, y, test_size = 0.3, random_state = 1)\n",
    "clf = DecisionTreeClassifier(criterion=\"entropy\", max_depth=5, splitter='random') #pruning the tree by setting the depth\n",
    "# Train Decision Tree Classifer*\n",
    "clf = clf.fit(X_train,y_train)\n",
    "#Predict the response for test dataset*\n",
    "y_pred = clf.predict(X_test)\n",
    "print(\"Decision Tree Classifier\")\n",
    "print('Precision= {:.2f}'.format(precision_score(y_test, y_pred, average=\"weighted\")))\n",
    "print('Recall= {:.2f}'. format(recall_score(y_test, y_pred, average=\"weighted\")))\n",
    "print('F1= {:.2f}'. format(f1_score(y_test, y_pred, average=\"weighted\")))\n",
    "print('Accuracy= {:.2f}'. format(accuracy_score(y_test, y_pred)))\n",
    "\n",
    "X_train, X_test, y_train, y_test = train_test_split(X, y, test_size = 0.3, random_state = 2)\n",
    "model = GaussianNB()\n",
    "model.fit(X_train,y_train)\n",
    "y_pred = model.predict(X_test)\n",
    "print(\"Gaussian Naie Bayes\")\n",
    "print('Precision= {:.2f}'.format(precision_score(y_test, y_pred, average=\"weighted\")))\n",
    "print('Recall= {:.2f}'. format(recall_score(y_test, y_pred, average=\"weighted\")))\n",
    "print('F1= {:.2f}'. format(f1_score(y_test, y_pred, average=\"weighted\")))\n",
    "print('Accuracy= {:.2f}'. format(accuracy_score(y_test, y_pred)))"
   ],
   "outputs": [],
   "metadata": {}
  },
  {
   "cell_type": "code",
   "execution_count": null,
   "source": [
    "# Perform Binning\n",
    "rslt_df_kd['cases_new_category'] = (pd.cut(rslt_df_kd['cases_new'].values, bins=getBinsRange(rslt_df_kd),labels=labels, include_lowest=True))\n",
    "X = rslt_df_kd.drop(['cases_new','date','state','cases_new_category'], axis=1)\n",
    "y = rslt_df_kd.cases_new_category # Target variable\n",
    "X_train, X_test, y_train, y_test = train_test_split(X, y, test_size = 0.3, random_state = 1)\n",
    "clf = DecisionTreeClassifier(criterion=\"entropy\", max_depth=5, splitter='random') #pruning the tree by setting the depth\n",
    "# Train Decision Tree Classifer*\n",
    "clf = clf.fit(X_train,y_train)\n",
    "#Predict the response for test dataset*\n",
    "y_pred = clf.predict(X_test)\n",
    "print(\"Decision Tree Classifier\")\n",
    "print('Precision= {:.2f}'.format(precision_score(y_test, y_pred, average=\"weighted\")))\n",
    "print('Recall= {:.2f}'. format(recall_score(y_test, y_pred, average=\"weighted\")))\n",
    "print('F1= {:.2f}'. format(f1_score(y_test, y_pred, average=\"weighted\")))\n",
    "print('Accuracy= {:.2f}'. format(accuracy_score(y_test, y_pred)))\n",
    "\n",
    "X_train, X_test, y_train, y_test = train_test_split(X, y, test_size = 0.3, random_state = 2)\n",
    "model = GaussianNB()\n",
    "model.fit(X_train,y_train)\n",
    "y_pred = model.predict(X_test)\n",
    "print(\"Gaussian Naie Bayes\")\n",
    "print('Precision= {:.2f}'.format(precision_score(y_test, y_pred, average=\"weighted\")))\n",
    "print('Recall= {:.2f}'. format(recall_score(y_test, y_pred, average=\"weighted\")))\n",
    "print('F1= {:.2f}'. format(f1_score(y_test, y_pred, average=\"weighted\")))\n",
    "print('Accuracy= {:.2f}'. format(accuracy_score(y_test, y_pred)))"
   ],
   "outputs": [],
   "metadata": {}
  },
  {
   "cell_type": "code",
   "execution_count": null,
   "source": [
    "# Perform Binning\n",
    "rslt_df_jh['cases_new_category'] = (pd.cut(rslt_df_jh['cases_new'].values, bins=getBinsRange(rslt_df_jh),labels=labels, include_lowest=True))\n",
    "X = rslt_df_jh.drop(['cases_new','date','state','cases_new_category'], axis=1)\n",
    "y = rslt_df_jh.cases_new_category # Target variable\n",
    "X_train, X_test, y_train, y_test = train_test_split(X, y, test_size = 0.3, random_state = 1)\n",
    "clf = DecisionTreeClassifier(criterion=\"entropy\", max_depth=5, splitter='random') #pruning the tree by setting the depth\n",
    "# Train Decision Tree Classifer*\n",
    "clf = clf.fit(X_train,y_train)\n",
    "#Predict the response for test dataset*\n",
    "y_pred = clf.predict(X_test)\n",
    "print(\"Decision Tree Classifier\")\n",
    "print('Precision= {:.2f}'.format(precision_score(y_test, y_pred, average=\"weighted\")))\n",
    "print('Recall= {:.2f}'. format(recall_score(y_test, y_pred, average=\"weighted\")))\n",
    "print('F1= {:.2f}'. format(f1_score(y_test, y_pred, average=\"weighted\")))\n",
    "print('Accuracy= {:.2f}'. format(accuracy_score(y_test, y_pred)))\n",
    "\n",
    "X_train, X_test, y_train, y_test = train_test_split(X, y, test_size = 0.3, random_state = 2)\n",
    "model = GaussianNB()\n",
    "model.fit(X_train,y_train)\n",
    "y_pred = model.predict(X_test)\n",
    "print(\"Gaussian Naie Bayes\")\n",
    "print('Precision= {:.2f}'.format(precision_score(y_test, y_pred, average=\"weighted\")))\n",
    "print('Recall= {:.2f}'. format(recall_score(y_test, y_pred, average=\"weighted\")))\n",
    "print('F1= {:.2f}'. format(f1_score(y_test, y_pred, average=\"weighted\")))\n",
    "print('Accuracy= {:.2f}'. format(accuracy_score(y_test, y_pred)))"
   ],
   "outputs": [],
   "metadata": {}
  },
  {
   "cell_type": "code",
   "execution_count": null,
   "source": [
    "# Perform Binning\n",
    "rslt_df_sl['cases_new_category'] = (pd.cut(rslt_df_sl['cases_new'].values, bins=getBinsRange(rslt_df_sl),labels=labels, include_lowest=True))\n",
    "X = rslt_df_sl.drop(['cases_new','date','state','cases_new_category'], axis=1)\n",
    "y = rslt_df_sl.cases_new_category # Target variable\n",
    "X_train, X_test, y_train, y_test = train_test_split(X, y, test_size = 0.3, random_state = 1)\n",
    "clf = DecisionTreeClassifier(criterion=\"entropy\", max_depth=5, splitter='random') #pruning the tree by setting the depth\n",
    "# Train Decision Tree Classifer*\n",
    "clf = clf.fit(X_train,y_train)\n",
    "#Predict the response for test dataset*\n",
    "y_pred = clf.predict(X_test)\n",
    "print(\"Decision Tree Classifier\")\n",
    "print('Precision= {:.2f}'.format(precision_score(y_test, y_pred, average=\"weighted\")))\n",
    "print('Recall= {:.2f}'. format(recall_score(y_test, y_pred, average=\"weighted\")))\n",
    "print('F1= {:.2f}'. format(f1_score(y_test, y_pred, average=\"weighted\")))\n",
    "print('Accuracy= {:.2f}'. format(accuracy_score(y_test, y_pred)))\n",
    "\n",
    "X_train, X_test, y_train, y_test = train_test_split(X, y, test_size = 0.3, random_state = 2)\n",
    "model = GaussianNB()\n",
    "model.fit(X_train,y_train)\n",
    "y_pred = model.predict(X_test)\n",
    "print(\"Gaussian Naie Bayes\")\n",
    "print('Precision= {:.2f}'.format(precision_score(y_test, y_pred, average=\"weighted\")))\n",
    "print('Recall= {:.2f}'. format(recall_score(y_test, y_pred, average=\"weighted\")))\n",
    "print('F1= {:.2f}'. format(f1_score(y_test, y_pred, average=\"weighted\")))\n",
    "print('Accuracy= {:.2f}'. format(accuracy_score(y_test, y_pred)))"
   ],
   "outputs": [],
   "metadata": {}
  },
  {
   "cell_type": "code",
   "execution_count": null,
   "source": [],
   "outputs": [],
   "metadata": {}
  },
  {
   "cell_type": "code",
   "execution_count": null,
   "source": [],
   "outputs": [],
   "metadata": {}
  }
 ],
 "metadata": {
  "kernelspec": {
   "name": "python3",
   "display_name": "Python 3.8.8 64-bit"
  },
  "language_info": {
   "codemirror_mode": {
    "name": "ipython",
    "version": 3
   },
   "file_extension": ".py",
   "mimetype": "text/x-python",
   "name": "python",
   "nbconvert_exporter": "python",
   "pygments_lexer": "ipython3",
   "version": "3.8.8"
  },
  "interpreter": {
   "hash": "6d4b264f481e825a7c4e20ef4ea7c50d7eb5c22d9ad7e6e450697424ad8e38fc"
  }
 },
 "nbformat": 4,
 "nbformat_minor": 4
}