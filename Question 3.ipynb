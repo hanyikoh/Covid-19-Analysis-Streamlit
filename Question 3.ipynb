{
 "cells": [
  {
   "cell_type": "markdown",
   "source": [
    "# Import Necessary Libraries"
   ],
   "metadata": {}
  },
  {
   "cell_type": "code",
   "execution_count": 96,
   "source": [
    "import os\r\n",
    "import numpy as np\r\n",
    "import pandas as pd\r\n",
    "import matplotlib.pyplot as plt\r\n",
    "from matplotlib.dates import DateFormatter\r\n",
    "import matplotlib.ticker as ticker\r\n",
    "import seaborn as sns\r\n",
    "from scipy import stats\r\n",
    "import missingno as msno"
   ],
   "outputs": [],
   "metadata": {}
  },
  {
   "cell_type": "code",
   "execution_count": 97,
   "source": [
    "from sklearn.preprocessing import OneHotEncoder\r\n",
    "from sklearn.ensemble import RandomForestClassifier\r\n",
    "from boruta import BorutaPy\r\n",
    "from sklearn.feature_selection import RFECV\r\n",
    "\r\n",
    "import numpy as np\r\n",
    "import pandas as pd\r\n",
    "\r\n",
    "from matplotlib import pyplot as plt\r\n",
    "import seaborn as sns\r\n",
    "\r\n",
    "from sklearn.preprocessing import MinMaxScaler\r\n",
    "from tqdm import tqdm_notebook, tqdm\r\n",
    "\r\n",
    "import warnings\r\n",
    "warnings.filterwarnings('ignore')\r\n",
    "from sklearn.feature_selection import RFE\r\n",
    "from sklearn.linear_model import LogisticRegression"
   ],
   "outputs": [],
   "metadata": {}
  },
  {
   "cell_type": "code",
   "execution_count": 98,
   "source": [
    "from sklearn.tree import DecisionTreeRegressor  \r\n",
    "from sklearn.model_selection import train_test_split\r\n",
    "from sklearn import tree\r\n",
    "from sklearn.metrics import r2_score,median_absolute_error,mean_squared_error,mean_absolute_error,accuracy_score\r\n",
    "from sklearn import preprocessing # label encoding\r\n",
    "from sklearn.tree import DecisionTreeClassifier # Import Decision Tree Classifier\r\n",
    "from sklearn.model_selection import train_test_split # Import train_test_split functionn\r\n",
    "from IPython.display import Image  \r\n",
    "from sklearn.naive_bayes import GaussianNB"
   ],
   "outputs": [],
   "metadata": {}
  },
  {
   "cell_type": "markdown",
   "source": [
    "# Define Path for Dataset & Variable Initialization"
   ],
   "metadata": {}
  },
  {
   "cell_type": "code",
   "execution_count": 99,
   "source": [
    "malaysia_case_dir = 'C:/Users/Owner/Desktop/Data Mining/Assignment/Covid-19-Analysis-Streamlit/dataset/cases_malaysia.csv'\r\n",
    "state_case_dir = \"C:/Users/Owner/Desktop/Data Mining/Assignment/Covid-19-Analysis-Streamlit/dataset/cases_state.csv\"\r\n",
    "checkIn_dir = \"C:/Users/Owner/Desktop/Data Mining/Assignment/Covid-19-Analysis-Streamlit/dataset/checkin_state.csv\"\r\n",
    "clusters_dir = \"C:/Users/Owner/Desktop/Data Mining/Assignment/Covid-19-Analysis-Streamlit/dataset/clusters.csv\"\r\n",
    "hospital_dir =  \"C:/Users/Owner/Desktop/Data Mining/Assignment/Covid-19-Analysis-Streamlit/dataset/hospital.csv\"\r\n",
    "pkrc_dir = \"C:/Users/Owner/Desktop/Data Mining/Assignment/Covid-19-Analysis-Streamlit/dataset/pkrc.csv\"\r\n",
    "malaysia_tests_dir = \"C:/Users/Owner/Desktop/Data Mining/Assignment/Covid-19-Analysis-Streamlit/dataset/tests_malaysia.csv\"\r\n",
    "states_tests_dir = \"C:/Users/Owner/Desktop/Data Mining/Assignment/Covid-19-Analysis-Streamlit/dataset/tests_state.csv\""
   ],
   "outputs": [],
   "metadata": {}
  },
  {
   "cell_type": "markdown",
   "source": [
    "**Time frame is set from 1/7/2021 until 31/8/2021** \n",
    "</p> This is because the tests_state dataset on MOH only has data available from 1st of July 2021 to 21st of September 2021. Also, the recent data is more helpful to predict future new Covid-19 cases in Malaysia since the data from 2020 to 2021 is having big differences within short time period. "
   ],
   "metadata": {}
  },
  {
   "cell_type": "code",
   "execution_count": 100,
   "source": [
    "start_date = \"2021-07-01\"\r\n",
    "end_date = \"2021-08-31\""
   ],
   "outputs": [],
   "metadata": {}
  },
  {
   "cell_type": "markdown",
   "source": [
    "# <font color='FireBrick'>Question 3 (i)</font> "
   ],
   "metadata": {}
  },
  {
   "cell_type": "markdown",
   "source": [
    "## Exploratory Data Analysis (EDA)"
   ],
   "metadata": {}
  },
  {
   "cell_type": "markdown",
   "source": [
    "Perform EDA by identifying missing value using isna() function, and outliers using box plot, we did not remove outliers because there are important to the datasets and statistically significant."
   ],
   "metadata": {}
  },
  {
   "cell_type": "markdown",
   "source": [
    "### Exploratory Data Analysis for Malaysia Case Dataset"
   ],
   "metadata": {}
  },
  {
   "cell_type": "code",
   "execution_count": 101,
   "source": [
    "malaysia_case_df = pd.read_csv(malaysia_case_dir)\r\n",
    "after_start_date = malaysia_case_df[\"date\"] >= start_date\r\n",
    "before_end_date = malaysia_case_df[\"date\"] <= end_date\r\n",
    "between_two_dates = after_start_date & before_end_date\r\n",
    "malaysia_case_df = malaysia_case_df.loc[between_two_dates]\r\n",
    "malaysia_case_df.head()"
   ],
   "outputs": [
    {
     "output_type": "execute_result",
     "data": {
      "text/html": [
       "<div>\n",
       "<style scoped>\n",
       "    .dataframe tbody tr th:only-of-type {\n",
       "        vertical-align: middle;\n",
       "    }\n",
       "\n",
       "    .dataframe tbody tr th {\n",
       "        vertical-align: top;\n",
       "    }\n",
       "\n",
       "    .dataframe thead th {\n",
       "        text-align: right;\n",
       "    }\n",
       "</style>\n",
       "<table border=\"1\" class=\"dataframe\">\n",
       "  <thead>\n",
       "    <tr style=\"text-align: right;\">\n",
       "      <th></th>\n",
       "      <th>date</th>\n",
       "      <th>cases_new</th>\n",
       "      <th>cases_import</th>\n",
       "      <th>cases_recovered</th>\n",
       "      <th>cluster_import</th>\n",
       "      <th>cluster_religious</th>\n",
       "      <th>cluster_community</th>\n",
       "      <th>cluster_highRisk</th>\n",
       "      <th>cluster_education</th>\n",
       "      <th>cluster_detentionCentre</th>\n",
       "      <th>cluster_workplace</th>\n",
       "    </tr>\n",
       "  </thead>\n",
       "  <tbody>\n",
       "    <tr>\n",
       "      <th>523</th>\n",
       "      <td>2021-07-01</td>\n",
       "      <td>6988</td>\n",
       "      <td>5</td>\n",
       "      <td>5580</td>\n",
       "      <td>0.0</td>\n",
       "      <td>0.0</td>\n",
       "      <td>305.0</td>\n",
       "      <td>41.0</td>\n",
       "      <td>23.0</td>\n",
       "      <td>209.0</td>\n",
       "      <td>1341.0</td>\n",
       "    </tr>\n",
       "    <tr>\n",
       "      <th>524</th>\n",
       "      <td>2021-07-02</td>\n",
       "      <td>6982</td>\n",
       "      <td>3</td>\n",
       "      <td>6278</td>\n",
       "      <td>0.0</td>\n",
       "      <td>10.0</td>\n",
       "      <td>339.0</td>\n",
       "      <td>99.0</td>\n",
       "      <td>2.0</td>\n",
       "      <td>13.0</td>\n",
       "      <td>1358.0</td>\n",
       "    </tr>\n",
       "    <tr>\n",
       "      <th>525</th>\n",
       "      <td>2021-07-03</td>\n",
       "      <td>6658</td>\n",
       "      <td>11</td>\n",
       "      <td>5677</td>\n",
       "      <td>0.0</td>\n",
       "      <td>0.0</td>\n",
       "      <td>244.0</td>\n",
       "      <td>13.0</td>\n",
       "      <td>3.0</td>\n",
       "      <td>187.0</td>\n",
       "      <td>1152.0</td>\n",
       "    </tr>\n",
       "    <tr>\n",
       "      <th>526</th>\n",
       "      <td>2021-07-04</td>\n",
       "      <td>6045</td>\n",
       "      <td>20</td>\n",
       "      <td>5271</td>\n",
       "      <td>0.0</td>\n",
       "      <td>7.0</td>\n",
       "      <td>297.0</td>\n",
       "      <td>73.0</td>\n",
       "      <td>10.0</td>\n",
       "      <td>34.0</td>\n",
       "      <td>1121.0</td>\n",
       "    </tr>\n",
       "    <tr>\n",
       "      <th>527</th>\n",
       "      <td>2021-07-05</td>\n",
       "      <td>6387</td>\n",
       "      <td>26</td>\n",
       "      <td>4532</td>\n",
       "      <td>0.0</td>\n",
       "      <td>0.0</td>\n",
       "      <td>350.0</td>\n",
       "      <td>55.0</td>\n",
       "      <td>0.0</td>\n",
       "      <td>40.0</td>\n",
       "      <td>1182.0</td>\n",
       "    </tr>\n",
       "  </tbody>\n",
       "</table>\n",
       "</div>"
      ],
      "text/plain": [
       "           date  cases_new  cases_import  cases_recovered  cluster_import  \\\n",
       "523  2021-07-01       6988             5             5580             0.0   \n",
       "524  2021-07-02       6982             3             6278             0.0   \n",
       "525  2021-07-03       6658            11             5677             0.0   \n",
       "526  2021-07-04       6045            20             5271             0.0   \n",
       "527  2021-07-05       6387            26             4532             0.0   \n",
       "\n",
       "     cluster_religious  cluster_community  cluster_highRisk  \\\n",
       "523                0.0              305.0              41.0   \n",
       "524               10.0              339.0              99.0   \n",
       "525                0.0              244.0              13.0   \n",
       "526                7.0              297.0              73.0   \n",
       "527                0.0              350.0              55.0   \n",
       "\n",
       "     cluster_education  cluster_detentionCentre  cluster_workplace  \n",
       "523               23.0                    209.0             1341.0  \n",
       "524                2.0                     13.0             1358.0  \n",
       "525                3.0                    187.0             1152.0  \n",
       "526               10.0                     34.0             1121.0  \n",
       "527                0.0                     40.0             1182.0  "
      ]
     },
     "metadata": {},
     "execution_count": 101
    }
   ],
   "metadata": {}
  },
  {
   "cell_type": "code",
   "execution_count": 102,
   "source": [
    "malaysia_case_df.info()"
   ],
   "outputs": [
    {
     "output_type": "stream",
     "name": "stdout",
     "text": [
      "<class 'pandas.core.frame.DataFrame'>\n",
      "Int64Index: 62 entries, 523 to 584\n",
      "Data columns (total 11 columns):\n",
      " #   Column                   Non-Null Count  Dtype  \n",
      "---  ------                   --------------  -----  \n",
      " 0   date                     62 non-null     object \n",
      " 1   cases_new                62 non-null     int64  \n",
      " 2   cases_import             62 non-null     int64  \n",
      " 3   cases_recovered          62 non-null     int64  \n",
      " 4   cluster_import           62 non-null     float64\n",
      " 5   cluster_religious        62 non-null     float64\n",
      " 6   cluster_community        62 non-null     float64\n",
      " 7   cluster_highRisk         62 non-null     float64\n",
      " 8   cluster_education        62 non-null     float64\n",
      " 9   cluster_detentionCentre  62 non-null     float64\n",
      " 10  cluster_workplace        62 non-null     float64\n",
      "dtypes: float64(7), int64(3), object(1)\n",
      "memory usage: 5.8+ KB\n"
     ]
    }
   ],
   "metadata": {}
  },
  {
   "cell_type": "code",
   "execution_count": 103,
   "source": [
    "malaysia_case_df.describe()"
   ],
   "outputs": [
    {
     "output_type": "execute_result",
     "data": {
      "text/html": [
       "<div>\n",
       "<style scoped>\n",
       "    .dataframe tbody tr th:only-of-type {\n",
       "        vertical-align: middle;\n",
       "    }\n",
       "\n",
       "    .dataframe tbody tr th {\n",
       "        vertical-align: top;\n",
       "    }\n",
       "\n",
       "    .dataframe thead th {\n",
       "        text-align: right;\n",
       "    }\n",
       "</style>\n",
       "<table border=\"1\" class=\"dataframe\">\n",
       "  <thead>\n",
       "    <tr style=\"text-align: right;\">\n",
       "      <th></th>\n",
       "      <th>cases_new</th>\n",
       "      <th>cases_import</th>\n",
       "      <th>cases_recovered</th>\n",
       "      <th>cluster_import</th>\n",
       "      <th>cluster_religious</th>\n",
       "      <th>cluster_community</th>\n",
       "      <th>cluster_highRisk</th>\n",
       "      <th>cluster_education</th>\n",
       "      <th>cluster_detentionCentre</th>\n",
       "      <th>cluster_workplace</th>\n",
       "    </tr>\n",
       "  </thead>\n",
       "  <tbody>\n",
       "    <tr>\n",
       "      <th>count</th>\n",
       "      <td>62.000000</td>\n",
       "      <td>62.000000</td>\n",
       "      <td>62.000000</td>\n",
       "      <td>62.000000</td>\n",
       "      <td>62.000000</td>\n",
       "      <td>62.000000</td>\n",
       "      <td>62.000000</td>\n",
       "      <td>62.000000</td>\n",
       "      <td>62.000000</td>\n",
       "      <td>62.000000</td>\n",
       "    </tr>\n",
       "    <tr>\n",
       "      <th>mean</th>\n",
       "      <td>16036.693548</td>\n",
       "      <td>16.709677</td>\n",
       "      <td>12565.241935</td>\n",
       "      <td>0.193548</td>\n",
       "      <td>10.935484</td>\n",
       "      <td>507.919355</td>\n",
       "      <td>68.500000</td>\n",
       "      <td>21.467742</td>\n",
       "      <td>117.548387</td>\n",
       "      <td>1271.483871</td>\n",
       "    </tr>\n",
       "    <tr>\n",
       "      <th>std</th>\n",
       "      <td>5344.138169</td>\n",
       "      <td>12.175475</td>\n",
       "      <td>5830.184317</td>\n",
       "      <td>1.128450</td>\n",
       "      <td>14.078085</td>\n",
       "      <td>136.033903</td>\n",
       "      <td>34.836268</td>\n",
       "      <td>20.246609</td>\n",
       "      <td>81.127844</td>\n",
       "      <td>273.556105</td>\n",
       "    </tr>\n",
       "    <tr>\n",
       "      <th>min</th>\n",
       "      <td>6045.000000</td>\n",
       "      <td>0.000000</td>\n",
       "      <td>4532.000000</td>\n",
       "      <td>0.000000</td>\n",
       "      <td>0.000000</td>\n",
       "      <td>244.000000</td>\n",
       "      <td>13.000000</td>\n",
       "      <td>0.000000</td>\n",
       "      <td>13.000000</td>\n",
       "      <td>734.000000</td>\n",
       "    </tr>\n",
       "    <tr>\n",
       "      <th>25%</th>\n",
       "      <td>11709.750000</td>\n",
       "      <td>7.250000</td>\n",
       "      <td>6392.500000</td>\n",
       "      <td>0.000000</td>\n",
       "      <td>2.000000</td>\n",
       "      <td>416.000000</td>\n",
       "      <td>41.250000</td>\n",
       "      <td>5.500000</td>\n",
       "      <td>63.500000</td>\n",
       "      <td>1072.500000</td>\n",
       "    </tr>\n",
       "    <tr>\n",
       "      <th>50%</th>\n",
       "      <td>17160.000000</td>\n",
       "      <td>13.500000</td>\n",
       "      <td>12238.000000</td>\n",
       "      <td>0.000000</td>\n",
       "      <td>6.000000</td>\n",
       "      <td>494.000000</td>\n",
       "      <td>66.000000</td>\n",
       "      <td>16.500000</td>\n",
       "      <td>93.500000</td>\n",
       "      <td>1246.000000</td>\n",
       "    </tr>\n",
       "    <tr>\n",
       "      <th>75%</th>\n",
       "      <td>20591.750000</td>\n",
       "      <td>25.000000</td>\n",
       "      <td>17679.000000</td>\n",
       "      <td>0.000000</td>\n",
       "      <td>15.750000</td>\n",
       "      <td>597.750000</td>\n",
       "      <td>84.000000</td>\n",
       "      <td>29.750000</td>\n",
       "      <td>173.500000</td>\n",
       "      <td>1461.000000</td>\n",
       "    </tr>\n",
       "    <tr>\n",
       "      <th>max</th>\n",
       "      <td>24599.000000</td>\n",
       "      <td>58.000000</td>\n",
       "      <td>22657.000000</td>\n",
       "      <td>8.000000</td>\n",
       "      <td>88.000000</td>\n",
       "      <td>825.000000</td>\n",
       "      <td>189.000000</td>\n",
       "      <td>92.000000</td>\n",
       "      <td>369.000000</td>\n",
       "      <td>2135.000000</td>\n",
       "    </tr>\n",
       "  </tbody>\n",
       "</table>\n",
       "</div>"
      ],
      "text/plain": [
       "          cases_new  cases_import  cases_recovered  cluster_import  \\\n",
       "count     62.000000     62.000000        62.000000       62.000000   \n",
       "mean   16036.693548     16.709677     12565.241935        0.193548   \n",
       "std     5344.138169     12.175475      5830.184317        1.128450   \n",
       "min     6045.000000      0.000000      4532.000000        0.000000   \n",
       "25%    11709.750000      7.250000      6392.500000        0.000000   \n",
       "50%    17160.000000     13.500000     12238.000000        0.000000   \n",
       "75%    20591.750000     25.000000     17679.000000        0.000000   \n",
       "max    24599.000000     58.000000     22657.000000        8.000000   \n",
       "\n",
       "       cluster_religious  cluster_community  cluster_highRisk  \\\n",
       "count          62.000000          62.000000         62.000000   \n",
       "mean           10.935484         507.919355         68.500000   \n",
       "std            14.078085         136.033903         34.836268   \n",
       "min             0.000000         244.000000         13.000000   \n",
       "25%             2.000000         416.000000         41.250000   \n",
       "50%             6.000000         494.000000         66.000000   \n",
       "75%            15.750000         597.750000         84.000000   \n",
       "max            88.000000         825.000000        189.000000   \n",
       "\n",
       "       cluster_education  cluster_detentionCentre  cluster_workplace  \n",
       "count          62.000000                62.000000          62.000000  \n",
       "mean           21.467742               117.548387        1271.483871  \n",
       "std            20.246609                81.127844         273.556105  \n",
       "min             0.000000                13.000000         734.000000  \n",
       "25%             5.500000                63.500000        1072.500000  \n",
       "50%            16.500000                93.500000        1246.000000  \n",
       "75%            29.750000               173.500000        1461.000000  \n",
       "max            92.000000               369.000000        2135.000000  "
      ]
     },
     "metadata": {},
     "execution_count": 103
    }
   ],
   "metadata": {}
  },
  {
   "cell_type": "code",
   "execution_count": 104,
   "source": [
    "nRow, nCol = malaysia_case_df.shape\r\n",
    "print(f'There are {nRow} rows and {nCol} columns')"
   ],
   "outputs": [
    {
     "output_type": "stream",
     "name": "stdout",
     "text": [
      "There are 62 rows and 11 columns\n"
     ]
    }
   ],
   "metadata": {}
  },
  {
   "cell_type": "code",
   "execution_count": 105,
   "source": [
    "malaysia_case_df.isna().sum()"
   ],
   "outputs": [
    {
     "output_type": "execute_result",
     "data": {
      "text/plain": [
       "date                       0\n",
       "cases_new                  0\n",
       "cases_import               0\n",
       "cases_recovered            0\n",
       "cluster_import             0\n",
       "cluster_religious          0\n",
       "cluster_community          0\n",
       "cluster_highRisk           0\n",
       "cluster_education          0\n",
       "cluster_detentionCentre    0\n",
       "cluster_workplace          0\n",
       "dtype: int64"
      ]
     },
     "metadata": {},
     "execution_count": 105
    }
   ],
   "metadata": {}
  },
  {
   "cell_type": "markdown",
   "source": [
    "##### Identify Missing Value\n",
    "</p> Visualize the number of missing values as a bar chart"
   ],
   "metadata": {}
  },
  {
   "cell_type": "code",
   "execution_count": 106,
   "source": [
    "msno.bar(malaysia_case_df)"
   ],
   "outputs": [
    {
     "output_type": "execute_result",
     "data": {
      "text/plain": [
       "<AxesSubplot:>"
      ]
     },
     "metadata": {},
     "execution_count": 106
    },
    {
     "output_type": "display_data",
     "data": {
      "image/png": "[encoded data removed]",
      "text/plain": [
       "<Figure size 1800x720 with 3 Axes>"
      ]
     },
     "metadata": {
      "needs_background": "light"
     }
    }
   ],
   "metadata": {}
  },
  {
   "cell_type": "markdown",
   "source": [
    "##### Identify Outliers\n",
    "</p> Visualize the data using box plot, check the distribution of data and outliers"
   ],
   "metadata": {}
  },
  {
   "cell_type": "code",
   "execution_count": 107,
   "source": [
    "fig, axes = plt.subplots(4, 3, figsize=(15, 5), sharey=True)\r\n",
    "# fig.suptitle('Outliers Visualization')\r\n",
    "plt.subplots_adjust(left=None, bottom= 0.1, right=None, top=2, wspace=0.2, hspace=0.6)\r\n",
    "\r\n",
    "sns.boxplot(data=malaysia_case_df,x=malaysia_case_df[\"cases_new\"],ax=axes[0][0])\r\n",
    "axes[0][0].set_title('New Case')\r\n",
    "\r\n",
    "sns.boxplot(data=malaysia_case_df,x=malaysia_case_df[\"cases_import\"],ax=axes[0][1])\r\n",
    "axes[0][1].set_title('Case Imprt')\r\n",
    "\r\n",
    "sns.boxplot(data=malaysia_case_df,x=malaysia_case_df[\"cases_recovered\"],ax=axes[0][2])\r\n",
    "axes[0][2].set_title('Case Recovered')\r\n",
    "\r\n",
    "sns.boxplot(data=malaysia_case_df,x=malaysia_case_df[\"cluster_import\"],ax=axes[1][0])\r\n",
    "axes[1][0].set_title('cluster_workplace')\r\n",
    "\r\n",
    "sns.boxplot(data=malaysia_case_df,x=malaysia_case_df[\"cluster_religious\"],ax=axes[1][1])\r\n",
    "axes[1][1].set_title('cluster_religious')\r\n",
    "\r\n",
    "sns.boxplot(data=malaysia_case_df,x=malaysia_case_df[\"cluster_community\"],ax=axes[1][2])\r\n",
    "axes[1][2].set_title('cluster_community')\r\n",
    "\r\n",
    "sns.boxplot(data=malaysia_case_df,x=malaysia_case_df[\"cluster_highRisk\"],ax=axes[2][0])\r\n",
    "axes[2][0].set_title('cluster_highRisk')\r\n",
    "\r\n",
    "sns.boxplot(data=malaysia_case_df,x=malaysia_case_df[\"cluster_education\"],ax=axes[2][1])\r\n",
    "axes[2][1].set_title('cluster_education')\r\n",
    "\r\n",
    "sns.boxplot(data=malaysia_case_df,x=malaysia_case_df[\"cluster_detentionCentre\"],ax=axes[2][2])\r\n",
    "axes[2][2].set_title('cluster_detentionCentre')\r\n",
    "\r\n",
    "sns.boxplot(data=malaysia_case_df,x=malaysia_case_df[\"cluster_workplace\"],ax=axes[3][0])\r\n",
    "axes[3][0].set_title('cluster_workplace')"
   ],
   "outputs": [
    {
     "output_type": "execute_result",
     "data": {
      "text/plain": [
       "Text(0.5, 1.0, 'cluster_workplace')"
      ]
     },
     "metadata": {},
     "execution_count": 107
    },
    {
     "output_type": "display_data",
     "data": {
      "image/png": "[encoded data removed]",
      "text/plain": [
       "<Figure size 1080x360 with 12 Axes>"
      ]
     },
     "metadata": {
      "needs_background": "light"
     }
    }
   ],
   "metadata": {}
  },
  {
   "cell_type": "markdown",
   "source": [
    "### Exploratory Data Analysis for State Case Dataset"
   ],
   "metadata": {}
  },
  {
   "cell_type": "code",
   "execution_count": 108,
   "source": [
    "state_case_df = pd.read_csv(state_case_dir)\r\n",
    "after_start_date = state_case_df[\"date\"] >= start_date\r\n",
    "before_end_date = state_case_df[\"date\"] <= end_date\r\n",
    "between_two_dates = after_start_date & before_end_date\r\n",
    "state_case_df = state_case_df.loc[between_two_dates]\r\n",
    "state_case_df.head()"
   ],
   "outputs": [
    {
     "output_type": "execute_result",
     "data": {
      "text/html": [
       "<div>\n",
       "<style scoped>\n",
       "    .dataframe tbody tr th:only-of-type {\n",
       "        vertical-align: middle;\n",
       "    }\n",
       "\n",
       "    .dataframe tbody tr th {\n",
       "        vertical-align: top;\n",
       "    }\n",
       "\n",
       "    .dataframe thead th {\n",
       "        text-align: right;\n",
       "    }\n",
       "</style>\n",
       "<table border=\"1\" class=\"dataframe\">\n",
       "  <thead>\n",
       "    <tr style=\"text-align: right;\">\n",
       "      <th></th>\n",
       "      <th>date</th>\n",
       "      <th>state</th>\n",
       "      <th>cases_import</th>\n",
       "      <th>cases_new</th>\n",
       "      <th>cases_recovered</th>\n",
       "    </tr>\n",
       "  </thead>\n",
       "  <tbody>\n",
       "    <tr>\n",
       "      <th>8368</th>\n",
       "      <td>2021-07-01</td>\n",
       "      <td>Johor</td>\n",
       "      <td>1</td>\n",
       "      <td>270</td>\n",
       "      <td>361</td>\n",
       "    </tr>\n",
       "    <tr>\n",
       "      <th>8369</th>\n",
       "      <td>2021-07-01</td>\n",
       "      <td>Kedah</td>\n",
       "      <td>0</td>\n",
       "      <td>250</td>\n",
       "      <td>186</td>\n",
       "    </tr>\n",
       "    <tr>\n",
       "      <th>8370</th>\n",
       "      <td>2021-07-01</td>\n",
       "      <td>Kelantan</td>\n",
       "      <td>0</td>\n",
       "      <td>108</td>\n",
       "      <td>208</td>\n",
       "    </tr>\n",
       "    <tr>\n",
       "      <th>8371</th>\n",
       "      <td>2021-07-01</td>\n",
       "      <td>Melaka</td>\n",
       "      <td>0</td>\n",
       "      <td>311</td>\n",
       "      <td>317</td>\n",
       "    </tr>\n",
       "    <tr>\n",
       "      <th>8372</th>\n",
       "      <td>2021-07-01</td>\n",
       "      <td>Negeri Sembilan</td>\n",
       "      <td>0</td>\n",
       "      <td>692</td>\n",
       "      <td>883</td>\n",
       "    </tr>\n",
       "  </tbody>\n",
       "</table>\n",
       "</div>"
      ],
      "text/plain": [
       "            date            state  cases_import  cases_new  cases_recovered\n",
       "8368  2021-07-01            Johor             1        270              361\n",
       "8369  2021-07-01            Kedah             0        250              186\n",
       "8370  2021-07-01         Kelantan             0        108              208\n",
       "8371  2021-07-01           Melaka             0        311              317\n",
       "8372  2021-07-01  Negeri Sembilan             0        692              883"
      ]
     },
     "metadata": {},
     "execution_count": 108
    }
   ],
   "metadata": {}
  },
  {
   "cell_type": "code",
   "execution_count": 109,
   "source": [
    "state_case_df.info()"
   ],
   "outputs": [
    {
     "output_type": "stream",
     "name": "stdout",
     "text": [
      "<class 'pandas.core.frame.DataFrame'>\n",
      "Int64Index: 992 entries, 8368 to 9359\n",
      "Data columns (total 5 columns):\n",
      " #   Column           Non-Null Count  Dtype \n",
      "---  ------           --------------  ----- \n",
      " 0   date             992 non-null    object\n",
      " 1   state            992 non-null    object\n",
      " 2   cases_import     992 non-null    int64 \n",
      " 3   cases_new        992 non-null    int64 \n",
      " 4   cases_recovered  992 non-null    int64 \n",
      "dtypes: int64(3), object(2)\n",
      "memory usage: 46.5+ KB\n"
     ]
    }
   ],
   "metadata": {}
  },
  {
   "cell_type": "code",
   "execution_count": 110,
   "source": [
    "state_case_df.describe()"
   ],
   "outputs": [
    {
     "output_type": "execute_result",
     "data": {
      "text/html": [
       "<div>\n",
       "<style scoped>\n",
       "    .dataframe tbody tr th:only-of-type {\n",
       "        vertical-align: middle;\n",
       "    }\n",
       "\n",
       "    .dataframe tbody tr th {\n",
       "        vertical-align: top;\n",
       "    }\n",
       "\n",
       "    .dataframe thead th {\n",
       "        text-align: right;\n",
       "    }\n",
       "</style>\n",
       "<table border=\"1\" class=\"dataframe\">\n",
       "  <thead>\n",
       "    <tr style=\"text-align: right;\">\n",
       "      <th></th>\n",
       "      <th>cases_import</th>\n",
       "      <th>cases_new</th>\n",
       "      <th>cases_recovered</th>\n",
       "    </tr>\n",
       "  </thead>\n",
       "  <tbody>\n",
       "    <tr>\n",
       "      <th>count</th>\n",
       "      <td>992.000000</td>\n",
       "      <td>992.000000</td>\n",
       "      <td>992.000000</td>\n",
       "    </tr>\n",
       "    <tr>\n",
       "      <th>mean</th>\n",
       "      <td>1.044355</td>\n",
       "      <td>1002.293347</td>\n",
       "      <td>785.327621</td>\n",
       "    </tr>\n",
       "    <tr>\n",
       "      <th>std</th>\n",
       "      <td>3.885865</td>\n",
       "      <td>1427.354131</td>\n",
       "      <td>1271.117746</td>\n",
       "    </tr>\n",
       "    <tr>\n",
       "      <th>min</th>\n",
       "      <td>0.000000</td>\n",
       "      <td>0.000000</td>\n",
       "      <td>0.000000</td>\n",
       "    </tr>\n",
       "    <tr>\n",
       "      <th>25%</th>\n",
       "      <td>0.000000</td>\n",
       "      <td>206.750000</td>\n",
       "      <td>128.750000</td>\n",
       "    </tr>\n",
       "    <tr>\n",
       "      <th>50%</th>\n",
       "      <td>0.000000</td>\n",
       "      <td>570.500000</td>\n",
       "      <td>415.500000</td>\n",
       "    </tr>\n",
       "    <tr>\n",
       "      <th>75%</th>\n",
       "      <td>0.000000</td>\n",
       "      <td>1216.000000</td>\n",
       "      <td>830.500000</td>\n",
       "    </tr>\n",
       "    <tr>\n",
       "      <th>max</th>\n",
       "      <td>55.000000</td>\n",
       "      <td>8792.000000</td>\n",
       "      <td>8801.000000</td>\n",
       "    </tr>\n",
       "  </tbody>\n",
       "</table>\n",
       "</div>"
      ],
      "text/plain": [
       "       cases_import    cases_new  cases_recovered\n",
       "count    992.000000   992.000000       992.000000\n",
       "mean       1.044355  1002.293347       785.327621\n",
       "std        3.885865  1427.354131      1271.117746\n",
       "min        0.000000     0.000000         0.000000\n",
       "25%        0.000000   206.750000       128.750000\n",
       "50%        0.000000   570.500000       415.500000\n",
       "75%        0.000000  1216.000000       830.500000\n",
       "max       55.000000  8792.000000      8801.000000"
      ]
     },
     "metadata": {},
     "execution_count": 110
    }
   ],
   "metadata": {}
  },
  {
   "cell_type": "code",
   "execution_count": 111,
   "source": [
    "state_case_df.groupby([state_case_df['date']]).sum()"
   ],
   "outputs": [
    {
     "output_type": "execute_result",
     "data": {
      "text/html": [
       "<div>\n",
       "<style scoped>\n",
       "    .dataframe tbody tr th:only-of-type {\n",
       "        vertical-align: middle;\n",
       "    }\n",
       "\n",
       "    .dataframe tbody tr th {\n",
       "        vertical-align: top;\n",
       "    }\n",
       "\n",
       "    .dataframe thead th {\n",
       "        text-align: right;\n",
       "    }\n",
       "</style>\n",
       "<table border=\"1\" class=\"dataframe\">\n",
       "  <thead>\n",
       "    <tr style=\"text-align: right;\">\n",
       "      <th></th>\n",
       "      <th>cases_import</th>\n",
       "      <th>cases_new</th>\n",
       "      <th>cases_recovered</th>\n",
       "    </tr>\n",
       "    <tr>\n",
       "      <th>date</th>\n",
       "      <th></th>\n",
       "      <th></th>\n",
       "      <th></th>\n",
       "    </tr>\n",
       "  </thead>\n",
       "  <tbody>\n",
       "    <tr>\n",
       "      <th>2021-07-01</th>\n",
       "      <td>5</td>\n",
       "      <td>6988</td>\n",
       "      <td>5580</td>\n",
       "    </tr>\n",
       "    <tr>\n",
       "      <th>2021-07-02</th>\n",
       "      <td>3</td>\n",
       "      <td>6982</td>\n",
       "      <td>6278</td>\n",
       "    </tr>\n",
       "    <tr>\n",
       "      <th>2021-07-03</th>\n",
       "      <td>11</td>\n",
       "      <td>6658</td>\n",
       "      <td>5677</td>\n",
       "    </tr>\n",
       "    <tr>\n",
       "      <th>2021-07-04</th>\n",
       "      <td>20</td>\n",
       "      <td>6045</td>\n",
       "      <td>5271</td>\n",
       "    </tr>\n",
       "    <tr>\n",
       "      <th>2021-07-05</th>\n",
       "      <td>26</td>\n",
       "      <td>6387</td>\n",
       "      <td>4532</td>\n",
       "    </tr>\n",
       "    <tr>\n",
       "      <th>...</th>\n",
       "      <td>...</td>\n",
       "      <td>...</td>\n",
       "      <td>...</td>\n",
       "    </tr>\n",
       "    <tr>\n",
       "      <th>2021-08-27</th>\n",
       "      <td>15</td>\n",
       "      <td>22070</td>\n",
       "      <td>21877</td>\n",
       "    </tr>\n",
       "    <tr>\n",
       "      <th>2021-08-28</th>\n",
       "      <td>12</td>\n",
       "      <td>22597</td>\n",
       "      <td>19492</td>\n",
       "    </tr>\n",
       "    <tr>\n",
       "      <th>2021-08-29</th>\n",
       "      <td>7</td>\n",
       "      <td>20579</td>\n",
       "      <td>20845</td>\n",
       "    </tr>\n",
       "    <tr>\n",
       "      <th>2021-08-30</th>\n",
       "      <td>16</td>\n",
       "      <td>19268</td>\n",
       "      <td>21257</td>\n",
       "    </tr>\n",
       "    <tr>\n",
       "      <th>2021-08-31</th>\n",
       "      <td>1</td>\n",
       "      <td>20897</td>\n",
       "      <td>18465</td>\n",
       "    </tr>\n",
       "  </tbody>\n",
       "</table>\n",
       "<p>62 rows × 3 columns</p>\n",
       "</div>"
      ],
      "text/plain": [
       "            cases_import  cases_new  cases_recovered\n",
       "date                                                \n",
       "2021-07-01             5       6988             5580\n",
       "2021-07-02             3       6982             6278\n",
       "2021-07-03            11       6658             5677\n",
       "2021-07-04            20       6045             5271\n",
       "2021-07-05            26       6387             4532\n",
       "...                  ...        ...              ...\n",
       "2021-08-27            15      22070            21877\n",
       "2021-08-28            12      22597            19492\n",
       "2021-08-29             7      20579            20845\n",
       "2021-08-30            16      19268            21257\n",
       "2021-08-31             1      20897            18465\n",
       "\n",
       "[62 rows x 3 columns]"
      ]
     },
     "metadata": {},
     "execution_count": 111
    }
   ],
   "metadata": {}
  },
  {
   "cell_type": "code",
   "execution_count": 112,
   "source": [
    "state_case_df.isna().sum()"
   ],
   "outputs": [
    {
     "output_type": "execute_result",
     "data": {
      "text/plain": [
       "date               0\n",
       "state              0\n",
       "cases_import       0\n",
       "cases_new          0\n",
       "cases_recovered    0\n",
       "dtype: int64"
      ]
     },
     "metadata": {},
     "execution_count": 112
    }
   ],
   "metadata": {}
  },
  {
   "cell_type": "markdown",
   "source": [
    "##### Identify Missing Value\n",
    "</p> Visualize the number of missing values as a bar chart"
   ],
   "metadata": {}
  },
  {
   "cell_type": "code",
   "execution_count": 113,
   "source": [
    "msno.bar(state_case_df)"
   ],
   "outputs": [
    {
     "output_type": "execute_result",
     "data": {
      "text/plain": [
       "<AxesSubplot:>"
      ]
     },
     "metadata": {},
     "execution_count": 113
    },
    {
     "output_type": "display_data",
     "data": {
      "image/png": "[encoded data removed]",
      "text/plain": [
       "<Figure size 1800x720 with 3 Axes>"
      ]
     },
     "metadata": {
      "needs_background": "light"
     }
    }
   ],
   "metadata": {}
  },
  {
   "cell_type": "markdown",
   "source": [
    "##### Identify Outliers\n",
    "</p> Visualize the data using box plot, check the distribution of data and outliers"
   ],
   "metadata": {}
  },
  {
   "cell_type": "code",
   "execution_count": 114,
   "source": [
    "fig, axes = plt.subplots(1, 3, figsize=(15, 5), sharey=True)\r\n",
    "# fig.suptitle('Outliers Visualization')\r\n",
    "plt.subplots_adjust(left=None, bottom= 0.1, right=None, top=1, wspace=0.2, hspace=0.6)\r\n",
    "\r\n",
    "# sns.boxplot(data=state_case_df,x=state_case_df[\"cases_new\"],ax=axes[0][0])\r\n",
    "# axes[0][0].set_title('Date')\r\n",
    "# sns.boxplot(data=state_case_df,x=state_case_df[\"cases_new\"],ax=axes[0][1])\r\n",
    "# axes[0][1].set_title('State')\r\n",
    "sns.boxplot(data=state_case_df,x=state_case_df[\"cases_import\"],ax=axes[0])\r\n",
    "axes[0].set_title('Import Case')\r\n",
    "sns.boxplot(data=state_case_df,x=state_case_df[\"cases_new\"],ax=axes[1])\r\n",
    "axes[1].set_title('New Case')\r\n",
    "sns.boxplot(data=state_case_df,x=state_case_df[\"cases_recovered\"],ax=axes[2])\r\n",
    "axes[2].set_title('Recovered Case')"
   ],
   "outputs": [
    {
     "output_type": "execute_result",
     "data": {
      "text/plain": [
       "Text(0.5, 1.0, 'Recovered Case')"
      ]
     },
     "metadata": {},
     "execution_count": 114
    },
    {
     "output_type": "display_data",
     "data": {
      "image/png": "[encoded data removed]",
      "text/plain": [
       "<Figure size 1080x360 with 3 Axes>"
      ]
     },
     "metadata": {
      "needs_background": "light"
     }
    }
   ],
   "metadata": {}
  },
  {
   "cell_type": "markdown",
   "source": [
    "### Exploratory Data Analysis for Clusters Dataset"
   ],
   "metadata": {}
  },
  {
   "cell_type": "code",
   "execution_count": 115,
   "source": [
    "clusters_df = pd.read_csv(clusters_dir)\r\n",
    "after_start_date = clusters_df[\"date_announced\"] >= start_date\r\n",
    "before_end_date = clusters_df[\"date_announced\"] <= end_date\r\n",
    "between_two_dates = after_start_date & before_end_date\r\n",
    "clusters_df = clusters_df.loc[between_two_dates]\r\n",
    "clusters_df['date'] = clusters_df.date_announced\r\n",
    "clusters_df.head()"
   ],
   "outputs": [
    {
     "output_type": "execute_result",
     "data": {
      "text/html": [
       "<div>\n",
       "<style scoped>\n",
       "    .dataframe tbody tr th:only-of-type {\n",
       "        vertical-align: middle;\n",
       "    }\n",
       "\n",
       "    .dataframe tbody tr th {\n",
       "        vertical-align: top;\n",
       "    }\n",
       "\n",
       "    .dataframe thead th {\n",
       "        text-align: right;\n",
       "    }\n",
       "</style>\n",
       "<table border=\"1\" class=\"dataframe\">\n",
       "  <thead>\n",
       "    <tr style=\"text-align: right;\">\n",
       "      <th></th>\n",
       "      <th>cluster</th>\n",
       "      <th>state</th>\n",
       "      <th>district</th>\n",
       "      <th>date_announced</th>\n",
       "      <th>date_last_onset</th>\n",
       "      <th>category</th>\n",
       "      <th>status</th>\n",
       "      <th>cases_new</th>\n",
       "      <th>cases_total</th>\n",
       "      <th>cases_active</th>\n",
       "      <th>tests</th>\n",
       "      <th>icu</th>\n",
       "      <th>deaths</th>\n",
       "      <th>recovered</th>\n",
       "      <th>date</th>\n",
       "    </tr>\n",
       "  </thead>\n",
       "  <tbody>\n",
       "    <tr>\n",
       "      <th>2845</th>\n",
       "      <td>Kluster Industri Perusahaan Selesa Jaya</td>\n",
       "      <td>Selangor</td>\n",
       "      <td>Hulu Langat</td>\n",
       "      <td>2021-07-01</td>\n",
       "      <td>2021-06-30</td>\n",
       "      <td>workplace</td>\n",
       "      <td>ended</td>\n",
       "      <td>0</td>\n",
       "      <td>13</td>\n",
       "      <td>0</td>\n",
       "      <td>67</td>\n",
       "      <td>0</td>\n",
       "      <td>0</td>\n",
       "      <td>13</td>\n",
       "      <td>2021-07-01</td>\n",
       "    </tr>\n",
       "    <tr>\n",
       "      <th>2846</th>\n",
       "      <td>Kluster Kampung Bagus</td>\n",
       "      <td>Kelantan</td>\n",
       "      <td>Pasir Mas</td>\n",
       "      <td>2021-07-01</td>\n",
       "      <td>2021-06-30</td>\n",
       "      <td>community</td>\n",
       "      <td>ended</td>\n",
       "      <td>0</td>\n",
       "      <td>8</td>\n",
       "      <td>0</td>\n",
       "      <td>14</td>\n",
       "      <td>0</td>\n",
       "      <td>0</td>\n",
       "      <td>8</td>\n",
       "      <td>2021-07-01</td>\n",
       "    </tr>\n",
       "    <tr>\n",
       "      <th>2847</th>\n",
       "      <td>Kluster Taman SP Mahang</td>\n",
       "      <td>Kelantan</td>\n",
       "      <td>Kota Bharu</td>\n",
       "      <td>2021-07-01</td>\n",
       "      <td>2021-06-30</td>\n",
       "      <td>community</td>\n",
       "      <td>ended</td>\n",
       "      <td>0</td>\n",
       "      <td>8</td>\n",
       "      <td>0</td>\n",
       "      <td>14</td>\n",
       "      <td>0</td>\n",
       "      <td>0</td>\n",
       "      <td>8</td>\n",
       "      <td>2021-07-01</td>\n",
       "    </tr>\n",
       "    <tr>\n",
       "      <th>2848</th>\n",
       "      <td>Kluster Dah Tanjung Setol</td>\n",
       "      <td>Kedah</td>\n",
       "      <td>Pendang</td>\n",
       "      <td>2021-07-01</td>\n",
       "      <td>2021-06-30</td>\n",
       "      <td>community</td>\n",
       "      <td>ended</td>\n",
       "      <td>0</td>\n",
       "      <td>31</td>\n",
       "      <td>0</td>\n",
       "      <td>61</td>\n",
       "      <td>0</td>\n",
       "      <td>0</td>\n",
       "      <td>31</td>\n",
       "      <td>2021-07-01</td>\n",
       "    </tr>\n",
       "    <tr>\n",
       "      <th>2849</th>\n",
       "      <td>Kluster Kampung Redang Gunong</td>\n",
       "      <td>Kelantan</td>\n",
       "      <td>Bachok, Kota Bharu, Tanah Merah</td>\n",
       "      <td>2021-07-01</td>\n",
       "      <td>2021-07-01</td>\n",
       "      <td>community</td>\n",
       "      <td>ended</td>\n",
       "      <td>0</td>\n",
       "      <td>10</td>\n",
       "      <td>0</td>\n",
       "      <td>19</td>\n",
       "      <td>0</td>\n",
       "      <td>0</td>\n",
       "      <td>10</td>\n",
       "      <td>2021-07-01</td>\n",
       "    </tr>\n",
       "  </tbody>\n",
       "</table>\n",
       "</div>"
      ],
      "text/plain": [
       "                                      cluster     state  \\\n",
       "2845  Kluster Industri Perusahaan Selesa Jaya  Selangor   \n",
       "2846                    Kluster Kampung Bagus  Kelantan   \n",
       "2847                  Kluster Taman SP Mahang  Kelantan   \n",
       "2848                Kluster Dah Tanjung Setol     Kedah   \n",
       "2849            Kluster Kampung Redang Gunong  Kelantan   \n",
       "\n",
       "                             district date_announced date_last_onset  \\\n",
       "2845                      Hulu Langat     2021-07-01      2021-06-30   \n",
       "2846                        Pasir Mas     2021-07-01      2021-06-30   \n",
       "2847                       Kota Bharu     2021-07-01      2021-06-30   \n",
       "2848                          Pendang     2021-07-01      2021-06-30   \n",
       "2849  Bachok, Kota Bharu, Tanah Merah     2021-07-01      2021-07-01   \n",
       "\n",
       "       category status  cases_new  cases_total  cases_active  tests  icu  \\\n",
       "2845  workplace  ended          0           13             0     67    0   \n",
       "2846  community  ended          0            8             0     14    0   \n",
       "2847  community  ended          0            8             0     14    0   \n",
       "2848  community  ended          0           31             0     61    0   \n",
       "2849  community  ended          0           10             0     19    0   \n",
       "\n",
       "      deaths  recovered        date  \n",
       "2845       0         13  2021-07-01  \n",
       "2846       0          8  2021-07-01  \n",
       "2847       0          8  2021-07-01  \n",
       "2848       0         31  2021-07-01  \n",
       "2849       0         10  2021-07-01  "
      ]
     },
     "metadata": {},
     "execution_count": 115
    }
   ],
   "metadata": {}
  },
  {
   "cell_type": "code",
   "execution_count": 116,
   "source": [
    "clusters_df.info()"
   ],
   "outputs": [
    {
     "output_type": "stream",
     "name": "stdout",
     "text": [
      "<class 'pandas.core.frame.DataFrame'>\n",
      "Int64Index: 1886 entries, 2845 to 4730\n",
      "Data columns (total 15 columns):\n",
      " #   Column           Non-Null Count  Dtype \n",
      "---  ------           --------------  ----- \n",
      " 0   cluster          1886 non-null   object\n",
      " 1   state            1886 non-null   object\n",
      " 2   district         1886 non-null   object\n",
      " 3   date_announced   1886 non-null   object\n",
      " 4   date_last_onset  1886 non-null   object\n",
      " 5   category         1886 non-null   object\n",
      " 6   status           1886 non-null   object\n",
      " 7   cases_new        1886 non-null   int64 \n",
      " 8   cases_total      1886 non-null   int64 \n",
      " 9   cases_active     1886 non-null   int64 \n",
      " 10  tests            1886 non-null   int64 \n",
      " 11  icu              1886 non-null   int64 \n",
      " 12  deaths           1886 non-null   int64 \n",
      " 13  recovered        1886 non-null   int64 \n",
      " 14  date             1886 non-null   object\n",
      "dtypes: int64(7), object(8)\n",
      "memory usage: 235.8+ KB\n"
     ]
    }
   ],
   "metadata": {}
  },
  {
   "cell_type": "code",
   "execution_count": 117,
   "source": [
    "clusters_df.describe()"
   ],
   "outputs": [
    {
     "output_type": "execute_result",
     "data": {
      "text/html": [
       "<div>\n",
       "<style scoped>\n",
       "    .dataframe tbody tr th:only-of-type {\n",
       "        vertical-align: middle;\n",
       "    }\n",
       "\n",
       "    .dataframe tbody tr th {\n",
       "        vertical-align: top;\n",
       "    }\n",
       "\n",
       "    .dataframe thead th {\n",
       "        text-align: right;\n",
       "    }\n",
       "</style>\n",
       "<table border=\"1\" class=\"dataframe\">\n",
       "  <thead>\n",
       "    <tr style=\"text-align: right;\">\n",
       "      <th></th>\n",
       "      <th>cases_new</th>\n",
       "      <th>cases_total</th>\n",
       "      <th>cases_active</th>\n",
       "      <th>tests</th>\n",
       "      <th>icu</th>\n",
       "      <th>deaths</th>\n",
       "      <th>recovered</th>\n",
       "    </tr>\n",
       "  </thead>\n",
       "  <tbody>\n",
       "    <tr>\n",
       "      <th>count</th>\n",
       "      <td>1886.000000</td>\n",
       "      <td>1886.000000</td>\n",
       "      <td>1886.000000</td>\n",
       "      <td>1886.000000</td>\n",
       "      <td>1886.000000</td>\n",
       "      <td>1886.000000</td>\n",
       "      <td>1886.000000</td>\n",
       "    </tr>\n",
       "    <tr>\n",
       "      <th>mean</th>\n",
       "      <td>0.166490</td>\n",
       "      <td>77.528102</td>\n",
       "      <td>10.995758</td>\n",
       "      <td>235.092259</td>\n",
       "      <td>0.020148</td>\n",
       "      <td>0.398197</td>\n",
       "      <td>66.133616</td>\n",
       "    </tr>\n",
       "    <tr>\n",
       "      <th>std</th>\n",
       "      <td>2.442736</td>\n",
       "      <td>116.985016</td>\n",
       "      <td>36.605851</td>\n",
       "      <td>403.282586</td>\n",
       "      <td>0.144271</td>\n",
       "      <td>1.329916</td>\n",
       "      <td>103.774849</td>\n",
       "    </tr>\n",
       "    <tr>\n",
       "      <th>min</th>\n",
       "      <td>0.000000</td>\n",
       "      <td>5.000000</td>\n",
       "      <td>0.000000</td>\n",
       "      <td>6.000000</td>\n",
       "      <td>0.000000</td>\n",
       "      <td>0.000000</td>\n",
       "      <td>0.000000</td>\n",
       "    </tr>\n",
       "    <tr>\n",
       "      <th>25%</th>\n",
       "      <td>0.000000</td>\n",
       "      <td>21.000000</td>\n",
       "      <td>0.000000</td>\n",
       "      <td>49.000000</td>\n",
       "      <td>0.000000</td>\n",
       "      <td>0.000000</td>\n",
       "      <td>17.000000</td>\n",
       "    </tr>\n",
       "    <tr>\n",
       "      <th>50%</th>\n",
       "      <td>0.000000</td>\n",
       "      <td>42.000000</td>\n",
       "      <td>0.000000</td>\n",
       "      <td>107.500000</td>\n",
       "      <td>0.000000</td>\n",
       "      <td>0.000000</td>\n",
       "      <td>34.000000</td>\n",
       "    </tr>\n",
       "    <tr>\n",
       "      <th>75%</th>\n",
       "      <td>0.000000</td>\n",
       "      <td>84.000000</td>\n",
       "      <td>5.000000</td>\n",
       "      <td>250.750000</td>\n",
       "      <td>0.000000</td>\n",
       "      <td>0.000000</td>\n",
       "      <td>73.000000</td>\n",
       "    </tr>\n",
       "    <tr>\n",
       "      <th>max</th>\n",
       "      <td>75.000000</td>\n",
       "      <td>1645.000000</td>\n",
       "      <td>755.000000</td>\n",
       "      <td>5820.000000</td>\n",
       "      <td>2.000000</td>\n",
       "      <td>25.000000</td>\n",
       "      <td>1643.000000</td>\n",
       "    </tr>\n",
       "  </tbody>\n",
       "</table>\n",
       "</div>"
      ],
      "text/plain": [
       "         cases_new  cases_total  cases_active        tests          icu  \\\n",
       "count  1886.000000  1886.000000   1886.000000  1886.000000  1886.000000   \n",
       "mean      0.166490    77.528102     10.995758   235.092259     0.020148   \n",
       "std       2.442736   116.985016     36.605851   403.282586     0.144271   \n",
       "min       0.000000     5.000000      0.000000     6.000000     0.000000   \n",
       "25%       0.000000    21.000000      0.000000    49.000000     0.000000   \n",
       "50%       0.000000    42.000000      0.000000   107.500000     0.000000   \n",
       "75%       0.000000    84.000000      5.000000   250.750000     0.000000   \n",
       "max      75.000000  1645.000000    755.000000  5820.000000     2.000000   \n",
       "\n",
       "            deaths    recovered  \n",
       "count  1886.000000  1886.000000  \n",
       "mean      0.398197    66.133616  \n",
       "std       1.329916   103.774849  \n",
       "min       0.000000     0.000000  \n",
       "25%       0.000000    17.000000  \n",
       "50%       0.000000    34.000000  \n",
       "75%       0.000000    73.000000  \n",
       "max      25.000000  1643.000000  "
      ]
     },
     "metadata": {},
     "execution_count": 117
    }
   ],
   "metadata": {}
  },
  {
   "cell_type": "code",
   "execution_count": 118,
   "source": [
    "cluster_count_by_state = clusters_df.groupby([clusters_df['state']]).count().loc[['Johor','Pahang','Kedah','Selangor']]['cluster']\r\n",
    "clusters_df = clusters_df.groupby([clusters_df['state']]).sum().loc[['Johor','Pahang','Kedah','Selangor']]\r\n",
    "clusters_df['cluster_total'] = cluster_count_by_state"
   ],
   "outputs": [],
   "metadata": {}
  },
  {
   "cell_type": "code",
   "execution_count": 119,
   "source": [
    "clusters_df.isna().sum()"
   ],
   "outputs": [
    {
     "output_type": "execute_result",
     "data": {
      "text/plain": [
       "cases_new        0\n",
       "cases_total      0\n",
       "cases_active     0\n",
       "tests            0\n",
       "icu              0\n",
       "deaths           0\n",
       "recovered        0\n",
       "cluster_total    0\n",
       "dtype: int64"
      ]
     },
     "metadata": {},
     "execution_count": 119
    }
   ],
   "metadata": {}
  },
  {
   "cell_type": "markdown",
   "source": [
    "##### Identify Missing Value\n",
    "</p> Visualize the number of missing values as a bar chart"
   ],
   "metadata": {}
  },
  {
   "cell_type": "code",
   "execution_count": 120,
   "source": [
    "msno.bar(clusters_df)"
   ],
   "outputs": [
    {
     "output_type": "execute_result",
     "data": {
      "text/plain": [
       "<AxesSubplot:>"
      ]
     },
     "metadata": {},
     "execution_count": 120
    },
    {
     "output_type": "display_data",
     "data": {
      "image/png": "[encoded data removed]",
      "text/plain": [
       "<Figure size 1800x720 with 3 Axes>"
      ]
     },
     "metadata": {
      "needs_background": "light"
     }
    }
   ],
   "metadata": {}
  },
  {
   "cell_type": "markdown",
   "source": [
    "##### Identify Outliers\n",
    "</p> Visualize the data using box plot, check the distribution of data and outliers"
   ],
   "metadata": {}
  },
  {
   "cell_type": "code",
   "execution_count": 121,
   "source": [
    "fig, axes = plt.subplots(3, 3, figsize=(15, 5), sharey=True)\r\n",
    "# fig.suptitle('Outliers Visualization')\r\n",
    "plt.subplots_adjust(left=None, bottom= 0.1, right=None, top=2, wspace=0.2, hspace=0.6)\r\n",
    "\r\n",
    "sns.boxplot(data=clusters_df,x=clusters_df[\"cases_new\"],ax=axes[0][0])\r\n",
    "axes[0][0].set_title('cases_new')\r\n",
    "\r\n",
    "sns.boxplot(data=clusters_df,x=clusters_df[\"cases_total\"],ax=axes[0][1])\r\n",
    "axes[0][1].set_title('cases_total')\r\n",
    "\r\n",
    "sns.boxplot(data=clusters_df,x=clusters_df[\"cases_active\"],ax=axes[0][2])\r\n",
    "axes[0][2].set_title('cases_active')\r\n",
    "\r\n",
    "sns.boxplot(data=clusters_df,x=clusters_df[\"tests\"],ax=axes[1][0])\r\n",
    "axes[1][0].set_title('tests')\r\n",
    "\r\n",
    "sns.boxplot(data=clusters_df,x=clusters_df[\"icu\"],ax=axes[1][1])\r\n",
    "axes[1][1].set_title('icu')\r\n",
    "\r\n",
    "sns.boxplot(data=clusters_df,x=clusters_df[\"deaths\"],ax=axes[1][2])\r\n",
    "axes[1][2].set_title('deaths')\r\n",
    "\r\n",
    "sns.boxplot(data=clusters_df,x=clusters_df[\"recovered\"],ax=axes[2][0])\r\n",
    "axes[2][0].set_title('recovered')"
   ],
   "outputs": [
    {
     "output_type": "execute_result",
     "data": {
      "text/plain": [
       "Text(0.5, 1.0, 'recovered')"
      ]
     },
     "metadata": {},
     "execution_count": 121
    },
    {
     "output_type": "display_data",
     "data": {
      "image/png": "[encoded data removed]",
      "text/plain": [
       "<Figure size 1080x360 with 9 Axes>"
      ]
     },
     "metadata": {
      "needs_background": "light"
     }
    }
   ],
   "metadata": {}
  },
  {
   "cell_type": "markdown",
   "source": [
    "### Exploratory Data Analysis for Malaysia Tests Dataset"
   ],
   "metadata": {}
  },
  {
   "cell_type": "code",
   "execution_count": 122,
   "source": [
    "print(malaysia_tests_dir)"
   ],
   "outputs": [
    {
     "output_type": "stream",
     "name": "stdout",
     "text": [
      "C:/Users/Owner/Desktop/Data Mining/Assignment/Covid-19-Analysis-Streamlit/dataset/tests_malaysia.csv\n"
     ]
    }
   ],
   "metadata": {}
  },
  {
   "cell_type": "markdown",
   "source": [],
   "metadata": {}
  },
  {
   "cell_type": "code",
   "execution_count": 123,
   "source": [
    "malaysia_tests_df = pd.read_csv(malaysia_tests_dir)\r\n",
    "after_start_date = malaysia_tests_df[\"date\"] >= start_date\r\n",
    "before_end_date = malaysia_tests_df[\"date\"] <= end_date\r\n",
    "between_two_dates = after_start_date & before_end_date\r\n",
    "malaysia_tests_df = malaysia_tests_df.loc[between_two_dates]\r\n",
    "malaysia_tests_df.head()"
   ],
   "outputs": [
    {
     "output_type": "execute_result",
     "data": {
      "text/html": [
       "<div>\n",
       "<style scoped>\n",
       "    .dataframe tbody tr th:only-of-type {\n",
       "        vertical-align: middle;\n",
       "    }\n",
       "\n",
       "    .dataframe tbody tr th {\n",
       "        vertical-align: top;\n",
       "    }\n",
       "\n",
       "    .dataframe thead th {\n",
       "        text-align: right;\n",
       "    }\n",
       "</style>\n",
       "<table border=\"1\" class=\"dataframe\">\n",
       "  <thead>\n",
       "    <tr style=\"text-align: right;\">\n",
       "      <th></th>\n",
       "      <th>date</th>\n",
       "      <th>rtk-ag</th>\n",
       "      <th>pcr</th>\n",
       "    </tr>\n",
       "  </thead>\n",
       "  <tbody>\n",
       "    <tr>\n",
       "      <th>524</th>\n",
       "      <td>2021-07-01</td>\n",
       "      <td>43219</td>\n",
       "      <td>54811</td>\n",
       "    </tr>\n",
       "    <tr>\n",
       "      <th>525</th>\n",
       "      <td>2021-07-02</td>\n",
       "      <td>40860</td>\n",
       "      <td>55642</td>\n",
       "    </tr>\n",
       "    <tr>\n",
       "      <th>526</th>\n",
       "      <td>2021-07-03</td>\n",
       "      <td>30817</td>\n",
       "      <td>55023</td>\n",
       "    </tr>\n",
       "    <tr>\n",
       "      <th>527</th>\n",
       "      <td>2021-07-04</td>\n",
       "      <td>26064</td>\n",
       "      <td>42657</td>\n",
       "    </tr>\n",
       "    <tr>\n",
       "      <th>528</th>\n",
       "      <td>2021-07-05</td>\n",
       "      <td>44941</td>\n",
       "      <td>41819</td>\n",
       "    </tr>\n",
       "  </tbody>\n",
       "</table>\n",
       "</div>"
      ],
      "text/plain": [
       "           date  rtk-ag    pcr\n",
       "524  2021-07-01   43219  54811\n",
       "525  2021-07-02   40860  55642\n",
       "526  2021-07-03   30817  55023\n",
       "527  2021-07-04   26064  42657\n",
       "528  2021-07-05   44941  41819"
      ]
     },
     "metadata": {},
     "execution_count": 123
    }
   ],
   "metadata": {}
  },
  {
   "cell_type": "code",
   "execution_count": 124,
   "source": [
    "malaysia_tests_df.info()"
   ],
   "outputs": [
    {
     "output_type": "stream",
     "name": "stdout",
     "text": [
      "<class 'pandas.core.frame.DataFrame'>\n",
      "Int64Index: 62 entries, 524 to 585\n",
      "Data columns (total 3 columns):\n",
      " #   Column  Non-Null Count  Dtype \n",
      "---  ------  --------------  ----- \n",
      " 0   date    62 non-null     object\n",
      " 1   rtk-ag  62 non-null     int64 \n",
      " 2   pcr     62 non-null     int64 \n",
      "dtypes: int64(2), object(1)\n",
      "memory usage: 1.9+ KB\n"
     ]
    }
   ],
   "metadata": {}
  },
  {
   "cell_type": "code",
   "execution_count": 125,
   "source": [
    "malaysia_tests_df.describe()"
   ],
   "outputs": [
    {
     "output_type": "execute_result",
     "data": {
      "text/html": [
       "<div>\n",
       "<style scoped>\n",
       "    .dataframe tbody tr th:only-of-type {\n",
       "        vertical-align: middle;\n",
       "    }\n",
       "\n",
       "    .dataframe tbody tr th {\n",
       "        vertical-align: top;\n",
       "    }\n",
       "\n",
       "    .dataframe thead th {\n",
       "        text-align: right;\n",
       "    }\n",
       "</style>\n",
       "<table border=\"1\" class=\"dataframe\">\n",
       "  <thead>\n",
       "    <tr style=\"text-align: right;\">\n",
       "      <th></th>\n",
       "      <th>rtk-ag</th>\n",
       "      <th>pcr</th>\n",
       "    </tr>\n",
       "  </thead>\n",
       "  <tbody>\n",
       "    <tr>\n",
       "      <th>count</th>\n",
       "      <td>62.00000</td>\n",
       "      <td>62.000000</td>\n",
       "    </tr>\n",
       "    <tr>\n",
       "      <th>mean</th>\n",
       "      <td>69147.66129</td>\n",
       "      <td>68683.677419</td>\n",
       "    </tr>\n",
       "    <tr>\n",
       "      <th>std</th>\n",
       "      <td>18475.25760</td>\n",
       "      <td>11299.659488</td>\n",
       "    </tr>\n",
       "    <tr>\n",
       "      <th>min</th>\n",
       "      <td>26064.00000</td>\n",
       "      <td>41819.000000</td>\n",
       "    </tr>\n",
       "    <tr>\n",
       "      <th>25%</th>\n",
       "      <td>54739.75000</td>\n",
       "      <td>59948.750000</td>\n",
       "    </tr>\n",
       "    <tr>\n",
       "      <th>50%</th>\n",
       "      <td>72232.50000</td>\n",
       "      <td>70748.000000</td>\n",
       "    </tr>\n",
       "    <tr>\n",
       "      <th>75%</th>\n",
       "      <td>83276.00000</td>\n",
       "      <td>75953.750000</td>\n",
       "    </tr>\n",
       "    <tr>\n",
       "      <th>max</th>\n",
       "      <td>96219.00000</td>\n",
       "      <td>90293.000000</td>\n",
       "    </tr>\n",
       "  </tbody>\n",
       "</table>\n",
       "</div>"
      ],
      "text/plain": [
       "            rtk-ag           pcr\n",
       "count     62.00000     62.000000\n",
       "mean   69147.66129  68683.677419\n",
       "std    18475.25760  11299.659488\n",
       "min    26064.00000  41819.000000\n",
       "25%    54739.75000  59948.750000\n",
       "50%    72232.50000  70748.000000\n",
       "75%    83276.00000  75953.750000\n",
       "max    96219.00000  90293.000000"
      ]
     },
     "metadata": {},
     "execution_count": 125
    }
   ],
   "metadata": {}
  },
  {
   "cell_type": "code",
   "execution_count": 126,
   "source": [
    "malaysia_tests_df.isna().sum()"
   ],
   "outputs": [
    {
     "output_type": "execute_result",
     "data": {
      "text/plain": [
       "date      0\n",
       "rtk-ag    0\n",
       "pcr       0\n",
       "dtype: int64"
      ]
     },
     "metadata": {},
     "execution_count": 126
    }
   ],
   "metadata": {}
  },
  {
   "cell_type": "markdown",
   "source": [
    "##### Identify Missing Value\n",
    "</p> Visualize the number of missing values as a bar chart"
   ],
   "metadata": {}
  },
  {
   "cell_type": "code",
   "execution_count": 127,
   "source": [
    "msno.bar(malaysia_tests_df)"
   ],
   "outputs": [
    {
     "output_type": "execute_result",
     "data": {
      "text/plain": [
       "<AxesSubplot:>"
      ]
     },
     "metadata": {},
     "execution_count": 127
    },
    {
     "output_type": "display_data",
     "data": {
      "image/png": "[encoded data removed]",
      "text/plain": [
       "<Figure size 1800x720 with 3 Axes>"
      ]
     },
     "metadata": {
      "needs_background": "light"
     }
    }
   ],
   "metadata": {}
  },
  {
   "cell_type": "markdown",
   "source": [
    "##### Identify Outliers\n",
    "</p> Visualize the data using box plot, check the distribution of data and outliers"
   ],
   "metadata": {}
  },
  {
   "cell_type": "code",
   "execution_count": 128,
   "source": [
    "fig, axes = plt.subplots(1, 3, figsize=(15, 5), sharey=True)\r\n",
    "# fig.suptitle('Outliers Visualization')\r\n",
    "plt.subplots_adjust(left=None, bottom= 0.1, right=None, top=0.5, wspace=0.2, hspace=0.6)\r\n",
    "\r\n",
    "sns.boxplot(data=malaysia_tests_df, x = malaysia_tests_df[\"rtk-ag\"],ax=axes[0])\r\n",
    "axes[0].set_title('rtk-ag')\r\n",
    "\r\n",
    "sns.boxplot(data=malaysia_tests_df,x = malaysia_tests_df[\"pcr\"],ax=axes[1])\r\n",
    "axes[1].set_title('pcr')"
   ],
   "outputs": [
    {
     "output_type": "execute_result",
     "data": {
      "text/plain": [
       "Text(0.5, 1.0, 'pcr')"
      ]
     },
     "metadata": {},
     "execution_count": 128
    },
    {
     "output_type": "display_data",
     "data": {
      "image/png": "[encoded data removed]",
      "text/plain": [
       "<Figure size 1080x360 with 3 Axes>"
      ]
     },
     "metadata": {
      "needs_background": "light"
     }
    }
   ],
   "metadata": {}
  },
  {
   "cell_type": "markdown",
   "source": [
    "### Exploratory Data Analysis for State Tests Dataset"
   ],
   "metadata": {}
  },
  {
   "cell_type": "code",
   "execution_count": 129,
   "source": [
    "states_tests_df = pd.read_csv(states_tests_dir)\r\n",
    "after_start_date = states_tests_df[\"date\"] >= start_date\r\n",
    "before_end_date = states_tests_df[\"date\"] <= end_date\r\n",
    "between_two_dates = after_start_date & before_end_date\r\n",
    "states_tests_df = states_tests_df.loc[between_two_dates]\r\n",
    "states_tests_df.head()"
   ],
   "outputs": [
    {
     "output_type": "execute_result",
     "data": {
      "text/html": [
       "<div>\n",
       "<style scoped>\n",
       "    .dataframe tbody tr th:only-of-type {\n",
       "        vertical-align: middle;\n",
       "    }\n",
       "\n",
       "    .dataframe tbody tr th {\n",
       "        vertical-align: top;\n",
       "    }\n",
       "\n",
       "    .dataframe thead th {\n",
       "        text-align: right;\n",
       "    }\n",
       "</style>\n",
       "<table border=\"1\" class=\"dataframe\">\n",
       "  <thead>\n",
       "    <tr style=\"text-align: right;\">\n",
       "      <th></th>\n",
       "      <th>date</th>\n",
       "      <th>state</th>\n",
       "      <th>rtk-ag</th>\n",
       "      <th>pcr</th>\n",
       "    </tr>\n",
       "  </thead>\n",
       "  <tbody>\n",
       "    <tr>\n",
       "      <th>0</th>\n",
       "      <td>2021-07-01</td>\n",
       "      <td>Johor</td>\n",
       "      <td>2749</td>\n",
       "      <td>3670</td>\n",
       "    </tr>\n",
       "    <tr>\n",
       "      <th>1</th>\n",
       "      <td>2021-07-01</td>\n",
       "      <td>Kedah</td>\n",
       "      <td>2073</td>\n",
       "      <td>1297</td>\n",
       "    </tr>\n",
       "    <tr>\n",
       "      <th>2</th>\n",
       "      <td>2021-07-01</td>\n",
       "      <td>Kelantan</td>\n",
       "      <td>1348</td>\n",
       "      <td>1966</td>\n",
       "    </tr>\n",
       "    <tr>\n",
       "      <th>3</th>\n",
       "      <td>2021-07-01</td>\n",
       "      <td>Melaka</td>\n",
       "      <td>1049</td>\n",
       "      <td>2132</td>\n",
       "    </tr>\n",
       "    <tr>\n",
       "      <th>4</th>\n",
       "      <td>2021-07-01</td>\n",
       "      <td>Negeri Sembilan</td>\n",
       "      <td>2151</td>\n",
       "      <td>3306</td>\n",
       "    </tr>\n",
       "  </tbody>\n",
       "</table>\n",
       "</div>"
      ],
      "text/plain": [
       "         date            state  rtk-ag   pcr\n",
       "0  2021-07-01            Johor    2749  3670\n",
       "1  2021-07-01            Kedah    2073  1297\n",
       "2  2021-07-01         Kelantan    1348  1966\n",
       "3  2021-07-01           Melaka    1049  2132\n",
       "4  2021-07-01  Negeri Sembilan    2151  3306"
      ]
     },
     "metadata": {},
     "execution_count": 129
    }
   ],
   "metadata": {}
  },
  {
   "cell_type": "code",
   "execution_count": 130,
   "source": [
    "states_tests_df.info()"
   ],
   "outputs": [
    {
     "output_type": "stream",
     "name": "stdout",
     "text": [
      "<class 'pandas.core.frame.DataFrame'>\n",
      "Int64Index: 992 entries, 0 to 991\n",
      "Data columns (total 4 columns):\n",
      " #   Column  Non-Null Count  Dtype \n",
      "---  ------  --------------  ----- \n",
      " 0   date    992 non-null    object\n",
      " 1   state   992 non-null    object\n",
      " 2   rtk-ag  992 non-null    int64 \n",
      " 3   pcr     992 non-null    int64 \n",
      "dtypes: int64(2), object(2)\n",
      "memory usage: 38.8+ KB\n"
     ]
    }
   ],
   "metadata": {}
  },
  {
   "cell_type": "code",
   "execution_count": 131,
   "source": [
    "states_tests_df.describe()"
   ],
   "outputs": [
    {
     "output_type": "execute_result",
     "data": {
      "text/html": [
       "<div>\n",
       "<style scoped>\n",
       "    .dataframe tbody tr th:only-of-type {\n",
       "        vertical-align: middle;\n",
       "    }\n",
       "\n",
       "    .dataframe tbody tr th {\n",
       "        vertical-align: top;\n",
       "    }\n",
       "\n",
       "    .dataframe thead th {\n",
       "        text-align: right;\n",
       "    }\n",
       "</style>\n",
       "<table border=\"1\" class=\"dataframe\">\n",
       "  <thead>\n",
       "    <tr style=\"text-align: right;\">\n",
       "      <th></th>\n",
       "      <th>rtk-ag</th>\n",
       "      <th>pcr</th>\n",
       "    </tr>\n",
       "  </thead>\n",
       "  <tbody>\n",
       "    <tr>\n",
       "      <th>count</th>\n",
       "      <td>992.000000</td>\n",
       "      <td>992.000000</td>\n",
       "    </tr>\n",
       "    <tr>\n",
       "      <th>mean</th>\n",
       "      <td>4321.728831</td>\n",
       "      <td>4292.729839</td>\n",
       "    </tr>\n",
       "    <tr>\n",
       "      <th>std</th>\n",
       "      <td>6006.077856</td>\n",
       "      <td>4202.906254</td>\n",
       "    </tr>\n",
       "    <tr>\n",
       "      <th>min</th>\n",
       "      <td>9.000000</td>\n",
       "      <td>13.000000</td>\n",
       "    </tr>\n",
       "    <tr>\n",
       "      <th>25%</th>\n",
       "      <td>1217.250000</td>\n",
       "      <td>1668.250000</td>\n",
       "    </tr>\n",
       "    <tr>\n",
       "      <th>50%</th>\n",
       "      <td>2528.000000</td>\n",
       "      <td>3286.500000</td>\n",
       "    </tr>\n",
       "    <tr>\n",
       "      <th>75%</th>\n",
       "      <td>4806.250000</td>\n",
       "      <td>5260.500000</td>\n",
       "    </tr>\n",
       "    <tr>\n",
       "      <th>max</th>\n",
       "      <td>41143.000000</td>\n",
       "      <td>23350.000000</td>\n",
       "    </tr>\n",
       "  </tbody>\n",
       "</table>\n",
       "</div>"
      ],
      "text/plain": [
       "             rtk-ag           pcr\n",
       "count    992.000000    992.000000\n",
       "mean    4321.728831   4292.729839\n",
       "std     6006.077856   4202.906254\n",
       "min        9.000000     13.000000\n",
       "25%     1217.250000   1668.250000\n",
       "50%     2528.000000   3286.500000\n",
       "75%     4806.250000   5260.500000\n",
       "max    41143.000000  23350.000000"
      ]
     },
     "metadata": {},
     "execution_count": 131
    }
   ],
   "metadata": {}
  },
  {
   "cell_type": "code",
   "execution_count": 132,
   "source": [
    "states_tests_df.isna().sum()"
   ],
   "outputs": [
    {
     "output_type": "execute_result",
     "data": {
      "text/plain": [
       "date      0\n",
       "state     0\n",
       "rtk-ag    0\n",
       "pcr       0\n",
       "dtype: int64"
      ]
     },
     "metadata": {},
     "execution_count": 132
    }
   ],
   "metadata": {}
  },
  {
   "cell_type": "markdown",
   "source": [
    "##### Identify Missing Value\n",
    "</p> Visualize the number of missing values as a bar chart"
   ],
   "metadata": {}
  },
  {
   "cell_type": "code",
   "execution_count": 133,
   "source": [
    "msno.bar(states_tests_df)"
   ],
   "outputs": [
    {
     "output_type": "execute_result",
     "data": {
      "text/plain": [
       "<AxesSubplot:>"
      ]
     },
     "metadata": {},
     "execution_count": 133
    },
    {
     "output_type": "display_data",
     "data": {
      "image/png": "[encoded data removed]",
      "text/plain": [
       "<Figure size 1800x720 with 3 Axes>"
      ]
     },
     "metadata": {
      "needs_background": "light"
     }
    }
   ],
   "metadata": {}
  },
  {
   "cell_type": "markdown",
   "source": [
    "##### Identify Outliers\n",
    "</p> Visualize the data using box plot, check the distribution of data and outliers"
   ],
   "metadata": {}
  },
  {
   "cell_type": "code",
   "execution_count": 134,
   "source": [
    "fig, axes = plt.subplots(1, 3, figsize=(15, 5), sharey=True)\r\n",
    "# fig.suptitle('Outliers Visualization')\r\n",
    "plt.subplots_adjust(left=None, bottom= 0.1, right=None, top=0.5, wspace=0.2, hspace=0.6)\r\n",
    "\r\n",
    "sns.boxplot(data=states_tests_df, x = states_tests_df[\"rtk-ag\"],ax=axes[0])\r\n",
    "axes[0].set_title('rtk-ag')\r\n",
    "\r\n",
    "sns.boxplot(data=states_tests_df,x = states_tests_df[\"pcr\"],ax=axes[1])\r\n",
    "axes[1].set_title('pcr')"
   ],
   "outputs": [
    {
     "output_type": "execute_result",
     "data": {
      "text/plain": [
       "Text(0.5, 1.0, 'pcr')"
      ]
     },
     "metadata": {},
     "execution_count": 134
    },
    {
     "output_type": "display_data",
     "data": {
      "image/png": "[encoded data removed]",
      "text/plain": [
       "<Figure size 1080x360 with 3 Axes>"
      ]
     },
     "metadata": {
      "needs_background": "light"
     }
    }
   ],
   "metadata": {}
  },
  {
   "cell_type": "markdown",
   "source": [
    "### Exploratory Data Analysis for PKRC Dataset"
   ],
   "metadata": {}
  },
  {
   "cell_type": "code",
   "execution_count": 135,
   "source": [
    "pkrc_df = pd.read_csv(pkrc_dir)\r\n",
    "after_start_date = pkrc_df[\"date\"] >= start_date\r\n",
    "before_end_date = pkrc_df[\"date\"] <= end_date\r\n",
    "between_two_dates = after_start_date & before_end_date\r\n",
    "pkrc_df = pkrc_df.loc[between_two_dates]\r\n",
    "pkrc_df.head()"
   ],
   "outputs": [
    {
     "output_type": "execute_result",
     "data": {
      "text/html": [
       "<div>\n",
       "<style scoped>\n",
       "    .dataframe tbody tr th:only-of-type {\n",
       "        vertical-align: middle;\n",
       "    }\n",
       "\n",
       "    .dataframe tbody tr th {\n",
       "        vertical-align: top;\n",
       "    }\n",
       "\n",
       "    .dataframe thead th {\n",
       "        text-align: right;\n",
       "    }\n",
       "</style>\n",
       "<table border=\"1\" class=\"dataframe\">\n",
       "  <thead>\n",
       "    <tr style=\"text-align: right;\">\n",
       "      <th></th>\n",
       "      <th>date</th>\n",
       "      <th>state</th>\n",
       "      <th>beds</th>\n",
       "      <th>admitted_pui</th>\n",
       "      <th>admitted_covid</th>\n",
       "      <th>admitted_total</th>\n",
       "      <th>discharge_pui</th>\n",
       "      <th>discharge_covid</th>\n",
       "      <th>discharge_total</th>\n",
       "      <th>pkrc_covid</th>\n",
       "      <th>pkrc_pui</th>\n",
       "      <th>pkrc_noncovid</th>\n",
       "    </tr>\n",
       "  </thead>\n",
       "  <tbody>\n",
       "    <tr>\n",
       "      <th>5163</th>\n",
       "      <td>2021-07-01</td>\n",
       "      <td>Johor</td>\n",
       "      <td>2321</td>\n",
       "      <td>0</td>\n",
       "      <td>103</td>\n",
       "      <td>103</td>\n",
       "      <td>0</td>\n",
       "      <td>152</td>\n",
       "      <td>152</td>\n",
       "      <td>964</td>\n",
       "      <td>0</td>\n",
       "      <td>0</td>\n",
       "    </tr>\n",
       "    <tr>\n",
       "      <th>5164</th>\n",
       "      <td>2021-07-01</td>\n",
       "      <td>Kedah</td>\n",
       "      <td>540</td>\n",
       "      <td>0</td>\n",
       "      <td>71</td>\n",
       "      <td>71</td>\n",
       "      <td>0</td>\n",
       "      <td>55</td>\n",
       "      <td>55</td>\n",
       "      <td>348</td>\n",
       "      <td>0</td>\n",
       "      <td>0</td>\n",
       "    </tr>\n",
       "    <tr>\n",
       "      <th>5165</th>\n",
       "      <td>2021-07-01</td>\n",
       "      <td>Kelantan</td>\n",
       "      <td>2763</td>\n",
       "      <td>11</td>\n",
       "      <td>96</td>\n",
       "      <td>107</td>\n",
       "      <td>9</td>\n",
       "      <td>133</td>\n",
       "      <td>142</td>\n",
       "      <td>638</td>\n",
       "      <td>73</td>\n",
       "      <td>0</td>\n",
       "    </tr>\n",
       "    <tr>\n",
       "      <th>5166</th>\n",
       "      <td>2021-07-01</td>\n",
       "      <td>Melaka</td>\n",
       "      <td>1662</td>\n",
       "      <td>0</td>\n",
       "      <td>181</td>\n",
       "      <td>181</td>\n",
       "      <td>0</td>\n",
       "      <td>95</td>\n",
       "      <td>95</td>\n",
       "      <td>886</td>\n",
       "      <td>0</td>\n",
       "      <td>0</td>\n",
       "    </tr>\n",
       "    <tr>\n",
       "      <th>5167</th>\n",
       "      <td>2021-07-01</td>\n",
       "      <td>Negeri Sembilan</td>\n",
       "      <td>2395</td>\n",
       "      <td>0</td>\n",
       "      <td>191</td>\n",
       "      <td>191</td>\n",
       "      <td>0</td>\n",
       "      <td>98</td>\n",
       "      <td>98</td>\n",
       "      <td>1248</td>\n",
       "      <td>0</td>\n",
       "      <td>0</td>\n",
       "    </tr>\n",
       "  </tbody>\n",
       "</table>\n",
       "</div>"
      ],
      "text/plain": [
       "            date            state  beds  admitted_pui  admitted_covid  \\\n",
       "5163  2021-07-01            Johor  2321             0             103   \n",
       "5164  2021-07-01            Kedah   540             0              71   \n",
       "5165  2021-07-01         Kelantan  2763            11              96   \n",
       "5166  2021-07-01           Melaka  1662             0             181   \n",
       "5167  2021-07-01  Negeri Sembilan  2395             0             191   \n",
       "\n",
       "      admitted_total  discharge_pui  discharge_covid  discharge_total  \\\n",
       "5163             103              0              152              152   \n",
       "5164              71              0               55               55   \n",
       "5165             107              9              133              142   \n",
       "5166             181              0               95               95   \n",
       "5167             191              0               98               98   \n",
       "\n",
       "      pkrc_covid  pkrc_pui  pkrc_noncovid  \n",
       "5163         964         0              0  \n",
       "5164         348         0              0  \n",
       "5165         638        73              0  \n",
       "5166         886         0              0  \n",
       "5167        1248         0              0  "
      ]
     },
     "metadata": {},
     "execution_count": 135
    }
   ],
   "metadata": {}
  },
  {
   "cell_type": "code",
   "execution_count": 136,
   "source": [
    "pkrc_df.info()"
   ],
   "outputs": [
    {
     "output_type": "stream",
     "name": "stdout",
     "text": [
      "<class 'pandas.core.frame.DataFrame'>\n",
      "Int64Index: 868 entries, 5163 to 6030\n",
      "Data columns (total 12 columns):\n",
      " #   Column           Non-Null Count  Dtype \n",
      "---  ------           --------------  ----- \n",
      " 0   date             868 non-null    object\n",
      " 1   state            868 non-null    object\n",
      " 2   beds             868 non-null    int64 \n",
      " 3   admitted_pui     868 non-null    int64 \n",
      " 4   admitted_covid   868 non-null    int64 \n",
      " 5   admitted_total   868 non-null    int64 \n",
      " 6   discharge_pui    868 non-null    int64 \n",
      " 7   discharge_covid  868 non-null    int64 \n",
      " 8   discharge_total  868 non-null    int64 \n",
      " 9   pkrc_covid       868 non-null    int64 \n",
      " 10  pkrc_pui         868 non-null    int64 \n",
      " 11  pkrc_noncovid    868 non-null    int64 \n",
      "dtypes: int64(10), object(2)\n",
      "memory usage: 88.2+ KB\n"
     ]
    }
   ],
   "metadata": {}
  },
  {
   "cell_type": "code",
   "execution_count": 137,
   "source": [
    "pkrc_df.describe()"
   ],
   "outputs": [
    {
     "output_type": "execute_result",
     "data": {
      "text/html": [
       "<div>\n",
       "<style scoped>\n",
       "    .dataframe tbody tr th:only-of-type {\n",
       "        vertical-align: middle;\n",
       "    }\n",
       "\n",
       "    .dataframe tbody tr th {\n",
       "        vertical-align: top;\n",
       "    }\n",
       "\n",
       "    .dataframe thead th {\n",
       "        text-align: right;\n",
       "    }\n",
       "</style>\n",
       "<table border=\"1\" class=\"dataframe\">\n",
       "  <thead>\n",
       "    <tr style=\"text-align: right;\">\n",
       "      <th></th>\n",
       "      <th>beds</th>\n",
       "      <th>admitted_pui</th>\n",
       "      <th>admitted_covid</th>\n",
       "      <th>admitted_total</th>\n",
       "      <th>discharge_pui</th>\n",
       "      <th>discharge_covid</th>\n",
       "      <th>discharge_total</th>\n",
       "      <th>pkrc_covid</th>\n",
       "      <th>pkrc_pui</th>\n",
       "      <th>pkrc_noncovid</th>\n",
       "    </tr>\n",
       "  </thead>\n",
       "  <tbody>\n",
       "    <tr>\n",
       "      <th>count</th>\n",
       "      <td>868.000000</td>\n",
       "      <td>868.000000</td>\n",
       "      <td>868.000000</td>\n",
       "      <td>868.000000</td>\n",
       "      <td>868.000000</td>\n",
       "      <td>868.000000</td>\n",
       "      <td>868.000000</td>\n",
       "      <td>868.000000</td>\n",
       "      <td>868.000000</td>\n",
       "      <td>868.000000</td>\n",
       "    </tr>\n",
       "    <tr>\n",
       "      <th>mean</th>\n",
       "      <td>2615.232719</td>\n",
       "      <td>6.188940</td>\n",
       "      <td>193.182028</td>\n",
       "      <td>199.370968</td>\n",
       "      <td>4.858295</td>\n",
       "      <td>176.866359</td>\n",
       "      <td>181.724654</td>\n",
       "      <td>1417.392857</td>\n",
       "      <td>53.918203</td>\n",
       "      <td>14.052995</td>\n",
       "    </tr>\n",
       "    <tr>\n",
       "      <th>std</th>\n",
       "      <td>1999.143695</td>\n",
       "      <td>13.886881</td>\n",
       "      <td>170.680034</td>\n",
       "      <td>175.043789</td>\n",
       "      <td>13.741961</td>\n",
       "      <td>171.242991</td>\n",
       "      <td>173.891869</td>\n",
       "      <td>1139.694369</td>\n",
       "      <td>103.075605</td>\n",
       "      <td>60.242910</td>\n",
       "    </tr>\n",
       "    <tr>\n",
       "      <th>min</th>\n",
       "      <td>168.000000</td>\n",
       "      <td>0.000000</td>\n",
       "      <td>0.000000</td>\n",
       "      <td>0.000000</td>\n",
       "      <td>0.000000</td>\n",
       "      <td>0.000000</td>\n",
       "      <td>0.000000</td>\n",
       "      <td>0.000000</td>\n",
       "      <td>0.000000</td>\n",
       "      <td>0.000000</td>\n",
       "    </tr>\n",
       "    <tr>\n",
       "      <th>25%</th>\n",
       "      <td>1290.750000</td>\n",
       "      <td>0.000000</td>\n",
       "      <td>70.000000</td>\n",
       "      <td>72.000000</td>\n",
       "      <td>0.000000</td>\n",
       "      <td>52.750000</td>\n",
       "      <td>54.000000</td>\n",
       "      <td>469.250000</td>\n",
       "      <td>0.000000</td>\n",
       "      <td>0.000000</td>\n",
       "    </tr>\n",
       "    <tr>\n",
       "      <th>50%</th>\n",
       "      <td>2104.000000</td>\n",
       "      <td>0.000000</td>\n",
       "      <td>151.000000</td>\n",
       "      <td>153.000000</td>\n",
       "      <td>0.000000</td>\n",
       "      <td>127.500000</td>\n",
       "      <td>131.000000</td>\n",
       "      <td>1030.000000</td>\n",
       "      <td>6.000000</td>\n",
       "      <td>0.000000</td>\n",
       "    </tr>\n",
       "    <tr>\n",
       "      <th>75%</th>\n",
       "      <td>3261.000000</td>\n",
       "      <td>6.000000</td>\n",
       "      <td>275.750000</td>\n",
       "      <td>288.500000</td>\n",
       "      <td>4.000000</td>\n",
       "      <td>263.000000</td>\n",
       "      <td>275.750000</td>\n",
       "      <td>2315.250000</td>\n",
       "      <td>56.000000</td>\n",
       "      <td>0.000000</td>\n",
       "    </tr>\n",
       "    <tr>\n",
       "      <th>max</th>\n",
       "      <td>8696.000000</td>\n",
       "      <td>168.000000</td>\n",
       "      <td>1187.000000</td>\n",
       "      <td>1207.000000</td>\n",
       "      <td>180.000000</td>\n",
       "      <td>1077.000000</td>\n",
       "      <td>1077.000000</td>\n",
       "      <td>5476.000000</td>\n",
       "      <td>729.000000</td>\n",
       "      <td>1255.000000</td>\n",
       "    </tr>\n",
       "  </tbody>\n",
       "</table>\n",
       "</div>"
      ],
      "text/plain": [
       "              beds  admitted_pui  admitted_covid  admitted_total  \\\n",
       "count   868.000000    868.000000      868.000000      868.000000   \n",
       "mean   2615.232719      6.188940      193.182028      199.370968   \n",
       "std    1999.143695     13.886881      170.680034      175.043789   \n",
       "min     168.000000      0.000000        0.000000        0.000000   \n",
       "25%    1290.750000      0.000000       70.000000       72.000000   \n",
       "50%    2104.000000      0.000000      151.000000      153.000000   \n",
       "75%    3261.000000      6.000000      275.750000      288.500000   \n",
       "max    8696.000000    168.000000     1187.000000     1207.000000   \n",
       "\n",
       "       discharge_pui  discharge_covid  discharge_total   pkrc_covid  \\\n",
       "count     868.000000       868.000000       868.000000   868.000000   \n",
       "mean        4.858295       176.866359       181.724654  1417.392857   \n",
       "std        13.741961       171.242991       173.891869  1139.694369   \n",
       "min         0.000000         0.000000         0.000000     0.000000   \n",
       "25%         0.000000        52.750000        54.000000   469.250000   \n",
       "50%         0.000000       127.500000       131.000000  1030.000000   \n",
       "75%         4.000000       263.000000       275.750000  2315.250000   \n",
       "max       180.000000      1077.000000      1077.000000  5476.000000   \n",
       "\n",
       "         pkrc_pui  pkrc_noncovid  \n",
       "count  868.000000     868.000000  \n",
       "mean    53.918203      14.052995  \n",
       "std    103.075605      60.242910  \n",
       "min      0.000000       0.000000  \n",
       "25%      0.000000       0.000000  \n",
       "50%      6.000000       0.000000  \n",
       "75%     56.000000       0.000000  \n",
       "max    729.000000    1255.000000  "
      ]
     },
     "metadata": {},
     "execution_count": 137
    }
   ],
   "metadata": {}
  },
  {
   "cell_type": "code",
   "execution_count": 138,
   "source": [
    "pkrc_df.isna().sum()"
   ],
   "outputs": [
    {
     "output_type": "execute_result",
     "data": {
      "text/plain": [
       "date               0\n",
       "state              0\n",
       "beds               0\n",
       "admitted_pui       0\n",
       "admitted_covid     0\n",
       "admitted_total     0\n",
       "discharge_pui      0\n",
       "discharge_covid    0\n",
       "discharge_total    0\n",
       "pkrc_covid         0\n",
       "pkrc_pui           0\n",
       "pkrc_noncovid      0\n",
       "dtype: int64"
      ]
     },
     "metadata": {},
     "execution_count": 138
    }
   ],
   "metadata": {}
  },
  {
   "cell_type": "markdown",
   "source": [
    "##### Identify Missing Value\n",
    "</p> Visualize the number of missing values as a bar chart"
   ],
   "metadata": {}
  },
  {
   "cell_type": "code",
   "execution_count": 139,
   "source": [
    "msno.bar(pkrc_df)"
   ],
   "outputs": [
    {
     "output_type": "execute_result",
     "data": {
      "text/plain": [
       "<AxesSubplot:>"
      ]
     },
     "metadata": {},
     "execution_count": 139
    },
    {
     "output_type": "display_data",
     "data": {
      "image/png": "[encoded data removed]",
      "text/plain": [
       "<Figure size 1800x720 with 3 Axes>"
      ]
     },
     "metadata": {
      "needs_background": "light"
     }
    }
   ],
   "metadata": {}
  },
  {
   "cell_type": "markdown",
   "source": [
    "##### Identify Outliers\n",
    "</p> Visualize the data using box plot, check the distribution of data and outliers"
   ],
   "metadata": {}
  },
  {
   "cell_type": "code",
   "execution_count": 140,
   "source": [
    "fig, axes = plt.subplots(4, 3, figsize=(15, 5), sharey=True)\r\n",
    "# fig.suptitle('Outliers Visualization')\r\n",
    "plt.subplots_adjust(left=None, bottom= 0.1, right=None, top=2, wspace=0.2, hspace=0.6)\r\n",
    "\r\n",
    "sns.boxplot(data=pkrc_df, x = pkrc_df[\"beds\"],ax=axes[0][0])\r\n",
    "axes[0][0].set_title('beds')\r\n",
    "sns.boxplot(data=pkrc_df,x = pkrc_df[\"admitted_pui\"],ax=axes[0][1])\r\n",
    "axes[0][1].set_title('admitted_pui')\r\n",
    "sns.boxplot(data=pkrc_df, x = pkrc_df[\"admitted_covid\"],ax=axes[0][2])\r\n",
    "axes[0][2].set_title(\"admitted_covid\")\r\n",
    "sns.boxplot(data=pkrc_df,x = pkrc_df[\"admitted_total\"],ax=axes[1][0])\r\n",
    "axes[1][0].set_title('admitted_total')\r\n",
    "sns.boxplot(data=pkrc_df, x = pkrc_df[\"discharge_pui\"],ax=axes[1][1])\r\n",
    "axes[1][1].set_title('discharge_pui')\r\n",
    "sns.boxplot(data=pkrc_df,x = pkrc_df[\"discharge_covid\"],ax=axes[1][2])\r\n",
    "axes[1][2].set_title('discharge_covid')\r\n",
    "sns.boxplot(data=pkrc_df, x = pkrc_df[\"discharge_total\"],ax=axes[2][0])\r\n",
    "axes[2][0].set_title('discharge_total')\r\n",
    "sns.boxplot(data=pkrc_df,x = pkrc_df[\"pkrc_covid\"],ax=axes[2][1])\r\n",
    "axes[2][1].set_title('pkrc_covid')\r\n",
    "sns.boxplot(data=pkrc_df, x = pkrc_df[\"pkrc_pui\"],ax=axes[2][2])\r\n",
    "axes[2][2].set_title('pkrc_pui')\r\n",
    "sns.boxplot(data=pkrc_df,x = pkrc_df[\"pkrc_noncovid\"],ax=axes[3][0])\r\n",
    "axes[2][0].set_title('pkrc_noncovid')"
   ],
   "outputs": [
    {
     "output_type": "execute_result",
     "data": {
      "text/plain": [
       "Text(0.5, 1.0, 'pkrc_noncovid')"
      ]
     },
     "metadata": {},
     "execution_count": 140
    },
    {
     "output_type": "display_data",
     "data": {
      "image/png": "[encoded data removed]",
      "text/plain": [
       "<Figure size 1080x360 with 12 Axes>"
      ]
     },
     "metadata": {
      "needs_background": "light"
     }
    }
   ],
   "metadata": {}
  },
  {
   "cell_type": "markdown",
   "source": [
    "### Exploratory Data Analaysis for Mysejahtera CheckIn Dataset"
   ],
   "metadata": {}
  },
  {
   "cell_type": "code",
   "execution_count": 141,
   "source": [
    "checkIn_df = pd.read_csv(checkIn_dir)\r\n",
    "after_start_date = checkIn_df[\"date\"] >= start_date\r\n",
    "before_end_date = checkIn_df[\"date\"] <= end_date\r\n",
    "between_two_dates = after_start_date & before_end_date\r\n",
    "checkIn_df = checkIn_df.loc[between_two_dates]\r\n",
    "checkIn_df.head()"
   ],
   "outputs": [
    {
     "output_type": "execute_result",
     "data": {
      "text/html": [
       "<div>\n",
       "<style scoped>\n",
       "    .dataframe tbody tr th:only-of-type {\n",
       "        vertical-align: middle;\n",
       "    }\n",
       "\n",
       "    .dataframe tbody tr th {\n",
       "        vertical-align: top;\n",
       "    }\n",
       "\n",
       "    .dataframe thead th {\n",
       "        text-align: right;\n",
       "    }\n",
       "</style>\n",
       "<table border=\"1\" class=\"dataframe\">\n",
       "  <thead>\n",
       "    <tr style=\"text-align: right;\">\n",
       "      <th></th>\n",
       "      <th>date</th>\n",
       "      <th>state</th>\n",
       "      <th>checkins</th>\n",
       "      <th>unique_ind</th>\n",
       "      <th>unique_loc</th>\n",
       "    </tr>\n",
       "  </thead>\n",
       "  <tbody>\n",
       "    <tr>\n",
       "      <th>3392</th>\n",
       "      <td>2021-07-01</td>\n",
       "      <td>Johor</td>\n",
       "      <td>2093025</td>\n",
       "      <td>1046923</td>\n",
       "      <td>80161</td>\n",
       "    </tr>\n",
       "    <tr>\n",
       "      <th>3393</th>\n",
       "      <td>2021-07-01</td>\n",
       "      <td>Kedah</td>\n",
       "      <td>764979</td>\n",
       "      <td>423792</td>\n",
       "      <td>35235</td>\n",
       "    </tr>\n",
       "    <tr>\n",
       "      <th>3394</th>\n",
       "      <td>2021-07-01</td>\n",
       "      <td>Kelantan</td>\n",
       "      <td>302379</td>\n",
       "      <td>172269</td>\n",
       "      <td>21977</td>\n",
       "    </tr>\n",
       "    <tr>\n",
       "      <th>3395</th>\n",
       "      <td>2021-07-01</td>\n",
       "      <td>Melaka</td>\n",
       "      <td>490636</td>\n",
       "      <td>257934</td>\n",
       "      <td>20042</td>\n",
       "    </tr>\n",
       "    <tr>\n",
       "      <th>3396</th>\n",
       "      <td>2021-07-01</td>\n",
       "      <td>Negeri Sembilan</td>\n",
       "      <td>596917</td>\n",
       "      <td>314375</td>\n",
       "      <td>22793</td>\n",
       "    </tr>\n",
       "  </tbody>\n",
       "</table>\n",
       "</div>"
      ],
      "text/plain": [
       "            date            state  checkins  unique_ind  unique_loc\n",
       "3392  2021-07-01            Johor   2093025     1046923       80161\n",
       "3393  2021-07-01            Kedah    764979      423792       35235\n",
       "3394  2021-07-01         Kelantan    302379      172269       21977\n",
       "3395  2021-07-01           Melaka    490636      257934       20042\n",
       "3396  2021-07-01  Negeri Sembilan    596917      314375       22793"
      ]
     },
     "metadata": {},
     "execution_count": 141
    }
   ],
   "metadata": {}
  },
  {
   "cell_type": "code",
   "execution_count": 142,
   "source": [
    "checkIn_df.info()"
   ],
   "outputs": [
    {
     "output_type": "stream",
     "name": "stdout",
     "text": [
      "<class 'pandas.core.frame.DataFrame'>\n",
      "Int64Index: 992 entries, 3392 to 4383\n",
      "Data columns (total 5 columns):\n",
      " #   Column      Non-Null Count  Dtype \n",
      "---  ------      --------------  ----- \n",
      " 0   date        992 non-null    object\n",
      " 1   state       992 non-null    object\n",
      " 2   checkins    992 non-null    int64 \n",
      " 3   unique_ind  992 non-null    int64 \n",
      " 4   unique_loc  992 non-null    int64 \n",
      "dtypes: int64(3), object(2)\n",
      "memory usage: 46.5+ KB\n"
     ]
    }
   ],
   "metadata": {}
  },
  {
   "cell_type": "code",
   "execution_count": 143,
   "source": [
    "checkIn_df.describe()"
   ],
   "outputs": [
    {
     "output_type": "execute_result",
     "data": {
      "text/html": [
       "<div>\n",
       "<style scoped>\n",
       "    .dataframe tbody tr th:only-of-type {\n",
       "        vertical-align: middle;\n",
       "    }\n",
       "\n",
       "    .dataframe tbody tr th {\n",
       "        vertical-align: top;\n",
       "    }\n",
       "\n",
       "    .dataframe thead th {\n",
       "        text-align: right;\n",
       "    }\n",
       "</style>\n",
       "<table border=\"1\" class=\"dataframe\">\n",
       "  <thead>\n",
       "    <tr style=\"text-align: right;\">\n",
       "      <th></th>\n",
       "      <th>checkins</th>\n",
       "      <th>unique_ind</th>\n",
       "      <th>unique_loc</th>\n",
       "    </tr>\n",
       "  </thead>\n",
       "  <tbody>\n",
       "    <tr>\n",
       "      <th>count</th>\n",
       "      <td>9.920000e+02</td>\n",
       "      <td>9.920000e+02</td>\n",
       "      <td>992.000000</td>\n",
       "    </tr>\n",
       "    <tr>\n",
       "      <th>mean</th>\n",
       "      <td>1.131953e+06</td>\n",
       "      <td>5.583087e+05</td>\n",
       "      <td>38258.386089</td>\n",
       "    </tr>\n",
       "    <tr>\n",
       "      <th>std</th>\n",
       "      <td>1.090926e+06</td>\n",
       "      <td>5.507102e+05</td>\n",
       "      <td>31122.174494</td>\n",
       "    </tr>\n",
       "    <tr>\n",
       "      <th>min</th>\n",
       "      <td>2.741600e+04</td>\n",
       "      <td>1.532600e+04</td>\n",
       "      <td>779.000000</td>\n",
       "    </tr>\n",
       "    <tr>\n",
       "      <th>25%</th>\n",
       "      <td>3.208090e+05</td>\n",
       "      <td>1.804750e+05</td>\n",
       "      <td>17987.000000</td>\n",
       "    </tr>\n",
       "    <tr>\n",
       "      <th>50%</th>\n",
       "      <td>7.323920e+05</td>\n",
       "      <td>3.745795e+05</td>\n",
       "      <td>32091.500000</td>\n",
       "    </tr>\n",
       "    <tr>\n",
       "      <th>75%</th>\n",
       "      <td>1.508238e+06</td>\n",
       "      <td>6.425605e+05</td>\n",
       "      <td>54459.250000</td>\n",
       "    </tr>\n",
       "    <tr>\n",
       "      <th>max</th>\n",
       "      <td>5.312835e+06</td>\n",
       "      <td>2.571037e+06</td>\n",
       "      <td>159863.000000</td>\n",
       "    </tr>\n",
       "  </tbody>\n",
       "</table>\n",
       "</div>"
      ],
      "text/plain": [
       "           checkins    unique_ind     unique_loc\n",
       "count  9.920000e+02  9.920000e+02     992.000000\n",
       "mean   1.131953e+06  5.583087e+05   38258.386089\n",
       "std    1.090926e+06  5.507102e+05   31122.174494\n",
       "min    2.741600e+04  1.532600e+04     779.000000\n",
       "25%    3.208090e+05  1.804750e+05   17987.000000\n",
       "50%    7.323920e+05  3.745795e+05   32091.500000\n",
       "75%    1.508238e+06  6.425605e+05   54459.250000\n",
       "max    5.312835e+06  2.571037e+06  159863.000000"
      ]
     },
     "metadata": {},
     "execution_count": 143
    }
   ],
   "metadata": {}
  },
  {
   "cell_type": "code",
   "execution_count": 144,
   "source": [
    "checkIn_null_df=pd.DataFrame({'Column':checkIn_df.isna().sum().index, 'Count of Null Values':checkIn_df.isna().sum().values})  \r\n",
    "checkIn_null_df"
   ],
   "outputs": [
    {
     "output_type": "execute_result",
     "data": {
      "text/html": [
       "<div>\n",
       "<style scoped>\n",
       "    .dataframe tbody tr th:only-of-type {\n",
       "        vertical-align: middle;\n",
       "    }\n",
       "\n",
       "    .dataframe tbody tr th {\n",
       "        vertical-align: top;\n",
       "    }\n",
       "\n",
       "    .dataframe thead th {\n",
       "        text-align: right;\n",
       "    }\n",
       "</style>\n",
       "<table border=\"1\" class=\"dataframe\">\n",
       "  <thead>\n",
       "    <tr style=\"text-align: right;\">\n",
       "      <th></th>\n",
       "      <th>Column</th>\n",
       "      <th>Count of Null Values</th>\n",
       "    </tr>\n",
       "  </thead>\n",
       "  <tbody>\n",
       "    <tr>\n",
       "      <th>0</th>\n",
       "      <td>date</td>\n",
       "      <td>0</td>\n",
       "    </tr>\n",
       "    <tr>\n",
       "      <th>1</th>\n",
       "      <td>state</td>\n",
       "      <td>0</td>\n",
       "    </tr>\n",
       "    <tr>\n",
       "      <th>2</th>\n",
       "      <td>checkins</td>\n",
       "      <td>0</td>\n",
       "    </tr>\n",
       "    <tr>\n",
       "      <th>3</th>\n",
       "      <td>unique_ind</td>\n",
       "      <td>0</td>\n",
       "    </tr>\n",
       "    <tr>\n",
       "      <th>4</th>\n",
       "      <td>unique_loc</td>\n",
       "      <td>0</td>\n",
       "    </tr>\n",
       "  </tbody>\n",
       "</table>\n",
       "</div>"
      ],
      "text/plain": [
       "       Column  Count of Null Values\n",
       "0        date                     0\n",
       "1       state                     0\n",
       "2    checkins                     0\n",
       "3  unique_ind                     0\n",
       "4  unique_loc                     0"
      ]
     },
     "metadata": {},
     "execution_count": 144
    }
   ],
   "metadata": {}
  },
  {
   "cell_type": "markdown",
   "source": [
    "##### Identify Missing Value\n",
    "</p> Visualize the number of missing values as a bar chart"
   ],
   "metadata": {}
  },
  {
   "cell_type": "code",
   "execution_count": 145,
   "source": [
    "msno.bar(checkIn_df)"
   ],
   "outputs": [
    {
     "output_type": "execute_result",
     "data": {
      "text/plain": [
       "<AxesSubplot:>"
      ]
     },
     "metadata": {},
     "execution_count": 145
    },
    {
     "output_type": "display_data",
     "data": {
      "image/png": "[encoded data removed]",
      "text/plain": [
       "<Figure size 1800x720 with 3 Axes>"
      ]
     },
     "metadata": {
      "needs_background": "light"
     }
    }
   ],
   "metadata": {}
  },
  {
   "cell_type": "markdown",
   "source": [
    "##### Identify Outliers\n",
    "</p> Visualize the data using box plot, check the distribution of data and outliers"
   ],
   "metadata": {}
  },
  {
   "cell_type": "code",
   "execution_count": 146,
   "source": [
    "fig, axes = plt.subplots(1, 3, figsize=(15, 5), sharey=True)\r\n",
    "# fig.suptitle('Outliers Visualization')\r\n",
    "plt.subplots_adjust(left=None, bottom= 0.1, right=None, top=0.5, wspace=0.2, hspace=0.6)\r\n",
    "\r\n",
    "sns.boxplot(data=checkIn_df, x = checkIn_df[\"checkins\"],ax=axes[0])\r\n",
    "axes[0].set_title('checkins')\r\n",
    "sns.boxplot(data=checkIn_df,x = checkIn_df[\"unique_ind\"],ax=axes[1])\r\n",
    "axes[1].set_title('unique_ind')\r\n",
    "sns.boxplot(data=checkIn_df, x = checkIn_df[\"unique_loc\"],ax=axes[2])\r\n",
    "axes[1].set_title('unique_loc')"
   ],
   "outputs": [
    {
     "output_type": "execute_result",
     "data": {
      "text/plain": [
       "Text(0.5, 1.0, 'unique_loc')"
      ]
     },
     "metadata": {},
     "execution_count": 146
    },
    {
     "output_type": "display_data",
     "data": {
      "image/png": "[encoded data removed]",
      "text/plain": [
       "<Figure size 1080x360 with 3 Axes>"
      ]
     },
     "metadata": {
      "needs_background": "light"
     }
    }
   ],
   "metadata": {}
  },
  {
   "cell_type": "markdown",
   "source": [
    "#### Exploratory Data Analysis for Hospital Dataset"
   ],
   "metadata": {}
  },
  {
   "cell_type": "code",
   "execution_count": 147,
   "source": [
    "hospital_df = pd.read_csv(hospital_dir)\r\n",
    "after_start_date = hospital_df[\"date\"] >= start_date\r\n",
    "before_end_date = hospital_df[\"date\"] <= end_date\r\n",
    "between_two_dates = after_start_date & before_end_date\r\n",
    "hospital_df = hospital_df.loc[between_two_dates]\r\n",
    "hospital_df.head()"
   ],
   "outputs": [
    {
     "output_type": "execute_result",
     "data": {
      "text/html": [
       "<div>\n",
       "<style scoped>\n",
       "    .dataframe tbody tr th:only-of-type {\n",
       "        vertical-align: middle;\n",
       "    }\n",
       "\n",
       "    .dataframe tbody tr th {\n",
       "        vertical-align: top;\n",
       "    }\n",
       "\n",
       "    .dataframe thead th {\n",
       "        text-align: right;\n",
       "    }\n",
       "</style>\n",
       "<table border=\"1\" class=\"dataframe\">\n",
       "  <thead>\n",
       "    <tr style=\"text-align: right;\">\n",
       "      <th></th>\n",
       "      <th>date</th>\n",
       "      <th>state</th>\n",
       "      <th>beds</th>\n",
       "      <th>beds_covid</th>\n",
       "      <th>beds_noncrit</th>\n",
       "      <th>admitted_pui</th>\n",
       "      <th>admitted_covid</th>\n",
       "      <th>admitted_total</th>\n",
       "      <th>discharged_pui</th>\n",
       "      <th>discharged_covid</th>\n",
       "      <th>discharged_total</th>\n",
       "      <th>hosp_covid</th>\n",
       "      <th>hosp_pui</th>\n",
       "      <th>hosp_noncovid</th>\n",
       "    </tr>\n",
       "  </thead>\n",
       "  <tbody>\n",
       "    <tr>\n",
       "      <th>7011</th>\n",
       "      <td>2021-07-01</td>\n",
       "      <td>Johor</td>\n",
       "      <td>5090</td>\n",
       "      <td>1535</td>\n",
       "      <td>4903</td>\n",
       "      <td>178</td>\n",
       "      <td>131</td>\n",
       "      <td>309</td>\n",
       "      <td>130</td>\n",
       "      <td>117</td>\n",
       "      <td>247</td>\n",
       "      <td>732</td>\n",
       "      <td>233</td>\n",
       "      <td>3051</td>\n",
       "    </tr>\n",
       "    <tr>\n",
       "      <th>7012</th>\n",
       "      <td>2021-07-01</td>\n",
       "      <td>Kedah</td>\n",
       "      <td>2755</td>\n",
       "      <td>661</td>\n",
       "      <td>2639</td>\n",
       "      <td>1</td>\n",
       "      <td>70</td>\n",
       "      <td>71</td>\n",
       "      <td>0</td>\n",
       "      <td>32</td>\n",
       "      <td>32</td>\n",
       "      <td>338</td>\n",
       "      <td>2</td>\n",
       "      <td>1650</td>\n",
       "    </tr>\n",
       "    <tr>\n",
       "      <th>7013</th>\n",
       "      <td>2021-07-01</td>\n",
       "      <td>Kelantan</td>\n",
       "      <td>2737</td>\n",
       "      <td>559</td>\n",
       "      <td>2593</td>\n",
       "      <td>13</td>\n",
       "      <td>59</td>\n",
       "      <td>72</td>\n",
       "      <td>14</td>\n",
       "      <td>49</td>\n",
       "      <td>63</td>\n",
       "      <td>297</td>\n",
       "      <td>18</td>\n",
       "      <td>1439</td>\n",
       "    </tr>\n",
       "    <tr>\n",
       "      <th>7014</th>\n",
       "      <td>2021-07-01</td>\n",
       "      <td>Melaka</td>\n",
       "      <td>1101</td>\n",
       "      <td>290</td>\n",
       "      <td>987</td>\n",
       "      <td>18</td>\n",
       "      <td>56</td>\n",
       "      <td>74</td>\n",
       "      <td>10</td>\n",
       "      <td>40</td>\n",
       "      <td>50</td>\n",
       "      <td>397</td>\n",
       "      <td>23</td>\n",
       "      <td>579</td>\n",
       "    </tr>\n",
       "    <tr>\n",
       "      <th>7015</th>\n",
       "      <td>2021-07-01</td>\n",
       "      <td>Negeri Sembilan</td>\n",
       "      <td>1431</td>\n",
       "      <td>1084</td>\n",
       "      <td>1366</td>\n",
       "      <td>6</td>\n",
       "      <td>147</td>\n",
       "      <td>153</td>\n",
       "      <td>4</td>\n",
       "      <td>96</td>\n",
       "      <td>100</td>\n",
       "      <td>861</td>\n",
       "      <td>12</td>\n",
       "      <td>456</td>\n",
       "    </tr>\n",
       "  </tbody>\n",
       "</table>\n",
       "</div>"
      ],
      "text/plain": [
       "            date            state  beds  beds_covid  beds_noncrit  \\\n",
       "7011  2021-07-01            Johor  5090        1535          4903   \n",
       "7012  2021-07-01            Kedah  2755         661          2639   \n",
       "7013  2021-07-01         Kelantan  2737         559          2593   \n",
       "7014  2021-07-01           Melaka  1101         290           987   \n",
       "7015  2021-07-01  Negeri Sembilan  1431        1084          1366   \n",
       "\n",
       "      admitted_pui  admitted_covid  admitted_total  discharged_pui  \\\n",
       "7011           178             131             309             130   \n",
       "7012             1              70              71               0   \n",
       "7013            13              59              72              14   \n",
       "7014            18              56              74              10   \n",
       "7015             6             147             153               4   \n",
       "\n",
       "      discharged_covid  discharged_total  hosp_covid  hosp_pui  hosp_noncovid  \n",
       "7011               117               247         732       233           3051  \n",
       "7012                32                32         338         2           1650  \n",
       "7013                49                63         297        18           1439  \n",
       "7014                40                50         397        23            579  \n",
       "7015                96               100         861        12            456  "
      ]
     },
     "metadata": {},
     "execution_count": 147
    }
   ],
   "metadata": {}
  },
  {
   "cell_type": "code",
   "execution_count": 148,
   "source": [
    "hospital_df.info()"
   ],
   "outputs": [
    {
     "output_type": "stream",
     "name": "stdout",
     "text": [
      "<class 'pandas.core.frame.DataFrame'>\n",
      "Int64Index: 992 entries, 7011 to 8002\n",
      "Data columns (total 14 columns):\n",
      " #   Column            Non-Null Count  Dtype \n",
      "---  ------            --------------  ----- \n",
      " 0   date              992 non-null    object\n",
      " 1   state             992 non-null    object\n",
      " 2   beds              992 non-null    int64 \n",
      " 3   beds_covid        992 non-null    int64 \n",
      " 4   beds_noncrit      992 non-null    int64 \n",
      " 5   admitted_pui      992 non-null    int64 \n",
      " 6   admitted_covid    992 non-null    int64 \n",
      " 7   admitted_total    992 non-null    int64 \n",
      " 8   discharged_pui    992 non-null    int64 \n",
      " 9   discharged_covid  992 non-null    int64 \n",
      " 10  discharged_total  992 non-null    int64 \n",
      " 11  hosp_covid        992 non-null    int64 \n",
      " 12  hosp_pui          992 non-null    int64 \n",
      " 13  hosp_noncovid     992 non-null    int64 \n",
      "dtypes: int64(12), object(2)\n",
      "memory usage: 116.2+ KB\n"
     ]
    }
   ],
   "metadata": {}
  },
  {
   "cell_type": "code",
   "execution_count": 149,
   "source": [
    "hospital_df.describe()"
   ],
   "outputs": [
    {
     "output_type": "execute_result",
     "data": {
      "text/html": [
       "<div>\n",
       "<style scoped>\n",
       "    .dataframe tbody tr th:only-of-type {\n",
       "        vertical-align: middle;\n",
       "    }\n",
       "\n",
       "    .dataframe tbody tr th {\n",
       "        vertical-align: top;\n",
       "    }\n",
       "\n",
       "    .dataframe thead th {\n",
       "        text-align: right;\n",
       "    }\n",
       "</style>\n",
       "<table border=\"1\" class=\"dataframe\">\n",
       "  <thead>\n",
       "    <tr style=\"text-align: right;\">\n",
       "      <th></th>\n",
       "      <th>beds</th>\n",
       "      <th>beds_covid</th>\n",
       "      <th>beds_noncrit</th>\n",
       "      <th>admitted_pui</th>\n",
       "      <th>admitted_covid</th>\n",
       "      <th>admitted_total</th>\n",
       "      <th>discharged_pui</th>\n",
       "      <th>discharged_covid</th>\n",
       "      <th>discharged_total</th>\n",
       "      <th>hosp_covid</th>\n",
       "      <th>hosp_pui</th>\n",
       "      <th>hosp_noncovid</th>\n",
       "    </tr>\n",
       "  </thead>\n",
       "  <tbody>\n",
       "    <tr>\n",
       "      <th>count</th>\n",
       "      <td>992.000000</td>\n",
       "      <td>992.000000</td>\n",
       "      <td>992.000000</td>\n",
       "      <td>992.000000</td>\n",
       "      <td>992.000000</td>\n",
       "      <td>992.000000</td>\n",
       "      <td>992.000000</td>\n",
       "      <td>992.000000</td>\n",
       "      <td>992.000000</td>\n",
       "      <td>992.000000</td>\n",
       "      <td>992.000000</td>\n",
       "      <td>992.000000</td>\n",
       "    </tr>\n",
       "    <tr>\n",
       "      <th>mean</th>\n",
       "      <td>2578.852823</td>\n",
       "      <td>997.365927</td>\n",
       "      <td>2447.864919</td>\n",
       "      <td>28.313508</td>\n",
       "      <td>121.756048</td>\n",
       "      <td>150.069556</td>\n",
       "      <td>20.640121</td>\n",
       "      <td>94.758065</td>\n",
       "      <td>115.398185</td>\n",
       "      <td>746.093750</td>\n",
       "      <td>73.986895</td>\n",
       "      <td>1080.698589</td>\n",
       "    </tr>\n",
       "    <tr>\n",
       "      <th>std</th>\n",
       "      <td>1731.927256</td>\n",
       "      <td>955.364124</td>\n",
       "      <td>1644.444511</td>\n",
       "      <td>40.403808</td>\n",
       "      <td>132.212924</td>\n",
       "      <td>160.858150</td>\n",
       "      <td>31.286646</td>\n",
       "      <td>106.786375</td>\n",
       "      <td>129.582936</td>\n",
       "      <td>838.773968</td>\n",
       "      <td>90.789779</td>\n",
       "      <td>694.907817</td>\n",
       "    </tr>\n",
       "    <tr>\n",
       "      <th>min</th>\n",
       "      <td>122.000000</td>\n",
       "      <td>25.000000</td>\n",
       "      <td>99.000000</td>\n",
       "      <td>0.000000</td>\n",
       "      <td>0.000000</td>\n",
       "      <td>0.000000</td>\n",
       "      <td>0.000000</td>\n",
       "      <td>0.000000</td>\n",
       "      <td>0.000000</td>\n",
       "      <td>0.000000</td>\n",
       "      <td>0.000000</td>\n",
       "      <td>1.000000</td>\n",
       "    </tr>\n",
       "    <tr>\n",
       "      <th>25%</th>\n",
       "      <td>1307.000000</td>\n",
       "      <td>426.000000</td>\n",
       "      <td>1220.500000</td>\n",
       "      <td>4.000000</td>\n",
       "      <td>33.750000</td>\n",
       "      <td>43.000000</td>\n",
       "      <td>1.000000</td>\n",
       "      <td>25.000000</td>\n",
       "      <td>30.000000</td>\n",
       "      <td>254.000000</td>\n",
       "      <td>14.000000</td>\n",
       "      <td>531.000000</td>\n",
       "    </tr>\n",
       "    <tr>\n",
       "      <th>50%</th>\n",
       "      <td>2457.000000</td>\n",
       "      <td>812.000000</td>\n",
       "      <td>2349.500000</td>\n",
       "      <td>11.000000</td>\n",
       "      <td>76.000000</td>\n",
       "      <td>90.000000</td>\n",
       "      <td>7.500000</td>\n",
       "      <td>55.500000</td>\n",
       "      <td>68.500000</td>\n",
       "      <td>471.500000</td>\n",
       "      <td>35.000000</td>\n",
       "      <td>977.000000</td>\n",
       "    </tr>\n",
       "    <tr>\n",
       "      <th>75%</th>\n",
       "      <td>3699.000000</td>\n",
       "      <td>1165.000000</td>\n",
       "      <td>3517.000000</td>\n",
       "      <td>26.000000</td>\n",
       "      <td>159.000000</td>\n",
       "      <td>181.250000</td>\n",
       "      <td>19.250000</td>\n",
       "      <td>117.000000</td>\n",
       "      <td>128.250000</td>\n",
       "      <td>908.250000</td>\n",
       "      <td>89.500000</td>\n",
       "      <td>1532.250000</td>\n",
       "    </tr>\n",
       "    <tr>\n",
       "      <th>max</th>\n",
       "      <td>6568.000000</td>\n",
       "      <td>4713.000000</td>\n",
       "      <td>6164.000000</td>\n",
       "      <td>198.000000</td>\n",
       "      <td>748.000000</td>\n",
       "      <td>797.000000</td>\n",
       "      <td>236.000000</td>\n",
       "      <td>613.000000</td>\n",
       "      <td>721.000000</td>\n",
       "      <td>4218.000000</td>\n",
       "      <td>386.000000</td>\n",
       "      <td>3069.000000</td>\n",
       "    </tr>\n",
       "  </tbody>\n",
       "</table>\n",
       "</div>"
      ],
      "text/plain": [
       "              beds   beds_covid  beds_noncrit  admitted_pui  admitted_covid  \\\n",
       "count   992.000000   992.000000    992.000000    992.000000      992.000000   \n",
       "mean   2578.852823   997.365927   2447.864919     28.313508      121.756048   \n",
       "std    1731.927256   955.364124   1644.444511     40.403808      132.212924   \n",
       "min     122.000000    25.000000     99.000000      0.000000        0.000000   \n",
       "25%    1307.000000   426.000000   1220.500000      4.000000       33.750000   \n",
       "50%    2457.000000   812.000000   2349.500000     11.000000       76.000000   \n",
       "75%    3699.000000  1165.000000   3517.000000     26.000000      159.000000   \n",
       "max    6568.000000  4713.000000   6164.000000    198.000000      748.000000   \n",
       "\n",
       "       admitted_total  discharged_pui  discharged_covid  discharged_total  \\\n",
       "count      992.000000      992.000000        992.000000        992.000000   \n",
       "mean       150.069556       20.640121         94.758065        115.398185   \n",
       "std        160.858150       31.286646        106.786375        129.582936   \n",
       "min          0.000000        0.000000          0.000000          0.000000   \n",
       "25%         43.000000        1.000000         25.000000         30.000000   \n",
       "50%         90.000000        7.500000         55.500000         68.500000   \n",
       "75%        181.250000       19.250000        117.000000        128.250000   \n",
       "max        797.000000      236.000000        613.000000        721.000000   \n",
       "\n",
       "        hosp_covid    hosp_pui  hosp_noncovid  \n",
       "count   992.000000  992.000000     992.000000  \n",
       "mean    746.093750   73.986895    1080.698589  \n",
       "std     838.773968   90.789779     694.907817  \n",
       "min       0.000000    0.000000       1.000000  \n",
       "25%     254.000000   14.000000     531.000000  \n",
       "50%     471.500000   35.000000     977.000000  \n",
       "75%     908.250000   89.500000    1532.250000  \n",
       "max    4218.000000  386.000000    3069.000000  "
      ]
     },
     "metadata": {},
     "execution_count": 149
    }
   ],
   "metadata": {}
  },
  {
   "cell_type": "code",
   "execution_count": 150,
   "source": [
    "hospital_df_null_df=pd.DataFrame({'Column':hospital_df.isna().sum().index, 'Count of Null Values':hospital_df.isna().sum().values})  \r\n",
    "hospital_df_null_df"
   ],
   "outputs": [
    {
     "output_type": "execute_result",
     "data": {
      "text/html": [
       "<div>\n",
       "<style scoped>\n",
       "    .dataframe tbody tr th:only-of-type {\n",
       "        vertical-align: middle;\n",
       "    }\n",
       "\n",
       "    .dataframe tbody tr th {\n",
       "        vertical-align: top;\n",
       "    }\n",
       "\n",
       "    .dataframe thead th {\n",
       "        text-align: right;\n",
       "    }\n",
       "</style>\n",
       "<table border=\"1\" class=\"dataframe\">\n",
       "  <thead>\n",
       "    <tr style=\"text-align: right;\">\n",
       "      <th></th>\n",
       "      <th>Column</th>\n",
       "      <th>Count of Null Values</th>\n",
       "    </tr>\n",
       "  </thead>\n",
       "  <tbody>\n",
       "    <tr>\n",
       "      <th>0</th>\n",
       "      <td>date</td>\n",
       "      <td>0</td>\n",
       "    </tr>\n",
       "    <tr>\n",
       "      <th>1</th>\n",
       "      <td>state</td>\n",
       "      <td>0</td>\n",
       "    </tr>\n",
       "    <tr>\n",
       "      <th>2</th>\n",
       "      <td>beds</td>\n",
       "      <td>0</td>\n",
       "    </tr>\n",
       "    <tr>\n",
       "      <th>3</th>\n",
       "      <td>beds_covid</td>\n",
       "      <td>0</td>\n",
       "    </tr>\n",
       "    <tr>\n",
       "      <th>4</th>\n",
       "      <td>beds_noncrit</td>\n",
       "      <td>0</td>\n",
       "    </tr>\n",
       "    <tr>\n",
       "      <th>5</th>\n",
       "      <td>admitted_pui</td>\n",
       "      <td>0</td>\n",
       "    </tr>\n",
       "    <tr>\n",
       "      <th>6</th>\n",
       "      <td>admitted_covid</td>\n",
       "      <td>0</td>\n",
       "    </tr>\n",
       "    <tr>\n",
       "      <th>7</th>\n",
       "      <td>admitted_total</td>\n",
       "      <td>0</td>\n",
       "    </tr>\n",
       "    <tr>\n",
       "      <th>8</th>\n",
       "      <td>discharged_pui</td>\n",
       "      <td>0</td>\n",
       "    </tr>\n",
       "    <tr>\n",
       "      <th>9</th>\n",
       "      <td>discharged_covid</td>\n",
       "      <td>0</td>\n",
       "    </tr>\n",
       "    <tr>\n",
       "      <th>10</th>\n",
       "      <td>discharged_total</td>\n",
       "      <td>0</td>\n",
       "    </tr>\n",
       "    <tr>\n",
       "      <th>11</th>\n",
       "      <td>hosp_covid</td>\n",
       "      <td>0</td>\n",
       "    </tr>\n",
       "    <tr>\n",
       "      <th>12</th>\n",
       "      <td>hosp_pui</td>\n",
       "      <td>0</td>\n",
       "    </tr>\n",
       "    <tr>\n",
       "      <th>13</th>\n",
       "      <td>hosp_noncovid</td>\n",
       "      <td>0</td>\n",
       "    </tr>\n",
       "  </tbody>\n",
       "</table>\n",
       "</div>"
      ],
      "text/plain": [
       "              Column  Count of Null Values\n",
       "0               date                     0\n",
       "1              state                     0\n",
       "2               beds                     0\n",
       "3         beds_covid                     0\n",
       "4       beds_noncrit                     0\n",
       "5       admitted_pui                     0\n",
       "6     admitted_covid                     0\n",
       "7     admitted_total                     0\n",
       "8     discharged_pui                     0\n",
       "9   discharged_covid                     0\n",
       "10  discharged_total                     0\n",
       "11        hosp_covid                     0\n",
       "12          hosp_pui                     0\n",
       "13     hosp_noncovid                     0"
      ]
     },
     "metadata": {},
     "execution_count": 150
    }
   ],
   "metadata": {}
  },
  {
   "cell_type": "markdown",
   "source": [
    "##### Identify Missing Value\n",
    "</p> Visualize the number of missing values as a bar chart"
   ],
   "metadata": {}
  },
  {
   "cell_type": "code",
   "execution_count": 151,
   "source": [
    "msno.bar(hospital_df)"
   ],
   "outputs": [
    {
     "output_type": "execute_result",
     "data": {
      "text/plain": [
       "<AxesSubplot:>"
      ]
     },
     "metadata": {},
     "execution_count": 151
    },
    {
     "output_type": "display_data",
     "data": {
      "image/png": "[encoded data removed]",
      "text/plain": [
       "<Figure size 1800x720 with 3 Axes>"
      ]
     },
     "metadata": {
      "needs_background": "light"
     }
    }
   ],
   "metadata": {}
  },
  {
   "cell_type": "markdown",
   "source": [
    "##### Identify Outliers\n",
    "</p> Visualize the data using box plot, check the distribution of data and outliers"
   ],
   "metadata": {}
  },
  {
   "cell_type": "code",
   "execution_count": 152,
   "source": [
    "fig, axes = plt.subplots(4, 3, figsize=(15, 5), sharey=True)\r\n",
    "# fig.suptitle('Outliers Visualization')\r\n",
    "plt.subplots_adjust(left=None, bottom= 0.1, right=None, top=2, wspace=0.2, hspace=0.6)\r\n",
    "\r\n",
    "# beds\tbeds_covid\tbeds_noncrit\tadmitted_pui\tadmitted_covid\tadmitted_total\tdischarged_pui\tdischarged_covid\tdischarged_total\thosp_covid\t\r\n",
    "# hosp_pui\thosp_noncovid\r\n",
    "\r\n",
    "sns.boxplot(data=hospital_df, x = hospital_df[\"beds\"],ax=axes[0][0])\r\n",
    "axes[0][0].set_title('beds')\r\n",
    "sns.boxplot(data=hospital_df,x = hospital_df[\"beds_covid\"],ax=axes[0][1])\r\n",
    "axes[0][1].set_title('beds_covid')\r\n",
    "sns.boxplot(data=hospital_df, x = hospital_df[\"beds_noncrit\"],ax=axes[0][2])\r\n",
    "axes[0][2].set_title('beds_noncrit')\r\n",
    "sns.boxplot(data=hospital_df, x = hospital_df[\"admitted_pui\"],ax=axes[1][0])\r\n",
    "axes[1][0].set_title('admitted_pui')\r\n",
    "sns.boxplot(data=hospital_df,x = hospital_df[\"admitted_covid\"],ax=axes[1][1])\r\n",
    "axes[1][1].set_title('admitted_covid')\r\n",
    "sns.boxplot(data=hospital_df, x = hospital_df[\"admitted_total\"],ax=axes[1][2])\r\n",
    "axes[1][2].set_title('admitted_total')\r\n",
    "sns.boxplot(data=hospital_df, x = hospital_df[\"discharged_pui\"],ax=axes[2][0])\r\n",
    "axes[2][0].set_title('discharged_pui')\r\n",
    "sns.boxplot(data=hospital_df,x = hospital_df[\"discharged_covid\"],ax=axes[2][1])\r\n",
    "axes[2][1].set_title('discharged_covid')\r\n",
    "sns.boxplot(data=hospital_df, x = hospital_df[\"discharged_total\"],ax=axes[2][2])\r\n",
    "axes[2][2].set_title('discharged_total')\r\n",
    "sns.boxplot(data=hospital_df, x = hospital_df[\"hosp_covid\"],ax=axes[3][0])\r\n",
    "axes[3][0].set_title('hosp_covid')\r\n",
    "sns.boxplot(data=hospital_df,x = hospital_df[\"hosp_pui\"],ax=axes[3][1])\r\n",
    "axes[3][1].set_title('hosp_pui')\r\n",
    "sns.boxplot(data=hospital_df, x = hospital_df[\"hosp_noncovid\"],ax=axes[3][2])\r\n",
    "axes[3][2].set_title('hosp_noncovid')"
   ],
   "outputs": [
    {
     "output_type": "execute_result",
     "data": {
      "text/plain": [
       "Text(0.5, 1.0, 'hosp_noncovid')"
      ]
     },
     "metadata": {},
     "execution_count": 152
    },
    {
     "output_type": "display_data",
     "data": {
      "image/png": "[encoded data removed]",
      "text/plain": [
       "<Figure size 1080x360 with 12 Axes>"
      ]
     },
     "metadata": {
      "needs_background": "light"
     }
    }
   ],
   "metadata": {}
  },
  {
   "cell_type": "markdown",
   "source": [
    "# <font color='FireBrick'>Question 3 (ii)</font>"
   ],
   "metadata": {}
  },
  {
   "cell_type": "markdown",
   "source": [
    "### Data Preprocessing with One-Hot Encoding"
   ],
   "metadata": {}
  },
  {
   "cell_type": "markdown",
   "source": [
    "Before finding the relationship between the states, we perform One-Hot encoding to preprocess the state cases dataset."
   ],
   "metadata": {}
  },
  {
   "cell_type": "code",
   "execution_count": 153,
   "source": [
    "state_case_df = pd.get_dummies(state_case_df, prefix='', columns=['state'])\r\n",
    "state_case_df"
   ],
   "outputs": [
    {
     "output_type": "execute_result",
     "data": {
      "text/html": [
       "<div>\n",
       "<style scoped>\n",
       "    .dataframe tbody tr th:only-of-type {\n",
       "        vertical-align: middle;\n",
       "    }\n",
       "\n",
       "    .dataframe tbody tr th {\n",
       "        vertical-align: top;\n",
       "    }\n",
       "\n",
       "    .dataframe thead th {\n",
       "        text-align: right;\n",
       "    }\n",
       "</style>\n",
       "<table border=\"1\" class=\"dataframe\">\n",
       "  <thead>\n",
       "    <tr style=\"text-align: right;\">\n",
       "      <th></th>\n",
       "      <th>date</th>\n",
       "      <th>cases_import</th>\n",
       "      <th>cases_new</th>\n",
       "      <th>cases_recovered</th>\n",
       "      <th>_Johor</th>\n",
       "      <th>_Kedah</th>\n",
       "      <th>_Kelantan</th>\n",
       "      <th>_Melaka</th>\n",
       "      <th>_Negeri Sembilan</th>\n",
       "      <th>_Pahang</th>\n",
       "      <th>_Perak</th>\n",
       "      <th>_Perlis</th>\n",
       "      <th>_Pulau Pinang</th>\n",
       "      <th>_Sabah</th>\n",
       "      <th>_Sarawak</th>\n",
       "      <th>_Selangor</th>\n",
       "      <th>_Terengganu</th>\n",
       "      <th>_W.P. Kuala Lumpur</th>\n",
       "      <th>_W.P. Labuan</th>\n",
       "      <th>_W.P. Putrajaya</th>\n",
       "    </tr>\n",
       "  </thead>\n",
       "  <tbody>\n",
       "    <tr>\n",
       "      <th>8368</th>\n",
       "      <td>2021-07-01</td>\n",
       "      <td>1</td>\n",
       "      <td>270</td>\n",
       "      <td>361</td>\n",
       "      <td>1</td>\n",
       "      <td>0</td>\n",
       "      <td>0</td>\n",
       "      <td>0</td>\n",
       "      <td>0</td>\n",
       "      <td>0</td>\n",
       "      <td>0</td>\n",
       "      <td>0</td>\n",
       "      <td>0</td>\n",
       "      <td>0</td>\n",
       "      <td>0</td>\n",
       "      <td>0</td>\n",
       "      <td>0</td>\n",
       "      <td>0</td>\n",
       "      <td>0</td>\n",
       "      <td>0</td>\n",
       "    </tr>\n",
       "    <tr>\n",
       "      <th>8369</th>\n",
       "      <td>2021-07-01</td>\n",
       "      <td>0</td>\n",
       "      <td>250</td>\n",
       "      <td>186</td>\n",
       "      <td>0</td>\n",
       "      <td>1</td>\n",
       "      <td>0</td>\n",
       "      <td>0</td>\n",
       "      <td>0</td>\n",
       "      <td>0</td>\n",
       "      <td>0</td>\n",
       "      <td>0</td>\n",
       "      <td>0</td>\n",
       "      <td>0</td>\n",
       "      <td>0</td>\n",
       "      <td>0</td>\n",
       "      <td>0</td>\n",
       "      <td>0</td>\n",
       "      <td>0</td>\n",
       "      <td>0</td>\n",
       "    </tr>\n",
       "    <tr>\n",
       "      <th>8370</th>\n",
       "      <td>2021-07-01</td>\n",
       "      <td>0</td>\n",
       "      <td>108</td>\n",
       "      <td>208</td>\n",
       "      <td>0</td>\n",
       "      <td>0</td>\n",
       "      <td>1</td>\n",
       "      <td>0</td>\n",
       "      <td>0</td>\n",
       "      <td>0</td>\n",
       "      <td>0</td>\n",
       "      <td>0</td>\n",
       "      <td>0</td>\n",
       "      <td>0</td>\n",
       "      <td>0</td>\n",
       "      <td>0</td>\n",
       "      <td>0</td>\n",
       "      <td>0</td>\n",
       "      <td>0</td>\n",
       "      <td>0</td>\n",
       "    </tr>\n",
       "    <tr>\n",
       "      <th>8371</th>\n",
       "      <td>2021-07-01</td>\n",
       "      <td>0</td>\n",
       "      <td>311</td>\n",
       "      <td>317</td>\n",
       "      <td>0</td>\n",
       "      <td>0</td>\n",
       "      <td>0</td>\n",
       "      <td>1</td>\n",
       "      <td>0</td>\n",
       "      <td>0</td>\n",
       "      <td>0</td>\n",
       "      <td>0</td>\n",
       "      <td>0</td>\n",
       "      <td>0</td>\n",
       "      <td>0</td>\n",
       "      <td>0</td>\n",
       "      <td>0</td>\n",
       "      <td>0</td>\n",
       "      <td>0</td>\n",
       "      <td>0</td>\n",
       "    </tr>\n",
       "    <tr>\n",
       "      <th>8372</th>\n",
       "      <td>2021-07-01</td>\n",
       "      <td>0</td>\n",
       "      <td>692</td>\n",
       "      <td>883</td>\n",
       "      <td>0</td>\n",
       "      <td>0</td>\n",
       "      <td>0</td>\n",
       "      <td>0</td>\n",
       "      <td>1</td>\n",
       "      <td>0</td>\n",
       "      <td>0</td>\n",
       "      <td>0</td>\n",
       "      <td>0</td>\n",
       "      <td>0</td>\n",
       "      <td>0</td>\n",
       "      <td>0</td>\n",
       "      <td>0</td>\n",
       "      <td>0</td>\n",
       "      <td>0</td>\n",
       "      <td>0</td>\n",
       "    </tr>\n",
       "    <tr>\n",
       "      <th>...</th>\n",
       "      <td>...</td>\n",
       "      <td>...</td>\n",
       "      <td>...</td>\n",
       "      <td>...</td>\n",
       "      <td>...</td>\n",
       "      <td>...</td>\n",
       "      <td>...</td>\n",
       "      <td>...</td>\n",
       "      <td>...</td>\n",
       "      <td>...</td>\n",
       "      <td>...</td>\n",
       "      <td>...</td>\n",
       "      <td>...</td>\n",
       "      <td>...</td>\n",
       "      <td>...</td>\n",
       "      <td>...</td>\n",
       "      <td>...</td>\n",
       "      <td>...</td>\n",
       "      <td>...</td>\n",
       "      <td>...</td>\n",
       "    </tr>\n",
       "    <tr>\n",
       "      <th>9355</th>\n",
       "      <td>2021-08-31</td>\n",
       "      <td>1</td>\n",
       "      <td>4371</td>\n",
       "      <td>3729</td>\n",
       "      <td>0</td>\n",
       "      <td>0</td>\n",
       "      <td>0</td>\n",
       "      <td>0</td>\n",
       "      <td>0</td>\n",
       "      <td>0</td>\n",
       "      <td>0</td>\n",
       "      <td>0</td>\n",
       "      <td>0</td>\n",
       "      <td>0</td>\n",
       "      <td>0</td>\n",
       "      <td>1</td>\n",
       "      <td>0</td>\n",
       "      <td>0</td>\n",
       "      <td>0</td>\n",
       "      <td>0</td>\n",
       "    </tr>\n",
       "    <tr>\n",
       "      <th>9356</th>\n",
       "      <td>2021-08-31</td>\n",
       "      <td>0</td>\n",
       "      <td>608</td>\n",
       "      <td>505</td>\n",
       "      <td>0</td>\n",
       "      <td>0</td>\n",
       "      <td>0</td>\n",
       "      <td>0</td>\n",
       "      <td>0</td>\n",
       "      <td>0</td>\n",
       "      <td>0</td>\n",
       "      <td>0</td>\n",
       "      <td>0</td>\n",
       "      <td>0</td>\n",
       "      <td>0</td>\n",
       "      <td>0</td>\n",
       "      <td>1</td>\n",
       "      <td>0</td>\n",
       "      <td>0</td>\n",
       "      <td>0</td>\n",
       "    </tr>\n",
       "    <tr>\n",
       "      <th>9357</th>\n",
       "      <td>2021-08-31</td>\n",
       "      <td>0</td>\n",
       "      <td>1003</td>\n",
       "      <td>1678</td>\n",
       "      <td>0</td>\n",
       "      <td>0</td>\n",
       "      <td>0</td>\n",
       "      <td>0</td>\n",
       "      <td>0</td>\n",
       "      <td>0</td>\n",
       "      <td>0</td>\n",
       "      <td>0</td>\n",
       "      <td>0</td>\n",
       "      <td>0</td>\n",
       "      <td>0</td>\n",
       "      <td>0</td>\n",
       "      <td>0</td>\n",
       "      <td>1</td>\n",
       "      <td>0</td>\n",
       "      <td>0</td>\n",
       "    </tr>\n",
       "    <tr>\n",
       "      <th>9358</th>\n",
       "      <td>2021-08-31</td>\n",
       "      <td>0</td>\n",
       "      <td>1</td>\n",
       "      <td>4</td>\n",
       "      <td>0</td>\n",
       "      <td>0</td>\n",
       "      <td>0</td>\n",
       "      <td>0</td>\n",
       "      <td>0</td>\n",
       "      <td>0</td>\n",
       "      <td>0</td>\n",
       "      <td>0</td>\n",
       "      <td>0</td>\n",
       "      <td>0</td>\n",
       "      <td>0</td>\n",
       "      <td>0</td>\n",
       "      <td>0</td>\n",
       "      <td>0</td>\n",
       "      <td>1</td>\n",
       "      <td>0</td>\n",
       "    </tr>\n",
       "    <tr>\n",
       "      <th>9359</th>\n",
       "      <td>2021-08-31</td>\n",
       "      <td>0</td>\n",
       "      <td>25</td>\n",
       "      <td>47</td>\n",
       "      <td>0</td>\n",
       "      <td>0</td>\n",
       "      <td>0</td>\n",
       "      <td>0</td>\n",
       "      <td>0</td>\n",
       "      <td>0</td>\n",
       "      <td>0</td>\n",
       "      <td>0</td>\n",
       "      <td>0</td>\n",
       "      <td>0</td>\n",
       "      <td>0</td>\n",
       "      <td>0</td>\n",
       "      <td>0</td>\n",
       "      <td>0</td>\n",
       "      <td>0</td>\n",
       "      <td>1</td>\n",
       "    </tr>\n",
       "  </tbody>\n",
       "</table>\n",
       "<p>992 rows × 20 columns</p>\n",
       "</div>"
      ],
      "text/plain": [
       "            date  cases_import  cases_new  cases_recovered  _Johor  _Kedah  \\\n",
       "8368  2021-07-01             1        270              361       1       0   \n",
       "8369  2021-07-01             0        250              186       0       1   \n",
       "8370  2021-07-01             0        108              208       0       0   \n",
       "8371  2021-07-01             0        311              317       0       0   \n",
       "8372  2021-07-01             0        692              883       0       0   \n",
       "...          ...           ...        ...              ...     ...     ...   \n",
       "9355  2021-08-31             1       4371             3729       0       0   \n",
       "9356  2021-08-31             0        608              505       0       0   \n",
       "9357  2021-08-31             0       1003             1678       0       0   \n",
       "9358  2021-08-31             0          1                4       0       0   \n",
       "9359  2021-08-31             0         25               47       0       0   \n",
       "\n",
       "      _Kelantan  _Melaka  _Negeri Sembilan  _Pahang  _Perak  _Perlis  \\\n",
       "8368          0        0                 0        0       0        0   \n",
       "8369          0        0                 0        0       0        0   \n",
       "8370          1        0                 0        0       0        0   \n",
       "8371          0        1                 0        0       0        0   \n",
       "8372          0        0                 1        0       0        0   \n",
       "...         ...      ...               ...      ...     ...      ...   \n",
       "9355          0        0                 0        0       0        0   \n",
       "9356          0        0                 0        0       0        0   \n",
       "9357          0        0                 0        0       0        0   \n",
       "9358          0        0                 0        0       0        0   \n",
       "9359          0        0                 0        0       0        0   \n",
       "\n",
       "      _Pulau Pinang  _Sabah  _Sarawak  _Selangor  _Terengganu  \\\n",
       "8368              0       0         0          0            0   \n",
       "8369              0       0         0          0            0   \n",
       "8370              0       0         0          0            0   \n",
       "8371              0       0         0          0            0   \n",
       "8372              0       0         0          0            0   \n",
       "...             ...     ...       ...        ...          ...   \n",
       "9355              0       0         0          1            0   \n",
       "9356              0       0         0          0            1   \n",
       "9357              0       0         0          0            0   \n",
       "9358              0       0         0          0            0   \n",
       "9359              0       0         0          0            0   \n",
       "\n",
       "      _W.P. Kuala Lumpur  _W.P. Labuan  _W.P. Putrajaya  \n",
       "8368                   0             0                0  \n",
       "8369                   0             0                0  \n",
       "8370                   0             0                0  \n",
       "8371                   0             0                0  \n",
       "8372                   0             0                0  \n",
       "...                  ...           ...              ...  \n",
       "9355                   0             0                0  \n",
       "9356                   0             0                0  \n",
       "9357                   1             0                0  \n",
       "9358                   0             1                0  \n",
       "9359                   0             0                1  \n",
       "\n",
       "[992 rows x 20 columns]"
      ]
     },
     "metadata": {},
     "execution_count": 153
    }
   ],
   "metadata": {}
  },
  {
   "cell_type": "code",
   "execution_count": 154,
   "source": [
    "state_case_import_df = state_case_df.loc[:,'_Johor':].multiply(state_case_df[\"cases_import\"], axis=\"index\")\r\n",
    "state_case_new_df = state_case_df.loc[:,'_Johor':].multiply(state_case_df[\"cases_new\"], axis=\"index\")\r\n",
    "state_case_recovered_df = state_case_df.loc[:,'_Johor':].multiply(state_case_df[\"cases_recovered\"], axis=\"index\")"
   ],
   "outputs": [],
   "metadata": {}
  },
  {
   "cell_type": "code",
   "execution_count": 155,
   "source": [
    "state_case_import_df.columns = state_case_import_df.columns.str[1:]\r\n",
    "state_case_import_df.head()"
   ],
   "outputs": [
    {
     "output_type": "execute_result",
     "data": {
      "text/html": [
       "<div>\n",
       "<style scoped>\n",
       "    .dataframe tbody tr th:only-of-type {\n",
       "        vertical-align: middle;\n",
       "    }\n",
       "\n",
       "    .dataframe tbody tr th {\n",
       "        vertical-align: top;\n",
       "    }\n",
       "\n",
       "    .dataframe thead th {\n",
       "        text-align: right;\n",
       "    }\n",
       "</style>\n",
       "<table border=\"1\" class=\"dataframe\">\n",
       "  <thead>\n",
       "    <tr style=\"text-align: right;\">\n",
       "      <th></th>\n",
       "      <th>Johor</th>\n",
       "      <th>Kedah</th>\n",
       "      <th>Kelantan</th>\n",
       "      <th>Melaka</th>\n",
       "      <th>Negeri Sembilan</th>\n",
       "      <th>Pahang</th>\n",
       "      <th>Perak</th>\n",
       "      <th>Perlis</th>\n",
       "      <th>Pulau Pinang</th>\n",
       "      <th>Sabah</th>\n",
       "      <th>Sarawak</th>\n",
       "      <th>Selangor</th>\n",
       "      <th>Terengganu</th>\n",
       "      <th>W.P. Kuala Lumpur</th>\n",
       "      <th>W.P. Labuan</th>\n",
       "      <th>W.P. Putrajaya</th>\n",
       "    </tr>\n",
       "  </thead>\n",
       "  <tbody>\n",
       "    <tr>\n",
       "      <th>8368</th>\n",
       "      <td>1</td>\n",
       "      <td>0</td>\n",
       "      <td>0</td>\n",
       "      <td>0</td>\n",
       "      <td>0</td>\n",
       "      <td>0</td>\n",
       "      <td>0</td>\n",
       "      <td>0</td>\n",
       "      <td>0</td>\n",
       "      <td>0</td>\n",
       "      <td>0</td>\n",
       "      <td>0</td>\n",
       "      <td>0</td>\n",
       "      <td>0</td>\n",
       "      <td>0</td>\n",
       "      <td>0</td>\n",
       "    </tr>\n",
       "    <tr>\n",
       "      <th>8369</th>\n",
       "      <td>0</td>\n",
       "      <td>0</td>\n",
       "      <td>0</td>\n",
       "      <td>0</td>\n",
       "      <td>0</td>\n",
       "      <td>0</td>\n",
       "      <td>0</td>\n",
       "      <td>0</td>\n",
       "      <td>0</td>\n",
       "      <td>0</td>\n",
       "      <td>0</td>\n",
       "      <td>0</td>\n",
       "      <td>0</td>\n",
       "      <td>0</td>\n",
       "      <td>0</td>\n",
       "      <td>0</td>\n",
       "    </tr>\n",
       "    <tr>\n",
       "      <th>8370</th>\n",
       "      <td>0</td>\n",
       "      <td>0</td>\n",
       "      <td>0</td>\n",
       "      <td>0</td>\n",
       "      <td>0</td>\n",
       "      <td>0</td>\n",
       "      <td>0</td>\n",
       "      <td>0</td>\n",
       "      <td>0</td>\n",
       "      <td>0</td>\n",
       "      <td>0</td>\n",
       "      <td>0</td>\n",
       "      <td>0</td>\n",
       "      <td>0</td>\n",
       "      <td>0</td>\n",
       "      <td>0</td>\n",
       "    </tr>\n",
       "    <tr>\n",
       "      <th>8371</th>\n",
       "      <td>0</td>\n",
       "      <td>0</td>\n",
       "      <td>0</td>\n",
       "      <td>0</td>\n",
       "      <td>0</td>\n",
       "      <td>0</td>\n",
       "      <td>0</td>\n",
       "      <td>0</td>\n",
       "      <td>0</td>\n",
       "      <td>0</td>\n",
       "      <td>0</td>\n",
       "      <td>0</td>\n",
       "      <td>0</td>\n",
       "      <td>0</td>\n",
       "      <td>0</td>\n",
       "      <td>0</td>\n",
       "    </tr>\n",
       "    <tr>\n",
       "      <th>8372</th>\n",
       "      <td>0</td>\n",
       "      <td>0</td>\n",
       "      <td>0</td>\n",
       "      <td>0</td>\n",
       "      <td>0</td>\n",
       "      <td>0</td>\n",
       "      <td>0</td>\n",
       "      <td>0</td>\n",
       "      <td>0</td>\n",
       "      <td>0</td>\n",
       "      <td>0</td>\n",
       "      <td>0</td>\n",
       "      <td>0</td>\n",
       "      <td>0</td>\n",
       "      <td>0</td>\n",
       "      <td>0</td>\n",
       "    </tr>\n",
       "  </tbody>\n",
       "</table>\n",
       "</div>"
      ],
      "text/plain": [
       "      Johor  Kedah  Kelantan  Melaka  Negeri Sembilan  Pahang  Perak  Perlis  \\\n",
       "8368      1      0         0       0                0       0      0       0   \n",
       "8369      0      0         0       0                0       0      0       0   \n",
       "8370      0      0         0       0                0       0      0       0   \n",
       "8371      0      0         0       0                0       0      0       0   \n",
       "8372      0      0         0       0                0       0      0       0   \n",
       "\n",
       "      Pulau Pinang  Sabah  Sarawak  Selangor  Terengganu  W.P. Kuala Lumpur  \\\n",
       "8368             0      0        0         0           0                  0   \n",
       "8369             0      0        0         0           0                  0   \n",
       "8370             0      0        0         0           0                  0   \n",
       "8371             0      0        0         0           0                  0   \n",
       "8372             0      0        0         0           0                  0   \n",
       "\n",
       "      W.P. Labuan  W.P. Putrajaya  \n",
       "8368            0               0  \n",
       "8369            0               0  \n",
       "8370            0               0  \n",
       "8371            0               0  \n",
       "8372            0               0  "
      ]
     },
     "metadata": {},
     "execution_count": 155
    }
   ],
   "metadata": {}
  },
  {
   "cell_type": "code",
   "execution_count": 158,
   "source": [
    "date = state_case_df.date\r\n",
    "state_case_import_df['date'] = date\r\n",
    "state_case_new_df['date'] = date\r\n",
    "state_case_recovered_df['date'] = date"
   ],
   "outputs": [],
   "metadata": {}
  },
  {
   "cell_type": "code",
   "execution_count": 159,
   "source": [
    "state_case_import_df = state_case_import_df.groupby([state_case_import_df['date']]).sum()\r\n",
    "state_case_new_df = state_case_new_df.groupby([state_case_new_df['date']]).sum()\r\n",
    "state_case_recovered_df = state_case_recovered_df.groupby([state_case_recovered_df['date']]).sum()"
   ],
   "outputs": [],
   "metadata": {}
  },
  {
   "cell_type": "code",
   "execution_count": 160,
   "source": [
    "corr = state_case_new_df.corr()\r\n",
    "fig, ax = plt.subplots(figsize=(20,10))  \r\n",
    "ax = sns.heatmap(\r\n",
    "    corr, \r\n",
    "    vmin=-1, vmax=1, center=0,\r\n",
    "    cmap=sns.diverging_palette(20, 220, n=200),\r\n",
    "    square=True,\r\n",
    "    annot = True,\r\n",
    "    linewidths = 2\r\n",
    ")\r\n",
    "\r\n",
    "ax.set_xticklabels(\r\n",
    "    ax.get_xticklabels(),\r\n",
    "    rotation=45,\r\n",
    "    horizontalalignment='right'\r\n",
    ")\r\n",
    "ax.set_title('New Case Correlation Heatmap')"
   ],
   "outputs": [
    {
     "output_type": "execute_result",
     "data": {
      "text/plain": [
       "Text(0.5, 1.0, 'New Case Correlation Heatmap')"
      ]
     },
     "metadata": {},
     "execution_count": 160
    },
    {
     "output_type": "display_data",
     "data": {
      "image/png": "[encoded data removed]",
      "text/plain": [
       "<Figure size 1440x720 with 2 Axes>"
      ]
     },
     "metadata": {
      "needs_background": "light"
     }
    }
   ],
   "metadata": {}
  },
  {
   "cell_type": "markdown",
   "source": [
    "# <font color='FireBrick'>Question 3 (iii)</font>"
   ],
   "metadata": {}
  },
  {
   "cell_type": "markdown",
   "source": [
    "Pre-processing the needed datasets : **Cluster, State Cases, Tests，Mysejahtera checkins, PKRC, Hospital** </p> We use data of 4 states in Malaysia to perform feature selection : **Pahang, Johor, Kedah, Selangor**. </p>"
   ],
   "metadata": {}
  },
  {
   "cell_type": "code",
   "execution_count": 161,
   "source": [
    "state = [\"Pahang\",\"Kedah\",\"Johor\",\"Selangor\"]\r\n",
    "clusters_df = clusters_df.loc[clusters_df['state'].isin(state)]\r\n",
    "clusters_df['date'] = clusters_df.date_announced\r\n",
    "state_case_df = state_case_df.loc[state_case_df['state'].isin(state)]\r\n",
    "states_tests_df = states_tests_df.loc[states_tests_df['state'].isin(state)]\r\n",
    "mysejahtera = mysejahtera.loc[mysejahtera['state'].isin(state)]\r\n",
    "mysejahtera_checkins[\"date\"] = mysejahtera.date\r\n",
    "pkrc_df = pkrc_df.loc[pkrc_df['state'].isin(state)]\r\n",
    "pkrc_df['date'] = pkrc_df.date\r\n",
    "pkrc_df = pkrc_df.add_suffix('_pkrc')\r\n",
    "hospital_df = hospital_df.loc[hospital_df['state'].isin(state)]\r\n",
    "hospital_df['date'] = hospital_df.date\r\n",
    "hospital_df = hospital_df.add_suffix('_hospital')"
   ],
   "outputs": [
    {
     "output_type": "error",
     "ename": "KeyError",
     "evalue": "'state'",
     "traceback": [
      "\u001b[1;31m---------------------------------------------------------------------------\u001b[0m",
      "\u001b[1;31mKeyError\u001b[0m                                  Traceback (most recent call last)",
      "\u001b[1;32m~\\anaconda3\\lib\\site-packages\\pandas\\core\\indexes\\base.py\u001b[0m in \u001b[0;36mget_loc\u001b[1;34m(self, key, method, tolerance)\u001b[0m\n\u001b[0;32m   3079\u001b[0m             \u001b[1;32mtry\u001b[0m\u001b[1;33m:\u001b[0m\u001b[1;33m\u001b[0m\u001b[1;33m\u001b[0m\u001b[0m\n\u001b[1;32m-> 3080\u001b[1;33m                 \u001b[1;32mreturn\u001b[0m \u001b[0mself\u001b[0m\u001b[1;33m.\u001b[0m\u001b[0m_engine\u001b[0m\u001b[1;33m.\u001b[0m\u001b[0mget_loc\u001b[0m\u001b[1;33m(\u001b[0m\u001b[0mcasted_key\u001b[0m\u001b[1;33m)\u001b[0m\u001b[1;33m\u001b[0m\u001b[1;33m\u001b[0m\u001b[0m\n\u001b[0m\u001b[0;32m   3081\u001b[0m             \u001b[1;32mexcept\u001b[0m \u001b[0mKeyError\u001b[0m \u001b[1;32mas\u001b[0m \u001b[0merr\u001b[0m\u001b[1;33m:\u001b[0m\u001b[1;33m\u001b[0m\u001b[1;33m\u001b[0m\u001b[0m\n",
      "\u001b[1;32mpandas\\_libs\\index.pyx\u001b[0m in \u001b[0;36mpandas._libs.index.IndexEngine.get_loc\u001b[1;34m()\u001b[0m\n",
      "\u001b[1;32mpandas\\_libs\\index.pyx\u001b[0m in \u001b[0;36mpandas._libs.index.IndexEngine.get_loc\u001b[1;34m()\u001b[0m\n",
      "\u001b[1;32mpandas\\_libs\\hashtable_class_helper.pxi\u001b[0m in \u001b[0;36mpandas._libs.hashtable.PyObjectHashTable.get_item\u001b[1;34m()\u001b[0m\n",
      "\u001b[1;32mpandas\\_libs\\hashtable_class_helper.pxi\u001b[0m in \u001b[0;36mpandas._libs.hashtable.PyObjectHashTable.get_item\u001b[1;34m()\u001b[0m\n",
      "\u001b[1;31mKeyError\u001b[0m: 'state'",
      "\nThe above exception was the direct cause of the following exception:\n",
      "\u001b[1;31mKeyError\u001b[0m                                  Traceback (most recent call last)",
      "\u001b[1;32m<ipython-input-161-b20213073c9c>\u001b[0m in \u001b[0;36m<module>\u001b[1;34m\u001b[0m\n\u001b[0;32m      1\u001b[0m \u001b[0mstate\u001b[0m \u001b[1;33m=\u001b[0m \u001b[1;33m[\u001b[0m\u001b[1;34m\"Pahang\"\u001b[0m\u001b[1;33m,\u001b[0m\u001b[1;34m\"Kedah\"\u001b[0m\u001b[1;33m,\u001b[0m\u001b[1;34m\"Johor\"\u001b[0m\u001b[1;33m,\u001b[0m\u001b[1;34m\"Selangor\"\u001b[0m\u001b[1;33m]\u001b[0m\u001b[1;33m\u001b[0m\u001b[1;33m\u001b[0m\u001b[0m\n\u001b[1;32m----> 2\u001b[1;33m \u001b[0mclusters_df\u001b[0m \u001b[1;33m=\u001b[0m \u001b[0mclusters_df\u001b[0m\u001b[1;33m.\u001b[0m\u001b[0mloc\u001b[0m\u001b[1;33m[\u001b[0m\u001b[0mclusters_df\u001b[0m\u001b[1;33m[\u001b[0m\u001b[1;34m'state'\u001b[0m\u001b[1;33m]\u001b[0m\u001b[1;33m.\u001b[0m\u001b[0misin\u001b[0m\u001b[1;33m(\u001b[0m\u001b[0mstate\u001b[0m\u001b[1;33m)\u001b[0m\u001b[1;33m]\u001b[0m\u001b[1;33m\u001b[0m\u001b[1;33m\u001b[0m\u001b[0m\n\u001b[0m\u001b[0;32m      3\u001b[0m \u001b[0mclusters_df\u001b[0m\u001b[1;33m[\u001b[0m\u001b[1;34m'date'\u001b[0m\u001b[1;33m]\u001b[0m \u001b[1;33m=\u001b[0m \u001b[0mclusters_df\u001b[0m\u001b[1;33m.\u001b[0m\u001b[0mdate_announced\u001b[0m\u001b[1;33m\u001b[0m\u001b[1;33m\u001b[0m\u001b[0m\n\u001b[0;32m      4\u001b[0m \u001b[0mstate_case_df\u001b[0m \u001b[1;33m=\u001b[0m \u001b[0mstate_case_df\u001b[0m\u001b[1;33m.\u001b[0m\u001b[0mloc\u001b[0m\u001b[1;33m[\u001b[0m\u001b[0mstate_case_df\u001b[0m\u001b[1;33m[\u001b[0m\u001b[1;34m'state'\u001b[0m\u001b[1;33m]\u001b[0m\u001b[1;33m.\u001b[0m\u001b[0misin\u001b[0m\u001b[1;33m(\u001b[0m\u001b[0mstate\u001b[0m\u001b[1;33m)\u001b[0m\u001b[1;33m]\u001b[0m\u001b[1;33m\u001b[0m\u001b[1;33m\u001b[0m\u001b[0m\n\u001b[0;32m      5\u001b[0m \u001b[0mstates_tests_df\u001b[0m \u001b[1;33m=\u001b[0m \u001b[0mstates_tests_df\u001b[0m\u001b[1;33m.\u001b[0m\u001b[0mloc\u001b[0m\u001b[1;33m[\u001b[0m\u001b[0mstates_tests_df\u001b[0m\u001b[1;33m[\u001b[0m\u001b[1;34m'state'\u001b[0m\u001b[1;33m]\u001b[0m\u001b[1;33m.\u001b[0m\u001b[0misin\u001b[0m\u001b[1;33m(\u001b[0m\u001b[0mstate\u001b[0m\u001b[1;33m)\u001b[0m\u001b[1;33m]\u001b[0m\u001b[1;33m\u001b[0m\u001b[1;33m\u001b[0m\u001b[0m\n",
      "\u001b[1;32m~\\anaconda3\\lib\\site-packages\\pandas\\core\\frame.py\u001b[0m in \u001b[0;36m__getitem__\u001b[1;34m(self, key)\u001b[0m\n\u001b[0;32m   3022\u001b[0m             \u001b[1;32mif\u001b[0m \u001b[0mself\u001b[0m\u001b[1;33m.\u001b[0m\u001b[0mcolumns\u001b[0m\u001b[1;33m.\u001b[0m\u001b[0mnlevels\u001b[0m \u001b[1;33m>\u001b[0m \u001b[1;36m1\u001b[0m\u001b[1;33m:\u001b[0m\u001b[1;33m\u001b[0m\u001b[1;33m\u001b[0m\u001b[0m\n\u001b[0;32m   3023\u001b[0m                 \u001b[1;32mreturn\u001b[0m \u001b[0mself\u001b[0m\u001b[1;33m.\u001b[0m\u001b[0m_getitem_multilevel\u001b[0m\u001b[1;33m(\u001b[0m\u001b[0mkey\u001b[0m\u001b[1;33m)\u001b[0m\u001b[1;33m\u001b[0m\u001b[1;33m\u001b[0m\u001b[0m\n\u001b[1;32m-> 3024\u001b[1;33m             \u001b[0mindexer\u001b[0m \u001b[1;33m=\u001b[0m \u001b[0mself\u001b[0m\u001b[1;33m.\u001b[0m\u001b[0mcolumns\u001b[0m\u001b[1;33m.\u001b[0m\u001b[0mget_loc\u001b[0m\u001b[1;33m(\u001b[0m\u001b[0mkey\u001b[0m\u001b[1;33m)\u001b[0m\u001b[1;33m\u001b[0m\u001b[1;33m\u001b[0m\u001b[0m\n\u001b[0m\u001b[0;32m   3025\u001b[0m             \u001b[1;32mif\u001b[0m \u001b[0mis_integer\u001b[0m\u001b[1;33m(\u001b[0m\u001b[0mindexer\u001b[0m\u001b[1;33m)\u001b[0m\u001b[1;33m:\u001b[0m\u001b[1;33m\u001b[0m\u001b[1;33m\u001b[0m\u001b[0m\n\u001b[0;32m   3026\u001b[0m                 \u001b[0mindexer\u001b[0m \u001b[1;33m=\u001b[0m \u001b[1;33m[\u001b[0m\u001b[0mindexer\u001b[0m\u001b[1;33m]\u001b[0m\u001b[1;33m\u001b[0m\u001b[1;33m\u001b[0m\u001b[0m\n",
      "\u001b[1;32m~\\anaconda3\\lib\\site-packages\\pandas\\core\\indexes\\base.py\u001b[0m in \u001b[0;36mget_loc\u001b[1;34m(self, key, method, tolerance)\u001b[0m\n\u001b[0;32m   3080\u001b[0m                 \u001b[1;32mreturn\u001b[0m \u001b[0mself\u001b[0m\u001b[1;33m.\u001b[0m\u001b[0m_engine\u001b[0m\u001b[1;33m.\u001b[0m\u001b[0mget_loc\u001b[0m\u001b[1;33m(\u001b[0m\u001b[0mcasted_key\u001b[0m\u001b[1;33m)\u001b[0m\u001b[1;33m\u001b[0m\u001b[1;33m\u001b[0m\u001b[0m\n\u001b[0;32m   3081\u001b[0m             \u001b[1;32mexcept\u001b[0m \u001b[0mKeyError\u001b[0m \u001b[1;32mas\u001b[0m \u001b[0merr\u001b[0m\u001b[1;33m:\u001b[0m\u001b[1;33m\u001b[0m\u001b[1;33m\u001b[0m\u001b[0m\n\u001b[1;32m-> 3082\u001b[1;33m                 \u001b[1;32mraise\u001b[0m \u001b[0mKeyError\u001b[0m\u001b[1;33m(\u001b[0m\u001b[0mkey\u001b[0m\u001b[1;33m)\u001b[0m \u001b[1;32mfrom\u001b[0m \u001b[0merr\u001b[0m\u001b[1;33m\u001b[0m\u001b[1;33m\u001b[0m\u001b[0m\n\u001b[0m\u001b[0;32m   3083\u001b[0m \u001b[1;33m\u001b[0m\u001b[0m\n\u001b[0;32m   3084\u001b[0m         \u001b[1;32mif\u001b[0m \u001b[0mtolerance\u001b[0m \u001b[1;32mis\u001b[0m \u001b[1;32mnot\u001b[0m \u001b[1;32mNone\u001b[0m\u001b[1;33m:\u001b[0m\u001b[1;33m\u001b[0m\u001b[1;33m\u001b[0m\u001b[0m\n",
      "\u001b[1;31mKeyError\u001b[0m: 'state'"
     ]
    }
   ],
   "metadata": {}
  },
  {
   "cell_type": "code",
   "execution_count": null,
   "source": [
    "# Cluster Dataset\r\n",
    "## One-Hot Encoding\r\n",
    "clusters_df = pd.get_dummies(clusters_df, prefix='cluster', columns=['category'])\r\n",
    "## Drop unused columns\r\n",
    "clusters_df.drop(['cases_new','cases_total','cases_active','tests','icu','deaths','recovered'], axis=1, inplace=True)\r\n",
    "## Group by date and state\r\n",
    "clusters_df=clusters_df.groupby(['date_announced','state']).sum()\r\n",
    "clusters_df"
   ],
   "outputs": [],
   "metadata": {}
  },
  {
   "cell_type": "code",
   "execution_count": null,
   "source": [
    "# State Cases Dataset\r\n",
    "## Group by date and state\r\n",
    "state_case_df=state_case_df.groupby(['date','state']).sum()\r\n",
    "state_case_df"
   ],
   "outputs": [],
   "metadata": {}
  },
  {
   "cell_type": "code",
   "execution_count": null,
   "source": [
    "# State Tests Dataset\r\n",
    "## Group by date and state\r\n",
    "states_tests_df=states_tests_df.groupby(['date','state']).sum()\r\n",
    "states_tests_df"
   ],
   "outputs": [],
   "metadata": {}
  },
  {
   "cell_type": "code",
   "execution_count": null,
   "source": [
    "# MySejahtera Checkins Dataset\r\n",
    "## One-Hot Encoding\r\n",
    "mysejahtera = pd.get_dummies(mysejahtera, prefix='', columns=['state'])\r\n",
    "mysejahtera_checkins = mysejahtera.loc[:,'_Johor':].multiply(mysejahtera[\"checkins\"], axis=\"index\")\r\n",
    "mysejahtera_checkins.columns = mysejahtera_checkins.columns.str[1:]\r\n",
    "## Group by date and state\r\n",
    "mysejahtera_checkins = mysejahtera_checkins.groupby([mysejahtera_checkins['date']]).sum()\r\n",
    "mysejahtera_checkins.columns.name = 'state'\r\n",
    "mysejahtera_checkins = mysejahtera_checkins.stack()\r\n",
    "mysejahtera_checkins.name = 'Checkins number'\r\n",
    "mysejahtera_checkins = mysejahtera_checkins.reset_index()\r\n",
    "mysejahtera_checkins = mysejahtera_checkins.groupby(['date','state']).sum()\r\n",
    "mysejahtera_checkins"
   ],
   "outputs": [],
   "metadata": {}
  },
  {
   "cell_type": "code",
   "execution_count": null,
   "source": [
    "# PKRC Dataset\r\n",
    "## Group by date and state\r\n",
    "pkrc_df = pkrc_df.groupby(['date_pkrc','state_pkrc']).sum()\r\n",
    "pkrc_df"
   ],
   "outputs": [],
   "metadata": {}
  },
  {
   "cell_type": "code",
   "execution_count": null,
   "source": [
    "# Hospital Dataset\r\n",
    "## Group by date and state\r\n",
    "hospital_df = hospital_df.groupby(['date_hospital','state_hospital']).sum()\r\n",
    "hospital_df"
   ],
   "outputs": [],
   "metadata": {}
  },
  {
   "cell_type": "markdown",
   "source": [
    "## Merge Datasets"
   ],
   "metadata": {}
  },
  {
   "cell_type": "code",
   "execution_count": null,
   "source": [
    "df_final = pd.concat([clusters_df, states_tests_df, state_case_df,mysejahtera_checkins,pkrc_df,hospital_df], axis=1)\r\n",
    "df_final.fillna(0,inplace=True)\r\n",
    "df_final"
   ],
   "outputs": [],
   "metadata": {}
  },
  {
   "cell_type": "markdown",
   "source": [
    "## Perform Boruta Classifier"
   ],
   "metadata": {}
  },
  {
   "cell_type": "code",
   "execution_count": null,
   "source": [
    "rslt_df_ph = df_final[df_final['state'] == \"Pahang\"]\r\n",
    "rslt_df_kd = df_final[df_final['state'] == \"Kedah\"]\r\n",
    "rslt_df_jh = df_final[df_final['state'] == \"Johor\"]\r\n",
    "rslt_df_sl = df_final[df_final['state'] == \"Selangor\"]"
   ],
   "outputs": [],
   "metadata": {}
  },
  {
   "cell_type": "markdown",
   "source": [
    "### Random forest classifier"
   ],
   "metadata": {}
  },
  {
   "cell_type": "code",
   "execution_count": null,
   "source": [
    "rf = RandomForestClassifier(n_jobs=-1, class_weight=\"balanced\",criterion = \"entropy\")\r\n",
    "rf"
   ],
   "outputs": [],
   "metadata": {}
  },
  {
   "cell_type": "markdown",
   "source": [
    "### Boruta Model"
   ],
   "metadata": {}
  },
  {
   "cell_type": "code",
   "execution_count": null,
   "source": [
    "def ranking(ranks, names, order=1):\r\n",
    "    minmax = MinMaxScaler()\r\n",
    "    ranks = minmax.fit_transform(order*np.array([ranks]).T).T[0]\r\n",
    "    ranks = map(lambda x: round(x,2), ranks)\r\n",
    "    return dict(zip(names, ranks))"
   ],
   "outputs": [],
   "metadata": {}
  },
  {
   "cell_type": "code",
   "execution_count": null,
   "source": [
    "feat_selector = BorutaPy(rf, n_estimators=\"auto\", random_state=1)"
   ],
   "outputs": [],
   "metadata": {}
  },
  {
   "cell_type": "code",
   "execution_count": null,
   "source": [
    "df = df_final\r\n",
    "y = df.cases_new\r\n",
    "X = df.drop([\"cases_new\",\"date\",\"state\"], 1)\r\n",
    "colnames = X.columns\r\n",
    "feat_selector.fit(X.values, y.values.ravel())\r\n",
    "print(feat_selector.support_)\r\n",
    "print(feat_selector.ranking_)\r\n",
    "boruta_score = ranking(list(map(float, feat_selector.ranking_)), colnames, order=-1)\r\n",
    "boruta_score = pd.DataFrame(list(boruta_score.items()), columns=['Features', 'Score']) \r\n",
    "boruta_score = boruta_score.sort_values(\"Score\",ascending = False)\r\n",
    "print('---------Top 5----------')\r\n",
    "display(rfe_score.head(5))\r\n",
    "sns_boruta_plot = sns.catplot(x=\"Score\", y=\"Features\", data = boruta_score[0:35], kind = \"bar\", \r\n",
    "               height=14, aspect=1.5, palette='RdYlBu')\r\n",
    "plt.title(\"Boruta Top Features for All 4 states\")"
   ],
   "outputs": [],
   "metadata": {}
  },
  {
   "cell_type": "code",
   "execution_count": null,
   "source": [
    "df = rslt_df_ph\r\n",
    "y = df.cases_new\r\n",
    "X = df.drop([\"cases_new\",\"date\",\"state\"], 1)\r\n",
    "colnames = X.columns\r\n",
    "feat_selector.fit(X.values, y.values.ravel())\r\n",
    "print(feat_selector.support_)\r\n",
    "print(feat_selector.ranking_)\r\n",
    "boruta_score = ranking(list(map(float, feat_selector.ranking_)), colnames, order=-1)\r\n",
    "boruta_score = pd.DataFrame(list(boruta_score.items()), columns=['Features', 'Score']) \r\n",
    "boruta_score = boruta_score.sort_values(\"Score\",ascending = False)\r\n",
    "print('---------Top 5----------')\r\n",
    "display(rfe_score.head(5))\r\n",
    "sns_boruta_plot = sns.catplot(x=\"Score\", y=\"Features\", data = boruta_score[0:35], kind = \"bar\", \r\n",
    "               height=14, aspect=1.5, palette='RdYlBu')\r\n",
    "plt.title(\"Boruta Top Features for Pahang\")"
   ],
   "outputs": [],
   "metadata": {}
  },
  {
   "cell_type": "code",
   "execution_count": null,
   "source": [
    "df =rslt_df_kd\r\n",
    "y = df.cases_new\r\n",
    "X = df.drop([\"cases_new\",\"date\",\"state\"], 1)\r\n",
    "colnames = X.columns\r\n",
    "feat_selector.fit(X.values, y.values.ravel())\r\n",
    "print(feat_selector.support_)\r\n",
    "print(feat_selector.ranking_)\r\n",
    "boruta_score = ranking(list(map(float, feat_selector.ranking_)), colnames, order=-1)\r\n",
    "boruta_score = pd.DataFrame(list(boruta_score.items()), columns=['Features', 'Score']) \r\n",
    "boruta_score = boruta_score.sort_values(\"Score\",ascending = False)\r\n",
    "print('---------Top 5----------')\r\n",
    "display(rfe_score.head(5))\r\n",
    "sns_boruta_plot = sns.catplot(x=\"Score\", y=\"Features\", data = boruta_score[0:35], kind = \"bar\", \r\n",
    "               height=14, aspect=1.5, palette='RdYlBu')\r\n",
    "plt.title(\"Boruta Top Features for Kedah\")"
   ],
   "outputs": [],
   "metadata": {}
  },
  {
   "cell_type": "code",
   "execution_count": null,
   "source": [
    "df = rslt_df_jh\r\n",
    "y = df.cases_new\r\n",
    "X = df.drop([\"cases_new\",\"date\",\"state\"], 1)\r\n",
    "colnames = X.columns\r\n",
    "feat_selector.fit(X.values, y.values.ravel())\r\n",
    "print(feat_selector.support_)\r\n",
    "print(feat_selector.ranking_)\r\n",
    "boruta_score = ranking(list(map(float, feat_selector.ranking_)), colnames, order=-1)\r\n",
    "boruta_score = pd.DataFrame(list(boruta_score.items()), columns=['Features', 'Score']) \r\n",
    "boruta_score = boruta_score.sort_values(\"Score\",ascending = False)\r\n",
    "print('---------Top 5----------')\r\n",
    "display(rfe_score.head(5))\r\n",
    "sns_boruta_plot = sns.catplot(x=\"Score\", y=\"Features\", data = boruta_score[0:35], kind = \"bar\", \r\n",
    "               height=14, aspect=1.5, palette='RdYlBu')\r\n",
    "plt.title(\"Boruta Top Features for Johor\")"
   ],
   "outputs": [],
   "metadata": {}
  },
  {
   "cell_type": "code",
   "execution_count": null,
   "source": [
    "df = rslt_df_sl\r\n",
    "y = df.cases_new\r\n",
    "X = df.drop([\"cases_new\",\"date\",\"state\"], 1)\r\n",
    "colnames = X.columns\r\n",
    "feat_selector.fit(X.values, y.values.ravel())\r\n",
    "print(feat_selector.support_)\r\n",
    "print(feat_selector.ranking_)\r\n",
    "boruta_score = ranking(list(map(float, feat_selector.ranking_)), colnames, order=-1)\r\n",
    "boruta_score = pd.DataFrame(list(boruta_score.items()), columns=['Features', 'Score']) \r\n",
    "boruta_score = boruta_score.sort_values(\"Score\",ascending = False)\r\n",
    "print('---------Top 5----------')\r\n",
    "display(rfe_score.head(5))\r\n",
    "sns_boruta_plot = sns.catplot(x=\"Score\", y=\"Features\", data = boruta_score[0:35], kind = \"bar\", \r\n",
    "               height=14, aspect=1.5, palette='RdYlBu')\r\n",
    "plt.title(\"Boruta Top Features for Selangor\")"
   ],
   "outputs": [],
   "metadata": {}
  },
  {
   "cell_type": "markdown",
   "source": [
    "## Perform RFE Classifier"
   ],
   "metadata": {}
  },
  {
   "cell_type": "code",
   "execution_count": null,
   "source": [
    "df = df_final\r\n",
    "y = df.cases_new\r\n",
    "X = df.drop([\"cases_new\",\"date\",\"state\"], 1)\r\n",
    "rfe = RFECV(rf, min_features_to_select = 1, cv =2)\r\n",
    "rfe.fit(X, y)\r\n",
    "rfe_score = ranking(list(map(float, rfe.ranking_)), colnames, order=-1)\r\n",
    "rfe_score = pd.DataFrame(list(rfe_score.items()), columns=['Features', 'Score'])\r\n",
    "rfe_score = rfe_score.sort_values(\"Score\", ascending = False)\r\n",
    "print('---------Top 5----------')\r\n",
    "display(rfe_score.head(5))\r\n",
    "sns_rfe_plot = sns.catplot(x=\"Score\", y=\"Features\", data = rfe_score[0:35], kind = \"bar\", \r\n",
    "               height=14, aspect=1.9, palette='coolwarm')\r\n",
    "plt.title(\"RFE Features Ranking\")"
   ],
   "outputs": [],
   "metadata": {}
  },
  {
   "cell_type": "code",
   "execution_count": null,
   "source": [
    "df = rslt_df_ph\r\n",
    "y = df.cases_new\r\n",
    "X = df.drop([\"cases_new\",\"date\",\"state\"], 1)\r\n",
    "rfe = RFECV(rf, min_features_to_select = 1, cv =2)\r\n",
    "rfe.fit(X, y)\r\n",
    "rfe_score = ranking(list(map(float, rfe.ranking_)), colnames, order=-1)\r\n",
    "rfe_score = pd.DataFrame(list(rfe_score.items()), columns=['Features', 'Score'])\r\n",
    "rfe_score = rfe_score.sort_values(\"Score\", ascending = False)\r\n",
    "print('---------Top 5----------')\r\n",
    "display(rfe_score.head(5))\r\n",
    "sns_rfe_plot = sns.catplot(x=\"Score\", y=\"Features\", data = rfe_score[0:35], kind = \"bar\", \r\n",
    "               height=14, aspect=1.9, palette='coolwarm')\r\n",
    "plt.title(\"RFE Features Ranking\")"
   ],
   "outputs": [],
   "metadata": {}
  },
  {
   "cell_type": "code",
   "execution_count": null,
   "source": [
    "df = rslt_df_kd\r\n",
    "y = df.cases_new\r\n",
    "X = df.drop([\"cases_new\",\"date\",\"state\"], 1)\r\n",
    "rfe = RFECV(rf, min_features_to_select = 1, cv =2)\r\n",
    "rfe.fit(X, y)\r\n",
    "rfe_score = ranking(list(map(float, rfe.ranking_)), colnames, order=-1)\r\n",
    "rfe_score = pd.DataFrame(list(rfe_score.items()), columns=['Features', 'Score'])\r\n",
    "rfe_score = rfe_score.sort_values(\"Score\", ascending = False)\r\n",
    "print('---------Top 5----------')\r\n",
    "display(rfe_score.head(5))\r\n",
    "sns_rfe_plot = sns.catplot(x=\"Score\", y=\"Features\", data = rfe_score[0:35], kind = \"bar\", \r\n",
    "               height=14, aspect=1.9, palette='coolwarm')\r\n",
    "plt.title(\"RFE Features Ranking\")"
   ],
   "outputs": [],
   "metadata": {}
  },
  {
   "cell_type": "code",
   "execution_count": null,
   "source": [
    "df = rslt_df_jh\r\n",
    "y = df.cases_new\r\n",
    "X = df.drop([\"cases_new\",\"date\",\"state\"], 1)\r\n",
    "rfe = RFECV(rf, min_features_to_select = 1, cv =2)\r\n",
    "rfe.fit(X, y)\r\n",
    "rfe_score = ranking(list(map(float, rfe.ranking_)), colnames, order=-1)\r\n",
    "rfe_score = pd.DataFrame(list(rfe_score.items()), columns=['Features', 'Score'])\r\n",
    "rfe_score = rfe_score.sort_values(\"Score\", ascending = False)\r\n",
    "print('---------Top 5----------')\r\n",
    "display(rfe_score.head(5))\r\n",
    "sns_rfe_plot = sns.catplot(x=\"Score\", y=\"Features\", data = rfe_score[0:35], kind = \"bar\", \r\n",
    "               height=14, aspect=1.9, palette='coolwarm')\r\n",
    "plt.title(\"RFE Features Ranking\")"
   ],
   "outputs": [],
   "metadata": {}
  },
  {
   "cell_type": "code",
   "execution_count": null,
   "source": [
    "df = rslt_df_sl\r\n",
    "y = df.cases_new\r\n",
    "X = df.drop([\"cases_new\",\"date\",\"state\"], 1)\r\n",
    "rfe = RFECV(rf, min_features_to_select = 1, cv =2)\r\n",
    "rfe.fit(X, y)\r\n",
    "#model = LogisticRegression(solver='lbfgs')\r\n",
    "#rfe = RFE(model, 3)\r\n",
    "#rfe.fit(X, y)\r\n",
    "rfe_score = ranking(list(map(float, rfe.ranking_)), colnames, order=-1)\r\n",
    "rfe_score = pd.DataFrame(list(rfe_score.items()), columns=['Features', 'Score'])\r\n",
    "rfe_score = rfe_score.sort_values(\"Score\", ascending = False)\r\n",
    "print('---------Top 5----------')\r\n",
    "display(rfe_score.head(5))\r\n",
    "sns_rfe_plot = sns.catplot(x=\"Score\", y=\"Features\", data = rfe_score[0:35], kind = \"bar\", \r\n",
    "               height=14, aspect=1.9, palette='coolwarm')\r\n",
    "plt.title(\"RFE Features Ranking\")"
   ],
   "outputs": [],
   "metadata": {}
  },
  {
   "cell_type": "markdown",
   "source": [
    "# <font color='FireBrick'>Question 3 (iv)</font>"
   ],
   "metadata": {}
  },
  {
   "cell_type": "markdown",
   "source": [
    "## Regression "
   ],
   "metadata": {}
  },
  {
   "cell_type": "code",
   "execution_count": null,
   "source": [
    "X = df_final.drop(['cases_new','date','state'], axis=1)  #predict newcases\r\n",
    "y = df_final['cases_new']  \r\n",
    "X_train, X_test, y_train, y_test = train_test_split(X, y, test_size = 0.3, random_state = 2)\r\n",
    "model = LinearRegression()\r\n",
    "model.fit(X_train,y_train)\r\n",
    "y_pred = model.predict(X_test)\r\n",
    "print(\"Linear Regressor\")\r\n",
    "print(\"Median absolute error : \" + median_absolute_error(y_test, y_pred))\r\n",
    "print(\"Mean absolute error : \" + mean_absolute_error(y_test, y_pred))\r\n",
    "print(\"Mean squared error : \" + mean_squared_error(y_test, y_pred))\r\n",
    "print(\"Root mean square error : \" + np.sqrt(mean_squared_error(y_test,y_pred)))\r\n",
    "print(\"R squared: \" + r2_score(y_test,y_pred))\r\n",
    "\r\n",
    "X_train, X_test, y_train, y_test = train_test_split(X, y, test_size = 0.3, random_state = 2)\r\n",
    "rfr = RandomForestRegressor()\r\n",
    "rfr.fit(X, y)\r\n",
    "y_pred = rfr.predict(X_test)\r\n",
    "print(\"Random Forest Regressor\")\r\n",
    "print(\"Median absolute error : \" + median_absolute_error(y_test, y_pred))\r\n",
    "print(\"Mean absolute error : \" + mean_absolute_error(y_test, y_pred))\r\n",
    "print(\"Mean squared error : \" + mean_squared_error(y_test, y_pred))\r\n",
    "print(\"Root mean square error : \" + np.sqrt(mean_squared_error(y_test,y_pred)))\r\n",
    "print(\"R squared: \" + r2_score(y_test,y_pred))"
   ],
   "outputs": [],
   "metadata": {}
  },
  {
   "cell_type": "code",
   "execution_count": null,
   "source": [
    "X = rslt_df_ph.drop(['cases_new','date','state'], axis=1)  #predict newcases\r\n",
    "y = rslt_df_ph['cases_new']  \r\n",
    "X_train, X_test, y_train, y_test = train_test_split(X, y, test_size = 0.3, random_state = 2)\r\n",
    "model = LinearRegression()\r\n",
    "model.fit(X_train,y_train)\r\n",
    "y_pred = model.predict(X_test)\r\n",
    "print(\"Linear Regressor\")\r\n",
    "print(\"Median absolute error : \" + median_absolute_error(y_test, y_pred))\r\n",
    "print(\"Mean absolute error : \" + mean_absolute_error(y_test, y_pred))\r\n",
    "print(\"Mean squared error : \" + mean_squared_error(y_test, y_pred))\r\n",
    "print(\"Root mean square error : \" + np.sqrt(mean_squared_error(y_test,y_pred)))\r\n",
    "print(\"R squared: \" + r2_score(y_test,y_pred))\r\n",
    "\r\n",
    "X_train, X_test, y_train, y_test = train_test_split(X, y, test_size = 0.3, random_state = 2)\r\n",
    "rfr = RandomForestRegressor()\r\n",
    "rfr.fit(X, y)\r\n",
    "y_pred = rfr.predict(X_test)\r\n",
    "print(\"Random Forest Regressor\")\r\n",
    "print(\"Median absolute error : \" + median_absolute_error(y_test, y_pred))\r\n",
    "print(\"Mean absolute error : \" + mean_absolute_error(y_test, y_pred))\r\n",
    "print(\"Mean squared error : \" + mean_squared_error(y_test, y_pred))\r\n",
    "print(\"Root mean square error : \" + np.sqrt(mean_squared_error(y_test,y_pred)))\r\n",
    "print(\"R squared: \" + r2_score(y_test,y_pred))"
   ],
   "outputs": [],
   "metadata": {}
  },
  {
   "cell_type": "code",
   "execution_count": null,
   "source": [
    "X = rslt_df_kd.drop(['cases_new','date','state'], axis=1)  #predict newcases\r\n",
    "y = rslt_df_kd['cases_new']  \r\n",
    "X_train, X_test, y_train, y_test = train_test_split(X, y, test_size = 0.3, random_state = 2)\r\n",
    "model = LinearRegression()\r\n",
    "model.fit(X_train,y_train)\r\n",
    "y_pred = model.predict(X_test)\r\n",
    "print(\"Linear Regressor\")\r\n",
    "print(\"Median absolute error : \" + median_absolute_error(y_test, y_pred))\r\n",
    "print(\"Mean absolute error : \" + mean_absolute_error(y_test, y_pred))\r\n",
    "print(\"Mean squared error : \" + mean_squared_error(y_test, y_pred))\r\n",
    "print(\"Root mean square error : \" + np.sqrt(mean_squared_error(y_test,y_pred)))\r\n",
    "print(\"R squared: \" + r2_score(y_test,y_pred))\r\n",
    "\r\n",
    "X_train, X_test, y_train, y_test = train_test_split(X, y, test_size = 0.3, random_state = 2)\r\n",
    "rfr = RandomForestRegressor()\r\n",
    "rfr.fit(X, y)\r\n",
    "y_pred = rfr.predict(X_test)\r\n",
    "print(\"Random Forest Regressor\")\r\n",
    "print(\"Median absolute error : \" + median_absolute_error(y_test, y_pred))\r\n",
    "print(\"Mean absolute error : \" + mean_absolute_error(y_test, y_pred))\r\n",
    "print(\"Mean squared error : \" + mean_squared_error(y_test, y_pred))\r\n",
    "print(\"Root mean square error : \" + np.sqrt(mean_squared_error(y_test,y_pred)))\r\n",
    "print(\"R squared: \" + r2_score(y_test,y_pred))"
   ],
   "outputs": [],
   "metadata": {}
  },
  {
   "cell_type": "code",
   "execution_count": null,
   "source": [
    "X = rslt_df_jh.drop(['cases_new','date','state'], axis=1)  #predict newcases\r\n",
    "y = rslt_df_jh['cases_new']  \r\n",
    "X_train, X_test, y_train, y_test = train_test_split(X, y, test_size = 0.3, random_state = 2)\r\n",
    "model = LinearRegression()\r\n",
    "model.fit(X_train,y_train)\r\n",
    "y_pred = model.predict(X_test)\r\n",
    "print(\"Linear Regressor\")\r\n",
    "print(\"Median absolute error : \" + median_absolute_error(y_test, y_pred))\r\n",
    "print(\"Mean absolute error : \" + mean_absolute_error(y_test, y_pred))\r\n",
    "print(\"Mean squared error : \" + mean_squared_error(y_test, y_pred))\r\n",
    "print(\"Root mean square error : \" + np.sqrt(mean_squared_error(y_test,y_pred)))\r\n",
    "print(\"R squared: \" + r2_score(y_test,y_pred))\r\n",
    "\r\n",
    "X_train, X_test, y_train, y_test = train_test_split(X, y, test_size = 0.3, random_state = 2)\r\n",
    "rfr = RandomForestRegressor()\r\n",
    "rfr.fit(X, y)\r\n",
    "y_pred = rfr.predict(X_test)\r\n",
    "print(\"Random Forest Regressor\")\r\n",
    "print(\"Median absolute error : \" + median_absolute_error(y_test, y_pred))\r\n",
    "print(\"Mean absolute error : \" + mean_absolute_error(y_test, y_pred))\r\n",
    "print(\"Mean squared error : \" + mean_squared_error(y_test, y_pred))\r\n",
    "print(\"Root mean square error : \" + np.sqrt(mean_squared_error(y_test,y_pred)))\r\n",
    "print(\"R squared: \" + r2_score(y_test,y_pred))"
   ],
   "outputs": [],
   "metadata": {}
  },
  {
   "cell_type": "code",
   "execution_count": null,
   "source": [
    "X = rslt_df_sl.drop(['cases_new','date','state'], axis=1)  #predict newcases\r\n",
    "y = rslt_df_sl['cases_new']  \r\n",
    "X_train, X_test, y_train, y_test = train_test_split(X, y, test_size = 0.3, random_state = 2)\r\n",
    "model = LinearRegression()\r\n",
    "model.fit(X_train,y_train)\r\n",
    "y_pred = model.predict(X_test)\r\n",
    "print(\"Linear Regressor\")\r\n",
    "print(\"Median absolute error : \" + median_absolute_error(y_test, y_pred))\r\n",
    "print(\"Mean absolute error : \" + mean_absolute_error(y_test, y_pred))\r\n",
    "print(\"Mean squared error : \" + mean_squared_error(y_test, y_pred))\r\n",
    "print(\"Root mean square error : \" + np.sqrt(mean_squared_error(y_test,y_pred)))\r\n",
    "print(\"R squared: \" + r2_score(y_test,y_pred))\r\n",
    "\r\n",
    "X_train, X_test, y_train, y_test = train_test_split(X, y, test_size = 0.3, random_state = 2)\r\n",
    "rfr = RandomForestRegressor()\r\n",
    "rfr.fit(X, y)\r\n",
    "y_pred = rfr.predict(X_test)\r\n",
    "print(\"Random Forest Regressor\")\r\n",
    "print(\"Median absolute error : \" + median_absolute_error(y_test, y_pred))\r\n",
    "print(\"Mean absolute error : \" + mean_absolute_error(y_test, y_pred))\r\n",
    "print(\"Mean squared error : \" + mean_squared_error(y_test, y_pred))\r\n",
    "print(\"Root mean square error : \" + np.sqrt(mean_squared_error(y_test,y_pred)))\r\n",
    "print(\"R squared: \" + r2_score(y_test,y_pred))"
   ],
   "outputs": [],
   "metadata": {}
  },
  {
   "cell_type": "markdown",
   "source": [
    "## Classifier"
   ],
   "metadata": {}
  },
  {
   "cell_type": "code",
   "execution_count": null,
   "source": [
    "def getBinsRange(df):  \r\n",
    "        data = df['cases_new'].values\r\n",
    "        # First quartile (Q1)\r\n",
    "        Q1 = np.percentile(data, 25, interpolation = 'midpoint')\r\n",
    "        # Third quartile (Q3)\r\n",
    "        Q3 = np.percentile(data, 75, interpolation = 'midpoint')\r\n",
    "\r\n",
    "        return [np.min(data),Q1,Q3,np.inf]\r\n",
    "\r\n",
    "labels = ['Low','Medium','High']"
   ],
   "outputs": [],
   "metadata": {}
  },
  {
   "cell_type": "code",
   "execution_count": null,
   "source": [
    "# Perform Binning\r\n",
    "df_final['cases_new_category'] = (pd.cut(df_final['cases_new'].values, bins=getBinsRange(df_final),labels=labels, include_lowest=True))\r\n",
    "X = df_final.drop(['cases_new','date','state','cases_new_category'], axis=1)\r\n",
    "y = df_final.cases_new_category # Target variable\r\n",
    "X_train, X_test, y_train, y_test = train_test_split(X, y, test_size = 0.3, random_state = 1)\r\n",
    "clf = DecisionTreeClassifier(criterion=\"entropy\", max_depth=5, splitter='random') #pruning the tree by setting the depth\r\n",
    "# Train Decision Tree Classifer*\r\n",
    "clf = clf.fit(X_train,y_train)\r\n",
    "#Predict the response for test dataset*\r\n",
    "y_pred = clf.predict(X_test)\r\n",
    "print(\"Decision Tree Classifier\")\r\n",
    "print('Precision= {:.2f}'.format(precision_score(y_test, y_pred, average=\"weighted\")))\r\n",
    "print('Recall= {:.2f}'. format(recall_score(y_test, y_pred, average=\"weighted\")))\r\n",
    "print('F1= {:.2f}'. format(f1_score(y_test, y_pred, average=\"weighted\")))\r\n",
    "print('Accuracy= {:.2f}'. format(accuracy_score(y_test, y_pred)))\r\n",
    "\r\n",
    "X_train, X_test, y_train, y_test = train_test_split(X, y, test_size = 0.3, random_state = 2)\r\n",
    "model = GaussianNB()\r\n",
    "model.fit(X_train,y_train)\r\n",
    "y_pred = model.predict(X_test)\r\n",
    "print(\"Gaussian Naie Bayes\")\r\n",
    "print('Precision= {:.2f}'.format(precision_score(y_test, y_pred, average=\"weighted\")))\r\n",
    "print('Recall= {:.2f}'. format(recall_score(y_test, y_pred, average=\"weighted\")))\r\n",
    "print('F1= {:.2f}'. format(f1_score(y_test, y_pred, average=\"weighted\")))\r\n",
    "print('Accuracy= {:.2f}'. format(accuracy_score(y_test, y_pred)))"
   ],
   "outputs": [],
   "metadata": {}
  },
  {
   "cell_type": "code",
   "execution_count": null,
   "source": [
    "# Perform Binning\r\n",
    "rslt_df_ph['cases_new_category'] = (pd.cut(rslt_df_ph['cases_new'].values, bins=getBinsRange(rslt_df_ph),labels=labels, include_lowest=True))\r\n",
    "X = rslt_df_ph.drop(['cases_new','date','state','cases_new_category'], axis=1)\r\n",
    "y = rslt_df_ph.cases_new_category # Target variable\r\n",
    "X_train, X_test, y_train, y_test = train_test_split(X, y, test_size = 0.3, random_state = 1)\r\n",
    "clf = DecisionTreeClassifier(criterion=\"entropy\", max_depth=5, splitter='random') #pruning the tree by setting the depth\r\n",
    "# Train Decision Tree Classifer*\r\n",
    "clf = clf.fit(X_train,y_train)\r\n",
    "#Predict the response for test dataset*\r\n",
    "y_pred = clf.predict(X_test)\r\n",
    "print(\"Decision Tree Classifier\")\r\n",
    "print('Precision= {:.2f}'.format(precision_score(y_test, y_pred, average=\"weighted\")))\r\n",
    "print('Recall= {:.2f}'. format(recall_score(y_test, y_pred, average=\"weighted\")))\r\n",
    "print('F1= {:.2f}'. format(f1_score(y_test, y_pred, average=\"weighted\")))\r\n",
    "print('Accuracy= {:.2f}'. format(accuracy_score(y_test, y_pred)))\r\n",
    "\r\n",
    "X_train, X_test, y_train, y_test = train_test_split(X, y, test_size = 0.3, random_state = 2)\r\n",
    "model = GaussianNB()\r\n",
    "model.fit(X_train,y_train)\r\n",
    "y_pred = model.predict(X_test)\r\n",
    "print(\"Gaussian Naie Bayes\")\r\n",
    "print('Precision= {:.2f}'.format(precision_score(y_test, y_pred, average=\"weighted\")))\r\n",
    "print('Recall= {:.2f}'. format(recall_score(y_test, y_pred, average=\"weighted\")))\r\n",
    "print('F1= {:.2f}'. format(f1_score(y_test, y_pred, average=\"weighted\")))\r\n",
    "print('Accuracy= {:.2f}'. format(accuracy_score(y_test, y_pred)))"
   ],
   "outputs": [],
   "metadata": {}
  },
  {
   "cell_type": "code",
   "execution_count": null,
   "source": [
    "# Perform Binning\r\n",
    "rslt_df_kd['cases_new_category'] = (pd.cut(rslt_df_kd['cases_new'].values, bins=getBinsRange(rslt_df_kd),labels=labels, include_lowest=True))\r\n",
    "X = rslt_df_kd.drop(['cases_new','date','state','cases_new_category'], axis=1)\r\n",
    "y = rslt_df_kd.cases_new_category # Target variable\r\n",
    "X_train, X_test, y_train, y_test = train_test_split(X, y, test_size = 0.3, random_state = 1)\r\n",
    "clf = DecisionTreeClassifier(criterion=\"entropy\", max_depth=5, splitter='random') #pruning the tree by setting the depth\r\n",
    "# Train Decision Tree Classifer*\r\n",
    "clf = clf.fit(X_train,y_train)\r\n",
    "#Predict the response for test dataset*\r\n",
    "y_pred = clf.predict(X_test)\r\n",
    "print(\"Decision Tree Classifier\")\r\n",
    "print('Precision= {:.2f}'.format(precision_score(y_test, y_pred, average=\"weighted\")))\r\n",
    "print('Recall= {:.2f}'. format(recall_score(y_test, y_pred, average=\"weighted\")))\r\n",
    "print('F1= {:.2f}'. format(f1_score(y_test, y_pred, average=\"weighted\")))\r\n",
    "print('Accuracy= {:.2f}'. format(accuracy_score(y_test, y_pred)))\r\n",
    "\r\n",
    "X_train, X_test, y_train, y_test = train_test_split(X, y, test_size = 0.3, random_state = 2)\r\n",
    "model = GaussianNB()\r\n",
    "model.fit(X_train,y_train)\r\n",
    "y_pred = model.predict(X_test)\r\n",
    "print(\"Gaussian Naie Bayes\")\r\n",
    "print('Precision= {:.2f}'.format(precision_score(y_test, y_pred, average=\"weighted\")))\r\n",
    "print('Recall= {:.2f}'. format(recall_score(y_test, y_pred, average=\"weighted\")))\r\n",
    "print('F1= {:.2f}'. format(f1_score(y_test, y_pred, average=\"weighted\")))\r\n",
    "print('Accuracy= {:.2f}'. format(accuracy_score(y_test, y_pred)))"
   ],
   "outputs": [],
   "metadata": {}
  },
  {
   "cell_type": "code",
   "execution_count": null,
   "source": [
    "# Perform Binning\r\n",
    "rslt_df_jh['cases_new_category'] = (pd.cut(rslt_df_jh['cases_new'].values, bins=getBinsRange(rslt_df_jh),labels=labels, include_lowest=True))\r\n",
    "X = rslt_df_jh.drop(['cases_new','date','state','cases_new_category'], axis=1)\r\n",
    "y = rslt_df_jh.cases_new_category # Target variable\r\n",
    "X_train, X_test, y_train, y_test = train_test_split(X, y, test_size = 0.3, random_state = 1)\r\n",
    "clf = DecisionTreeClassifier(criterion=\"entropy\", max_depth=5, splitter='random') #pruning the tree by setting the depth\r\n",
    "# Train Decision Tree Classifer*\r\n",
    "clf = clf.fit(X_train,y_train)\r\n",
    "#Predict the response for test dataset*\r\n",
    "y_pred = clf.predict(X_test)\r\n",
    "print(\"Decision Tree Classifier\")\r\n",
    "print('Precision= {:.2f}'.format(precision_score(y_test, y_pred, average=\"weighted\")))\r\n",
    "print('Recall= {:.2f}'. format(recall_score(y_test, y_pred, average=\"weighted\")))\r\n",
    "print('F1= {:.2f}'. format(f1_score(y_test, y_pred, average=\"weighted\")))\r\n",
    "print('Accuracy= {:.2f}'. format(accuracy_score(y_test, y_pred)))\r\n",
    "\r\n",
    "X_train, X_test, y_train, y_test = train_test_split(X, y, test_size = 0.3, random_state = 2)\r\n",
    "model = GaussianNB()\r\n",
    "model.fit(X_train,y_train)\r\n",
    "y_pred = model.predict(X_test)\r\n",
    "print(\"Gaussian Naie Bayes\")\r\n",
    "print('Precision= {:.2f}'.format(precision_score(y_test, y_pred, average=\"weighted\")))\r\n",
    "print('Recall= {:.2f}'. format(recall_score(y_test, y_pred, average=\"weighted\")))\r\n",
    "print('F1= {:.2f}'. format(f1_score(y_test, y_pred, average=\"weighted\")))\r\n",
    "print('Accuracy= {:.2f}'. format(accuracy_score(y_test, y_pred)))"
   ],
   "outputs": [],
   "metadata": {}
  },
  {
   "cell_type": "code",
   "execution_count": null,
   "source": [
    "# Perform Binning\r\n",
    "rslt_df_sl['cases_new_category'] = (pd.cut(rslt_df_sl['cases_new'].values, bins=getBinsRange(rslt_df_sl),labels=labels, include_lowest=True))\r\n",
    "X = rslt_df_sl.drop(['cases_new','date','state','cases_new_category'], axis=1)\r\n",
    "y = rslt_df_sl.cases_new_category # Target variable\r\n",
    "X_train, X_test, y_train, y_test = train_test_split(X, y, test_size = 0.3, random_state = 1)\r\n",
    "clf = DecisionTreeClassifier(criterion=\"entropy\", max_depth=5, splitter='random') #pruning the tree by setting the depth\r\n",
    "# Train Decision Tree Classifer*\r\n",
    "clf = clf.fit(X_train,y_train)\r\n",
    "#Predict the response for test dataset*\r\n",
    "y_pred = clf.predict(X_test)\r\n",
    "print(\"Decision Tree Classifier\")\r\n",
    "print('Precision= {:.2f}'.format(precision_score(y_test, y_pred, average=\"weighted\")))\r\n",
    "print('Recall= {:.2f}'. format(recall_score(y_test, y_pred, average=\"weighted\")))\r\n",
    "print('F1= {:.2f}'. format(f1_score(y_test, y_pred, average=\"weighted\")))\r\n",
    "print('Accuracy= {:.2f}'. format(accuracy_score(y_test, y_pred)))\r\n",
    "\r\n",
    "X_train, X_test, y_train, y_test = train_test_split(X, y, test_size = 0.3, random_state = 2)\r\n",
    "model = GaussianNB()\r\n",
    "model.fit(X_train,y_train)\r\n",
    "y_pred = model.predict(X_test)\r\n",
    "print(\"Gaussian Naie Bayes\")\r\n",
    "print('Precision= {:.2f}'.format(precision_score(y_test, y_pred, average=\"weighted\")))\r\n",
    "print('Recall= {:.2f}'. format(recall_score(y_test, y_pred, average=\"weighted\")))\r\n",
    "print('F1= {:.2f}'. format(f1_score(y_test, y_pred, average=\"weighted\")))\r\n",
    "print('Accuracy= {:.2f}'. format(accuracy_score(y_test, y_pred)))"
   ],
   "outputs": [],
   "metadata": {}
  },
  {
   "cell_type": "code",
   "execution_count": null,
   "source": [],
   "outputs": [],
   "metadata": {}
  },
  {
   "cell_type": "code",
   "execution_count": null,
   "source": [],
   "outputs": [],
   "metadata": {}
  }
 ],
 "metadata": {
  "kernelspec": {
   "name": "python3",
   "display_name": "Python 3.8.8 64-bit ('base': conda)"
  },
  "language_info": {
   "codemirror_mode": {
    "name": "ipython",
    "version": 3
   },
   "file_extension": ".py",
   "mimetype": "text/x-python",
   "name": "python",
   "nbconvert_exporter": "python",
   "pygments_lexer": "ipython3",
   "version": "3.8.8"
  },
  "interpreter": {
   "hash": "bbaff3bad43e72ef86a08724e2a04c1dc7b916dad0faa2935f126c230f07c1b0"
  }
 },
 "nbformat": 4,
 "nbformat_minor": 4
}